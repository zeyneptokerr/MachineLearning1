{
 "cells": [
  {
   "cell_type": "markdown",
   "metadata": {},
   "source": [
    "# Gerekli Kütüphane ve Fonksiyonlar"
   ]
  },
  {
   "cell_type": "code",
   "execution_count": 38,
   "metadata": {},
   "outputs": [],
   "source": [
    "import numpy as np\n",
    "import pandas as pd\n",
    "import statsmodels.api as sm\n",
    "import seaborn as sns\n",
    "import matplotlib.pyplot as plt\n",
    "from sklearn.preprocessing import scale, StandardScaler\n",
    "from sklearn.model_selection import train_test_split, GridSearchCV, cross_val_score\n",
    "from sklearn.metrics import confusion_matrix, accuracy_score, mean_squared_error, r2_score, roc_auc_score, roc_curve, classification_report\n",
    "from sklearn.linear_model import LogisticRegression\n",
    "from sklearn.neighbors import KNeighborsClassifier\n",
    "from sklearn.svm import SVC\n",
    "from sklearn.neural_network import MLPClassifier\n",
    "from sklearn.tree import DecisionTreeClassifier\n",
    "from sklearn.ensemble import RandomForestClassifier\n",
    "from sklearn.ensemble import GradientBoostingClassifier"
   ]
  },
  {
   "cell_type": "code",
   "execution_count": 4,
   "metadata": {},
   "outputs": [],
   "source": [
    "import warnings\n",
    "warnings.filterwarnings(\"ignore\", category=DeprecationWarning)\n",
    "warnings.filterwarnings(\"ignore\", category=FutureWarning)"
   ]
  },
  {
   "cell_type": "markdown",
   "metadata": {},
   "source": [
    "### Veri Seti Hikayesi ve Problem: Şeker Hastalığı Tahmini"
   ]
  },
  {
   "cell_type": "code",
   "execution_count": 8,
   "metadata": {},
   "outputs": [],
   "source": [
    "df = pd.read_csv(\"./diabetes.csv\")"
   ]
  },
  {
   "cell_type": "code",
   "execution_count": 9,
   "metadata": {},
   "outputs": [
    {
     "data": {
      "text/html": [
       "<div>\n",
       "<style scoped>\n",
       "    .dataframe tbody tr th:only-of-type {\n",
       "        vertical-align: middle;\n",
       "    }\n",
       "\n",
       "    .dataframe tbody tr th {\n",
       "        vertical-align: top;\n",
       "    }\n",
       "\n",
       "    .dataframe thead th {\n",
       "        text-align: right;\n",
       "    }\n",
       "</style>\n",
       "<table border=\"1\" class=\"dataframe\">\n",
       "  <thead>\n",
       "    <tr style=\"text-align: right;\">\n",
       "      <th></th>\n",
       "      <th>Pregnancies</th>\n",
       "      <th>Glucose</th>\n",
       "      <th>BloodPressure</th>\n",
       "      <th>SkinThickness</th>\n",
       "      <th>Insulin</th>\n",
       "      <th>BMI</th>\n",
       "      <th>DiabetesPedigreeFunction</th>\n",
       "      <th>Age</th>\n",
       "      <th>Outcome</th>\n",
       "    </tr>\n",
       "  </thead>\n",
       "  <tbody>\n",
       "    <tr>\n",
       "      <th>0</th>\n",
       "      <td>6</td>\n",
       "      <td>148</td>\n",
       "      <td>72</td>\n",
       "      <td>35</td>\n",
       "      <td>0</td>\n",
       "      <td>33.6</td>\n",
       "      <td>0.627</td>\n",
       "      <td>50</td>\n",
       "      <td>1</td>\n",
       "    </tr>\n",
       "    <tr>\n",
       "      <th>1</th>\n",
       "      <td>1</td>\n",
       "      <td>85</td>\n",
       "      <td>66</td>\n",
       "      <td>29</td>\n",
       "      <td>0</td>\n",
       "      <td>26.6</td>\n",
       "      <td>0.351</td>\n",
       "      <td>31</td>\n",
       "      <td>0</td>\n",
       "    </tr>\n",
       "    <tr>\n",
       "      <th>2</th>\n",
       "      <td>8</td>\n",
       "      <td>183</td>\n",
       "      <td>64</td>\n",
       "      <td>0</td>\n",
       "      <td>0</td>\n",
       "      <td>23.3</td>\n",
       "      <td>0.672</td>\n",
       "      <td>32</td>\n",
       "      <td>1</td>\n",
       "    </tr>\n",
       "    <tr>\n",
       "      <th>3</th>\n",
       "      <td>1</td>\n",
       "      <td>89</td>\n",
       "      <td>66</td>\n",
       "      <td>23</td>\n",
       "      <td>94</td>\n",
       "      <td>28.1</td>\n",
       "      <td>0.167</td>\n",
       "      <td>21</td>\n",
       "      <td>0</td>\n",
       "    </tr>\n",
       "    <tr>\n",
       "      <th>4</th>\n",
       "      <td>0</td>\n",
       "      <td>137</td>\n",
       "      <td>40</td>\n",
       "      <td>35</td>\n",
       "      <td>168</td>\n",
       "      <td>43.1</td>\n",
       "      <td>2.288</td>\n",
       "      <td>33</td>\n",
       "      <td>1</td>\n",
       "    </tr>\n",
       "  </tbody>\n",
       "</table>\n",
       "</div>"
      ],
      "text/plain": [
       "   Pregnancies  Glucose  BloodPressure  SkinThickness  Insulin   BMI  \\\n",
       "0            6      148             72             35        0  33.6   \n",
       "1            1       85             66             29        0  26.6   \n",
       "2            8      183             64              0        0  23.3   \n",
       "3            1       89             66             23       94  28.1   \n",
       "4            0      137             40             35      168  43.1   \n",
       "\n",
       "   DiabetesPedigreeFunction  Age  Outcome  \n",
       "0                     0.627   50        1  \n",
       "1                     0.351   31        0  \n",
       "2                     0.672   32        1  \n",
       "3                     0.167   21        0  \n",
       "4                     2.288   33        1  "
      ]
     },
     "execution_count": 9,
     "metadata": {},
     "output_type": "execute_result"
    }
   ],
   "source": [
    "df.head()"
   ]
  },
  {
   "cell_type": "markdown",
   "metadata": {},
   "source": [
    "## Lojistik Regresyon (Logistic Regression)"
   ]
  },
  {
   "cell_type": "markdown",
   "metadata": {},
   "source": [
    "### Model & Tahmin"
   ]
  },
  {
   "cell_type": "code",
   "execution_count": 12,
   "metadata": {},
   "outputs": [
    {
     "data": {
      "text/plain": [
       "0    500\n",
       "1    268\n",
       "Name: Outcome, dtype: int64"
      ]
     },
     "execution_count": 12,
     "metadata": {},
     "output_type": "execute_result"
    }
   ],
   "source": [
    "df[\"Outcome\"].value_counts() #bağımlı değişkenimiz"
   ]
  },
  {
   "cell_type": "code",
   "execution_count": 13,
   "metadata": {},
   "outputs": [
    {
     "data": {
      "text/html": [
       "<div>\n",
       "<style scoped>\n",
       "    .dataframe tbody tr th:only-of-type {\n",
       "        vertical-align: middle;\n",
       "    }\n",
       "\n",
       "    .dataframe tbody tr th {\n",
       "        vertical-align: top;\n",
       "    }\n",
       "\n",
       "    .dataframe thead th {\n",
       "        text-align: right;\n",
       "    }\n",
       "</style>\n",
       "<table border=\"1\" class=\"dataframe\">\n",
       "  <thead>\n",
       "    <tr style=\"text-align: right;\">\n",
       "      <th></th>\n",
       "      <th>count</th>\n",
       "      <th>mean</th>\n",
       "      <th>std</th>\n",
       "      <th>min</th>\n",
       "      <th>25%</th>\n",
       "      <th>50%</th>\n",
       "      <th>75%</th>\n",
       "      <th>max</th>\n",
       "    </tr>\n",
       "  </thead>\n",
       "  <tbody>\n",
       "    <tr>\n",
       "      <th>Pregnancies</th>\n",
       "      <td>768.0</td>\n",
       "      <td>3.845052</td>\n",
       "      <td>3.369578</td>\n",
       "      <td>0.000</td>\n",
       "      <td>1.00000</td>\n",
       "      <td>3.0000</td>\n",
       "      <td>6.00000</td>\n",
       "      <td>17.00</td>\n",
       "    </tr>\n",
       "    <tr>\n",
       "      <th>Glucose</th>\n",
       "      <td>768.0</td>\n",
       "      <td>120.894531</td>\n",
       "      <td>31.972618</td>\n",
       "      <td>0.000</td>\n",
       "      <td>99.00000</td>\n",
       "      <td>117.0000</td>\n",
       "      <td>140.25000</td>\n",
       "      <td>199.00</td>\n",
       "    </tr>\n",
       "    <tr>\n",
       "      <th>BloodPressure</th>\n",
       "      <td>768.0</td>\n",
       "      <td>69.105469</td>\n",
       "      <td>19.355807</td>\n",
       "      <td>0.000</td>\n",
       "      <td>62.00000</td>\n",
       "      <td>72.0000</td>\n",
       "      <td>80.00000</td>\n",
       "      <td>122.00</td>\n",
       "    </tr>\n",
       "    <tr>\n",
       "      <th>SkinThickness</th>\n",
       "      <td>768.0</td>\n",
       "      <td>20.536458</td>\n",
       "      <td>15.952218</td>\n",
       "      <td>0.000</td>\n",
       "      <td>0.00000</td>\n",
       "      <td>23.0000</td>\n",
       "      <td>32.00000</td>\n",
       "      <td>99.00</td>\n",
       "    </tr>\n",
       "    <tr>\n",
       "      <th>Insulin</th>\n",
       "      <td>768.0</td>\n",
       "      <td>79.799479</td>\n",
       "      <td>115.244002</td>\n",
       "      <td>0.000</td>\n",
       "      <td>0.00000</td>\n",
       "      <td>30.5000</td>\n",
       "      <td>127.25000</td>\n",
       "      <td>846.00</td>\n",
       "    </tr>\n",
       "    <tr>\n",
       "      <th>BMI</th>\n",
       "      <td>768.0</td>\n",
       "      <td>31.992578</td>\n",
       "      <td>7.884160</td>\n",
       "      <td>0.000</td>\n",
       "      <td>27.30000</td>\n",
       "      <td>32.0000</td>\n",
       "      <td>36.60000</td>\n",
       "      <td>67.10</td>\n",
       "    </tr>\n",
       "    <tr>\n",
       "      <th>DiabetesPedigreeFunction</th>\n",
       "      <td>768.0</td>\n",
       "      <td>0.471876</td>\n",
       "      <td>0.331329</td>\n",
       "      <td>0.078</td>\n",
       "      <td>0.24375</td>\n",
       "      <td>0.3725</td>\n",
       "      <td>0.62625</td>\n",
       "      <td>2.42</td>\n",
       "    </tr>\n",
       "    <tr>\n",
       "      <th>Age</th>\n",
       "      <td>768.0</td>\n",
       "      <td>33.240885</td>\n",
       "      <td>11.760232</td>\n",
       "      <td>21.000</td>\n",
       "      <td>24.00000</td>\n",
       "      <td>29.0000</td>\n",
       "      <td>41.00000</td>\n",
       "      <td>81.00</td>\n",
       "    </tr>\n",
       "    <tr>\n",
       "      <th>Outcome</th>\n",
       "      <td>768.0</td>\n",
       "      <td>0.348958</td>\n",
       "      <td>0.476951</td>\n",
       "      <td>0.000</td>\n",
       "      <td>0.00000</td>\n",
       "      <td>0.0000</td>\n",
       "      <td>1.00000</td>\n",
       "      <td>1.00</td>\n",
       "    </tr>\n",
       "  </tbody>\n",
       "</table>\n",
       "</div>"
      ],
      "text/plain": [
       "                          count        mean         std     min       25%  \\\n",
       "Pregnancies               768.0    3.845052    3.369578   0.000   1.00000   \n",
       "Glucose                   768.0  120.894531   31.972618   0.000  99.00000   \n",
       "BloodPressure             768.0   69.105469   19.355807   0.000  62.00000   \n",
       "SkinThickness             768.0   20.536458   15.952218   0.000   0.00000   \n",
       "Insulin                   768.0   79.799479  115.244002   0.000   0.00000   \n",
       "BMI                       768.0   31.992578    7.884160   0.000  27.30000   \n",
       "DiabetesPedigreeFunction  768.0    0.471876    0.331329   0.078   0.24375   \n",
       "Age                       768.0   33.240885   11.760232  21.000  24.00000   \n",
       "Outcome                   768.0    0.348958    0.476951   0.000   0.00000   \n",
       "\n",
       "                               50%        75%     max  \n",
       "Pregnancies                 3.0000    6.00000   17.00  \n",
       "Glucose                   117.0000  140.25000  199.00  \n",
       "BloodPressure              72.0000   80.00000  122.00  \n",
       "SkinThickness              23.0000   32.00000   99.00  \n",
       "Insulin                    30.5000  127.25000  846.00  \n",
       "BMI                        32.0000   36.60000   67.10  \n",
       "DiabetesPedigreeFunction    0.3725    0.62625    2.42  \n",
       "Age                        29.0000   41.00000   81.00  \n",
       "Outcome                     0.0000    1.00000    1.00  "
      ]
     },
     "execution_count": 13,
     "metadata": {},
     "output_type": "execute_result"
    }
   ],
   "source": [
    " df.describe().T"
   ]
  },
  {
   "cell_type": "code",
   "execution_count": 44,
   "metadata": {},
   "outputs": [],
   "source": [
    "y = df[\"Outcome\"]\n",
    "X = df.drop([\"Outcome\"], axis = 1)\n",
    "X_train, X_test, y_train, y_test = train_test_split(X, y, test_size=0.30, random_state=42)"
   ]
  },
  {
   "cell_type": "code",
   "execution_count": 45,
   "metadata": {},
   "outputs": [
    {
     "data": {
      "text/plain": [
       "0    1\n",
       "1    0\n",
       "2    1\n",
       "3    0\n",
       "4    1\n",
       "Name: Outcome, dtype: int64"
      ]
     },
     "execution_count": 45,
     "metadata": {},
     "output_type": "execute_result"
    }
   ],
   "source": [
    "y.head()"
   ]
  },
  {
   "cell_type": "code",
   "execution_count": 46,
   "metadata": {},
   "outputs": [
    {
     "data": {
      "text/html": [
       "<div>\n",
       "<style scoped>\n",
       "    .dataframe tbody tr th:only-of-type {\n",
       "        vertical-align: middle;\n",
       "    }\n",
       "\n",
       "    .dataframe tbody tr th {\n",
       "        vertical-align: top;\n",
       "    }\n",
       "\n",
       "    .dataframe thead th {\n",
       "        text-align: right;\n",
       "    }\n",
       "</style>\n",
       "<table border=\"1\" class=\"dataframe\">\n",
       "  <thead>\n",
       "    <tr style=\"text-align: right;\">\n",
       "      <th></th>\n",
       "      <th>Pregnancies</th>\n",
       "      <th>Glucose</th>\n",
       "      <th>BloodPressure</th>\n",
       "      <th>SkinThickness</th>\n",
       "      <th>Insulin</th>\n",
       "      <th>BMI</th>\n",
       "      <th>DiabetesPedigreeFunction</th>\n",
       "      <th>Age</th>\n",
       "    </tr>\n",
       "  </thead>\n",
       "  <tbody>\n",
       "    <tr>\n",
       "      <th>0</th>\n",
       "      <td>6</td>\n",
       "      <td>148</td>\n",
       "      <td>72</td>\n",
       "      <td>35</td>\n",
       "      <td>0</td>\n",
       "      <td>33.6</td>\n",
       "      <td>0.627</td>\n",
       "      <td>50</td>\n",
       "    </tr>\n",
       "    <tr>\n",
       "      <th>1</th>\n",
       "      <td>1</td>\n",
       "      <td>85</td>\n",
       "      <td>66</td>\n",
       "      <td>29</td>\n",
       "      <td>0</td>\n",
       "      <td>26.6</td>\n",
       "      <td>0.351</td>\n",
       "      <td>31</td>\n",
       "    </tr>\n",
       "    <tr>\n",
       "      <th>2</th>\n",
       "      <td>8</td>\n",
       "      <td>183</td>\n",
       "      <td>64</td>\n",
       "      <td>0</td>\n",
       "      <td>0</td>\n",
       "      <td>23.3</td>\n",
       "      <td>0.672</td>\n",
       "      <td>32</td>\n",
       "    </tr>\n",
       "    <tr>\n",
       "      <th>3</th>\n",
       "      <td>1</td>\n",
       "      <td>89</td>\n",
       "      <td>66</td>\n",
       "      <td>23</td>\n",
       "      <td>94</td>\n",
       "      <td>28.1</td>\n",
       "      <td>0.167</td>\n",
       "      <td>21</td>\n",
       "    </tr>\n",
       "    <tr>\n",
       "      <th>4</th>\n",
       "      <td>0</td>\n",
       "      <td>137</td>\n",
       "      <td>40</td>\n",
       "      <td>35</td>\n",
       "      <td>168</td>\n",
       "      <td>43.1</td>\n",
       "      <td>2.288</td>\n",
       "      <td>33</td>\n",
       "    </tr>\n",
       "  </tbody>\n",
       "</table>\n",
       "</div>"
      ],
      "text/plain": [
       "   Pregnancies  Glucose  BloodPressure  SkinThickness  Insulin   BMI  \\\n",
       "0            6      148             72             35        0  33.6   \n",
       "1            1       85             66             29        0  26.6   \n",
       "2            8      183             64              0        0  23.3   \n",
       "3            1       89             66             23       94  28.1   \n",
       "4            0      137             40             35      168  43.1   \n",
       "\n",
       "   DiabetesPedigreeFunction  Age  \n",
       "0                     0.627   50  \n",
       "1                     0.351   31  \n",
       "2                     0.672   32  \n",
       "3                     0.167   21  \n",
       "4                     2.288   33  "
      ]
     },
     "execution_count": 46,
     "metadata": {},
     "output_type": "execute_result"
    }
   ],
   "source": [
    " X.head()"
   ]
  },
  {
   "cell_type": "code",
   "execution_count": 47,
   "metadata": {},
   "outputs": [],
   "source": [
    "loj_model = LogisticRegression(solver = \"liblinear\").fit(X, y)"
   ]
  },
  {
   "cell_type": "code",
   "execution_count": 48,
   "metadata": {},
   "outputs": [
    {
     "data": {
      "text/plain": [
       "array([-5.86838449])"
      ]
     },
     "execution_count": 48,
     "metadata": {},
     "output_type": "execute_result"
    }
   ],
   "source": [
    "loj_model.intercept_"
   ]
  },
  {
   "cell_type": "code",
   "execution_count": 49,
   "metadata": {},
   "outputs": [
    {
     "data": {
      "text/plain": [
       "array([[ 1.17007007e-01,  2.83251556e-02, -1.69249455e-02,\n",
       "         7.59355798e-04, -6.37219033e-04,  5.95065841e-02,\n",
       "         6.73389509e-01,  7.16944013e-03]])"
      ]
     },
     "execution_count": 49,
     "metadata": {},
     "output_type": "execute_result"
    }
   ],
   "source": [
    "loj_model.coef_"
   ]
  },
  {
   "cell_type": "code",
   "execution_count": 50,
   "metadata": {},
   "outputs": [
    {
     "data": {
      "text/plain": [
       "array([1, 0, 1, 0, 1, 0, 0, 1, 1, 0], dtype=int64)"
      ]
     },
     "execution_count": 50,
     "metadata": {},
     "output_type": "execute_result"
    }
   ],
   "source": [
    "loj_model.predict(X)[0:10]"
   ]
  },
  {
   "cell_type": "code",
   "execution_count": 51,
   "metadata": {},
   "outputs": [
    {
     "data": {
      "text/plain": [
       "0    1\n",
       "1    0\n",
       "2    1\n",
       "3    0\n",
       "4    1\n",
       "5    0\n",
       "6    1\n",
       "7    0\n",
       "8    1\n",
       "9    1\n",
       "Name: Outcome, dtype: int64"
      ]
     },
     "execution_count": 51,
     "metadata": {},
     "output_type": "execute_result"
    }
   ],
   "source": [
    " y[0:10]"
   ]
  },
  {
   "cell_type": "code",
   "execution_count": 52,
   "metadata": {},
   "outputs": [],
   "source": [
    "y_pred = loj_model.predict(X)"
   ]
  },
  {
   "cell_type": "code",
   "execution_count": 53,
   "metadata": {},
   "outputs": [
    {
     "data": {
      "text/plain": [
       "array([[448,  52],\n",
       "       [121, 147]], dtype=int64)"
      ]
     },
     "execution_count": 53,
     "metadata": {},
     "output_type": "execute_result"
    }
   ],
   "source": [
    "confusion_matrix(y, y_pred) #karmaşıklık matrisi"
   ]
  },
  {
   "cell_type": "code",
   "execution_count": 54,
   "metadata": {},
   "outputs": [
    {
     "data": {
      "text/plain": [
       "0.7747395833333334"
      ]
     },
     "execution_count": 54,
     "metadata": {},
     "output_type": "execute_result"
    }
   ],
   "source": [
    "accuracy_score(y, y_pred)#doğruluk oranı, başarılı yaptığımız işler bölü tüm durum."
   ]
  },
  {
   "cell_type": "code",
   "execution_count": 55,
   "metadata": {},
   "outputs": [
    {
     "name": "stdout",
     "output_type": "stream",
     "text": [
      "              precision    recall  f1-score   support\n",
      "\n",
      "           0       0.79      0.90      0.84       500\n",
      "           1       0.74      0.55      0.63       268\n",
      "\n",
      "    accuracy                           0.77       768\n",
      "   macro avg       0.76      0.72      0.73       768\n",
      "weighted avg       0.77      0.77      0.77       768\n",
      "\n"
     ]
    }
   ],
   "source": [
    "print(classification_report(y, y_pred))"
   ]
  },
  {
   "cell_type": "code",
   "execution_count": 56,
   "metadata": {},
   "outputs": [
    {
     "data": {
      "text/plain": [
       "array([[0.35117681, 0.64882319],\n",
       "       [0.91661941, 0.08338059],\n",
       "       [0.22505944, 0.77494056],\n",
       "       [0.92090951, 0.07909049],\n",
       "       [0.16843926, 0.83156074],\n",
       "       [0.79839197, 0.20160803],\n",
       "       [0.87952231, 0.12047769],\n",
       "       [0.27731711, 0.72268289],\n",
       "       [0.32072832, 0.67927168],\n",
       "       [0.92223457, 0.07776543]])"
      ]
     },
     "execution_count": 56,
     "metadata": {},
     "output_type": "execute_result"
    }
   ],
   "source": [
    "loj_model.predict_proba(X)[0:10] #1-0 değeri olarak değil de direk olasılık değerlerini görmek için kullanılır."
   ]
  },
  {
   "cell_type": "code",
   "execution_count": 57,
   "metadata": {},
   "outputs": [
    {
     "data": {
      "image/png": "[encoded data removed]",
      "text/plain": [
       "<Figure size 432x288 with 1 Axes>"
      ]
     },
     "metadata": {
      "needs_background": "light"
     },
     "output_type": "display_data"
    }
   ],
   "source": [
    "logit_roc_auc = roc_auc_score(y, loj_model.predict(X)) #roc eğrisi model başarısını değerlendirmek üzere bilgi verir.  \n",
    "fpr, tpr, theresholds = roc_curve(y, loj_model.predict_proba(X)[:,1])\n",
    "plt.figure()\n",
    "plt.plot(fpr, tpr, label='AUC (area = %0.2f)' % logit_roc_auc)\n",
    "plt.plot([0,1],[0,1],'r--')\n",
    "plt.xlim([0.0, 1.0])\n",
    "plt.ylim([0.0, 1.05])\n",
    "plt.xlabel('False Positive Rate')\n",
    "plt.ylabel('True Positive Rate')\n",
    "plt.title('Receiver operating characteristic')\n",
    "plt.legend(loc='lower right')\n",
    "plt.savefig('Log_ROC')\n",
    "plt.show()"
   ]
  },
  {
   "cell_type": "markdown",
   "metadata": {},
   "source": [
    "### Model Tuning (Model Doğrulama)"
   ]
  },
  {
   "cell_type": "code",
   "execution_count": 58,
   "metadata": {},
   "outputs": [],
   "source": [
    "X_train, X_test, y_train, y_test = train_test_split(X, y, test_size=0.30, random_state=42)"
   ]
  },
  {
   "cell_type": "code",
   "execution_count": 59,
   "metadata": {},
   "outputs": [],
   "source": [
    "loj_model = LogisticRegression(solver = \"liblinear\").fit(X_train, y_train)"
   ]
  },
  {
   "cell_type": "code",
   "execution_count": 60,
   "metadata": {},
   "outputs": [],
   "source": [
    "y_pred = loj_model.predict(X_test)"
   ]
  },
  {
   "cell_type": "code",
   "execution_count": 61,
   "metadata": {},
   "outputs": [
    {
     "name": "stdout",
     "output_type": "stream",
     "text": [
      "0.7532467532467533\n"
     ]
    }
   ],
   "source": [
    "print(accuracy_score(y_test, y_pred)) #hiper parametrelerin optimum sonuçlarına ulaşmak için kullanıyoruz."
   ]
  },
  {
   "cell_type": "code",
   "execution_count": 62,
   "metadata": {},
   "outputs": [
    {
     "data": {
      "text/plain": [
       "0.7704710144927536"
      ]
     },
     "execution_count": 62,
     "metadata": {},
     "output_type": "execute_result"
    }
   ],
   "source": [
    "cross_val_score(loj_model, X_test, y_test, cv=10).mean()"
   ]
  },
  {
   "cell_type": "markdown",
   "metadata": {},
   "source": [
    "## K-En Yakın Komşu (KNN)"
   ]
  },
  {
   "cell_type": "code",
   "execution_count": 43,
   "metadata": {},
   "outputs": [
    {
     "data": {
      "text/html": [
       "<div>\n",
       "<style scoped>\n",
       "    .dataframe tbody tr th:only-of-type {\n",
       "        vertical-align: middle;\n",
       "    }\n",
       "\n",
       "    .dataframe tbody tr th {\n",
       "        vertical-align: top;\n",
       "    }\n",
       "\n",
       "    .dataframe thead th {\n",
       "        text-align: right;\n",
       "    }\n",
       "</style>\n",
       "<table border=\"1\" class=\"dataframe\">\n",
       "  <thead>\n",
       "    <tr style=\"text-align: right;\">\n",
       "      <th></th>\n",
       "      <th>Pregnancies</th>\n",
       "      <th>Glucose</th>\n",
       "      <th>BloodPressure</th>\n",
       "      <th>SkinThickness</th>\n",
       "      <th>Insulin</th>\n",
       "      <th>BMI</th>\n",
       "      <th>DiabetesPedigreeFunction</th>\n",
       "      <th>Age</th>\n",
       "      <th>Outcome</th>\n",
       "    </tr>\n",
       "  </thead>\n",
       "  <tbody>\n",
       "    <tr>\n",
       "      <th>0</th>\n",
       "      <td>6</td>\n",
       "      <td>148</td>\n",
       "      <td>72</td>\n",
       "      <td>35</td>\n",
       "      <td>0</td>\n",
       "      <td>33.6</td>\n",
       "      <td>0.627</td>\n",
       "      <td>50</td>\n",
       "      <td>1</td>\n",
       "    </tr>\n",
       "    <tr>\n",
       "      <th>1</th>\n",
       "      <td>1</td>\n",
       "      <td>85</td>\n",
       "      <td>66</td>\n",
       "      <td>29</td>\n",
       "      <td>0</td>\n",
       "      <td>26.6</td>\n",
       "      <td>0.351</td>\n",
       "      <td>31</td>\n",
       "      <td>0</td>\n",
       "    </tr>\n",
       "    <tr>\n",
       "      <th>2</th>\n",
       "      <td>8</td>\n",
       "      <td>183</td>\n",
       "      <td>64</td>\n",
       "      <td>0</td>\n",
       "      <td>0</td>\n",
       "      <td>23.3</td>\n",
       "      <td>0.672</td>\n",
       "      <td>32</td>\n",
       "      <td>1</td>\n",
       "    </tr>\n",
       "    <tr>\n",
       "      <th>3</th>\n",
       "      <td>1</td>\n",
       "      <td>89</td>\n",
       "      <td>66</td>\n",
       "      <td>23</td>\n",
       "      <td>94</td>\n",
       "      <td>28.1</td>\n",
       "      <td>0.167</td>\n",
       "      <td>21</td>\n",
       "      <td>0</td>\n",
       "    </tr>\n",
       "    <tr>\n",
       "      <th>4</th>\n",
       "      <td>0</td>\n",
       "      <td>137</td>\n",
       "      <td>40</td>\n",
       "      <td>35</td>\n",
       "      <td>168</td>\n",
       "      <td>43.1</td>\n",
       "      <td>2.288</td>\n",
       "      <td>33</td>\n",
       "      <td>1</td>\n",
       "    </tr>\n",
       "  </tbody>\n",
       "</table>\n",
       "</div>"
      ],
      "text/plain": [
       "   Pregnancies  Glucose  BloodPressure  SkinThickness  Insulin   BMI  \\\n",
       "0            6      148             72             35        0  33.6   \n",
       "1            1       85             66             29        0  26.6   \n",
       "2            8      183             64              0        0  23.3   \n",
       "3            1       89             66             23       94  28.1   \n",
       "4            0      137             40             35      168  43.1   \n",
       "\n",
       "   DiabetesPedigreeFunction  Age  Outcome  \n",
       "0                     0.627   50        1  \n",
       "1                     0.351   31        0  \n",
       "2                     0.672   32        1  \n",
       "3                     0.167   21        0  \n",
       "4                     2.288   33        1  "
      ]
     },
     "execution_count": 43,
     "metadata": {},
     "output_type": "execute_result"
    }
   ],
   "source": [
    "df.head()"
   ]
  },
  {
   "cell_type": "code",
   "execution_count": 63,
   "metadata": {},
   "outputs": [],
   "source": [
    "y = df[\"Outcome\"]\n",
    "X = df.drop([\"Outcome\"], axis = 1)\n",
    "X_train, X_test, y_train, y_test = train_test_split(X, y, test_size=0.30, random_state=42)"
   ]
  },
  {
   "cell_type": "markdown",
   "metadata": {},
   "source": [
    "### Model & Tahmin"
   ]
  },
  {
   "cell_type": "code",
   "execution_count": 65,
   "metadata": {},
   "outputs": [],
   "source": [
    "knn_model = KNeighborsClassifier().fit(X_train, y_train)"
   ]
  },
  {
   "cell_type": "code",
   "execution_count": 66,
   "metadata": {},
   "outputs": [
    {
     "data": {
      "text/plain": [
       "KNeighborsClassifier()"
      ]
     },
     "execution_count": 66,
     "metadata": {},
     "output_type": "execute_result"
    }
   ],
   "source": [
    "knn_model"
   ]
  },
  {
   "cell_type": "code",
   "execution_count": 67,
   "metadata": {},
   "outputs": [],
   "source": [
    "y_pred = knn_model.predict(X_test)"
   ]
  },
  {
   "cell_type": "code",
   "execution_count": 68,
   "metadata": {},
   "outputs": [
    {
     "data": {
      "text/plain": [
       "0.6883116883116883"
      ]
     },
     "execution_count": 68,
     "metadata": {},
     "output_type": "execute_result"
    }
   ],
   "source": [
    "accuracy_score(y_test, y_pred)"
   ]
  },
  {
   "cell_type": "code",
   "execution_count": 73,
   "metadata": {},
   "outputs": [
    {
     "name": "stdout",
     "output_type": "stream",
     "text": [
      "              precision    recall  f1-score   support\n",
      "\n",
      "           0       0.77      0.75      0.76       151\n",
      "           1       0.55      0.56      0.56        80\n",
      "\n",
      "    accuracy                           0.69       231\n",
      "   macro avg       0.66      0.66      0.66       231\n",
      "weighted avg       0.69      0.69      0.69       231\n",
      "\n"
     ]
    }
   ],
   "source": [
    "print(classification_report(y_test, y_pred))"
   ]
  },
  {
   "cell_type": "markdown",
   "metadata": {},
   "source": [
    "### Model Tuning"
   ]
  },
  {
   "cell_type": "code",
   "execution_count": 75,
   "metadata": {},
   "outputs": [],
   "source": [
    "knn = KNeighborsClassifier()"
   ]
  },
  {
   "cell_type": "code",
   "execution_count": 76,
   "metadata": {},
   "outputs": [],
   "source": [
    "knn_params = {\"n_neighbors\": np.arange(1,50)} #1den 50ye kadar k değerlerimizi oluşturmuş olduk."
   ]
  },
  {
   "cell_type": "code",
   "execution_count": 77,
   "metadata": {},
   "outputs": [],
   "source": [
    "knn_cv_model = GridSearchCV(knn, knn_params, cv=10).fit(X_train, y_train)"
   ]
  },
  {
   "cell_type": "code",
   "execution_count": 79,
   "metadata": {},
   "outputs": [
    {
     "data": {
      "text/plain": [
       "0.748637316561845"
      ]
     },
     "execution_count": 79,
     "metadata": {},
     "output_type": "execute_result"
    }
   ],
   "source": [
    "knn_cv_model.best_score_"
   ]
  },
  {
   "cell_type": "code",
   "execution_count": 80,
   "metadata": {},
   "outputs": [
    {
     "data": {
      "text/plain": [
       "{'n_neighbors': 11}"
      ]
     },
     "execution_count": 80,
     "metadata": {},
     "output_type": "execute_result"
    }
   ],
   "source": [
    "knn_cv_model.best_params_"
   ]
  },
  {
   "cell_type": "code",
   "execution_count": 81,
   "metadata": {},
   "outputs": [],
   "source": [
    "#final"
   ]
  },
  {
   "cell_type": "code",
   "execution_count": 82,
   "metadata": {},
   "outputs": [],
   "source": [
    "knn_tuned = KNeighborsClassifier(n_neighbors = 11).fit(X_train, y_train)"
   ]
  },
  {
   "cell_type": "code",
   "execution_count": 83,
   "metadata": {},
   "outputs": [],
   "source": [
    "y_pred = knn_tuned.predict(X_test)"
   ]
  },
  {
   "cell_type": "code",
   "execution_count": 84,
   "metadata": {},
   "outputs": [
    {
     "data": {
      "text/plain": [
       "0.7316017316017316"
      ]
     },
     "execution_count": 84,
     "metadata": {},
     "output_type": "execute_result"
    }
   ],
   "source": [
    "accuracy_score(y_test, y_pred)"
   ]
  },
  {
   "cell_type": "code",
   "execution_count": 85,
   "metadata": {},
   "outputs": [
    {
     "data": {
      "text/plain": [
       "0.7316017316017316"
      ]
     },
     "execution_count": 85,
     "metadata": {},
     "output_type": "execute_result"
    }
   ],
   "source": [
    "knn_tuned.score(X_test, y_test) #üsttekiyle aynı işlem"
   ]
  },
  {
   "cell_type": "markdown",
   "metadata": {},
   "source": [
    "## Destek Vektör Makineleri (SVM))"
   ]
  },
  {
   "cell_type": "code",
   "execution_count": 87,
   "metadata": {},
   "outputs": [
    {
     "data": {
      "text/html": [
       "<div>\n",
       "<style scoped>\n",
       "    .dataframe tbody tr th:only-of-type {\n",
       "        vertical-align: middle;\n",
       "    }\n",
       "\n",
       "    .dataframe tbody tr th {\n",
       "        vertical-align: top;\n",
       "    }\n",
       "\n",
       "    .dataframe thead th {\n",
       "        text-align: right;\n",
       "    }\n",
       "</style>\n",
       "<table border=\"1\" class=\"dataframe\">\n",
       "  <thead>\n",
       "    <tr style=\"text-align: right;\">\n",
       "      <th></th>\n",
       "      <th>Pregnancies</th>\n",
       "      <th>Glucose</th>\n",
       "      <th>BloodPressure</th>\n",
       "      <th>SkinThickness</th>\n",
       "      <th>Insulin</th>\n",
       "      <th>BMI</th>\n",
       "      <th>DiabetesPedigreeFunction</th>\n",
       "      <th>Age</th>\n",
       "      <th>Outcome</th>\n",
       "    </tr>\n",
       "  </thead>\n",
       "  <tbody>\n",
       "    <tr>\n",
       "      <th>0</th>\n",
       "      <td>6</td>\n",
       "      <td>148</td>\n",
       "      <td>72</td>\n",
       "      <td>35</td>\n",
       "      <td>0</td>\n",
       "      <td>33.6</td>\n",
       "      <td>0.627</td>\n",
       "      <td>50</td>\n",
       "      <td>1</td>\n",
       "    </tr>\n",
       "    <tr>\n",
       "      <th>1</th>\n",
       "      <td>1</td>\n",
       "      <td>85</td>\n",
       "      <td>66</td>\n",
       "      <td>29</td>\n",
       "      <td>0</td>\n",
       "      <td>26.6</td>\n",
       "      <td>0.351</td>\n",
       "      <td>31</td>\n",
       "      <td>0</td>\n",
       "    </tr>\n",
       "    <tr>\n",
       "      <th>2</th>\n",
       "      <td>8</td>\n",
       "      <td>183</td>\n",
       "      <td>64</td>\n",
       "      <td>0</td>\n",
       "      <td>0</td>\n",
       "      <td>23.3</td>\n",
       "      <td>0.672</td>\n",
       "      <td>32</td>\n",
       "      <td>1</td>\n",
       "    </tr>\n",
       "    <tr>\n",
       "      <th>3</th>\n",
       "      <td>1</td>\n",
       "      <td>89</td>\n",
       "      <td>66</td>\n",
       "      <td>23</td>\n",
       "      <td>94</td>\n",
       "      <td>28.1</td>\n",
       "      <td>0.167</td>\n",
       "      <td>21</td>\n",
       "      <td>0</td>\n",
       "    </tr>\n",
       "    <tr>\n",
       "      <th>4</th>\n",
       "      <td>0</td>\n",
       "      <td>137</td>\n",
       "      <td>40</td>\n",
       "      <td>35</td>\n",
       "      <td>168</td>\n",
       "      <td>43.1</td>\n",
       "      <td>2.288</td>\n",
       "      <td>33</td>\n",
       "      <td>1</td>\n",
       "    </tr>\n",
       "  </tbody>\n",
       "</table>\n",
       "</div>"
      ],
      "text/plain": [
       "   Pregnancies  Glucose  BloodPressure  SkinThickness  Insulin   BMI  \\\n",
       "0            6      148             72             35        0  33.6   \n",
       "1            1       85             66             29        0  26.6   \n",
       "2            8      183             64              0        0  23.3   \n",
       "3            1       89             66             23       94  28.1   \n",
       "4            0      137             40             35      168  43.1   \n",
       "\n",
       "   DiabetesPedigreeFunction  Age  Outcome  \n",
       "0                     0.627   50        1  \n",
       "1                     0.351   31        0  \n",
       "2                     0.672   32        1  \n",
       "3                     0.167   21        0  \n",
       "4                     2.288   33        1  "
      ]
     },
     "execution_count": 87,
     "metadata": {},
     "output_type": "execute_result"
    }
   ],
   "source": [
    "df.head()"
   ]
  },
  {
   "cell_type": "code",
   "execution_count": 88,
   "metadata": {},
   "outputs": [],
   "source": [
    "X_train, X_test, y_train, y_test = train_test_split(X, y, test_size=0.30, random_state=42)"
   ]
  },
  {
   "cell_type": "markdown",
   "metadata": {},
   "source": [
    "### Model & Tahmin"
   ]
  },
  {
   "cell_type": "code",
   "execution_count": 101,
   "metadata": {},
   "outputs": [],
   "source": [
    "svm_model = SVC(kernel = \"linear\").fit(X_train, y_train)"
   ]
  },
  {
   "cell_type": "code",
   "execution_count": 103,
   "metadata": {},
   "outputs": [
    {
     "data": {
      "text/plain": [
       "SVC(kernel='linear')"
      ]
     },
     "execution_count": 103,
     "metadata": {},
     "output_type": "execute_result"
    }
   ],
   "source": [
    "svm_model"
   ]
  },
  {
   "cell_type": "code",
   "execution_count": 104,
   "metadata": {},
   "outputs": [],
   "source": [
    "y_pred = svm_model.predict(X_test)"
   ]
  },
  {
   "cell_type": "code",
   "execution_count": 106,
   "metadata": {},
   "outputs": [
    {
     "data": {
      "text/plain": [
       "0.7445887445887446"
      ]
     },
     "execution_count": 106,
     "metadata": {},
     "output_type": "execute_result"
    }
   ],
   "source": [
    "accuracy_score(y_test, y_pred)"
   ]
  },
  {
   "cell_type": "markdown",
   "metadata": {},
   "source": [
    "### Model Tuning"
   ]
  },
  {
   "cell_type": "code",
   "execution_count": 109,
   "metadata": {},
   "outputs": [],
   "source": [
    "svm = SVC()"
   ]
  },
  {
   "cell_type": "code",
   "execution_count": 110,
   "metadata": {},
   "outputs": [],
   "source": [
    "svm_params = {\"C\":np.arange(1,10), \"kernel\":[\"linear\", \"rbf\"]}"
   ]
  },
  {
   "cell_type": "code",
   "execution_count": 111,
   "metadata": {},
   "outputs": [
    {
     "name": "stdout",
     "output_type": "stream",
     "text": [
      "Fitting 5 folds for each of 18 candidates, totalling 90 fits\n"
     ]
    },
    {
     "name": "stderr",
     "output_type": "stream",
     "text": [
      "[Parallel(n_jobs=-1)]: Using backend LokyBackend with 4 concurrent workers.\n",
      "[Parallel(n_jobs=-1)]: Done  33 tasks      | elapsed:  1.3min\n",
      "[Parallel(n_jobs=-1)]: Done  90 out of  90 | elapsed:  6.8min finished\n"
     ]
    }
   ],
   "source": [
    "svm_cv_model = GridSearchCV(svm, svm_params, cv=5, n_jobs=-1, verbose=2).fit(X_train, y_train)"
   ]
  },
  {
   "cell_type": "code",
   "execution_count": 113,
   "metadata": {},
   "outputs": [
    {
     "data": {
      "text/plain": [
       "0.7839044652128765"
      ]
     },
     "execution_count": 113,
     "metadata": {},
     "output_type": "execute_result"
    }
   ],
   "source": [
    "svm_cv_model.best_score_"
   ]
  },
  {
   "cell_type": "code",
   "execution_count": 114,
   "metadata": {},
   "outputs": [
    {
     "data": {
      "text/plain": [
       "{'C': 2, 'kernel': 'linear'}"
      ]
     },
     "execution_count": 114,
     "metadata": {},
     "output_type": "execute_result"
    }
   ],
   "source": [
    "svm_cv_model.best_params_"
   ]
  },
  {
   "cell_type": "code",
   "execution_count": 112,
   "metadata": {},
   "outputs": [],
   "source": [
    "#final"
   ]
  },
  {
   "cell_type": "code",
   "execution_count": 115,
   "metadata": {},
   "outputs": [],
   "source": [
    "svm_tuned = SVC(C = 2, kernel = \"linear\").fit(X_train, y_train)"
   ]
  },
  {
   "cell_type": "code",
   "execution_count": 116,
   "metadata": {},
   "outputs": [],
   "source": [
    "y_pred = svm_tuned.predict(X_test)"
   ]
  },
  {
   "cell_type": "code",
   "execution_count": 117,
   "metadata": {},
   "outputs": [
    {
     "data": {
      "text/plain": [
       "0.7445887445887446"
      ]
     },
     "execution_count": 117,
     "metadata": {},
     "output_type": "execute_result"
    }
   ],
   "source": [
    "accuracy_score(y_test, y_pred)"
   ]
  },
  {
   "cell_type": "markdown",
   "metadata": {},
   "source": [
    "## Yapay Sinir Ağları"
   ]
  },
  {
   "cell_type": "code",
   "execution_count": 120,
   "metadata": {},
   "outputs": [
    {
     "data": {
      "text/html": [
       "<div>\n",
       "<style scoped>\n",
       "    .dataframe tbody tr th:only-of-type {\n",
       "        vertical-align: middle;\n",
       "    }\n",
       "\n",
       "    .dataframe tbody tr th {\n",
       "        vertical-align: top;\n",
       "    }\n",
       "\n",
       "    .dataframe thead th {\n",
       "        text-align: right;\n",
       "    }\n",
       "</style>\n",
       "<table border=\"1\" class=\"dataframe\">\n",
       "  <thead>\n",
       "    <tr style=\"text-align: right;\">\n",
       "      <th></th>\n",
       "      <th>Pregnancies</th>\n",
       "      <th>Glucose</th>\n",
       "      <th>BloodPressure</th>\n",
       "      <th>SkinThickness</th>\n",
       "      <th>Insulin</th>\n",
       "      <th>BMI</th>\n",
       "      <th>DiabetesPedigreeFunction</th>\n",
       "      <th>Age</th>\n",
       "      <th>Outcome</th>\n",
       "    </tr>\n",
       "  </thead>\n",
       "  <tbody>\n",
       "    <tr>\n",
       "      <th>0</th>\n",
       "      <td>6</td>\n",
       "      <td>148</td>\n",
       "      <td>72</td>\n",
       "      <td>35</td>\n",
       "      <td>0</td>\n",
       "      <td>33.6</td>\n",
       "      <td>0.627</td>\n",
       "      <td>50</td>\n",
       "      <td>1</td>\n",
       "    </tr>\n",
       "    <tr>\n",
       "      <th>1</th>\n",
       "      <td>1</td>\n",
       "      <td>85</td>\n",
       "      <td>66</td>\n",
       "      <td>29</td>\n",
       "      <td>0</td>\n",
       "      <td>26.6</td>\n",
       "      <td>0.351</td>\n",
       "      <td>31</td>\n",
       "      <td>0</td>\n",
       "    </tr>\n",
       "    <tr>\n",
       "      <th>2</th>\n",
       "      <td>8</td>\n",
       "      <td>183</td>\n",
       "      <td>64</td>\n",
       "      <td>0</td>\n",
       "      <td>0</td>\n",
       "      <td>23.3</td>\n",
       "      <td>0.672</td>\n",
       "      <td>32</td>\n",
       "      <td>1</td>\n",
       "    </tr>\n",
       "    <tr>\n",
       "      <th>3</th>\n",
       "      <td>1</td>\n",
       "      <td>89</td>\n",
       "      <td>66</td>\n",
       "      <td>23</td>\n",
       "      <td>94</td>\n",
       "      <td>28.1</td>\n",
       "      <td>0.167</td>\n",
       "      <td>21</td>\n",
       "      <td>0</td>\n",
       "    </tr>\n",
       "    <tr>\n",
       "      <th>4</th>\n",
       "      <td>0</td>\n",
       "      <td>137</td>\n",
       "      <td>40</td>\n",
       "      <td>35</td>\n",
       "      <td>168</td>\n",
       "      <td>43.1</td>\n",
       "      <td>2.288</td>\n",
       "      <td>33</td>\n",
       "      <td>1</td>\n",
       "    </tr>\n",
       "  </tbody>\n",
       "</table>\n",
       "</div>"
      ],
      "text/plain": [
       "   Pregnancies  Glucose  BloodPressure  SkinThickness  Insulin   BMI  \\\n",
       "0            6      148             72             35        0  33.6   \n",
       "1            1       85             66             29        0  26.6   \n",
       "2            8      183             64              0        0  23.3   \n",
       "3            1       89             66             23       94  28.1   \n",
       "4            0      137             40             35      168  43.1   \n",
       "\n",
       "   DiabetesPedigreeFunction  Age  Outcome  \n",
       "0                     0.627   50        1  \n",
       "1                     0.351   31        0  \n",
       "2                     0.672   32        1  \n",
       "3                     0.167   21        0  \n",
       "4                     2.288   33        1  "
      ]
     },
     "execution_count": 120,
     "metadata": {},
     "output_type": "execute_result"
    }
   ],
   "source": [
    "df.head()"
   ]
  },
  {
   "cell_type": "code",
   "execution_count": 121,
   "metadata": {},
   "outputs": [],
   "source": [
    "X_train, X_test, y_train, y_test = train_test_split(X, y, test_size=0.30, random_state=42)"
   ]
  },
  {
   "cell_type": "code",
   "execution_count": 152,
   "metadata": {},
   "outputs": [],
   "source": [
    "scaler = StandardScaler()"
   ]
  },
  {
   "cell_type": "code",
   "execution_count": 154,
   "metadata": {},
   "outputs": [],
   "source": [
    "scaler.fit(X_train)\n",
    "X_train =scaler.transform(X_train)"
   ]
  },
  {
   "cell_type": "code",
   "execution_count": 155,
   "metadata": {},
   "outputs": [],
   "source": [
    "scaler.fit(X_test)\n",
    "X_train =scaler.transform(X_test)"
   ]
  },
  {
   "cell_type": "markdown",
   "metadata": {},
   "source": [
    "### Model & Tahmin"
   ]
  },
  {
   "cell_type": "code",
   "execution_count": 123,
   "metadata": {},
   "outputs": [],
   "source": [
    "mlpc_model = MLPClassifier().fit(X_train, y_train)"
   ]
  },
  {
   "cell_type": "code",
   "execution_count": 124,
   "metadata": {
    "collapsed": true,
    "jupyter": {
     "outputs_hidden": true
    }
   },
   "outputs": [
    {
     "data": {
      "text/plain": [
       "[array([[-1.02269134e-01, -4.09936681e-02, -2.63628382e-02,\n",
       "          2.22729941e-01, -1.13085174e-01, -1.39154071e-01,\n",
       "         -2.15423537e-01,  5.97392213e-02, -1.27073394e-01,\n",
       "          1.28252034e-01,  1.77372730e-01,  9.45577158e-03,\n",
       "         -4.78368312e-02,  3.74857580e-02, -1.17872241e-01,\n",
       "         -7.45702157e-02, -2.86033732e-02, -9.56758999e-03,\n",
       "          2.19738734e-01,  5.76023876e-02,  2.15999658e-01,\n",
       "          1.51701775e-01, -1.52225334e-01, -2.09300413e-01,\n",
       "          1.15207234e-01, -2.12776051e-01,  2.08210584e-05,\n",
       "         -1.16166343e-01,  1.55605490e-01, -2.28471852e-01,\n",
       "          4.76705372e-02,  2.39695945e-01,  3.77228659e-02,\n",
       "         -1.33215895e-03,  3.22429130e-01, -5.84433242e-02,\n",
       "         -1.94680673e-02, -9.21290958e-02,  3.36703097e-02,\n",
       "         -2.68706087e-02, -7.64096791e-02,  1.13934122e-01,\n",
       "          2.18270871e-01,  4.30067752e-02,  1.15645791e-01,\n",
       "         -3.68173775e-02,  1.99444806e-01,  1.23259046e-01,\n",
       "          1.10825800e-01,  2.10818325e-02,  5.66045321e-02,\n",
       "          9.96774702e-03, -1.92860399e-01, -1.48333012e-01,\n",
       "         -1.35963420e-01, -1.64317066e-01, -1.10400974e-01,\n",
       "          1.13068731e-01, -1.04063641e-01, -2.43633741e-01,\n",
       "         -1.16324212e-04,  1.03640352e-01,  8.01825830e-02,\n",
       "          1.50002491e-02,  2.06074552e-02, -7.67425687e-03,\n",
       "         -1.65624182e-01, -6.77228462e-02, -1.89607039e-01,\n",
       "         -1.75421499e-01, -2.16087144e-02,  1.63041608e-01,\n",
       "         -1.18732939e-01,  7.39612946e-02,  1.39456791e-01,\n",
       "          1.36530190e-01,  2.10669158e-02,  2.11698682e-01,\n",
       "          1.76199818e-01, -1.25864226e-01,  8.46554311e-02,\n",
       "         -1.77067006e-01, -1.43988877e-01, -3.52233924e-11,\n",
       "         -2.65783317e-02, -7.54339237e-02, -6.95653831e-04,\n",
       "          1.81185089e-01, -1.46756325e-01, -1.58258537e-01,\n",
       "         -2.45167038e-07,  6.92154071e-02, -4.15047412e-02,\n",
       "          7.21398212e-02, -3.35250366e-02,  2.65008447e-03,\n",
       "         -3.41989367e-01, -2.45645428e-02, -2.19205859e-01,\n",
       "         -5.58590927e-02],\n",
       "        [-1.40989300e-02,  2.13858445e-02,  1.55679369e-01,\n",
       "          1.06743730e-02,  2.15592310e-01,  1.98427604e-01,\n",
       "          8.56594519e-02, -1.45758948e-01, -2.20404012e-01,\n",
       "          2.01298971e-01,  1.33116639e-01, -1.97224059e-01,\n",
       "         -1.05416014e-01,  6.37337391e-03,  6.28685063e-02,\n",
       "          1.84430389e-01, -1.37515185e-02,  5.91741019e-02,\n",
       "          5.48916495e-02,  7.00172712e-02,  2.31098644e-02,\n",
       "         -3.72403353e-02,  1.37056241e-01, -1.04828435e-01,\n",
       "         -2.12893168e-01, -1.81036398e-01, -2.98855805e-03,\n",
       "          2.01064952e-01, -1.00662827e-01,  1.84158668e-01,\n",
       "          6.27990819e-02, -7.24186203e-02,  1.51210859e-01,\n",
       "         -1.78381689e-03, -8.90877055e-03,  7.85951237e-02,\n",
       "         -1.85986195e-02,  3.27623360e-03,  2.18639527e-01,\n",
       "         -6.02283425e-03,  1.40305396e-01,  7.09908709e-02,\n",
       "          1.51593619e-01,  1.79762883e-01, -1.98906479e-01,\n",
       "          2.32773594e-01,  1.09789514e-01,  9.52467965e-02,\n",
       "         -8.63355107e-02, -1.02369627e-01,  2.47410020e-02,\n",
       "          1.04701294e-01, -1.27375480e-01,  2.26938152e-02,\n",
       "          1.45969249e-01,  1.42047520e-01, -8.02239153e-02,\n",
       "         -3.25836720e-01, -1.04302658e-02,  4.06960940e-02,\n",
       "         -2.44769773e-03, -7.81618290e-03,  1.00712963e-01,\n",
       "          1.12331451e-01,  1.93556770e-01,  2.25920359e-01,\n",
       "          2.32183738e-01,  2.30839578e-01, -2.13623298e-01,\n",
       "         -1.52573241e-03, -1.66483828e-01, -1.97949650e-01,\n",
       "         -2.39713695e-02,  4.86174485e-02, -2.17209113e-01,\n",
       "          1.81423277e-01,  8.33228590e-02,  1.39262473e-01,\n",
       "         -1.27594195e-01,  1.90861547e-01,  1.27665341e-01,\n",
       "          2.66624419e-02,  1.54228549e-01, -4.19815482e-04,\n",
       "         -1.33788549e-02,  5.50897851e-02, -1.93978457e-05,\n",
       "          4.30715085e-02, -1.62109539e-02, -1.85847416e-01,\n",
       "         -1.48637400e-05,  1.90525587e-01,  2.10404544e-01,\n",
       "         -1.89193117e-01, -8.48070749e-03,  6.90566975e-02,\n",
       "         -4.70431724e-02,  1.67677221e-01, -1.76718997e-01,\n",
       "         -4.67463735e-03],\n",
       "        [ 5.91446871e-02, -1.89339737e-01,  4.98849752e-02,\n",
       "         -1.19826314e-01, -9.65619995e-02,  2.07124786e-01,\n",
       "         -1.01274053e-01,  2.35509545e-01, -1.00158674e-01,\n",
       "         -1.76960166e-01, -3.71292759e-03, -1.95338151e-01,\n",
       "          2.30058654e-01,  1.06237470e-01, -4.04633294e-03,\n",
       "         -2.26777897e-01, -9.56598369e-02,  3.78757775e-02,\n",
       "          2.45712657e-02,  8.58332341e-02, -6.70867613e-02,\n",
       "          1.25426056e-01, -1.20254788e-02,  1.64084420e-01,\n",
       "          1.76427095e-01, -5.78798647e-03, -4.66050589e-06,\n",
       "         -1.91535224e-01,  1.09473314e-01, -5.98743846e-02,\n",
       "          1.30117364e-02,  1.33536241e-02,  7.81924946e-02,\n",
       "         -1.74367003e-04, -4.53376680e-02, -1.90079374e-01,\n",
       "         -1.76238730e-02, -2.38163820e-01,  8.93467844e-02,\n",
       "         -3.50320488e-02, -1.17116726e-02,  1.07528698e-01,\n",
       "         -5.00929479e-02,  1.03422112e-01,  2.63640725e-02,\n",
       "          2.24213478e-01,  1.72171632e-01, -1.70343427e-01,\n",
       "         -6.08340575e-02,  1.67248205e-01,  1.99493001e-01,\n",
       "          7.10461024e-02,  2.36175333e-01, -3.27808966e-02,\n",
       "         -2.40535428e-02,  7.29697222e-02,  4.66451632e-02,\n",
       "         -1.26610507e-01,  9.29644482e-02,  1.18766473e-01,\n",
       "         -4.31659414e-03, -1.26044283e-01,  4.76455165e-02,\n",
       "         -3.74672590e-02, -4.78380015e-02, -4.93710843e-02,\n",
       "         -7.89647380e-02,  8.05987478e-02, -9.44883388e-02,\n",
       "          2.73208910e-02,  1.49884022e-01,  9.69386283e-02,\n",
       "          1.53575854e-01, -1.85822785e-01,  7.08363075e-02,\n",
       "          1.63991294e-01,  1.06804327e-01,  2.25760291e-01,\n",
       "          2.09292814e-01, -1.81632171e-01, -1.80511327e-01,\n",
       "         -1.10396261e-01,  3.66856245e-02, -3.87278164e-14,\n",
       "          3.24471339e-02, -1.20788610e-01, -8.05345569e-15,\n",
       "         -8.38860122e-02,  1.95953530e-01,  9.69756001e-02,\n",
       "          4.47556888e-11,  1.31966115e-01,  7.44202216e-02,\n",
       "          1.62857370e-01, -1.27181539e-01, -5.06941605e-02,\n",
       "          4.68695542e-02, -1.66732382e-01,  1.51848982e-01,\n",
       "         -3.16986403e-02],\n",
       "        [ 1.85163090e-01,  1.49486855e-01,  5.45659201e-03,\n",
       "          1.91334891e-01,  2.10869359e-01,  1.92258926e-01,\n",
       "          9.48083014e-02,  5.21919375e-02, -1.06756273e-01,\n",
       "         -1.65325890e-01,  1.21986776e-01,  1.82312044e-01,\n",
       "          2.75304386e-01, -1.00034389e-01,  1.60701274e-01,\n",
       "          5.68039097e-02,  1.43407613e-01,  1.31079712e-01,\n",
       "         -2.05443611e-02,  1.25889321e-01, -7.43940696e-02,\n",
       "         -1.95994673e-01, -1.13137407e-01,  2.13895788e-02,\n",
       "          5.17743569e-02, -1.82274628e-01,  7.33648996e-04,\n",
       "         -1.42816205e-01,  1.89429346e-01,  1.07040716e-01,\n",
       "         -1.51775857e-01, -7.22341358e-02, -9.83468819e-02,\n",
       "         -6.19033317e-05, -8.58923505e-02,  1.21951203e-01,\n",
       "         -1.46984431e-02,  1.09763988e-01,  1.80830939e-01,\n",
       "         -1.74146931e-02, -2.20654580e-01, -1.53595012e-01,\n",
       "          1.84638418e-01,  2.18326313e-01, -2.19822006e-01,\n",
       "          6.91802824e-02, -1.25616638e-01, -2.93051949e-02,\n",
       "          8.11147879e-02,  1.11489543e-01, -1.77948145e-01,\n",
       "         -1.82362698e-01,  6.10114049e-02, -2.00911997e-02,\n",
       "         -1.47730372e-01,  1.85977103e-01, -2.12416721e-01,\n",
       "          2.52405067e-01,  1.17013686e-01,  7.28181065e-02,\n",
       "         -4.45397926e-05,  2.67415737e-02,  1.34427464e-01,\n",
       "          1.51092987e-01, -1.83834313e-01,  2.10074388e-01,\n",
       "          1.11272915e-01,  2.80919584e-04, -2.29297649e-01,\n",
       "         -1.43348127e-01,  6.65485111e-02,  2.30158940e-02,\n",
       "         -2.95948396e-01,  1.19039079e-01,  8.20076888e-02,\n",
       "          4.89858208e-02, -1.34936237e-02, -1.70277059e-01,\n",
       "         -2.20571761e-01, -5.42459583e-02,  2.42324265e-02,\n",
       "          4.88648508e-02,  2.50413978e-01,  7.63063162e-03,\n",
       "          1.22873291e-01, -5.17419548e-03, -1.26931837e-14,\n",
       "          1.32894120e-01, -1.91850100e-01, -3.70292005e-04,\n",
       "          6.60859328e-10,  3.27171484e-02, -6.51717434e-02,\n",
       "          1.62939551e-01,  1.81632531e-01, -9.17898210e-03,\n",
       "         -6.24082820e-03,  1.64901939e-01,  1.66534428e-01,\n",
       "          1.95828046e-01],\n",
       "        [-1.21096705e-03,  1.52987069e-01,  2.17765416e-01,\n",
       "         -7.55141963e-02,  1.45624157e-02, -1.95131591e-01,\n",
       "         -7.98408441e-02,  1.26427915e-02,  7.42843581e-02,\n",
       "          1.60097391e-01, -3.01653440e-02,  1.18182025e-01,\n",
       "         -1.35472880e-01, -3.39194510e-02, -1.13502820e-01,\n",
       "          1.16685749e-01, -2.89543860e-01, -3.03943807e-02,\n",
       "         -2.09939434e-02, -4.89298073e-02,  1.21349604e-01,\n",
       "         -6.19870006e-02,  1.48715359e-01,  2.20697811e-01,\n",
       "         -1.86634790e-01, -1.02587207e-02, -4.62800579e-05,\n",
       "         -9.54158908e-02,  2.06677512e-01,  2.73053430e-02,\n",
       "         -2.31191602e-01,  1.73156894e-01,  1.26724340e-02,\n",
       "         -4.34889964e-07, -1.66731440e-02, -2.35021304e-01,\n",
       "         -2.13839309e-02,  1.70276765e-01,  2.77357347e-03,\n",
       "          4.02702428e-08,  1.57229010e-02, -5.91825569e-02,\n",
       "         -2.20007552e-01,  1.57246725e-01,  4.67625335e-02,\n",
       "          2.66356441e-02, -4.44243119e-02,  3.65383366e-02,\n",
       "          1.21404093e-01,  2.36995748e-01, -2.43476639e-02,\n",
       "         -8.77529571e-03,  1.73701432e-01,  2.06429546e-01,\n",
       "         -2.36145311e-01, -1.29564457e-01,  6.65942896e-02,\n",
       "         -3.60398289e-01, -1.23650897e-01,  1.68615877e-01,\n",
       "         -1.39391539e-14, -5.76479714e-04, -2.18819502e-01,\n",
       "         -9.02366342e-02, -4.32511989e-02, -1.58832334e-01,\n",
       "          2.34413828e-01, -3.60937601e-02,  7.36374129e-02,\n",
       "          1.57577550e-01,  1.65388001e-01,  9.48495954e-02,\n",
       "          3.01427807e-02, -2.86998328e-01,  5.35309108e-02,\n",
       "          1.49066572e-02, -3.35617572e-02, -6.75991632e-02,\n",
       "         -2.38418359e-01, -2.01404460e-02, -2.13280044e-01,\n",
       "          1.52342703e-01, -1.02000105e-01, -2.32156194e-08,\n",
       "         -8.28169564e-02, -2.10489698e-12, -6.58893668e-03,\n",
       "         -1.36542435e-02,  1.16624847e-01,  2.33538645e-01,\n",
       "         -7.10311377e-04,  1.55775498e-01,  1.53651377e-01,\n",
       "         -2.33623748e-01, -3.70347222e-02,  1.80629293e-01,\n",
       "         -1.85161699e-02, -2.23501430e-01,  1.80663465e-01,\n",
       "          1.78380779e-01],\n",
       "        [-2.03102238e-01, -1.94267004e-01, -2.31965214e-01,\n",
       "          1.47629610e-02,  2.35588590e-01, -2.69487532e-03,\n",
       "          2.66500436e-02, -2.12767059e-01, -4.91098887e-02,\n",
       "          2.24237465e-01,  1.47468647e-01, -1.55578057e-01,\n",
       "          5.14678785e-02,  1.71434632e-01,  6.84426618e-02,\n",
       "         -2.08738452e-01,  1.23855095e-01, -1.01792011e-01,\n",
       "         -9.65355365e-02,  2.35342739e-01, -2.21363591e-01,\n",
       "          1.12684289e-01,  1.75347616e-01, -7.30139577e-02,\n",
       "          2.08433112e-01,  6.28218647e-02, -8.82410954e-06,\n",
       "          1.13689523e-02,  1.50502172e-01, -3.80830314e-02,\n",
       "          1.68195998e-01,  5.34546253e-02,  7.66729305e-02,\n",
       "         -4.11550734e-03, -5.45384180e-02, -2.37514117e-01,\n",
       "         -2.09438808e-02, -5.42855324e-04, -1.22436075e-01,\n",
       "          1.96685179e-02, -2.29374512e-01, -1.26548089e-01,\n",
       "          5.48534442e-02,  2.57416397e-03,  7.10287318e-02,\n",
       "          1.65974742e-01,  1.21026754e-01,  1.77825466e-02,\n",
       "          1.30662097e-01, -2.07293519e-01,  6.56120743e-03,\n",
       "         -1.93543997e-01, -1.74311800e-01,  1.06769604e-01,\n",
       "          2.58697206e-02,  5.83904060e-02,  2.06166389e-01,\n",
       "          2.78937453e-01,  1.67434379e-01,  2.32754595e-01,\n",
       "         -7.72414461e-03, -6.78140343e-02,  1.48300782e-01,\n",
       "          1.45815178e-01,  8.81283374e-02,  2.29416169e-01,\n",
       "         -2.44057214e-02, -3.43886174e-02, -1.93173716e-01,\n",
       "         -1.64989594e-01, -2.47022746e-01, -1.39575326e-01,\n",
       "          6.18327647e-02,  6.95088197e-02,  9.69216719e-02,\n",
       "         -9.77183268e-02, -2.03210608e-01,  2.19010417e-01,\n",
       "          1.80054260e-01, -5.30798639e-02, -1.60181158e-01,\n",
       "          2.06778410e-01, -1.35509885e-01, -9.35623319e-03,\n",
       "         -1.25383025e-01, -2.20945311e-01,  1.88961367e-11,\n",
       "         -2.26340203e-01, -2.18560001e-01, -1.63879369e-01,\n",
       "          4.84900525e-13,  1.13532683e-01, -7.79415443e-02,\n",
       "         -4.89136481e-02, -1.59590453e-02,  2.23042781e-01,\n",
       "          8.59915236e-02, -1.43704885e-01, -1.57769333e-01,\n",
       "          1.67871018e-01],\n",
       "        [ 3.59762959e-02,  7.84608103e-02,  1.64486380e-02,\n",
       "          2.32861859e-01,  1.63829707e-01, -1.42905727e-01,\n",
       "         -5.30253933e-02,  1.22644184e-01,  2.35636940e-02,\n",
       "          1.38761413e-01,  2.15405059e-01,  3.39791569e-03,\n",
       "         -6.33541924e-03,  1.44573236e-01, -4.76856908e-02,\n",
       "         -1.40561531e-01, -1.48687717e-02, -1.59895216e-01,\n",
       "          1.81393129e-01, -1.56521538e-01, -2.23814327e-01,\n",
       "          9.55304552e-02, -6.59847431e-02, -7.38422624e-02,\n",
       "          4.16651559e-01,  1.03781455e-01,  1.01237097e-12,\n",
       "          1.91941155e-02, -4.22704278e-03,  4.20844843e-02,\n",
       "          8.75369869e-02, -1.50242469e-01,  2.43655301e-01,\n",
       "          3.38325365e-08,  1.78665068e-01, -4.89393253e-02,\n",
       "         -8.13445123e-03, -1.10135050e-01, -1.94746877e-01,\n",
       "         -1.16568233e-02,  6.40621716e-02, -2.01016482e-01,\n",
       "         -4.68257180e-02, -1.02167591e-01,  1.47827185e-01,\n",
       "         -1.72259713e-01, -3.55309678e-02,  1.34474960e-01,\n",
       "          1.50305543e-01,  4.76517879e-02, -1.36163285e-01,\n",
       "          8.45287822e-02, -1.77237599e-01,  8.50694378e-02,\n",
       "         -1.66813163e-01,  1.84740370e-01,  1.27128647e-02,\n",
       "          2.31088213e-01,  1.00779856e-02, -6.36108811e-02,\n",
       "          7.49527799e-03,  7.28516996e-02, -1.86722664e-01,\n",
       "          5.15025416e-02, -2.68719575e-01, -1.70809717e-01,\n",
       "         -2.17380628e-01,  5.85730578e-02, -4.76258714e-02,\n",
       "         -8.15774088e-02, -6.25314199e-02,  7.83885326e-02,\n",
       "          6.21006411e-02, -7.47629425e-02,  6.63960148e-02,\n",
       "         -1.77855330e-01, -2.97853154e-02,  1.93664362e-01,\n",
       "         -2.67701554e-02,  1.37854802e-01, -1.25207259e-01,\n",
       "          1.67754264e-01,  3.83636686e-02,  1.83053600e-12,\n",
       "         -5.77420119e-02, -2.33552266e-01, -2.09794531e-08,\n",
       "          8.62796150e-02, -2.41063985e-01, -2.78792944e-01,\n",
       "          5.61249328e-05, -9.23698734e-02, -4.25910302e-02,\n",
       "          1.52757913e-01,  3.60888882e-02,  4.54849693e-02,\n",
       "          1.58851285e-01, -5.74877746e-02,  2.00571210e-01,\n",
       "         -6.70709313e-02],\n",
       "        [-1.56089861e-01, -1.33700239e-02, -2.07854003e-01,\n",
       "          2.10582829e-01, -1.71714515e-01,  1.02498508e-01,\n",
       "         -2.98676561e-02,  7.02165462e-02,  2.63809764e-02,\n",
       "         -1.76391896e-01, -1.32411694e-01,  2.23088486e-01,\n",
       "         -4.54796454e-02,  1.31555306e-01, -1.90430062e-01,\n",
       "          1.53799034e-01, -1.06551615e-01, -1.28741032e-01,\n",
       "          2.20125358e-01,  1.12988568e-01,  6.07612900e-04,\n",
       "          6.04222262e-02, -9.53546195e-02, -1.54093369e-01,\n",
       "         -6.07591873e-02,  1.13677203e-01, -6.05303445e-04,\n",
       "          1.72211897e-01,  2.35790835e-01, -1.27676359e-02,\n",
       "         -9.20258060e-04, -3.42296568e-03,  1.77441037e-03,\n",
       "         -4.08014890e-02,  9.99337234e-02,  8.50393779e-03,\n",
       "         -2.61393290e-02, -6.31186260e-02,  1.79893948e-01,\n",
       "         -2.05956699e-02,  5.91116703e-02, -2.46026323e-01,\n",
       "         -1.91574484e-01,  3.53772488e-02, -1.71378095e-01,\n",
       "         -1.45374529e-01,  1.75233011e-01,  5.75556310e-02,\n",
       "          9.75205442e-03, -1.25311753e-01,  2.10185789e-01,\n",
       "          4.64752037e-02,  6.82461555e-02,  5.62460021e-02,\n",
       "         -1.98028354e-01, -1.07256861e-01,  2.07526078e-01,\n",
       "          2.23085342e-01,  2.18206841e-01,  1.73669240e-01,\n",
       "         -1.75225490e-11,  2.23455722e-01,  1.62546762e-01,\n",
       "         -1.01531292e-01, -2.08896355e-01, -8.47278569e-02,\n",
       "         -8.91082947e-02,  3.99111958e-02, -6.25894865e-02,\n",
       "          8.26900415e-02, -7.42892978e-02,  2.96957328e-01,\n",
       "         -2.05928174e-01,  1.53139907e-01, -7.84586329e-02,\n",
       "          2.35148143e-01, -9.90710289e-04, -1.63161183e-01,\n",
       "          1.72842218e-01,  1.47715353e-01, -5.24991191e-03,\n",
       "          2.39962725e-02, -2.84336760e-02, -8.31925483e-06,\n",
       "          2.37624782e-01, -5.74778797e-02, -5.15015321e-04,\n",
       "         -1.51269572e-01, -6.88942810e-02, -3.91910686e-02,\n",
       "         -8.32334531e-11,  9.34448908e-02,  2.01760117e-01,\n",
       "          7.82015609e-02,  4.82487016e-02, -7.20179098e-02,\n",
       "         -1.19681819e-01, -1.94324957e-01, -1.36218822e-01,\n",
       "         -1.62674804e-01]]),\n",
       " array([[-4.54983838e-01],\n",
       "        [ 1.23147589e-01],\n",
       "        [-1.43455423e-01],\n",
       "        [ 1.25087168e-01],\n",
       "        [ 1.09961236e-01],\n",
       "        [-6.34971190e-02],\n",
       "        [-9.71876877e-02],\n",
       "        [ 2.30056647e-01],\n",
       "        [ 6.88568164e-02],\n",
       "        [-2.24746557e-01],\n",
       "        [-7.35028146e-02],\n",
       "        [ 2.04966876e-01],\n",
       "        [-1.99585341e-01],\n",
       "        [-1.30742363e-01],\n",
       "        [-2.12848057e-01],\n",
       "        [-4.14751799e-02],\n",
       "        [-4.09633702e-02],\n",
       "        [-2.17577550e-01],\n",
       "        [ 1.06800281e-01],\n",
       "        [ 1.55161300e-01],\n",
       "        [ 7.36196848e-02],\n",
       "        [-9.62701960e-02],\n",
       "        [-1.09527653e-01],\n",
       "        [-1.81651794e-01],\n",
       "        [ 1.03456656e-01],\n",
       "        [-1.49777948e-01],\n",
       "        [-2.84004536e-04],\n",
       "        [ 3.30541873e-02],\n",
       "        [-1.41711334e-01],\n",
       "        [ 6.43829740e-02],\n",
       "        [ 9.33316192e-02],\n",
       "        [ 9.13254368e-02],\n",
       "        [ 1.14891204e-01],\n",
       "        [ 5.92644830e-04],\n",
       "        [-3.08622059e-01],\n",
       "        [-1.55879395e-01],\n",
       "        [ 1.82460066e-02],\n",
       "        [-5.57079809e-02],\n",
       "        [-1.00772123e-01],\n",
       "        [ 7.66098678e-04],\n",
       "        [ 2.20916481e-01],\n",
       "        [-1.33119128e-01],\n",
       "        [-2.56062189e-02],\n",
       "        [-6.64861083e-02],\n",
       "        [-6.30218832e-02],\n",
       "        [ 1.32782915e-01],\n",
       "        [-1.93536604e-01],\n",
       "        [-1.76198970e-01],\n",
       "        [-6.65515140e-03],\n",
       "        [ 1.54294038e-01],\n",
       "        [ 1.59635302e-02],\n",
       "        [-1.55243065e-01],\n",
       "        [-1.73521717e-01],\n",
       "        [ 2.36607280e-01],\n",
       "        [ 1.04814032e-01],\n",
       "        [-6.10042749e-02],\n",
       "        [-1.38651192e-01],\n",
       "        [ 3.42635572e-01],\n",
       "        [-1.52944005e-01],\n",
       "        [-1.81300803e-01],\n",
       "        [-1.09937334e-03],\n",
       "        [-6.01679984e-01],\n",
       "        [ 1.94626002e-02],\n",
       "        [-6.00967927e-02],\n",
       "        [-2.00116388e-01],\n",
       "        [ 1.68384635e-01],\n",
       "        [ 1.41063721e-01],\n",
       "        [ 1.31772494e-01],\n",
       "        [-1.72647153e-01],\n",
       "        [ 2.43014864e-01],\n",
       "        [-1.85674731e-01],\n",
       "        [ 1.87776012e-01],\n",
       "        [-1.82773619e-01],\n",
       "        [ 1.18682594e-01],\n",
       "        [-1.99084207e-01],\n",
       "        [ 2.38862850e-01],\n",
       "        [-2.09103152e-01],\n",
       "        [ 2.26750777e-01],\n",
       "        [ 3.77986809e-02],\n",
       "        [-8.14702713e-02],\n",
       "        [-8.03633056e-02],\n",
       "        [ 2.08640706e-01],\n",
       "        [-5.56277303e-02],\n",
       "        [ 3.85447358e-03],\n",
       "        [-9.30999492e-02],\n",
       "        [-3.49387128e-02],\n",
       "        [ 2.28047051e-04],\n",
       "        [-5.61645096e-01],\n",
       "        [ 1.36531384e-02],\n",
       "        [ 2.52310600e-01],\n",
       "        [ 1.91269558e-12],\n",
       "        [ 9.94959472e-02],\n",
       "        [-1.63280961e-01],\n",
       "        [ 2.11514640e-01],\n",
       "        [-2.97348805e-01],\n",
       "        [-8.66654982e-02],\n",
       "        [-1.38781758e-01],\n",
       "        [ 9.07386747e-02],\n",
       "        [-1.26274915e-01],\n",
       "        [-1.21689349e-02]])]"
      ]
     },
     "execution_count": 124,
     "metadata": {},
     "output_type": "execute_result"
    }
   ],
   "source": [
    "mlpc_model.coefs_"
   ]
  },
  {
   "cell_type": "code",
   "execution_count": 125,
   "metadata": {
    "collapsed": true,
    "jupyter": {
     "outputs_hidden": true
    }
   },
   "outputs": [
    {
     "data": {
      "text/plain": [
       "\u001b[1;31mType:\u001b[0m        MLPClassifier\n",
       "\u001b[1;31mString form:\u001b[0m MLPClassifier()\n",
       "\u001b[1;31mFile:\u001b[0m        c:\\users\\zeynep\\anaconda33\\lib\\site-packages\\sklearn\\neural_network\\_multilayer_perceptron.py\n",
       "\u001b[1;31mDocstring:\u001b[0m  \n",
       "Multi-layer Perceptron classifier.\n",
       "\n",
       "This model optimizes the log-loss function using LBFGS or stochastic\n",
       "gradient descent.\n",
       "\n",
       ".. versionadded:: 0.18\n",
       "\n",
       "Parameters\n",
       "----------\n",
       "hidden_layer_sizes : tuple, length = n_layers - 2, default=(100,)\n",
       "    The ith element represents the number of neurons in the ith\n",
       "    hidden layer.\n",
       "\n",
       "activation : {'identity', 'logistic', 'tanh', 'relu'}, default='relu'\n",
       "    Activation function for the hidden layer.\n",
       "\n",
       "    - 'identity', no-op activation, useful to implement linear bottleneck,\n",
       "      returns f(x) = x\n",
       "\n",
       "    - 'logistic', the logistic sigmoid function,\n",
       "      returns f(x) = 1 / (1 + exp(-x)).\n",
       "\n",
       "    - 'tanh', the hyperbolic tan function,\n",
       "      returns f(x) = tanh(x).\n",
       "\n",
       "    - 'relu', the rectified linear unit function,\n",
       "      returns f(x) = max(0, x)\n",
       "\n",
       "solver : {'lbfgs', 'sgd', 'adam'}, default='adam'\n",
       "    The solver for weight optimization.\n",
       "\n",
       "    - 'lbfgs' is an optimizer in the family of quasi-Newton methods.\n",
       "\n",
       "    - 'sgd' refers to stochastic gradient descent.\n",
       "\n",
       "    - 'adam' refers to a stochastic gradient-based optimizer proposed\n",
       "      by Kingma, Diederik, and Jimmy Ba\n",
       "\n",
       "    Note: The default solver 'adam' works pretty well on relatively\n",
       "    large datasets (with thousands of training samples or more) in terms of\n",
       "    both training time and validation score.\n",
       "    For small datasets, however, 'lbfgs' can converge faster and perform\n",
       "    better.\n",
       "\n",
       "alpha : float, default=0.0001\n",
       "    L2 penalty (regularization term) parameter.\n",
       "\n",
       "batch_size : int, default='auto'\n",
       "    Size of minibatches for stochastic optimizers.\n",
       "    If the solver is 'lbfgs', the classifier will not use minibatch.\n",
       "    When set to \"auto\", `batch_size=min(200, n_samples)`\n",
       "\n",
       "learning_rate : {'constant', 'invscaling', 'adaptive'}, default='constant'\n",
       "    Learning rate schedule for weight updates.\n",
       "\n",
       "    - 'constant' is a constant learning rate given by\n",
       "      'learning_rate_init'.\n",
       "\n",
       "    - 'invscaling' gradually decreases the learning rate at each\n",
       "      time step 't' using an inverse scaling exponent of 'power_t'.\n",
       "      effective_learning_rate = learning_rate_init / pow(t, power_t)\n",
       "\n",
       "    - 'adaptive' keeps the learning rate constant to\n",
       "      'learning_rate_init' as long as training loss keeps decreasing.\n",
       "      Each time two consecutive epochs fail to decrease training loss by at\n",
       "      least tol, or fail to increase validation score by at least tol if\n",
       "      'early_stopping' is on, the current learning rate is divided by 5.\n",
       "\n",
       "    Only used when ``solver='sgd'``.\n",
       "\n",
       "learning_rate_init : double, default=0.001\n",
       "    The initial learning rate used. It controls the step-size\n",
       "    in updating the weights. Only used when solver='sgd' or 'adam'.\n",
       "\n",
       "power_t : double, default=0.5\n",
       "    The exponent for inverse scaling learning rate.\n",
       "    It is used in updating effective learning rate when the learning_rate\n",
       "    is set to 'invscaling'. Only used when solver='sgd'.\n",
       "\n",
       "max_iter : int, default=200\n",
       "    Maximum number of iterations. The solver iterates until convergence\n",
       "    (determined by 'tol') or this number of iterations. For stochastic\n",
       "    solvers ('sgd', 'adam'), note that this determines the number of epochs\n",
       "    (how many times each data point will be used), not the number of\n",
       "    gradient steps.\n",
       "\n",
       "shuffle : bool, default=True\n",
       "    Whether to shuffle samples in each iteration. Only used when\n",
       "    solver='sgd' or 'adam'.\n",
       "\n",
       "random_state : int, RandomState instance, default=None\n",
       "    Determines random number generation for weights and bias\n",
       "    initialization, train-test split if early stopping is used, and batch\n",
       "    sampling when solver='sgd' or 'adam'.\n",
       "    Pass an int for reproducible results across multiple function calls.\n",
       "    See :term:`Glossary <random_state>`.\n",
       "\n",
       "tol : float, default=1e-4\n",
       "    Tolerance for the optimization. When the loss or score is not improving\n",
       "    by at least ``tol`` for ``n_iter_no_change`` consecutive iterations,\n",
       "    unless ``learning_rate`` is set to 'adaptive', convergence is\n",
       "    considered to be reached and training stops.\n",
       "\n",
       "verbose : bool, default=False\n",
       "    Whether to print progress messages to stdout.\n",
       "\n",
       "warm_start : bool, default=False\n",
       "    When set to True, reuse the solution of the previous\n",
       "    call to fit as initialization, otherwise, just erase the\n",
       "    previous solution. See :term:`the Glossary <warm_start>`.\n",
       "\n",
       "momentum : float, default=0.9\n",
       "    Momentum for gradient descent update. Should be between 0 and 1. Only\n",
       "    used when solver='sgd'.\n",
       "\n",
       "nesterovs_momentum : boolean, default=True\n",
       "    Whether to use Nesterov's momentum. Only used when solver='sgd' and\n",
       "    momentum > 0.\n",
       "\n",
       "early_stopping : bool, default=False\n",
       "    Whether to use early stopping to terminate training when validation\n",
       "    score is not improving. If set to true, it will automatically set\n",
       "    aside 10% of training data as validation and terminate training when\n",
       "    validation score is not improving by at least tol for\n",
       "    ``n_iter_no_change`` consecutive epochs. The split is stratified,\n",
       "    except in a multilabel setting.\n",
       "    Only effective when solver='sgd' or 'adam'\n",
       "\n",
       "validation_fraction : float, default=0.1\n",
       "    The proportion of training data to set aside as validation set for\n",
       "    early stopping. Must be between 0 and 1.\n",
       "    Only used if early_stopping is True\n",
       "\n",
       "beta_1 : float, default=0.9\n",
       "    Exponential decay rate for estimates of first moment vector in adam,\n",
       "    should be in [0, 1). Only used when solver='adam'\n",
       "\n",
       "beta_2 : float, default=0.999\n",
       "    Exponential decay rate for estimates of second moment vector in adam,\n",
       "    should be in [0, 1). Only used when solver='adam'\n",
       "\n",
       "epsilon : float, default=1e-8\n",
       "    Value for numerical stability in adam. Only used when solver='adam'\n",
       "\n",
       "n_iter_no_change : int, default=10\n",
       "    Maximum number of epochs to not meet ``tol`` improvement.\n",
       "    Only effective when solver='sgd' or 'adam'\n",
       "\n",
       "    .. versionadded:: 0.20\n",
       "\n",
       "max_fun : int, default=15000\n",
       "    Only used when solver='lbfgs'. Maximum number of loss function calls.\n",
       "    The solver iterates until convergence (determined by 'tol'), number\n",
       "    of iterations reaches max_iter, or this number of loss function calls.\n",
       "    Note that number of loss function calls will be greater than or equal\n",
       "    to the number of iterations for the `MLPClassifier`.\n",
       "\n",
       "    .. versionadded:: 0.22\n",
       "\n",
       "Attributes\n",
       "----------\n",
       "classes_ : ndarray or list of ndarray of shape (n_classes,)\n",
       "    Class labels for each output.\n",
       "\n",
       "loss_ : float\n",
       "    The current loss computed with the loss function.\n",
       "\n",
       "coefs_ : list, length n_layers - 1\n",
       "    The ith element in the list represents the weight matrix corresponding\n",
       "    to layer i.\n",
       "\n",
       "intercepts_ : list, length n_layers - 1\n",
       "    The ith element in the list represents the bias vector corresponding to\n",
       "    layer i + 1.\n",
       "\n",
       "n_iter_ : int,\n",
       "    The number of iterations the solver has ran.\n",
       "\n",
       "n_layers_ : int\n",
       "    Number of layers.\n",
       "\n",
       "n_outputs_ : int\n",
       "    Number of outputs.\n",
       "\n",
       "out_activation_ : string\n",
       "    Name of the output activation function.\n",
       "\n",
       "\n",
       "Examples\n",
       "--------\n",
       ">>> from sklearn.neural_network import MLPClassifier\n",
       ">>> from sklearn.datasets import make_classification\n",
       ">>> from sklearn.model_selection import train_test_split\n",
       ">>> X, y = make_classification(n_samples=100, random_state=1)\n",
       ">>> X_train, X_test, y_train, y_test = train_test_split(X, y, stratify=y,\n",
       "...                                                     random_state=1)\n",
       ">>> clf = MLPClassifier(random_state=1, max_iter=300).fit(X_train, y_train)\n",
       ">>> clf.predict_proba(X_test[:1])\n",
       "array([[0.038..., 0.961...]])\n",
       ">>> clf.predict(X_test[:5, :])\n",
       "array([1, 0, 1, 0, 1])\n",
       ">>> clf.score(X_test, y_test)\n",
       "0.8...\n",
       "\n",
       "Notes\n",
       "-----\n",
       "MLPClassifier trains iteratively since at each time step\n",
       "the partial derivatives of the loss function with respect to the model\n",
       "parameters are computed to update the parameters.\n",
       "\n",
       "It can also have a regularization term added to the loss function\n",
       "that shrinks model parameters to prevent overfitting.\n",
       "\n",
       "This implementation works with data represented as dense numpy arrays or\n",
       "sparse scipy arrays of floating point values.\n",
       "\n",
       "References\n",
       "----------\n",
       "Hinton, Geoffrey E.\n",
       "    \"Connectionist learning procedures.\" Artificial intelligence 40.1\n",
       "    (1989): 185-234.\n",
       "\n",
       "Glorot, Xavier, and Yoshua Bengio. \"Understanding the difficulty of\n",
       "    training deep feedforward neural networks.\" International Conference\n",
       "    on Artificial Intelligence and Statistics. 2010.\n",
       "\n",
       "He, Kaiming, et al. \"Delving deep into rectifiers: Surpassing human-level\n",
       "    performance on imagenet classification.\" arXiv preprint\n",
       "    arXiv:1502.01852 (2015).\n",
       "\n",
       "Kingma, Diederik, and Jimmy Ba. \"Adam: A method for stochastic\n",
       "    optimization.\" arXiv preprint arXiv:1412.6980 (2014).\n"
      ]
     },
     "metadata": {},
     "output_type": "display_data"
    }
   ],
   "source": [
    "?mlpc_model "
   ]
  },
  {
   "cell_type": "code",
   "execution_count": 126,
   "metadata": {},
   "outputs": [],
   "source": [
    "#doğrusal bir fonksiyon için relu activation, sınıflandırma fonksiyonu için logistic activation kullanıyoruz.\n",
    "#solver modelimizde kullanmış olduğumuz ağırlıkları optimize etmek için kullanılacak olan yöntemi ifade eder."
   ]
  },
  {
   "cell_type": "code",
   "execution_count": 127,
   "metadata": {},
   "outputs": [],
   "source": [
    "y_pred = mlpc_model.predict(X_test)"
   ]
  },
  {
   "cell_type": "code",
   "execution_count": 128,
   "metadata": {},
   "outputs": [
    {
     "data": {
      "text/plain": [
       "0.7316017316017316"
      ]
     },
     "execution_count": 128,
     "metadata": {},
     "output_type": "execute_result"
    }
   ],
   "source": [
    "accuracy_score(y_test, y_pred)"
   ]
  },
  {
   "cell_type": "markdown",
   "metadata": {},
   "source": [
    "### Model Tuning"
   ]
  },
  {
   "cell_type": "code",
   "execution_count": 156,
   "metadata": {},
   "outputs": [],
   "source": [
    "mlpc_params = {\"alpha\":[1,5,0.1,0.01,0.3,0.05,0.0001],\n",
    "               \"hidden_layer_sizes\": [(10,10),(100,100,100),(100,100),(3,5)]#yapay sinir ağı modelinin ağ mimari yapısı ile ilgili değerleri\n",
    "              }#hidden_layer_sizes'da parantez içerisindeki değişken sayısı kaç katmanlı olduğunu gösterir."
   ]
  },
  {
   "cell_type": "code",
   "execution_count": 157,
   "metadata": {},
   "outputs": [],
   "source": [
    "mlpc = MLPClassifier(solver=\"lbfgs\", activation = \"logistic\") #solver= çözücü yaklaşımımız"
   ]
  },
  {
   "cell_type": "code",
   "execution_count": 159,
   "metadata": {},
   "outputs": [
    {
     "ename": "ValueError",
     "evalue": "Found input variables with inconsistent numbers of samples: [231, 537]",
     "output_type": "error",
     "traceback": [
      "\u001b[1;31m---------------------------------------------------------------------------\u001b[0m",
      "\u001b[1;31mValueError\u001b[0m                                Traceback (most recent call last)",
      "\u001b[1;32m<ipython-input-159-f2826a9a27eb>\u001b[0m in \u001b[0;36m<module>\u001b[1;34m\u001b[0m\n\u001b[1;32m----> 1\u001b[1;33m \u001b[0mmlpc_cv_model\u001b[0m \u001b[1;33m=\u001b[0m \u001b[0mGridSearchCV\u001b[0m\u001b[1;33m(\u001b[0m\u001b[0mmlpc\u001b[0m\u001b[1;33m,\u001b[0m \u001b[0mmlpc_params\u001b[0m\u001b[1;33m,\u001b[0m \u001b[0mcv\u001b[0m\u001b[1;33m=\u001b[0m\u001b[1;36m10\u001b[0m\u001b[1;33m,\u001b[0m \u001b[0mn_jobs\u001b[0m\u001b[1;33m=\u001b[0m\u001b[1;33m-\u001b[0m\u001b[1;36m1\u001b[0m\u001b[1;33m,\u001b[0m \u001b[0mverbose\u001b[0m\u001b[1;33m=\u001b[0m\u001b[1;36m2\u001b[0m\u001b[1;33m)\u001b[0m\u001b[1;33m.\u001b[0m\u001b[0mfit\u001b[0m\u001b[1;33m(\u001b[0m\u001b[0mX_train\u001b[0m\u001b[1;33m,\u001b[0m \u001b[0my_train\u001b[0m\u001b[1;33m)\u001b[0m\u001b[1;33m\u001b[0m\u001b[1;33m\u001b[0m\u001b[0m\n\u001b[0m",
      "\u001b[1;32m~\\anaconda33\\lib\\site-packages\\sklearn\\utils\\validation.py\u001b[0m in \u001b[0;36minner_f\u001b[1;34m(*args, **kwargs)\u001b[0m\n\u001b[0;32m     71\u001b[0m                           FutureWarning)\n\u001b[0;32m     72\u001b[0m         \u001b[0mkwargs\u001b[0m\u001b[1;33m.\u001b[0m\u001b[0mupdate\u001b[0m\u001b[1;33m(\u001b[0m\u001b[1;33m{\u001b[0m\u001b[0mk\u001b[0m\u001b[1;33m:\u001b[0m \u001b[0marg\u001b[0m \u001b[1;32mfor\u001b[0m \u001b[0mk\u001b[0m\u001b[1;33m,\u001b[0m \u001b[0marg\u001b[0m \u001b[1;32min\u001b[0m \u001b[0mzip\u001b[0m\u001b[1;33m(\u001b[0m\u001b[0msig\u001b[0m\u001b[1;33m.\u001b[0m\u001b[0mparameters\u001b[0m\u001b[1;33m,\u001b[0m \u001b[0margs\u001b[0m\u001b[1;33m)\u001b[0m\u001b[1;33m}\u001b[0m\u001b[1;33m)\u001b[0m\u001b[1;33m\u001b[0m\u001b[1;33m\u001b[0m\u001b[0m\n\u001b[1;32m---> 73\u001b[1;33m         \u001b[1;32mreturn\u001b[0m \u001b[0mf\u001b[0m\u001b[1;33m(\u001b[0m\u001b[1;33m**\u001b[0m\u001b[0mkwargs\u001b[0m\u001b[1;33m)\u001b[0m\u001b[1;33m\u001b[0m\u001b[1;33m\u001b[0m\u001b[0m\n\u001b[0m\u001b[0;32m     74\u001b[0m     \u001b[1;32mreturn\u001b[0m \u001b[0minner_f\u001b[0m\u001b[1;33m\u001b[0m\u001b[1;33m\u001b[0m\u001b[0m\n\u001b[0;32m     75\u001b[0m \u001b[1;33m\u001b[0m\u001b[0m\n",
      "\u001b[1;32m~\\anaconda33\\lib\\site-packages\\sklearn\\model_selection\\_search.py\u001b[0m in \u001b[0;36mfit\u001b[1;34m(self, X, y, groups, **fit_params)\u001b[0m\n\u001b[0;32m    674\u001b[0m             \u001b[0mrefit_metric\u001b[0m \u001b[1;33m=\u001b[0m \u001b[1;34m'score'\u001b[0m\u001b[1;33m\u001b[0m\u001b[1;33m\u001b[0m\u001b[0m\n\u001b[0;32m    675\u001b[0m \u001b[1;33m\u001b[0m\u001b[0m\n\u001b[1;32m--> 676\u001b[1;33m         \u001b[0mX\u001b[0m\u001b[1;33m,\u001b[0m \u001b[0my\u001b[0m\u001b[1;33m,\u001b[0m \u001b[0mgroups\u001b[0m \u001b[1;33m=\u001b[0m \u001b[0mindexable\u001b[0m\u001b[1;33m(\u001b[0m\u001b[0mX\u001b[0m\u001b[1;33m,\u001b[0m \u001b[0my\u001b[0m\u001b[1;33m,\u001b[0m \u001b[0mgroups\u001b[0m\u001b[1;33m)\u001b[0m\u001b[1;33m\u001b[0m\u001b[1;33m\u001b[0m\u001b[0m\n\u001b[0m\u001b[0;32m    677\u001b[0m         \u001b[0mfit_params\u001b[0m \u001b[1;33m=\u001b[0m \u001b[0m_check_fit_params\u001b[0m\u001b[1;33m(\u001b[0m\u001b[0mX\u001b[0m\u001b[1;33m,\u001b[0m \u001b[0mfit_params\u001b[0m\u001b[1;33m)\u001b[0m\u001b[1;33m\u001b[0m\u001b[1;33m\u001b[0m\u001b[0m\n\u001b[0;32m    678\u001b[0m \u001b[1;33m\u001b[0m\u001b[0m\n",
      "\u001b[1;32m~\\anaconda33\\lib\\site-packages\\sklearn\\utils\\validation.py\u001b[0m in \u001b[0;36mindexable\u001b[1;34m(*iterables)\u001b[0m\n\u001b[0;32m    291\u001b[0m     \"\"\"\n\u001b[0;32m    292\u001b[0m     \u001b[0mresult\u001b[0m \u001b[1;33m=\u001b[0m \u001b[1;33m[\u001b[0m\u001b[0m_make_indexable\u001b[0m\u001b[1;33m(\u001b[0m\u001b[0mX\u001b[0m\u001b[1;33m)\u001b[0m \u001b[1;32mfor\u001b[0m \u001b[0mX\u001b[0m \u001b[1;32min\u001b[0m \u001b[0miterables\u001b[0m\u001b[1;33m]\u001b[0m\u001b[1;33m\u001b[0m\u001b[1;33m\u001b[0m\u001b[0m\n\u001b[1;32m--> 293\u001b[1;33m     \u001b[0mcheck_consistent_length\u001b[0m\u001b[1;33m(\u001b[0m\u001b[1;33m*\u001b[0m\u001b[0mresult\u001b[0m\u001b[1;33m)\u001b[0m\u001b[1;33m\u001b[0m\u001b[1;33m\u001b[0m\u001b[0m\n\u001b[0m\u001b[0;32m    294\u001b[0m     \u001b[1;32mreturn\u001b[0m \u001b[0mresult\u001b[0m\u001b[1;33m\u001b[0m\u001b[1;33m\u001b[0m\u001b[0m\n\u001b[0;32m    295\u001b[0m \u001b[1;33m\u001b[0m\u001b[0m\n",
      "\u001b[1;32m~\\anaconda33\\lib\\site-packages\\sklearn\\utils\\validation.py\u001b[0m in \u001b[0;36mcheck_consistent_length\u001b[1;34m(*arrays)\u001b[0m\n\u001b[0;32m    254\u001b[0m     \u001b[0muniques\u001b[0m \u001b[1;33m=\u001b[0m \u001b[0mnp\u001b[0m\u001b[1;33m.\u001b[0m\u001b[0munique\u001b[0m\u001b[1;33m(\u001b[0m\u001b[0mlengths\u001b[0m\u001b[1;33m)\u001b[0m\u001b[1;33m\u001b[0m\u001b[1;33m\u001b[0m\u001b[0m\n\u001b[0;32m    255\u001b[0m     \u001b[1;32mif\u001b[0m \u001b[0mlen\u001b[0m\u001b[1;33m(\u001b[0m\u001b[0muniques\u001b[0m\u001b[1;33m)\u001b[0m \u001b[1;33m>\u001b[0m \u001b[1;36m1\u001b[0m\u001b[1;33m:\u001b[0m\u001b[1;33m\u001b[0m\u001b[1;33m\u001b[0m\u001b[0m\n\u001b[1;32m--> 256\u001b[1;33m         raise ValueError(\"Found input variables with inconsistent numbers of\"\n\u001b[0m\u001b[0;32m    257\u001b[0m                          \" samples: %r\" % [int(l) for l in lengths])\n\u001b[0;32m    258\u001b[0m \u001b[1;33m\u001b[0m\u001b[0m\n",
      "\u001b[1;31mValueError\u001b[0m: Found input variables with inconsistent numbers of samples: [231, 537]"
     ]
    }
   ],
   "source": [
    "mlpc_cv_model = GridSearchCV(mlpc, mlpc_params, cv=10, n_jobs=-1, verbose=2).fit(X_train, y_train)"
   ]
  },
  {
   "cell_type": "code",
   "execution_count": 160,
   "metadata": {},
   "outputs": [
    {
     "data": {
      "text/plain": [
       "GridSearchCV(cv=10,\n",
       "             estimator=MLPClassifier(activation='logistic', solver='lbfgs'),\n",
       "             n_jobs=-1,\n",
       "             param_grid={'alpha': [1, 5, 0.1, 0.01, 0.3, 0.05, 0.0001],\n",
       "                         'hidden_layer_sizes': [(10, 10), (100, 100, 100),\n",
       "                                                (100, 100), (3, 5)]},\n",
       "             verbose=2)"
      ]
     },
     "execution_count": 160,
     "metadata": {},
     "output_type": "execute_result"
    }
   ],
   "source": [
    "mlpc_cv_model"
   ]
  },
  {
   "cell_type": "code",
   "execution_count": 161,
   "metadata": {},
   "outputs": [
    {
     "data": {
      "text/plain": [
       "{'alpha': 5, 'hidden_layer_sizes': (100, 100)}"
      ]
     },
     "execution_count": 161,
     "metadata": {},
     "output_type": "execute_result"
    }
   ],
   "source": [
    "mlpc_cv_model.best_params_"
   ]
  },
  {
   "cell_type": "code",
   "execution_count": null,
   "metadata": {},
   "outputs": [],
   "source": [
    "#finalmodel"
   ]
  },
  {
   "cell_type": "code",
   "execution_count": 149,
   "metadata": {},
   "outputs": [
    {
     "name": "stderr",
     "output_type": "stream",
     "text": [
      "C:\\Users\\Zeynep\\anaconda33\\lib\\site-packages\\sklearn\\neural_network\\_multilayer_perceptron.py:471: ConvergenceWarning: lbfgs failed to converge (status=1):\n",
      "STOP: TOTAL NO. of ITERATIONS REACHED LIMIT.\n",
      "\n",
      "Increase the number of iterations (max_iter) or scale the data as shown in:\n",
      "    https://scikit-learn.org/stable/modules/preprocessing.html\n",
      "  self.n_iter_ = _check_optimize_result(\"lbfgs\", opt_res, self.max_iter)\n"
     ]
    }
   ],
   "source": [
    "mlpc_tuned = MLPClassifier(solver = \"lbfgs\", activation = 'logistic', alpha = 0.5, hidden_layer_sizes = (100,100)).fit(X_train, y_train)"
   ]
  },
  {
   "cell_type": "code",
   "execution_count": 150,
   "metadata": {},
   "outputs": [],
   "source": [
    "y_pred = mlpc_tuned.predict(X_test)"
   ]
  },
  {
   "cell_type": "code",
   "execution_count": 151,
   "metadata": {},
   "outputs": [
    {
     "data": {
      "text/plain": [
       "0.7012987012987013"
      ]
     },
     "execution_count": 151,
     "metadata": {},
     "output_type": "execute_result"
    }
   ],
   "source": [
    "accuracy_score(y_test, y_pred)"
   ]
  },
  {
   "cell_type": "markdown",
   "metadata": {},
   "source": [
    "## CART (Classification and Regession Tree)"
   ]
  },
  {
   "cell_type": "code",
   "execution_count": 163,
   "metadata": {},
   "outputs": [
    {
     "data": {
      "text/html": [
       "<div>\n",
       "<style scoped>\n",
       "    .dataframe tbody tr th:only-of-type {\n",
       "        vertical-align: middle;\n",
       "    }\n",
       "\n",
       "    .dataframe tbody tr th {\n",
       "        vertical-align: top;\n",
       "    }\n",
       "\n",
       "    .dataframe thead th {\n",
       "        text-align: right;\n",
       "    }\n",
       "</style>\n",
       "<table border=\"1\" class=\"dataframe\">\n",
       "  <thead>\n",
       "    <tr style=\"text-align: right;\">\n",
       "      <th></th>\n",
       "      <th>Pregnancies</th>\n",
       "      <th>Glucose</th>\n",
       "      <th>BloodPressure</th>\n",
       "      <th>SkinThickness</th>\n",
       "      <th>Insulin</th>\n",
       "      <th>BMI</th>\n",
       "      <th>DiabetesPedigreeFunction</th>\n",
       "      <th>Age</th>\n",
       "      <th>Outcome</th>\n",
       "    </tr>\n",
       "  </thead>\n",
       "  <tbody>\n",
       "    <tr>\n",
       "      <th>0</th>\n",
       "      <td>6</td>\n",
       "      <td>148</td>\n",
       "      <td>72</td>\n",
       "      <td>35</td>\n",
       "      <td>0</td>\n",
       "      <td>33.6</td>\n",
       "      <td>0.627</td>\n",
       "      <td>50</td>\n",
       "      <td>1</td>\n",
       "    </tr>\n",
       "    <tr>\n",
       "      <th>1</th>\n",
       "      <td>1</td>\n",
       "      <td>85</td>\n",
       "      <td>66</td>\n",
       "      <td>29</td>\n",
       "      <td>0</td>\n",
       "      <td>26.6</td>\n",
       "      <td>0.351</td>\n",
       "      <td>31</td>\n",
       "      <td>0</td>\n",
       "    </tr>\n",
       "    <tr>\n",
       "      <th>2</th>\n",
       "      <td>8</td>\n",
       "      <td>183</td>\n",
       "      <td>64</td>\n",
       "      <td>0</td>\n",
       "      <td>0</td>\n",
       "      <td>23.3</td>\n",
       "      <td>0.672</td>\n",
       "      <td>32</td>\n",
       "      <td>1</td>\n",
       "    </tr>\n",
       "    <tr>\n",
       "      <th>3</th>\n",
       "      <td>1</td>\n",
       "      <td>89</td>\n",
       "      <td>66</td>\n",
       "      <td>23</td>\n",
       "      <td>94</td>\n",
       "      <td>28.1</td>\n",
       "      <td>0.167</td>\n",
       "      <td>21</td>\n",
       "      <td>0</td>\n",
       "    </tr>\n",
       "    <tr>\n",
       "      <th>4</th>\n",
       "      <td>0</td>\n",
       "      <td>137</td>\n",
       "      <td>40</td>\n",
       "      <td>35</td>\n",
       "      <td>168</td>\n",
       "      <td>43.1</td>\n",
       "      <td>2.288</td>\n",
       "      <td>33</td>\n",
       "      <td>1</td>\n",
       "    </tr>\n",
       "  </tbody>\n",
       "</table>\n",
       "</div>"
      ],
      "text/plain": [
       "   Pregnancies  Glucose  BloodPressure  SkinThickness  Insulin   BMI  \\\n",
       "0            6      148             72             35        0  33.6   \n",
       "1            1       85             66             29        0  26.6   \n",
       "2            8      183             64              0        0  23.3   \n",
       "3            1       89             66             23       94  28.1   \n",
       "4            0      137             40             35      168  43.1   \n",
       "\n",
       "   DiabetesPedigreeFunction  Age  Outcome  \n",
       "0                     0.627   50        1  \n",
       "1                     0.351   31        0  \n",
       "2                     0.672   32        1  \n",
       "3                     0.167   21        0  \n",
       "4                     2.288   33        1  "
      ]
     },
     "execution_count": 163,
     "metadata": {},
     "output_type": "execute_result"
    }
   ],
   "source": [
    "df.head()"
   ]
  },
  {
   "cell_type": "code",
   "execution_count": 164,
   "metadata": {},
   "outputs": [],
   "source": [
    "X_train, X_test, y_train, y_test = train_test_split(X, y, test_size=0.30, random_state=42)"
   ]
  },
  {
   "cell_type": "markdown",
   "metadata": {},
   "source": [
    "### Model & Tahmin"
   ]
  },
  {
   "cell_type": "code",
   "execution_count": 166,
   "metadata": {},
   "outputs": [],
   "source": [
    "cart_model = DecisionTreeClassifier().fit(X_train, y_train)"
   ]
  },
  {
   "cell_type": "code",
   "execution_count": 167,
   "metadata": {},
   "outputs": [
    {
     "data": {
      "text/plain": [
       "DecisionTreeClassifier()"
      ]
     },
     "execution_count": 167,
     "metadata": {},
     "output_type": "execute_result"
    }
   ],
   "source": [
    "cart_model"
   ]
  },
  {
   "cell_type": "code",
   "execution_count": 168,
   "metadata": {},
   "outputs": [],
   "source": [
    "y_pred = cart_model.predict(X_test)"
   ]
  },
  {
   "cell_type": "code",
   "execution_count": 169,
   "metadata": {},
   "outputs": [
    {
     "data": {
      "text/plain": [
       "0.696969696969697"
      ]
     },
     "execution_count": 169,
     "metadata": {},
     "output_type": "execute_result"
    }
   ],
   "source": [
    "accuracy_score(y_test, y_pred)"
   ]
  },
  {
   "cell_type": "markdown",
   "metadata": {},
   "source": [
    "### Model Tuning"
   ]
  },
  {
   "cell_type": "code",
   "execution_count": 172,
   "metadata": {},
   "outputs": [],
   "source": [
    "cart = DecisionTreeClassifier()"
   ]
  },
  {
   "cell_type": "code",
   "execution_count": 175,
   "metadata": {},
   "outputs": [],
   "source": [
    "cart_params = {\"max_depth\": [1,3,5,8,10],\n",
    "               \"min_samples_split\": [1,3,5,10,20,50]}"
   ]
  },
  {
   "cell_type": "code",
   "execution_count": 176,
   "metadata": {},
   "outputs": [
    {
     "name": "stdout",
     "output_type": "stream",
     "text": [
      "Fitting 10 folds for each of 30 candidates, totalling 300 fits\n"
     ]
    },
    {
     "name": "stderr",
     "output_type": "stream",
     "text": [
      "[Parallel(n_jobs=-1)]: Using backend LokyBackend with 4 concurrent workers.\n",
      "[Parallel(n_jobs=-1)]: Done  33 tasks      | elapsed:    3.4s\n",
      "[Parallel(n_jobs=-1)]: Done 300 out of 300 | elapsed:    4.8s finished\n"
     ]
    }
   ],
   "source": [
    "cart_cv_model = GridSearchCV(cart, cart_params, cv=10, n_jobs=-1, verbose=2).fit(X_train, y_train)"
   ]
  },
  {
   "cell_type": "code",
   "execution_count": 177,
   "metadata": {},
   "outputs": [
    {
     "data": {
      "text/plain": [
       "{'max_depth': 5, 'min_samples_split': 20}"
      ]
     },
     "execution_count": 177,
     "metadata": {},
     "output_type": "execute_result"
    }
   ],
   "source": [
    "cart_cv_model.best_params_"
   ]
  },
  {
   "cell_type": "code",
   "execution_count": 178,
   "metadata": {},
   "outputs": [],
   "source": [
    "# final model"
   ]
  },
  {
   "cell_type": "code",
   "execution_count": 179,
   "metadata": {},
   "outputs": [],
   "source": [
    "cart_tuned = DecisionTreeClassifier(max_depth=5, min_samples_split=20).fit(X_train, y_train)"
   ]
  },
  {
   "cell_type": "code",
   "execution_count": 180,
   "metadata": {},
   "outputs": [],
   "source": [
    "y_pred = cart_tuned.predict(X_test)"
   ]
  },
  {
   "cell_type": "code",
   "execution_count": 181,
   "metadata": {},
   "outputs": [
    {
     "data": {
      "text/plain": [
       "0.7532467532467533"
      ]
     },
     "execution_count": 181,
     "metadata": {},
     "output_type": "execute_result"
    }
   ],
   "source": [
    "accuracy_score(y_test, y_pred)"
   ]
  },
  {
   "cell_type": "markdown",
   "metadata": {},
   "source": [
    "## Random Forest"
   ]
  },
  {
   "cell_type": "markdown",
   "metadata": {},
   "source": [
    "### Model & Tahmin"
   ]
  },
  {
   "cell_type": "code",
   "execution_count": 184,
   "metadata": {},
   "outputs": [],
   "source": [
    "rf_model = RandomForestClassifier().fit(X_train, y_train)"
   ]
  },
  {
   "cell_type": "code",
   "execution_count": 185,
   "metadata": {},
   "outputs": [
    {
     "data": {
      "text/plain": [
       "RandomForestClassifier()"
      ]
     },
     "execution_count": 185,
     "metadata": {},
     "output_type": "execute_result"
    }
   ],
   "source": [
    "rf_model #random forestta iki konuya odaklanıyoruz. birincisi aç tane ağaç oluşturmak gerektiği ikincisi bölünmelerde göz önünde bulundurulması gereken değişken sayısına karar vermek. harici max derinlik sayısı, mix_samples_leaf, min_samples_split."
   ]
  },
  {
   "cell_type": "code",
   "execution_count": 186,
   "metadata": {},
   "outputs": [
    {
     "data": {
      "text/plain": [
       "0.7489177489177489"
      ]
     },
     "execution_count": 186,
     "metadata": {},
     "output_type": "execute_result"
    }
   ],
   "source": [
    "y_pred = rf_model.predict(X_test)\n",
    "accuracy_score(y_test, y_pred)"
   ]
  },
  {
   "cell_type": "markdown",
   "metadata": {},
   "source": [
    "### Model Tuning"
   ]
  },
  {
   "cell_type": "code",
   "execution_count": 187,
   "metadata": {},
   "outputs": [
    {
     "data": {
      "text/plain": [
       "(537, 8)"
      ]
     },
     "execution_count": 187,
     "metadata": {},
     "output_type": "execute_result"
    }
   ],
   "source": [
    "X_train.shape"
   ]
  },
  {
   "cell_type": "code",
   "execution_count": 188,
   "metadata": {},
   "outputs": [],
   "source": [
    "rf = RandomForestClassifier()"
   ]
  },
  {
   "cell_type": "code",
   "execution_count": 190,
   "metadata": {},
   "outputs": [],
   "source": [
    "rf_params = {\"n_estimators\": [100,200,500,1000], #oluşturulacak olan ağaç sayısını ifade eder.\n",
    "             \"max_features\": [3,5,7,8], #bölünmelerde göz önünde bulundurulması gereken max değişken sayısını ifade eder.\n",
    "             \"min_samples_split\": [2,5,10,20]}"
   ]
  },
  {
   "cell_type": "code",
   "execution_count": 191,
   "metadata": {},
   "outputs": [
    {
     "name": "stdout",
     "output_type": "stream",
     "text": [
      "Fitting 10 folds for each of 64 candidates, totalling 640 fits\n"
     ]
    },
    {
     "name": "stderr",
     "output_type": "stream",
     "text": [
      "[Parallel(n_jobs=-1)]: Using backend LokyBackend with 4 concurrent workers.\n",
      "[Parallel(n_jobs=-1)]: Done  33 tasks      | elapsed:   37.8s\n",
      "[Parallel(n_jobs=-1)]: Done 154 tasks      | elapsed:  2.0min\n",
      "[Parallel(n_jobs=-1)]: Done 357 tasks      | elapsed:  4.7min\n",
      "[Parallel(n_jobs=-1)]: Done 640 out of 640 | elapsed:  8.7min finished\n"
     ]
    }
   ],
   "source": [
    "rf_cv_model = GridSearchCV(rf, rf_params, cv=10, n_jobs=-1, verbose=2).fit(X_train, y_train)"
   ]
  },
  {
   "cell_type": "code",
   "execution_count": 192,
   "metadata": {},
   "outputs": [
    {
     "data": {
      "text/plain": [
       "{'max_features': 3, 'min_samples_split': 2, 'n_estimators': 200}"
      ]
     },
     "execution_count": 192,
     "metadata": {},
     "output_type": "execute_result"
    }
   ],
   "source": [
    "rf_cv_model.best_params_"
   ]
  },
  {
   "cell_type": "markdown",
   "metadata": {},
   "source": [
    "### final model"
   ]
  },
  {
   "cell_type": "code",
   "execution_count": 193,
   "metadata": {},
   "outputs": [],
   "source": [
    "rf_tuned = RandomForestClassifier(max_features=8, min_samples_split=5, n_estimators=500).fit(X_train, y_train)"
   ]
  },
  {
   "cell_type": "code",
   "execution_count": 194,
   "metadata": {},
   "outputs": [],
   "source": [
    "y_pred = rf_tuned.predict(X_test)"
   ]
  },
  {
   "cell_type": "code",
   "execution_count": 195,
   "metadata": {},
   "outputs": [
    {
     "data": {
      "text/plain": [
       "0.7402597402597403"
      ]
     },
     "execution_count": 195,
     "metadata": {},
     "output_type": "execute_result"
    }
   ],
   "source": [
    "accuracy_score(y_test, y_pred)"
   ]
  },
  {
   "cell_type": "code",
   "execution_count": 197,
   "metadata": {},
   "outputs": [],
   "source": [
    "#değişken önem düzeyleri"
   ]
  },
  {
   "cell_type": "code",
   "execution_count": 196,
   "metadata": {},
   "outputs": [
    {
     "data": {
      "text/plain": [
       "RandomForestClassifier(max_features=8, min_samples_split=5, n_estimators=500)"
      ]
     },
     "execution_count": 196,
     "metadata": {},
     "output_type": "execute_result"
    }
   ],
   "source": [
    "rf_tuned"
   ]
  },
  {
   "cell_type": "code",
   "execution_count": 198,
   "metadata": {},
   "outputs": [
    {
     "data": {
      "text/plain": [
       "array([0.04827948, 0.37414548, 0.07548512, 0.04555532, 0.05315274,\n",
       "       0.1609638 , 0.10821509, 0.13420296])"
      ]
     },
     "execution_count": 198,
     "metadata": {},
     "output_type": "execute_result"
    }
   ],
   "source": [
    "rf_tuned.feature_importances_"
   ]
  },
  {
   "cell_type": "code",
   "execution_count": 200,
   "metadata": {},
   "outputs": [
    {
     "data": {
      "image/png": "[encoded data removed]",
      "text/plain": [
       "<Figure size 432x288 with 1 Axes>"
      ]
     },
     "metadata": {
      "needs_background": "light"
     },
     "output_type": "display_data"
    }
   ],
   "source": [
    "feature_imp = pd.Series(rf_tuned.feature_importances_,\n",
    "                        index=X_train.columns).sort_values(ascending=False)\n",
    "\n",
    "sns.barplot(x=feature_imp, y=feature_imp.index)\n",
    "plt.xlabel('Değişken Önem Skorları')\n",
    "plt.ylabel('Değişkenler')\n",
    "plt.title(\"Değişken Önem Düzeyleri\")\n",
    "plt.show()"
   ]
  },
  {
   "cell_type": "markdown",
   "metadata": {},
   "source": [
    "## Gradient Boosting Machines"
   ]
  },
  {
   "cell_type": "markdown",
   "metadata": {},
   "source": [
    "### Model & Tahmin"
   ]
  },
  {
   "cell_type": "code",
   "execution_count": 201,
   "metadata": {},
   "outputs": [],
   "source": [
    "gbm_model = GradientBoostingClassifier().fit(X_train, y_train)"
   ]
  },
  {
   "cell_type": "code",
   "execution_count": 202,
   "metadata": {},
   "outputs": [
    {
     "data": {
      "text/plain": [
       "GradientBoostingClassifier()"
      ]
     },
     "execution_count": 202,
     "metadata": {},
     "output_type": "execute_result"
    }
   ],
   "source": [
    "gbm_model"
   ]
  },
  {
   "cell_type": "code",
   "execution_count": 203,
   "metadata": {},
   "outputs": [],
   "source": [
    "#loss gerçek değerler ile tahmin edilen değerler arasındaki farkı nasıl optimize edicez gibi çözmek için kullanılan değer \n",
    "#learning_rate öğrenme oranı, her bir ağacın etkilerini ifade ediyor.\n",
    "#criterion bölünmelere karar vermek adına kullanılır.\n",
    "#min_samples_split bölünme için gerekli olan min örnek sayısını ifade eder."
   ]
  },
  {
   "cell_type": "code",
   "execution_count": 204,
   "metadata": {},
   "outputs": [],
   "source": [
    "y_pred = gbm_model.predict(X_test)"
   ]
  },
  {
   "cell_type": "code",
   "execution_count": 206,
   "metadata": {},
   "outputs": [
    {
     "data": {
      "text/plain": [
       "0.7489177489177489"
      ]
     },
     "execution_count": 206,
     "metadata": {},
     "output_type": "execute_result"
    }
   ],
   "source": [
    "accuracy_score(y_test, y_pred)"
   ]
  },
  {
   "cell_type": "code",
   "execution_count": 207,
   "metadata": {},
   "outputs": [],
   "source": [
    "#Model Tuning"
   ]
  },
  {
   "cell_type": "code",
   "execution_count": 208,
   "metadata": {},
   "outputs": [],
   "source": [
    "gbm = GradientBoostingClassifier()"
   ]
  },
  {
   "cell_type": "code",
   "execution_count": 209,
   "metadata": {},
   "outputs": [],
   "source": [
    "gbm_params = {\"learning_rate\": [0.1,0.01,0.001,0.05],\n",
    "              \"n_estimators\": [100,200,500,1000],\n",
    "              \"max_depth\": [2,3,5,8]}"
   ]
  },
  {
   "cell_type": "code",
   "execution_count": 213,
   "metadata": {},
   "outputs": [
    {
     "name": "stdout",
     "output_type": "stream",
     "text": [
      "Fitting 10 folds for each of 64 candidates, totalling 640 fits\n"
     ]
    },
    {
     "name": "stderr",
     "output_type": "stream",
     "text": [
      "[Parallel(n_jobs=-1)]: Using backend LokyBackend with 4 concurrent workers.\n",
      "[Parallel(n_jobs=-1)]: Done  33 tasks      | elapsed:   11.9s\n",
      "[Parallel(n_jobs=-1)]: Done 154 tasks      | elapsed:  1.8min\n",
      "[Parallel(n_jobs=-1)]: Done 357 tasks      | elapsed:  4.5min\n",
      "[Parallel(n_jobs=-1)]: Done 640 out of 640 | elapsed:  8.6min finished\n"
     ]
    }
   ],
   "source": [
    "gbm_cv_model = GridSearchCV(gbm, gbm_params, cv=10, n_jobs=-1, verbose=2).fit(X_train, y_train)"
   ]
  },
  {
   "cell_type": "code",
   "execution_count": 214,
   "metadata": {},
   "outputs": [
    {
     "data": {
      "text/plain": [
       "{'learning_rate': 0.01, 'max_depth': 5, 'n_estimators': 500}"
      ]
     },
     "execution_count": 214,
     "metadata": {},
     "output_type": "execute_result"
    }
   ],
   "source": [
    "gbm_cv_model.best_params_"
   ]
  },
  {
   "cell_type": "markdown",
   "metadata": {},
   "source": [
    "### final model"
   ]
  },
  {
   "cell_type": "code",
   "execution_count": 216,
   "metadata": {},
   "outputs": [],
   "source": [
    "gbm_tuned = GradientBoostingClassifier(learning_rate=0.01, max_depth=5, n_estimators=500).fit(X_train, y_train)"
   ]
  },
  {
   "cell_type": "code",
   "execution_count": 217,
   "metadata": {},
   "outputs": [
    {
     "data": {
      "text/plain": [
       "0.7359307359307359"
      ]
     },
     "execution_count": 217,
     "metadata": {},
     "output_type": "execute_result"
    }
   ],
   "source": [
    "y_pred = gbm_tuned.predict(X_test)\n",
    "accuracy_score(y_test, y_pred)"
   ]
  },
  {
   "cell_type": "code",
   "execution_count": 219,
   "metadata": {},
   "outputs": [
    {
     "data": {
      "image/png": "[encoded data removed]",
      "text/plain": [
       "<Figure size 432x288 with 1 Axes>"
      ]
     },
     "metadata": {
      "needs_background": "light"
     },
     "output_type": "display_data"
    }
   ],
   "source": [
    "feature_imp = pd.Series(gbm_tuned.feature_importances_,\n",
    "                        index=X_train.columns).sort_values(ascending=False)\n",
    "\n",
    "sns.barplot(x=feature_imp, y=feature_imp.index)\n",
    "plt.xlabel('Değişken Önem Skorları')\n",
    "plt.ylabel('Değişkenler')\n",
    "plt.title(\"Değişken Önem Düzeyleri\")\n",
    "plt.show()"
   ]
  },
  {
   "cell_type": "markdown",
   "metadata": {},
   "source": [
    "## XGBoost"
   ]
  },
  {
   "cell_type": "markdown",
   "metadata": {},
   "source": [
    "### Model & Tahmin"
   ]
  },
  {
   "cell_type": "code",
   "execution_count": 224,
   "metadata": {
    "collapsed": true,
    "jupyter": {
     "outputs_hidden": true
    }
   },
   "outputs": [
    {
     "name": "stdout",
     "output_type": "stream",
     "text": [
      "Collecting xgboost\n",
      "  Using cached xgboost-1.3.3.tar.gz (781 kB)\n",
      "Requirement already satisfied: numpy in c:\\users\\zeynep\\anaconda33\\lib\\site-packages (from xgboost) (1.19.2)\n",
      "Requirement already satisfied: scipy in c:\\users\\zeynep\\anaconda33\\lib\\site-packages (from xgboost) (1.5.2)\n",
      "Building wheels for collected packages: xgboost\n",
      "  Building wheel for xgboost (setup.py): started\n",
      "  Building wheel for xgboost (setup.py): finished with status 'error'\n",
      "  Running setup.py clean for xgboost\n",
      "Failed to build xgboost\n",
      "Installing collected packages: xgboost\n",
      "    Running setup.py install for xgboost: started\n",
      "    Running setup.py install for xgboost: finished with status 'error'\n"
     ]
    },
    {
     "name": "stderr",
     "output_type": "stream",
     "text": [
      "  ERROR: Command errored out with exit status 1:\n",
      "   command: 'C:\\Users\\Zeynep\\anaconda33\\python.exe' -u -c 'import sys, setuptools, tokenize; sys.argv[0] = '\"'\"'C:\\\\Users\\\\Zeynep\\\\AppData\\\\Local\\\\Temp\\\\pip-install-zt36fa0l\\\\xgboost\\\\setup.py'\"'\"'; __file__='\"'\"'C:\\\\Users\\\\Zeynep\\\\AppData\\\\Local\\\\Temp\\\\pip-install-zt36fa0l\\\\xgboost\\\\setup.py'\"'\"';f=getattr(tokenize, '\"'\"'open'\"'\"', open)(__file__);code=f.read().replace('\"'\"'\\r\\n'\"'\"', '\"'\"'\\n'\"'\"');f.close();exec(compile(code, __file__, '\"'\"'exec'\"'\"'))' bdist_wheel -d 'C:\\Users\\Zeynep\\AppData\\Local\\Temp\\pip-wheel-vs3vguy1'\n",
      "       cwd: C:\\Users\\Zeynep\\AppData\\Local\\Temp\\pip-install-zt36fa0l\\xgboost\\\n",
      "  Complete output (973 lines):\n",
      "  running bdist_wheel\n",
      "  running build\n",
      "  running build_py\n",
      "  creating build\n",
      "  creating build\\lib.win32-3.8\n",
      "  creating build\\lib.win32-3.8\\xgboost\n",
      "  copying xgboost\\callback.py -> build\\lib.win32-3.8\\xgboost\n",
      "  copying xgboost\\compat.py -> build\\lib.win32-3.8\\xgboost\n",
      "  copying xgboost\\core.py -> build\\lib.win32-3.8\\xgboost\n",
      "  copying xgboost\\dask.py -> build\\lib.win32-3.8\\xgboost\n",
      "  copying xgboost\\data.py -> build\\lib.win32-3.8\\xgboost\n",
      "  copying xgboost\\libpath.py -> build\\lib.win32-3.8\\xgboost\n",
      "  copying xgboost\\plotting.py -> build\\lib.win32-3.8\\xgboost\n",
      "  copying xgboost\\rabit.py -> build\\lib.win32-3.8\\xgboost\n",
      "  copying xgboost\\sklearn.py -> build\\lib.win32-3.8\\xgboost\n",
      "  copying xgboost\\tracker.py -> build\\lib.win32-3.8\\xgboost\n",
      "  copying xgboost\\training.py -> build\\lib.win32-3.8\\xgboost\n",
      "  copying xgboost\\__init__.py -> build\\lib.win32-3.8\\xgboost\n",
      "  running egg_info\n",
      "  writing xgboost.egg-info\\PKG-INFO\n",
      "  writing dependency_links to xgboost.egg-info\\dependency_links.txt\n",
      "  writing requirements to xgboost.egg-info\\requires.txt\n",
      "  writing top-level names to xgboost.egg-info\\top_level.txt\n",
      "  reading manifest file 'xgboost.egg-info\\SOURCES.txt'\n",
      "  reading manifest template 'MANIFEST.in'\n",
      "  warning: no previously-included files matching '*.py[oc]' found anywhere in distribution\n",
      "  writing manifest file 'xgboost.egg-info\\SOURCES.txt'\n",
      "  copying xgboost\\CMakeLists.txt -> build\\lib.win32-3.8\\xgboost\n",
      "  copying xgboost\\LICENSE -> build\\lib.win32-3.8\\xgboost\n",
      "  copying xgboost\\VERSION -> build\\lib.win32-3.8\\xgboost\n",
      "  creating build\\lib.win32-3.8\\xgboost\\cmake\n",
      "  copying xgboost\\cmake\\Doc.cmake -> build\\lib.win32-3.8\\xgboost\\cmake\n",
      "  copying xgboost\\cmake\\FindPrefetchIntrinsics.cmake -> build\\lib.win32-3.8\\xgboost\\cmake\n",
      "  copying xgboost\\cmake\\Python_version.in -> build\\lib.win32-3.8\\xgboost\\cmake\n",
      "  copying xgboost\\cmake\\RPackageInstall.cmake.in -> build\\lib.win32-3.8\\xgboost\\cmake\n",
      "  copying xgboost\\cmake\\RPackageInstallTargetSetup.cmake -> build\\lib.win32-3.8\\xgboost\\cmake\n",
      "  copying xgboost\\cmake\\Sanitizer.cmake -> build\\lib.win32-3.8\\xgboost\\cmake\n",
      "  copying xgboost\\cmake\\Utils.cmake -> build\\lib.win32-3.8\\xgboost\\cmake\n",
      "  copying xgboost\\cmake\\Version.cmake -> build\\lib.win32-3.8\\xgboost\\cmake\n",
      "  copying xgboost\\cmake\\version_config.h.in -> build\\lib.win32-3.8\\xgboost\\cmake\n",
      "  copying xgboost\\cmake\\xgboost-config.cmake.in -> build\\lib.win32-3.8\\xgboost\\cmake\n",
      "  copying xgboost\\cmake\\xgboost.pc.in -> build\\lib.win32-3.8\\xgboost\\cmake\n",
      "  creating build\\lib.win32-3.8\\xgboost\\cmake\\modules\n",
      "  copying xgboost\\cmake\\modules\\FindASan.cmake -> build\\lib.win32-3.8\\xgboost\\cmake\\modules\n",
      "  copying xgboost\\cmake\\modules\\FindLSan.cmake -> build\\lib.win32-3.8\\xgboost\\cmake\\modules\n",
      "  copying xgboost\\cmake\\modules\\FindLibR.cmake -> build\\lib.win32-3.8\\xgboost\\cmake\\modules\n",
      "  copying xgboost\\cmake\\modules\\FindNVML.cmake -> build\\lib.win32-3.8\\xgboost\\cmake\\modules\n",
      "  copying xgboost\\cmake\\modules\\FindNVTX.cmake -> build\\lib.win32-3.8\\xgboost\\cmake\\modules\n",
      "  copying xgboost\\cmake\\modules\\FindNccl.cmake -> build\\lib.win32-3.8\\xgboost\\cmake\\modules\n",
      "  copying xgboost\\cmake\\modules\\FindTSan.cmake -> build\\lib.win32-3.8\\xgboost\\cmake\\modules\n",
      "  copying xgboost\\cmake\\modules\\FindUBSan.cmake -> build\\lib.win32-3.8\\xgboost\\cmake\\modules\n",
      "  creating build\\lib.win32-3.8\\xgboost\\dmlc-core\n",
      "  copying xgboost\\dmlc-core\\.editorconfig -> build\\lib.win32-3.8\\xgboost\\dmlc-core\n",
      "  copying xgboost\\dmlc-core\\.git -> build\\lib.win32-3.8\\xgboost\\dmlc-core\n",
      "  copying xgboost\\dmlc-core\\.gitignore -> build\\lib.win32-3.8\\xgboost\\dmlc-core\n",
      "  copying xgboost\\dmlc-core\\CMakeLists.txt -> build\\lib.win32-3.8\\xgboost\\dmlc-core\n",
      "  copying xgboost\\dmlc-core\\LICENSE -> build\\lib.win32-3.8\\xgboost\\dmlc-core\n",
      "  copying xgboost\\dmlc-core\\Makefile -> build\\lib.win32-3.8\\xgboost\\dmlc-core\n",
      "  copying xgboost\\dmlc-core\\README.md -> build\\lib.win32-3.8\\xgboost\\dmlc-core\n",
      "  copying xgboost\\dmlc-core\\appveyor.yml -> build\\lib.win32-3.8\\xgboost\\dmlc-core\n",
      "  creating build\\lib.win32-3.8\\xgboost\\dmlc-core\\.github\n",
      "  creating build\\lib.win32-3.8\\xgboost\\dmlc-core\\.github\\workflows\n",
      "  copying xgboost\\dmlc-core\\.github\\workflows\\githubci.yml -> build\\lib.win32-3.8\\xgboost\\dmlc-core\\.github\\workflows\n",
      "  creating build\\lib.win32-3.8\\xgboost\\dmlc-core\\cmake\n",
      "  copying xgboost\\dmlc-core\\cmake\\Sanitizer.cmake -> build\\lib.win32-3.8\\xgboost\\dmlc-core\\cmake\n",
      "  copying xgboost\\dmlc-core\\cmake\\Utils.cmake -> build\\lib.win32-3.8\\xgboost\\dmlc-core\\cmake\n",
      "  copying xgboost\\dmlc-core\\cmake\\build_config.h.in -> build\\lib.win32-3.8\\xgboost\\dmlc-core\\cmake\n",
      "  copying xgboost\\dmlc-core\\cmake\\dmlc-config.cmake.in -> build\\lib.win32-3.8\\xgboost\\dmlc-core\\cmake\n",
      "  copying xgboost\\dmlc-core\\cmake\\gtest_cmake.in -> build\\lib.win32-3.8\\xgboost\\dmlc-core\\cmake\n",
      "  copying xgboost\\dmlc-core\\cmake\\lint.cmake -> build\\lib.win32-3.8\\xgboost\\dmlc-core\\cmake\n",
      "  creating build\\lib.win32-3.8\\xgboost\\dmlc-core\\cmake\\Modules\n",
      "  copying xgboost\\dmlc-core\\cmake\\Modules\\FindASan.cmake -> build\\lib.win32-3.8\\xgboost\\dmlc-core\\cmake\\Modules\n",
      "  copying xgboost\\dmlc-core\\cmake\\Modules\\FindHDFS.cmake -> build\\lib.win32-3.8\\xgboost\\dmlc-core\\cmake\\Modules\n",
      "  copying xgboost\\dmlc-core\\cmake\\Modules\\FindLSan.cmake -> build\\lib.win32-3.8\\xgboost\\dmlc-core\\cmake\\Modules\n",
      "  copying xgboost\\dmlc-core\\cmake\\Modules\\FindTSan.cmake -> build\\lib.win32-3.8\\xgboost\\dmlc-core\\cmake\\Modules\n",
      "  copying xgboost\\dmlc-core\\cmake\\Modules\\FindUBSan.cmake -> build\\lib.win32-3.8\\xgboost\\dmlc-core\\cmake\\Modules\n",
      "  creating build\\lib.win32-3.8\\xgboost\\dmlc-core\\doc\n",
      "  copying xgboost\\dmlc-core\\doc\\.gitignore -> build\\lib.win32-3.8\\xgboost\\dmlc-core\\doc\n",
      "  copying xgboost\\dmlc-core\\doc\\Doxyfile -> build\\lib.win32-3.8\\xgboost\\dmlc-core\\doc\n",
      "  copying xgboost\\dmlc-core\\doc\\Makefile -> build\\lib.win32-3.8\\xgboost\\dmlc-core\\doc\n",
      "  copying xgboost\\dmlc-core\\doc\\README -> build\\lib.win32-3.8\\xgboost\\dmlc-core\\doc\n",
      "  copying xgboost\\dmlc-core\\doc\\build.md -> build\\lib.win32-3.8\\xgboost\\dmlc-core\\doc\n",
      "  copying xgboost\\dmlc-core\\doc\\conf.py -> build\\lib.win32-3.8\\xgboost\\dmlc-core\\doc\n",
      "  copying xgboost\\dmlc-core\\doc\\index.md -> build\\lib.win32-3.8\\xgboost\\dmlc-core\\doc\n",
      "  copying xgboost\\dmlc-core\\doc\\parameter.md -> build\\lib.win32-3.8\\xgboost\\dmlc-core\\doc\n",
      "  copying xgboost\\dmlc-core\\doc\\sphinx_util.py -> build\\lib.win32-3.8\\xgboost\\dmlc-core\\doc\n",
      "  creating build\\lib.win32-3.8\\xgboost\\dmlc-core\\example\n",
      "  copying xgboost\\dmlc-core\\example\\dmlc_example.mk -> build\\lib.win32-3.8\\xgboost\\dmlc-core\\example\n",
      "  copying xgboost\\dmlc-core\\example\\parameter.cc -> build\\lib.win32-3.8\\xgboost\\dmlc-core\\example\n",
      "  creating build\\lib.win32-3.8\\xgboost\\dmlc-core\\include\n",
      "  creating build\\lib.win32-3.8\\xgboost\\dmlc-core\\include\\dmlc\n",
      "  copying xgboost\\dmlc-core\\include\\dmlc\\any.h -> build\\lib.win32-3.8\\xgboost\\dmlc-core\\include\\dmlc\n",
      "  copying xgboost\\dmlc-core\\include\\dmlc\\array_view.h -> build\\lib.win32-3.8\\xgboost\\dmlc-core\\include\\dmlc\n",
      "  copying xgboost\\dmlc-core\\include\\dmlc\\base.h -> build\\lib.win32-3.8\\xgboost\\dmlc-core\\include\\dmlc\n",
      "  copying xgboost\\dmlc-core\\include\\dmlc\\blockingconcurrentqueue.h -> build\\lib.win32-3.8\\xgboost\\dmlc-core\\include\\dmlc\n",
      "  copying xgboost\\dmlc-core\\include\\dmlc\\build_config_default.h -> build\\lib.win32-3.8\\xgboost\\dmlc-core\\include\\dmlc\n",
      "  copying xgboost\\dmlc-core\\include\\dmlc\\common.h -> build\\lib.win32-3.8\\xgboost\\dmlc-core\\include\\dmlc\n",
      "  copying xgboost\\dmlc-core\\include\\dmlc\\concurrency.h -> build\\lib.win32-3.8\\xgboost\\dmlc-core\\include\\dmlc\n",
      "  copying xgboost\\dmlc-core\\include\\dmlc\\concurrentqueue.h -> build\\lib.win32-3.8\\xgboost\\dmlc-core\\include\\dmlc\n",
      "  copying xgboost\\dmlc-core\\include\\dmlc\\config.h -> build\\lib.win32-3.8\\xgboost\\dmlc-core\\include\\dmlc\n",
      "  copying xgboost\\dmlc-core\\include\\dmlc\\data.h -> build\\lib.win32-3.8\\xgboost\\dmlc-core\\include\\dmlc\n",
      "  copying xgboost\\dmlc-core\\include\\dmlc\\endian.h -> build\\lib.win32-3.8\\xgboost\\dmlc-core\\include\\dmlc\n",
      "  copying xgboost\\dmlc-core\\include\\dmlc\\filesystem.h -> build\\lib.win32-3.8\\xgboost\\dmlc-core\\include\\dmlc\n",
      "  copying xgboost\\dmlc-core\\include\\dmlc\\input_split_shuffle.h -> build\\lib.win32-3.8\\xgboost\\dmlc-core\\include\\dmlc\n",
      "  copying xgboost\\dmlc-core\\include\\dmlc\\io.h -> build\\lib.win32-3.8\\xgboost\\dmlc-core\\include\\dmlc\n",
      "  copying xgboost\\dmlc-core\\include\\dmlc\\json.h -> build\\lib.win32-3.8\\xgboost\\dmlc-core\\include\\dmlc\n",
      "  copying xgboost\\dmlc-core\\include\\dmlc\\logging.h -> build\\lib.win32-3.8\\xgboost\\dmlc-core\\include\\dmlc\n",
      "  copying xgboost\\dmlc-core\\include\\dmlc\\lua.h -> build\\lib.win32-3.8\\xgboost\\dmlc-core\\include\\dmlc\n",
      "  copying xgboost\\dmlc-core\\include\\dmlc\\memory.h -> build\\lib.win32-3.8\\xgboost\\dmlc-core\\include\\dmlc\n",
      "  copying xgboost\\dmlc-core\\include\\dmlc\\memory_io.h -> build\\lib.win32-3.8\\xgboost\\dmlc-core\\include\\dmlc\n",
      "  copying xgboost\\dmlc-core\\include\\dmlc\\omp.h -> build\\lib.win32-3.8\\xgboost\\dmlc-core\\include\\dmlc\n",
      "  copying xgboost\\dmlc-core\\include\\dmlc\\optional.h -> build\\lib.win32-3.8\\xgboost\\dmlc-core\\include\\dmlc\n",
      "  copying xgboost\\dmlc-core\\include\\dmlc\\parameter.h -> build\\lib.win32-3.8\\xgboost\\dmlc-core\\include\\dmlc\n",
      "  copying xgboost\\dmlc-core\\include\\dmlc\\recordio.h -> build\\lib.win32-3.8\\xgboost\\dmlc-core\\include\\dmlc\n",
      "  copying xgboost\\dmlc-core\\include\\dmlc\\registry.h -> build\\lib.win32-3.8\\xgboost\\dmlc-core\\include\\dmlc\n",
      "  copying xgboost\\dmlc-core\\include\\dmlc\\serializer.h -> build\\lib.win32-3.8\\xgboost\\dmlc-core\\include\\dmlc\n",
      "  copying xgboost\\dmlc-core\\include\\dmlc\\strtonum.h -> build\\lib.win32-3.8\\xgboost\\dmlc-core\\include\\dmlc\n",
      "  copying xgboost\\dmlc-core\\include\\dmlc\\thread_group.h -> build\\lib.win32-3.8\\xgboost\\dmlc-core\\include\\dmlc\n",
      "  copying xgboost\\dmlc-core\\include\\dmlc\\thread_local.h -> build\\lib.win32-3.8\\xgboost\\dmlc-core\\include\\dmlc\n",
      "  copying xgboost\\dmlc-core\\include\\dmlc\\threadediter.h -> build\\lib.win32-3.8\\xgboost\\dmlc-core\\include\\dmlc\n",
      "  copying xgboost\\dmlc-core\\include\\dmlc\\timer.h -> build\\lib.win32-3.8\\xgboost\\dmlc-core\\include\\dmlc\n",
      "  copying xgboost\\dmlc-core\\include\\dmlc\\type_traits.h -> build\\lib.win32-3.8\\xgboost\\dmlc-core\\include\\dmlc\n",
      "  creating build\\lib.win32-3.8\\xgboost\\dmlc-core\\make\n",
      "  copying xgboost\\dmlc-core\\make\\config.mk -> build\\lib.win32-3.8\\xgboost\\dmlc-core\\make\n",
      "  copying xgboost\\dmlc-core\\make\\dmlc.mk -> build\\lib.win32-3.8\\xgboost\\dmlc-core\\make\n",
      "  creating build\\lib.win32-3.8\\xgboost\\dmlc-core\\scripts\n",
      "  copying xgboost\\dmlc-core\\scripts\\lint.py -> build\\lib.win32-3.8\\xgboost\\dmlc-core\\scripts\n",
      "  copying xgboost\\dmlc-core\\scripts\\packages.mk -> build\\lib.win32-3.8\\xgboost\\dmlc-core\\scripts\n",
      "  copying xgboost\\dmlc-core\\scripts\\test_script.sh -> build\\lib.win32-3.8\\xgboost\\dmlc-core\\scripts\n",
      "  creating build\\lib.win32-3.8\\xgboost\\dmlc-core\\scripts\\s390x\n",
      "  copying xgboost\\dmlc-core\\scripts\\s390x\\Dockerfile -> build\\lib.win32-3.8\\xgboost\\dmlc-core\\scripts\\s390x\n",
      "  copying xgboost\\dmlc-core\\scripts\\s390x\\build_via_cmake.sh -> build\\lib.win32-3.8\\xgboost\\dmlc-core\\scripts\\s390x\n",
      "  copying xgboost\\dmlc-core\\scripts\\s390x\\ci_build.sh -> build\\lib.win32-3.8\\xgboost\\dmlc-core\\scripts\\s390x\n",
      "  copying xgboost\\dmlc-core\\scripts\\s390x\\entrypoint.sh -> build\\lib.win32-3.8\\xgboost\\dmlc-core\\scripts\\s390x\n",
      "  creating build\\lib.win32-3.8\\xgboost\\dmlc-core\\src\n",
      "  copying xgboost\\dmlc-core\\src\\config.cc -> build\\lib.win32-3.8\\xgboost\\dmlc-core\\src\n",
      "  copying xgboost\\dmlc-core\\src\\data.cc -> build\\lib.win32-3.8\\xgboost\\dmlc-core\\src\n",
      "  copying xgboost\\dmlc-core\\src\\io.cc -> build\\lib.win32-3.8\\xgboost\\dmlc-core\\src\n",
      "  copying xgboost\\dmlc-core\\src\\recordio.cc -> build\\lib.win32-3.8\\xgboost\\dmlc-core\\src\n",
      "  creating build\\lib.win32-3.8\\xgboost\\dmlc-core\\src\\data\n",
      "  copying xgboost\\dmlc-core\\src\\data\\basic_row_iter.h -> build\\lib.win32-3.8\\xgboost\\dmlc-core\\src\\data\n",
      "  copying xgboost\\dmlc-core\\src\\data\\csv_parser.h -> build\\lib.win32-3.8\\xgboost\\dmlc-core\\src\\data\n",
      "  copying xgboost\\dmlc-core\\src\\data\\disk_row_iter.h -> build\\lib.win32-3.8\\xgboost\\dmlc-core\\src\\data\n",
      "  copying xgboost\\dmlc-core\\src\\data\\libfm_parser.h -> build\\lib.win32-3.8\\xgboost\\dmlc-core\\src\\data\n",
      "  copying xgboost\\dmlc-core\\src\\data\\libsvm_parser.h -> build\\lib.win32-3.8\\xgboost\\dmlc-core\\src\\data\n",
      "  copying xgboost\\dmlc-core\\src\\data\\parser.h -> build\\lib.win32-3.8\\xgboost\\dmlc-core\\src\\data\n",
      "  copying xgboost\\dmlc-core\\src\\data\\row_block.h -> build\\lib.win32-3.8\\xgboost\\dmlc-core\\src\\data\n",
      "  copying xgboost\\dmlc-core\\src\\data\\text_parser.h -> build\\lib.win32-3.8\\xgboost\\dmlc-core\\src\\data\n",
      "  creating build\\lib.win32-3.8\\xgboost\\dmlc-core\\src\\io\n",
      "  copying xgboost\\dmlc-core\\src\\io\\azure_filesys.cc -> build\\lib.win32-3.8\\xgboost\\dmlc-core\\src\\io\n",
      "  copying xgboost\\dmlc-core\\src\\io\\azure_filesys.h -> build\\lib.win32-3.8\\xgboost\\dmlc-core\\src\\io\n",
      "  copying xgboost\\dmlc-core\\src\\io\\cached_input_split.h -> build\\lib.win32-3.8\\xgboost\\dmlc-core\\src\\io\n",
      "  copying xgboost\\dmlc-core\\src\\io\\filesys.cc -> build\\lib.win32-3.8\\xgboost\\dmlc-core\\src\\io\n",
      "  copying xgboost\\dmlc-core\\src\\io\\hdfs_filesys.cc -> build\\lib.win32-3.8\\xgboost\\dmlc-core\\src\\io\n",
      "  copying xgboost\\dmlc-core\\src\\io\\hdfs_filesys.h -> build\\lib.win32-3.8\\xgboost\\dmlc-core\\src\\io\n",
      "  copying xgboost\\dmlc-core\\src\\io\\indexed_recordio_split.cc -> build\\lib.win32-3.8\\xgboost\\dmlc-core\\src\\io\n",
      "  copying xgboost\\dmlc-core\\src\\io\\indexed_recordio_split.h -> build\\lib.win32-3.8\\xgboost\\dmlc-core\\src\\io\n",
      "  copying xgboost\\dmlc-core\\src\\io\\input_split_base.cc -> build\\lib.win32-3.8\\xgboost\\dmlc-core\\src\\io\n",
      "  copying xgboost\\dmlc-core\\src\\io\\input_split_base.h -> build\\lib.win32-3.8\\xgboost\\dmlc-core\\src\\io\n",
      "  copying xgboost\\dmlc-core\\src\\io\\line_split.cc -> build\\lib.win32-3.8\\xgboost\\dmlc-core\\src\\io\n",
      "  copying xgboost\\dmlc-core\\src\\io\\line_split.h -> build\\lib.win32-3.8\\xgboost\\dmlc-core\\src\\io\n",
      "  copying xgboost\\dmlc-core\\src\\io\\local_filesys.cc -> build\\lib.win32-3.8\\xgboost\\dmlc-core\\src\\io\n",
      "  copying xgboost\\dmlc-core\\src\\io\\local_filesys.h -> build\\lib.win32-3.8\\xgboost\\dmlc-core\\src\\io\n",
      "  copying xgboost\\dmlc-core\\src\\io\\recordio_split.cc -> build\\lib.win32-3.8\\xgboost\\dmlc-core\\src\\io\n",
      "  copying xgboost\\dmlc-core\\src\\io\\recordio_split.h -> build\\lib.win32-3.8\\xgboost\\dmlc-core\\src\\io\n",
      "  copying xgboost\\dmlc-core\\src\\io\\s3_filesys.cc -> build\\lib.win32-3.8\\xgboost\\dmlc-core\\src\\io\n",
      "  copying xgboost\\dmlc-core\\src\\io\\s3_filesys.h -> build\\lib.win32-3.8\\xgboost\\dmlc-core\\src\\io\n",
      "  copying xgboost\\dmlc-core\\src\\io\\single_file_split.h -> build\\lib.win32-3.8\\xgboost\\dmlc-core\\src\\io\n",
      "  copying xgboost\\dmlc-core\\src\\io\\single_threaded_input_split.h -> build\\lib.win32-3.8\\xgboost\\dmlc-core\\src\\io\n",
      "  copying xgboost\\dmlc-core\\src\\io\\threaded_input_split.h -> build\\lib.win32-3.8\\xgboost\\dmlc-core\\src\\io\n",
      "  copying xgboost\\dmlc-core\\src\\io\\uri_spec.h -> build\\lib.win32-3.8\\xgboost\\dmlc-core\\src\\io\n",
      "  creating build\\lib.win32-3.8\\xgboost\\dmlc-core\\test\n",
      "  copying xgboost\\dmlc-core\\test\\.gitignore -> build\\lib.win32-3.8\\xgboost\\dmlc-core\\test\n",
      "  copying xgboost\\dmlc-core\\test\\README.md -> build\\lib.win32-3.8\\xgboost\\dmlc-core\\test\n",
      "  copying xgboost\\dmlc-core\\test\\csv_parser_test.cc -> build\\lib.win32-3.8\\xgboost\\dmlc-core\\test\n",
      "  copying xgboost\\dmlc-core\\test\\dataiter_test.cc -> build\\lib.win32-3.8\\xgboost\\dmlc-core\\test\n",
      "  copying xgboost\\dmlc-core\\test\\dmlc_test.mk -> build\\lib.win32-3.8\\xgboost\\dmlc-core\\test\n",
      "  copying xgboost\\dmlc-core\\test\\filesys_test.cc -> build\\lib.win32-3.8\\xgboost\\dmlc-core\\test\n",
      "  copying xgboost\\dmlc-core\\test\\iostream_test.cc -> build\\lib.win32-3.8\\xgboost\\dmlc-core\\test\n",
      "  copying xgboost\\dmlc-core\\test\\libfm_parser_test.cc -> build\\lib.win32-3.8\\xgboost\\dmlc-core\\test\n",
      "  copying xgboost\\dmlc-core\\test\\libsvm_parser_test.cc -> build\\lib.win32-3.8\\xgboost\\dmlc-core\\test\n",
      "  copying xgboost\\dmlc-core\\test\\logging_test.cc -> build\\lib.win32-3.8\\xgboost\\dmlc-core\\test\n",
      "  copying xgboost\\dmlc-core\\test\\parameter_test.cc -> build\\lib.win32-3.8\\xgboost\\dmlc-core\\test\n",
      "  copying xgboost\\dmlc-core\\test\\recordio_test.cc -> build\\lib.win32-3.8\\xgboost\\dmlc-core\\test\n",
      "  copying xgboost\\dmlc-core\\test\\registry_test.cc -> build\\lib.win32-3.8\\xgboost\\dmlc-core\\test\n",
      "  copying xgboost\\dmlc-core\\test\\split_read_test.cc -> build\\lib.win32-3.8\\xgboost\\dmlc-core\\test\n",
      "  copying xgboost\\dmlc-core\\test\\split_repeat_read_test.cc -> build\\lib.win32-3.8\\xgboost\\dmlc-core\\test\n",
      "  copying xgboost\\dmlc-core\\test\\split_test.cc -> build\\lib.win32-3.8\\xgboost\\dmlc-core\\test\n",
      "  copying xgboost\\dmlc-core\\test\\stream_read_test.cc -> build\\lib.win32-3.8\\xgboost\\dmlc-core\\test\n",
      "  copying xgboost\\dmlc-core\\test\\strtonum_test.cc -> build\\lib.win32-3.8\\xgboost\\dmlc-core\\test\n",
      "  creating build\\lib.win32-3.8\\xgboost\\dmlc-core\\test\\unittest\n",
      "  copying xgboost\\dmlc-core\\test\\unittest\\.gitignore -> build\\lib.win32-3.8\\xgboost\\dmlc-core\\test\\unittest\n",
      "  copying xgboost\\dmlc-core\\test\\unittest\\CMakeLists.txt -> build\\lib.win32-3.8\\xgboost\\dmlc-core\\test\\unittest\n",
      "  copying xgboost\\dmlc-core\\test\\unittest\\build_config.h -> build\\lib.win32-3.8\\xgboost\\dmlc-core\\test\\unittest\n",
      "  copying xgboost\\dmlc-core\\test\\unittest\\build_config.h.in -> build\\lib.win32-3.8\\xgboost\\dmlc-core\\test\\unittest\n",
      "  copying xgboost\\dmlc-core\\test\\unittest\\dmlc_unittest.mk -> build\\lib.win32-3.8\\xgboost\\dmlc-core\\test\\unittest\n",
      "  copying xgboost\\dmlc-core\\test\\unittest\\sample.rec -> build\\lib.win32-3.8\\xgboost\\dmlc-core\\test\\unittest\n",
      "  copying xgboost\\dmlc-core\\test\\unittest\\unittest_any.cc -> build\\lib.win32-3.8\\xgboost\\dmlc-core\\test\\unittest\n",
      "  copying xgboost\\dmlc-core\\test\\unittest\\unittest_array_view.cc -> build\\lib.win32-3.8\\xgboost\\dmlc-core\\test\\unittest\n",
      "  copying xgboost\\dmlc-core\\test\\unittest\\unittest_config.cc -> build\\lib.win32-3.8\\xgboost\\dmlc-core\\test\\unittest\n",
      "  copying xgboost\\dmlc-core\\test\\unittest\\unittest_env.cc -> build\\lib.win32-3.8\\xgboost\\dmlc-core\\test\\unittest\n",
      "  copying xgboost\\dmlc-core\\test\\unittest\\unittest_inputsplit.cc -> build\\lib.win32-3.8\\xgboost\\dmlc-core\\test\\unittest\n",
      "  copying xgboost\\dmlc-core\\test\\unittest\\unittest_json.cc -> build\\lib.win32-3.8\\xgboost\\dmlc-core\\test\\unittest\n",
      "  copying xgboost\\dmlc-core\\test\\unittest\\unittest_lockfree.cc -> build\\lib.win32-3.8\\xgboost\\dmlc-core\\test\\unittest\n",
      "  copying xgboost\\dmlc-core\\test\\unittest\\unittest_logging.cc -> build\\lib.win32-3.8\\xgboost\\dmlc-core\\test\\unittest\n",
      "  copying xgboost\\dmlc-core\\test\\unittest\\unittest_main.cc -> build\\lib.win32-3.8\\xgboost\\dmlc-core\\test\\unittest\n",
      "  copying xgboost\\dmlc-core\\test\\unittest\\unittest_optional.cc -> build\\lib.win32-3.8\\xgboost\\dmlc-core\\test\\unittest\n",
      "  copying xgboost\\dmlc-core\\test\\unittest\\unittest_param.cc -> build\\lib.win32-3.8\\xgboost\\dmlc-core\\test\\unittest\n",
      "  copying xgboost\\dmlc-core\\test\\unittest\\unittest_parser.cc -> build\\lib.win32-3.8\\xgboost\\dmlc-core\\test\\unittest\n",
      "  copying xgboost\\dmlc-core\\test\\unittest\\unittest_serializer.cc -> build\\lib.win32-3.8\\xgboost\\dmlc-core\\test\\unittest\n",
      "  copying xgboost\\dmlc-core\\test\\unittest\\unittest_tempdir.cc -> build\\lib.win32-3.8\\xgboost\\dmlc-core\\test\\unittest\n",
      "  copying xgboost\\dmlc-core\\test\\unittest\\unittest_thread_group.cc -> build\\lib.win32-3.8\\xgboost\\dmlc-core\\test\\unittest\n",
      "  copying xgboost\\dmlc-core\\test\\unittest\\unittest_threaditer.cc -> build\\lib.win32-3.8\\xgboost\\dmlc-core\\test\\unittest\n",
      "  copying xgboost\\dmlc-core\\test\\unittest\\unittest_threaditer_exc_handling.cc -> build\\lib.win32-3.8\\xgboost\\dmlc-core\\test\\unittest\n",
      "  creating build\\lib.win32-3.8\\xgboost\\dmlc-core\\tracker\n",
      "  copying xgboost\\dmlc-core\\tracker\\README.md -> build\\lib.win32-3.8\\xgboost\\dmlc-core\\tracker\n",
      "  copying xgboost\\dmlc-core\\tracker\\dmlc-submit -> build\\lib.win32-3.8\\xgboost\\dmlc-core\\tracker\n",
      "  creating build\\lib.win32-3.8\\xgboost\\dmlc-core\\tracker\\dmlc_tracker\n",
      "  copying xgboost\\dmlc-core\\tracker\\dmlc_tracker\\__init__.py -> build\\lib.win32-3.8\\xgboost\\dmlc-core\\tracker\\dmlc_tracker\n",
      "  copying xgboost\\dmlc-core\\tracker\\dmlc_tracker\\kubernetes.py -> build\\lib.win32-3.8\\xgboost\\dmlc-core\\tracker\\dmlc_tracker\n",
      "  copying xgboost\\dmlc-core\\tracker\\dmlc_tracker\\launcher.py -> build\\lib.win32-3.8\\xgboost\\dmlc-core\\tracker\\dmlc_tracker\n",
      "  copying xgboost\\dmlc-core\\tracker\\dmlc_tracker\\local.py -> build\\lib.win32-3.8\\xgboost\\dmlc-core\\tracker\\dmlc_tracker\n",
      "  copying xgboost\\dmlc-core\\tracker\\dmlc_tracker\\mesos.py -> build\\lib.win32-3.8\\xgboost\\dmlc-core\\tracker\\dmlc_tracker\n",
      "  copying xgboost\\dmlc-core\\tracker\\dmlc_tracker\\mpi.py -> build\\lib.win32-3.8\\xgboost\\dmlc-core\\tracker\\dmlc_tracker\n",
      "  copying xgboost\\dmlc-core\\tracker\\dmlc_tracker\\opts.py -> build\\lib.win32-3.8\\xgboost\\dmlc-core\\tracker\\dmlc_tracker\n",
      "  copying xgboost\\dmlc-core\\tracker\\dmlc_tracker\\sge.py -> build\\lib.win32-3.8\\xgboost\\dmlc-core\\tracker\\dmlc_tracker\n",
      "  copying xgboost\\dmlc-core\\tracker\\dmlc_tracker\\slurm.py -> build\\lib.win32-3.8\\xgboost\\dmlc-core\\tracker\\dmlc_tracker\n",
      "  copying xgboost\\dmlc-core\\tracker\\dmlc_tracker\\ssh.py -> build\\lib.win32-3.8\\xgboost\\dmlc-core\\tracker\\dmlc_tracker\n",
      "  copying xgboost\\dmlc-core\\tracker\\dmlc_tracker\\submit.py -> build\\lib.win32-3.8\\xgboost\\dmlc-core\\tracker\\dmlc_tracker\n",
      "  copying xgboost\\dmlc-core\\tracker\\dmlc_tracker\\tracker.py -> build\\lib.win32-3.8\\xgboost\\dmlc-core\\tracker\\dmlc_tracker\n",
      "  copying xgboost\\dmlc-core\\tracker\\dmlc_tracker\\util.py -> build\\lib.win32-3.8\\xgboost\\dmlc-core\\tracker\\dmlc_tracker\n",
      "  copying xgboost\\dmlc-core\\tracker\\dmlc_tracker\\yarn.py -> build\\lib.win32-3.8\\xgboost\\dmlc-core\\tracker\\dmlc_tracker\n",
      "  creating build\\lib.win32-3.8\\xgboost\\dmlc-core\\tracker\\yarn\n",
      "  copying xgboost\\dmlc-core\\tracker\\yarn\\.gitignore -> build\\lib.win32-3.8\\xgboost\\dmlc-core\\tracker\\yarn\n",
      "  copying xgboost\\dmlc-core\\tracker\\yarn\\README.md -> build\\lib.win32-3.8\\xgboost\\dmlc-core\\tracker\\yarn\n",
      "  copying xgboost\\dmlc-core\\tracker\\yarn\\build.bat -> build\\lib.win32-3.8\\xgboost\\dmlc-core\\tracker\\yarn\n",
      "  copying xgboost\\dmlc-core\\tracker\\yarn\\build.sh -> build\\lib.win32-3.8\\xgboost\\dmlc-core\\tracker\\yarn\n",
      "  copying xgboost\\dmlc-core\\tracker\\yarn\\pom.xml -> build\\lib.win32-3.8\\xgboost\\dmlc-core\\tracker\\yarn\n",
      "  creating build\\lib.win32-3.8\\xgboost\\dmlc-core\\tracker\\yarn\\src\n",
      "  creating build\\lib.win32-3.8\\xgboost\\dmlc-core\\tracker\\yarn\\src\\main\n",
      "  creating build\\lib.win32-3.8\\xgboost\\dmlc-core\\tracker\\yarn\\src\\main\\java\n",
      "  creating build\\lib.win32-3.8\\xgboost\\dmlc-core\\tracker\\yarn\\src\\main\\java\\org\n",
      "  creating build\\lib.win32-3.8\\xgboost\\dmlc-core\\tracker\\yarn\\src\\main\\java\\org\\apache\n",
      "  creating build\\lib.win32-3.8\\xgboost\\dmlc-core\\tracker\\yarn\\src\\main\\java\\org\\apache\\hadoop\n",
      "  creating build\\lib.win32-3.8\\xgboost\\dmlc-core\\tracker\\yarn\\src\\main\\java\\org\\apache\\hadoop\\yarn\n",
      "  creating build\\lib.win32-3.8\\xgboost\\dmlc-core\\tracker\\yarn\\src\\main\\java\\org\\apache\\hadoop\\yarn\\dmlc\n",
      "  copying xgboost\\dmlc-core\\tracker\\yarn\\src\\main\\java\\org\\apache\\hadoop\\yarn\\dmlc\\ApplicationMaster.java -> build\\lib.win32-3.8\\xgboost\\dmlc-core\\tracker\\yarn\\src\\main\\java\\org\\apache\\hadoop\\yarn\\dmlc\n",
      "  copying xgboost\\dmlc-core\\tracker\\yarn\\src\\main\\java\\org\\apache\\hadoop\\yarn\\dmlc\\Client.java -> build\\lib.win32-3.8\\xgboost\\dmlc-core\\tracker\\yarn\\src\\main\\java\\org\\apache\\hadoop\\yarn\\dmlc\n",
      "  copying xgboost\\dmlc-core\\tracker\\yarn\\src\\main\\java\\org\\apache\\hadoop\\yarn\\dmlc\\TaskRecord.java -> build\\lib.win32-3.8\\xgboost\\dmlc-core\\tracker\\yarn\\src\\main\\java\\org\\apache\\hadoop\\yarn\\dmlc\n",
      "  creating build\\lib.win32-3.8\\xgboost\\dmlc-core\\windows\n",
      "  copying xgboost\\dmlc-core\\windows\\.gitignore -> build\\lib.win32-3.8\\xgboost\\dmlc-core\\windows\n",
      "  copying xgboost\\dmlc-core\\windows\\README.md -> build\\lib.win32-3.8\\xgboost\\dmlc-core\\windows\n",
      "  copying xgboost\\dmlc-core\\windows\\dmlc.sln -> build\\lib.win32-3.8\\xgboost\\dmlc-core\\windows\n",
      "  creating build\\lib.win32-3.8\\xgboost\\dmlc-core\\windows\\dmlc\n",
      "  copying xgboost\\dmlc-core\\windows\\dmlc\\dmlc.vcxproj -> build\\lib.win32-3.8\\xgboost\\dmlc-core\\windows\\dmlc\n",
      "  creating build\\lib.win32-3.8\\xgboost\\include\n",
      "  creating build\\lib.win32-3.8\\xgboost\\include\\xgboost\n",
      "  copying xgboost\\include\\xgboost\\base.h -> build\\lib.win32-3.8\\xgboost\\include\\xgboost\n",
      "  copying xgboost\\include\\xgboost\\c_api.h -> build\\lib.win32-3.8\\xgboost\\include\\xgboost\n",
      "  copying xgboost\\include\\xgboost\\data.h -> build\\lib.win32-3.8\\xgboost\\include\\xgboost\n",
      "  copying xgboost\\include\\xgboost\\feature_map.h -> build\\lib.win32-3.8\\xgboost\\include\\xgboost\n",
      "  copying xgboost\\include\\xgboost\\gbm.h -> build\\lib.win32-3.8\\xgboost\\include\\xgboost\n",
      "  copying xgboost\\include\\xgboost\\generic_parameters.h -> build\\lib.win32-3.8\\xgboost\\include\\xgboost\n",
      "  copying xgboost\\include\\xgboost\\host_device_vector.h -> build\\lib.win32-3.8\\xgboost\\include\\xgboost\n",
      "  copying xgboost\\include\\xgboost\\intrusive_ptr.h -> build\\lib.win32-3.8\\xgboost\\include\\xgboost\n",
      "  copying xgboost\\include\\xgboost\\json.h -> build\\lib.win32-3.8\\xgboost\\include\\xgboost\n",
      "  copying xgboost\\include\\xgboost\\json_io.h -> build\\lib.win32-3.8\\xgboost\\include\\xgboost\n",
      "  copying xgboost\\include\\xgboost\\learner.h -> build\\lib.win32-3.8\\xgboost\\include\\xgboost\n",
      "  copying xgboost\\include\\xgboost\\linear_updater.h -> build\\lib.win32-3.8\\xgboost\\include\\xgboost\n",
      "  copying xgboost\\include\\xgboost\\logging.h -> build\\lib.win32-3.8\\xgboost\\include\\xgboost\n",
      "  copying xgboost\\include\\xgboost\\metric.h -> build\\lib.win32-3.8\\xgboost\\include\\xgboost\n",
      "  copying xgboost\\include\\xgboost\\model.h -> build\\lib.win32-3.8\\xgboost\\include\\xgboost\n",
      "  copying xgboost\\include\\xgboost\\objective.h -> build\\lib.win32-3.8\\xgboost\\include\\xgboost\n",
      "  copying xgboost\\include\\xgboost\\parameter.h -> build\\lib.win32-3.8\\xgboost\\include\\xgboost\n",
      "  copying xgboost\\include\\xgboost\\predictor.h -> build\\lib.win32-3.8\\xgboost\\include\\xgboost\n",
      "  copying xgboost\\include\\xgboost\\span.h -> build\\lib.win32-3.8\\xgboost\\include\\xgboost\n",
      "  copying xgboost\\include\\xgboost\\tree_model.h -> build\\lib.win32-3.8\\xgboost\\include\\xgboost\n",
      "  copying xgboost\\include\\xgboost\\tree_updater.h -> build\\lib.win32-3.8\\xgboost\\include\\xgboost\n",
      "  copying xgboost\\include\\xgboost\\version_config.h -> build\\lib.win32-3.8\\xgboost\\include\\xgboost\n",
      "  creating build\\lib.win32-3.8\\xgboost\\plugin\n",
      "  copying xgboost\\plugin\\CMakeLists.txt -> build\\lib.win32-3.8\\xgboost\\plugin\n",
      "  copying xgboost\\plugin\\README.md -> build\\lib.win32-3.8\\xgboost\\plugin\n",
      "  creating build\\lib.win32-3.8\\xgboost\\plugin\\dense_parser\n",
      "  copying xgboost\\plugin\\dense_parser\\dense_libsvm.cc -> build\\lib.win32-3.8\\xgboost\\plugin\\dense_parser\n",
      "  creating build\\lib.win32-3.8\\xgboost\\plugin\\example\n",
      "  copying xgboost\\plugin\\example\\README.md -> build\\lib.win32-3.8\\xgboost\\plugin\\example\n",
      "  copying xgboost\\plugin\\example\\custom_obj.cc -> build\\lib.win32-3.8\\xgboost\\plugin\\example\n",
      "  creating build\\lib.win32-3.8\\xgboost\\plugin\\lz4\n",
      "  copying xgboost\\plugin\\lz4\\sparse_page_lz4_format.cc -> build\\lib.win32-3.8\\xgboost\\plugin\\lz4\n",
      "  creating build\\lib.win32-3.8\\xgboost\\plugin\\updater_gpu\n",
      "  copying xgboost\\plugin\\updater_gpu\\README.md -> build\\lib.win32-3.8\\xgboost\\plugin\\updater_gpu\n",
      "  creating build\\lib.win32-3.8\\xgboost\\plugin\\updater_oneapi\n",
      "  copying xgboost\\plugin\\updater_oneapi\\README.md -> build\\lib.win32-3.8\\xgboost\\plugin\\updater_oneapi\n",
      "  copying xgboost\\plugin\\updater_oneapi\\predictor_oneapi.cc -> build\\lib.win32-3.8\\xgboost\\plugin\\updater_oneapi\n",
      "  copying xgboost\\plugin\\updater_oneapi\\regression_loss_oneapi.h -> build\\lib.win32-3.8\\xgboost\\plugin\\updater_oneapi\n",
      "  copying xgboost\\plugin\\updater_oneapi\\regression_obj_oneapi.cc -> build\\lib.win32-3.8\\xgboost\\plugin\\updater_oneapi\n",
      "  creating build\\lib.win32-3.8\\xgboost\\rabit\n",
      "  copying xgboost\\rabit\\.gitignore -> build\\lib.win32-3.8\\xgboost\\rabit\n",
      "  copying xgboost\\rabit\\CMakeLists.txt -> build\\lib.win32-3.8\\xgboost\\rabit\n",
      "  copying xgboost\\rabit\\LICENSE -> build\\lib.win32-3.8\\xgboost\\rabit\n",
      "  copying xgboost\\rabit\\README.md -> build\\lib.win32-3.8\\xgboost\\rabit\n",
      "  creating build\\lib.win32-3.8\\xgboost\\rabit\\doc\n",
      "  copying xgboost\\rabit\\doc\\.gitignore -> build\\lib.win32-3.8\\xgboost\\rabit\\doc\n",
      "  copying xgboost\\rabit\\doc\\Doxyfile -> build\\lib.win32-3.8\\xgboost\\rabit\\doc\n",
      "  copying xgboost\\rabit\\doc\\Makefile -> build\\lib.win32-3.8\\xgboost\\rabit\\doc\n",
      "  copying xgboost\\rabit\\doc\\conf.py -> build\\lib.win32-3.8\\xgboost\\rabit\\doc\n",
      "  copying xgboost\\rabit\\doc\\cpp_api.md -> build\\lib.win32-3.8\\xgboost\\rabit\\doc\n",
      "  copying xgboost\\rabit\\doc\\guide.md -> build\\lib.win32-3.8\\xgboost\\rabit\\doc\n",
      "  copying xgboost\\rabit\\doc\\index.md -> build\\lib.win32-3.8\\xgboost\\rabit\\doc\n",
      "  copying xgboost\\rabit\\doc\\parameters.md -> build\\lib.win32-3.8\\xgboost\\rabit\\doc\n",
      "  copying xgboost\\rabit\\doc\\python-requirements.txt -> build\\lib.win32-3.8\\xgboost\\rabit\\doc\n",
      "  copying xgboost\\rabit\\doc\\python_api.md -> build\\lib.win32-3.8\\xgboost\\rabit\\doc\n",
      "  copying xgboost\\rabit\\doc\\sphinx_util.py -> build\\lib.win32-3.8\\xgboost\\rabit\\doc\n",
      "  creating build\\lib.win32-3.8\\xgboost\\rabit\\guide\n",
      "  copying xgboost\\rabit\\guide\\Makefile -> build\\lib.win32-3.8\\xgboost\\rabit\\guide\n",
      "  copying xgboost\\rabit\\guide\\README -> build\\lib.win32-3.8\\xgboost\\rabit\\guide\n",
      "  copying xgboost\\rabit\\guide\\basic.cc -> build\\lib.win32-3.8\\xgboost\\rabit\\guide\n",
      "  copying xgboost\\rabit\\guide\\basic.py -> build\\lib.win32-3.8\\xgboost\\rabit\\guide\n",
      "  copying xgboost\\rabit\\guide\\broadcast.cc -> build\\lib.win32-3.8\\xgboost\\rabit\\guide\n",
      "  copying xgboost\\rabit\\guide\\broadcast.py -> build\\lib.win32-3.8\\xgboost\\rabit\\guide\n",
      "  copying xgboost\\rabit\\guide\\lazy_allreduce.cc -> build\\lib.win32-3.8\\xgboost\\rabit\\guide\n",
      "  copying xgboost\\rabit\\guide\\lazy_allreduce.py -> build\\lib.win32-3.8\\xgboost\\rabit\\guide\n",
      "  creating build\\lib.win32-3.8\\xgboost\\rabit\\include\n",
      "  creating build\\lib.win32-3.8\\xgboost\\rabit\\include\\rabit\n",
      "  copying xgboost\\rabit\\include\\rabit\\base.h -> build\\lib.win32-3.8\\xgboost\\rabit\\include\\rabit\n",
      "  copying xgboost\\rabit\\include\\rabit\\c_api.h -> build\\lib.win32-3.8\\xgboost\\rabit\\include\\rabit\n",
      "  copying xgboost\\rabit\\include\\rabit\\rabit.h -> build\\lib.win32-3.8\\xgboost\\rabit\\include\\rabit\n",
      "  copying xgboost\\rabit\\include\\rabit\\serializable.h -> build\\lib.win32-3.8\\xgboost\\rabit\\include\\rabit\n",
      "  creating build\\lib.win32-3.8\\xgboost\\rabit\\include\\rabit\\internal\n",
      "  copying xgboost\\rabit\\include\\rabit\\internal\\engine.h -> build\\lib.win32-3.8\\xgboost\\rabit\\include\\rabit\\internal\n",
      "  copying xgboost\\rabit\\include\\rabit\\internal\\io.h -> build\\lib.win32-3.8\\xgboost\\rabit\\include\\rabit\\internal\n",
      "  copying xgboost\\rabit\\include\\rabit\\internal\\rabit-inl.h -> build\\lib.win32-3.8\\xgboost\\rabit\\include\\rabit\\internal\n",
      "  copying xgboost\\rabit\\include\\rabit\\internal\\socket.h -> build\\lib.win32-3.8\\xgboost\\rabit\\include\\rabit\\internal\n",
      "  copying xgboost\\rabit\\include\\rabit\\internal\\utils.h -> build\\lib.win32-3.8\\xgboost\\rabit\\include\\rabit\\internal\n",
      "  creating build\\lib.win32-3.8\\xgboost\\rabit\\src\n",
      "  copying xgboost\\rabit\\src\\allreduce_base.cc -> build\\lib.win32-3.8\\xgboost\\rabit\\src\n",
      "  copying xgboost\\rabit\\src\\allreduce_base.h -> build\\lib.win32-3.8\\xgboost\\rabit\\src\n",
      "  copying xgboost\\rabit\\src\\allreduce_mock.h -> build\\lib.win32-3.8\\xgboost\\rabit\\src\n",
      "  copying xgboost\\rabit\\src\\c_api.cc -> build\\lib.win32-3.8\\xgboost\\rabit\\src\n",
      "  copying xgboost\\rabit\\src\\engine.cc -> build\\lib.win32-3.8\\xgboost\\rabit\\src\n",
      "  copying xgboost\\rabit\\src\\engine_mock.cc -> build\\lib.win32-3.8\\xgboost\\rabit\\src\n",
      "  copying xgboost\\rabit\\src\\engine_mpi.cc -> build\\lib.win32-3.8\\xgboost\\rabit\\src\n",
      "  creating build\\lib.win32-3.8\\xgboost\\src\n",
      "  copying xgboost\\src\\CMakeLists.txt -> build\\lib.win32-3.8\\xgboost\\src\n",
      "  copying xgboost\\src\\cli_main.cc -> build\\lib.win32-3.8\\xgboost\\src\n",
      "  copying xgboost\\src\\learner.cc -> build\\lib.win32-3.8\\xgboost\\src\n",
      "  copying xgboost\\src\\logging.cc -> build\\lib.win32-3.8\\xgboost\\src\n",
      "  creating build\\lib.win32-3.8\\xgboost\\src\\c_api\n",
      "  copying xgboost\\src\\c_api\\c_api.cc -> build\\lib.win32-3.8\\xgboost\\src\\c_api\n",
      "  copying xgboost\\src\\c_api\\c_api.cu -> build\\lib.win32-3.8\\xgboost\\src\\c_api\n",
      "  copying xgboost\\src\\c_api\\c_api_error.cc -> build\\lib.win32-3.8\\xgboost\\src\\c_api\n",
      "  copying xgboost\\src\\c_api\\c_api_error.h -> build\\lib.win32-3.8\\xgboost\\src\\c_api\n",
      "  creating build\\lib.win32-3.8\\xgboost\\src\\common\n",
      "  copying xgboost\\src\\common\\base64.h -> build\\lib.win32-3.8\\xgboost\\src\\common\n",
      "  copying xgboost\\src\\common\\bitfield.h -> build\\lib.win32-3.8\\xgboost\\src\\common\n",
      "  copying xgboost\\src\\common\\categorical.h -> build\\lib.win32-3.8\\xgboost\\src\\common\n",
      "  copying xgboost\\src\\common\\charconv.cc -> build\\lib.win32-3.8\\xgboost\\src\\common\n",
      "  copying xgboost\\src\\common\\charconv.h -> build\\lib.win32-3.8\\xgboost\\src\\common\n",
      "  copying xgboost\\src\\common\\column_matrix.h -> build\\lib.win32-3.8\\xgboost\\src\\common\n",
      "  copying xgboost\\src\\common\\common.cc -> build\\lib.win32-3.8\\xgboost\\src\\common\n",
      "  copying xgboost\\src\\common\\common.cu -> build\\lib.win32-3.8\\xgboost\\src\\common\n",
      "  copying xgboost\\src\\common\\common.h -> build\\lib.win32-3.8\\xgboost\\src\\common\n",
      "  copying xgboost\\src\\common\\compressed_iterator.h -> build\\lib.win32-3.8\\xgboost\\src\\common\n",
      "  copying xgboost\\src\\common\\config.h -> build\\lib.win32-3.8\\xgboost\\src\\common\n",
      "  copying xgboost\\src\\common\\device_helpers.cu -> build\\lib.win32-3.8\\xgboost\\src\\common\n",
      "  copying xgboost\\src\\common\\device_helpers.cuh -> build\\lib.win32-3.8\\xgboost\\src\\common\n",
      "  copying xgboost\\src\\common\\group_data.h -> build\\lib.win32-3.8\\xgboost\\src\\common\n",
      "  copying xgboost\\src\\common\\hist_util.cc -> build\\lib.win32-3.8\\xgboost\\src\\common\n",
      "  copying xgboost\\src\\common\\hist_util.cu -> build\\lib.win32-3.8\\xgboost\\src\\common\n",
      "  copying xgboost\\src\\common\\hist_util.cuh -> build\\lib.win32-3.8\\xgboost\\src\\common\n",
      "  copying xgboost\\src\\common\\hist_util.h -> build\\lib.win32-3.8\\xgboost\\src\\common\n",
      "  copying xgboost\\src\\common\\host_device_vector.cc -> build\\lib.win32-3.8\\xgboost\\src\\common\n",
      "  copying xgboost\\src\\common\\host_device_vector.cu -> build\\lib.win32-3.8\\xgboost\\src\\common\n",
      "  copying xgboost\\src\\common\\io.cc -> build\\lib.win32-3.8\\xgboost\\src\\common\n",
      "  copying xgboost\\src\\common\\io.h -> build\\lib.win32-3.8\\xgboost\\src\\common\n",
      "  copying xgboost\\src\\common\\json.cc -> build\\lib.win32-3.8\\xgboost\\src\\common\n",
      "  copying xgboost\\src\\common\\math.h -> build\\lib.win32-3.8\\xgboost\\src\\common\n",
      "  copying xgboost\\src\\common\\observer.h -> build\\lib.win32-3.8\\xgboost\\src\\common\n",
      "  copying xgboost\\src\\common\\probability_distribution.h -> build\\lib.win32-3.8\\xgboost\\src\\common\n",
      "  copying xgboost\\src\\common\\quantile.cc -> build\\lib.win32-3.8\\xgboost\\src\\common\n",
      "  copying xgboost\\src\\common\\quantile.cu -> build\\lib.win32-3.8\\xgboost\\src\\common\n",
      "  copying xgboost\\src\\common\\quantile.cuh -> build\\lib.win32-3.8\\xgboost\\src\\common\n",
      "  copying xgboost\\src\\common\\quantile.h -> build\\lib.win32-3.8\\xgboost\\src\\common\n",
      "  copying xgboost\\src\\common\\random.cc -> build\\lib.win32-3.8\\xgboost\\src\\common\n",
      "  copying xgboost\\src\\common\\random.h -> build\\lib.win32-3.8\\xgboost\\src\\common\n",
      "  copying xgboost\\src\\common\\row_set.h -> build\\lib.win32-3.8\\xgboost\\src\\common\n",
      "  copying xgboost\\src\\common\\survival_util.cc -> build\\lib.win32-3.8\\xgboost\\src\\common\n",
      "  copying xgboost\\src\\common\\survival_util.h -> build\\lib.win32-3.8\\xgboost\\src\\common\n",
      "  copying xgboost\\src\\common\\threading_utils.h -> build\\lib.win32-3.8\\xgboost\\src\\common\n",
      "  copying xgboost\\src\\common\\timer.cc -> build\\lib.win32-3.8\\xgboost\\src\\common\n",
      "  copying xgboost\\src\\common\\timer.h -> build\\lib.win32-3.8\\xgboost\\src\\common\n",
      "  copying xgboost\\src\\common\\transform.h -> build\\lib.win32-3.8\\xgboost\\src\\common\n",
      "  copying xgboost\\src\\common\\version.cc -> build\\lib.win32-3.8\\xgboost\\src\\common\n",
      "  copying xgboost\\src\\common\\version.h -> build\\lib.win32-3.8\\xgboost\\src\\common\n",
      "  creating build\\lib.win32-3.8\\xgboost\\src\\data\n",
      "  copying xgboost\\src\\data\\adapter.h -> build\\lib.win32-3.8\\xgboost\\src\\data\n",
      "  copying xgboost\\src\\data\\array_interface.h -> build\\lib.win32-3.8\\xgboost\\src\\data\n",
      "  copying xgboost\\src\\data\\data.cc -> build\\lib.win32-3.8\\xgboost\\src\\data\n",
      "  copying xgboost\\src\\data\\data.cu -> build\\lib.win32-3.8\\xgboost\\src\\data\n",
      "  copying xgboost\\src\\data\\device_adapter.cuh -> build\\lib.win32-3.8\\xgboost\\src\\data\n",
      "  copying xgboost\\src\\data\\ellpack_page.cc -> build\\lib.win32-3.8\\xgboost\\src\\data\n",
      "  copying xgboost\\src\\data\\ellpack_page.cu -> build\\lib.win32-3.8\\xgboost\\src\\data\n",
      "  copying xgboost\\src\\data\\ellpack_page.cuh -> build\\lib.win32-3.8\\xgboost\\src\\data\n",
      "  copying xgboost\\src\\data\\ellpack_page_raw_format.cu -> build\\lib.win32-3.8\\xgboost\\src\\data\n",
      "  copying xgboost\\src\\data\\ellpack_page_source.cc -> build\\lib.win32-3.8\\xgboost\\src\\data\n",
      "  copying xgboost\\src\\data\\ellpack_page_source.cu -> build\\lib.win32-3.8\\xgboost\\src\\data\n",
      "  copying xgboost\\src\\data\\ellpack_page_source.h -> build\\lib.win32-3.8\\xgboost\\src\\data\n",
      "  copying xgboost\\src\\data\\iterative_device_dmatrix.cu -> build\\lib.win32-3.8\\xgboost\\src\\data\n",
      "  copying xgboost\\src\\data\\iterative_device_dmatrix.h -> build\\lib.win32-3.8\\xgboost\\src\\data\n",
      "  copying xgboost\\src\\data\\proxy_dmatrix.cu -> build\\lib.win32-3.8\\xgboost\\src\\data\n",
      "  copying xgboost\\src\\data\\proxy_dmatrix.h -> build\\lib.win32-3.8\\xgboost\\src\\data\n",
      "  copying xgboost\\src\\data\\simple_batch_iterator.h -> build\\lib.win32-3.8\\xgboost\\src\\data\n",
      "  copying xgboost\\src\\data\\simple_dmatrix.cc -> build\\lib.win32-3.8\\xgboost\\src\\data\n",
      "  copying xgboost\\src\\data\\simple_dmatrix.cu -> build\\lib.win32-3.8\\xgboost\\src\\data\n",
      "  copying xgboost\\src\\data\\simple_dmatrix.h -> build\\lib.win32-3.8\\xgboost\\src\\data\n",
      "  copying xgboost\\src\\data\\sparse_page_dmatrix.cc -> build\\lib.win32-3.8\\xgboost\\src\\data\n",
      "  copying xgboost\\src\\data\\sparse_page_dmatrix.h -> build\\lib.win32-3.8\\xgboost\\src\\data\n",
      "  copying xgboost\\src\\data\\sparse_page_raw_format.cc -> build\\lib.win32-3.8\\xgboost\\src\\data\n",
      "  copying xgboost\\src\\data\\sparse_page_source.cc -> build\\lib.win32-3.8\\xgboost\\src\\data\n",
      "  copying xgboost\\src\\data\\sparse_page_source.h -> build\\lib.win32-3.8\\xgboost\\src\\data\n",
      "  copying xgboost\\src\\data\\sparse_page_writer.h -> build\\lib.win32-3.8\\xgboost\\src\\data\n",
      "  creating build\\lib.win32-3.8\\xgboost\\src\\gbm\n",
      "  copying xgboost\\src\\gbm\\gblinear.cc -> build\\lib.win32-3.8\\xgboost\\src\\gbm\n",
      "  copying xgboost\\src\\gbm\\gblinear_model.cc -> build\\lib.win32-3.8\\xgboost\\src\\gbm\n",
      "  copying xgboost\\src\\gbm\\gblinear_model.h -> build\\lib.win32-3.8\\xgboost\\src\\gbm\n",
      "  copying xgboost\\src\\gbm\\gbm.cc -> build\\lib.win32-3.8\\xgboost\\src\\gbm\n",
      "  copying xgboost\\src\\gbm\\gbtree.cc -> build\\lib.win32-3.8\\xgboost\\src\\gbm\n",
      "  copying xgboost\\src\\gbm\\gbtree.h -> build\\lib.win32-3.8\\xgboost\\src\\gbm\n",
      "  copying xgboost\\src\\gbm\\gbtree_model.cc -> build\\lib.win32-3.8\\xgboost\\src\\gbm\n",
      "  copying xgboost\\src\\gbm\\gbtree_model.h -> build\\lib.win32-3.8\\xgboost\\src\\gbm\n",
      "  creating build\\lib.win32-3.8\\xgboost\\src\\linear\n",
      "  copying xgboost\\src\\linear\\coordinate_common.h -> build\\lib.win32-3.8\\xgboost\\src\\linear\n",
      "  copying xgboost\\src\\linear\\linear_updater.cc -> build\\lib.win32-3.8\\xgboost\\src\\linear\n",
      "  copying xgboost\\src\\linear\\param.h -> build\\lib.win32-3.8\\xgboost\\src\\linear\n",
      "  copying xgboost\\src\\linear\\updater_coordinate.cc -> build\\lib.win32-3.8\\xgboost\\src\\linear\n",
      "  copying xgboost\\src\\linear\\updater_gpu_coordinate.cu -> build\\lib.win32-3.8\\xgboost\\src\\linear\n",
      "  copying xgboost\\src\\linear\\updater_shotgun.cc -> build\\lib.win32-3.8\\xgboost\\src\\linear\n",
      "  creating build\\lib.win32-3.8\\xgboost\\src\\metric\n",
      "  copying xgboost\\src\\metric\\elementwise_metric.cc -> build\\lib.win32-3.8\\xgboost\\src\\metric\n",
      "  copying xgboost\\src\\metric\\elementwise_metric.cu -> build\\lib.win32-3.8\\xgboost\\src\\metric\n",
      "  copying xgboost\\src\\metric\\metric.cc -> build\\lib.win32-3.8\\xgboost\\src\\metric\n",
      "  copying xgboost\\src\\metric\\metric_common.h -> build\\lib.win32-3.8\\xgboost\\src\\metric\n",
      "  copying xgboost\\src\\metric\\multiclass_metric.cc -> build\\lib.win32-3.8\\xgboost\\src\\metric\n",
      "  copying xgboost\\src\\metric\\multiclass_metric.cu -> build\\lib.win32-3.8\\xgboost\\src\\metric\n",
      "  copying xgboost\\src\\metric\\rank_metric.cc -> build\\lib.win32-3.8\\xgboost\\src\\metric\n",
      "  copying xgboost\\src\\metric\\rank_metric.cu -> build\\lib.win32-3.8\\xgboost\\src\\metric\n",
      "  copying xgboost\\src\\metric\\survival_metric.cc -> build\\lib.win32-3.8\\xgboost\\src\\metric\n",
      "  copying xgboost\\src\\metric\\survival_metric.cu -> build\\lib.win32-3.8\\xgboost\\src\\metric\n",
      "  creating build\\lib.win32-3.8\\xgboost\\src\\objective\n",
      "  copying xgboost\\src\\objective\\aft_obj.cc -> build\\lib.win32-3.8\\xgboost\\src\\objective\n",
      "  copying xgboost\\src\\objective\\aft_obj.cu -> build\\lib.win32-3.8\\xgboost\\src\\objective\n",
      "  copying xgboost\\src\\objective\\hinge.cc -> build\\lib.win32-3.8\\xgboost\\src\\objective\n",
      "  copying xgboost\\src\\objective\\hinge.cu -> build\\lib.win32-3.8\\xgboost\\src\\objective\n",
      "  copying xgboost\\src\\objective\\multiclass_obj.cc -> build\\lib.win32-3.8\\xgboost\\src\\objective\n",
      "  copying xgboost\\src\\objective\\multiclass_obj.cu -> build\\lib.win32-3.8\\xgboost\\src\\objective\n",
      "  copying xgboost\\src\\objective\\objective.cc -> build\\lib.win32-3.8\\xgboost\\src\\objective\n",
      "  copying xgboost\\src\\objective\\rank_obj.cc -> build\\lib.win32-3.8\\xgboost\\src\\objective\n",
      "  copying xgboost\\src\\objective\\rank_obj.cu -> build\\lib.win32-3.8\\xgboost\\src\\objective\n",
      "  copying xgboost\\src\\objective\\regression_loss.h -> build\\lib.win32-3.8\\xgboost\\src\\objective\n",
      "  copying xgboost\\src\\objective\\regression_obj.cc -> build\\lib.win32-3.8\\xgboost\\src\\objective\n",
      "  copying xgboost\\src\\objective\\regression_obj.cu -> build\\lib.win32-3.8\\xgboost\\src\\objective\n",
      "  creating build\\lib.win32-3.8\\xgboost\\src\\predictor\n",
      "  copying xgboost\\src\\predictor\\cpu_predictor.cc -> build\\lib.win32-3.8\\xgboost\\src\\predictor\n",
      "  copying xgboost\\src\\predictor\\gpu_predictor.cu -> build\\lib.win32-3.8\\xgboost\\src\\predictor\n",
      "  copying xgboost\\src\\predictor\\predictor.cc -> build\\lib.win32-3.8\\xgboost\\src\\predictor\n",
      "  creating build\\lib.win32-3.8\\xgboost\\src\\tree\n",
      "  copying xgboost\\src\\tree\\constraints.cc -> build\\lib.win32-3.8\\xgboost\\src\\tree\n",
      "  copying xgboost\\src\\tree\\constraints.cu -> build\\lib.win32-3.8\\xgboost\\src\\tree\n",
      "  copying xgboost\\src\\tree\\constraints.cuh -> build\\lib.win32-3.8\\xgboost\\src\\tree\n",
      "  copying xgboost\\src\\tree\\constraints.h -> build\\lib.win32-3.8\\xgboost\\src\\tree\n",
      "  copying xgboost\\src\\tree\\param.cc -> build\\lib.win32-3.8\\xgboost\\src\\tree\n",
      "  copying xgboost\\src\\tree\\param.h -> build\\lib.win32-3.8\\xgboost\\src\\tree\n",
      "  copying xgboost\\src\\tree\\split_evaluator.h -> build\\lib.win32-3.8\\xgboost\\src\\tree\n",
      "  copying xgboost\\src\\tree\\tree_model.cc -> build\\lib.win32-3.8\\xgboost\\src\\tree\n",
      "  copying xgboost\\src\\tree\\tree_updater.cc -> build\\lib.win32-3.8\\xgboost\\src\\tree\n",
      "  copying xgboost\\src\\tree\\updater_basemaker-inl.h -> build\\lib.win32-3.8\\xgboost\\src\\tree\n",
      "  copying xgboost\\src\\tree\\updater_colmaker.cc -> build\\lib.win32-3.8\\xgboost\\src\\tree\n",
      "  copying xgboost\\src\\tree\\updater_gpu_common.cuh -> build\\lib.win32-3.8\\xgboost\\src\\tree\n",
      "  copying xgboost\\src\\tree\\updater_gpu_hist.cu -> build\\lib.win32-3.8\\xgboost\\src\\tree\n",
      "  copying xgboost\\src\\tree\\updater_histmaker.cc -> build\\lib.win32-3.8\\xgboost\\src\\tree\n",
      "  copying xgboost\\src\\tree\\updater_prune.cc -> build\\lib.win32-3.8\\xgboost\\src\\tree\n",
      "  copying xgboost\\src\\tree\\updater_quantile_hist.cc -> build\\lib.win32-3.8\\xgboost\\src\\tree\n",
      "  copying xgboost\\src\\tree\\updater_quantile_hist.h -> build\\lib.win32-3.8\\xgboost\\src\\tree\n",
      "  copying xgboost\\src\\tree\\updater_refresh.cc -> build\\lib.win32-3.8\\xgboost\\src\\tree\n",
      "  copying xgboost\\src\\tree\\updater_sync.cc -> build\\lib.win32-3.8\\xgboost\\src\\tree\n",
      "  creating build\\lib.win32-3.8\\xgboost\\src\\tree\\gpu_hist\n",
      "  copying xgboost\\src\\tree\\gpu_hist\\driver.cuh -> build\\lib.win32-3.8\\xgboost\\src\\tree\\gpu_hist\n",
      "  copying xgboost\\src\\tree\\gpu_hist\\evaluate_splits.cu -> build\\lib.win32-3.8\\xgboost\\src\\tree\\gpu_hist\n",
      "  copying xgboost\\src\\tree\\gpu_hist\\evaluate_splits.cuh -> build\\lib.win32-3.8\\xgboost\\src\\tree\\gpu_hist\n",
      "  copying xgboost\\src\\tree\\gpu_hist\\feature_groups.cu -> build\\lib.win32-3.8\\xgboost\\src\\tree\\gpu_hist\n",
      "  copying xgboost\\src\\tree\\gpu_hist\\feature_groups.cuh -> build\\lib.win32-3.8\\xgboost\\src\\tree\\gpu_hist\n",
      "  copying xgboost\\src\\tree\\gpu_hist\\gradient_based_sampler.cu -> build\\lib.win32-3.8\\xgboost\\src\\tree\\gpu_hist\n",
      "  copying xgboost\\src\\tree\\gpu_hist\\gradient_based_sampler.cuh -> build\\lib.win32-3.8\\xgboost\\src\\tree\\gpu_hist\n",
      "  copying xgboost\\src\\tree\\gpu_hist\\histogram.cu -> build\\lib.win32-3.8\\xgboost\\src\\tree\\gpu_hist\n",
      "  copying xgboost\\src\\tree\\gpu_hist\\histogram.cuh -> build\\lib.win32-3.8\\xgboost\\src\\tree\\gpu_hist\n",
      "  copying xgboost\\src\\tree\\gpu_hist\\row_partitioner.cu -> build\\lib.win32-3.8\\xgboost\\src\\tree\\gpu_hist\n",
      "  copying xgboost\\src\\tree\\gpu_hist\\row_partitioner.cuh -> build\\lib.win32-3.8\\xgboost\\src\\tree\\gpu_hist\n",
      "  running build_ext\n",
      "  creating build\\temp.win32-3.8\n",
      "  creating build\\temp.win32-3.8\\Release\n",
      "  creating build\\temp.win32-3.8\\Release\\xgboost\n",
      "  creating build\\temp.win32-3.8\\Release\\xgboost\\src\n",
      "  copying xgboost\\src\\cli_main.cc -> build\\temp.win32-3.8\\Release\\xgboost\\src\n",
      "  copying xgboost\\src\\CMakeLists.txt -> build\\temp.win32-3.8\\Release\\xgboost\\src\n",
      "  creating build\\temp.win32-3.8\\Release\\xgboost\\src\\common\n",
      "  copying xgboost\\src\\common\\base64.h -> build\\temp.win32-3.8\\Release\\xgboost\\src\\common\n",
      "  copying xgboost\\src\\common\\bitfield.h -> build\\temp.win32-3.8\\Release\\xgboost\\src\\common\n",
      "  copying xgboost\\src\\common\\categorical.h -> build\\temp.win32-3.8\\Release\\xgboost\\src\\common\n",
      "  copying xgboost\\src\\common\\charconv.cc -> build\\temp.win32-3.8\\Release\\xgboost\\src\\common\n",
      "  copying xgboost\\src\\common\\charconv.h -> build\\temp.win32-3.8\\Release\\xgboost\\src\\common\n",
      "  copying xgboost\\src\\common\\column_matrix.h -> build\\temp.win32-3.8\\Release\\xgboost\\src\\common\n",
      "  copying xgboost\\src\\common\\common.cc -> build\\temp.win32-3.8\\Release\\xgboost\\src\\common\n",
      "  copying xgboost\\src\\common\\common.cu -> build\\temp.win32-3.8\\Release\\xgboost\\src\\common\n",
      "  copying xgboost\\src\\common\\common.h -> build\\temp.win32-3.8\\Release\\xgboost\\src\\common\n",
      "  copying xgboost\\src\\common\\compressed_iterator.h -> build\\temp.win32-3.8\\Release\\xgboost\\src\\common\n",
      "  copying xgboost\\src\\common\\config.h -> build\\temp.win32-3.8\\Release\\xgboost\\src\\common\n",
      "  copying xgboost\\src\\common\\device_helpers.cu -> build\\temp.win32-3.8\\Release\\xgboost\\src\\common\n",
      "  copying xgboost\\src\\common\\device_helpers.cuh -> build\\temp.win32-3.8\\Release\\xgboost\\src\\common\n",
      "  copying xgboost\\src\\common\\group_data.h -> build\\temp.win32-3.8\\Release\\xgboost\\src\\common\n",
      "  copying xgboost\\src\\common\\hist_util.cc -> build\\temp.win32-3.8\\Release\\xgboost\\src\\common\n",
      "  copying xgboost\\src\\common\\hist_util.cu -> build\\temp.win32-3.8\\Release\\xgboost\\src\\common\n",
      "  copying xgboost\\src\\common\\hist_util.cuh -> build\\temp.win32-3.8\\Release\\xgboost\\src\\common\n",
      "  copying xgboost\\src\\common\\hist_util.h -> build\\temp.win32-3.8\\Release\\xgboost\\src\\common\n",
      "  copying xgboost\\src\\common\\host_device_vector.cc -> build\\temp.win32-3.8\\Release\\xgboost\\src\\common\n",
      "  copying xgboost\\src\\common\\host_device_vector.cu -> build\\temp.win32-3.8\\Release\\xgboost\\src\\common\n",
      "  copying xgboost\\src\\common\\io.cc -> build\\temp.win32-3.8\\Release\\xgboost\\src\\common\n",
      "  copying xgboost\\src\\common\\io.h -> build\\temp.win32-3.8\\Release\\xgboost\\src\\common\n",
      "  copying xgboost\\src\\common\\json.cc -> build\\temp.win32-3.8\\Release\\xgboost\\src\\common\n",
      "  copying xgboost\\src\\common\\math.h -> build\\temp.win32-3.8\\Release\\xgboost\\src\\common\n",
      "  copying xgboost\\src\\common\\observer.h -> build\\temp.win32-3.8\\Release\\xgboost\\src\\common\n",
      "  copying xgboost\\src\\common\\probability_distribution.h -> build\\temp.win32-3.8\\Release\\xgboost\\src\\common\n",
      "  copying xgboost\\src\\common\\quantile.cc -> build\\temp.win32-3.8\\Release\\xgboost\\src\\common\n",
      "  copying xgboost\\src\\common\\quantile.cu -> build\\temp.win32-3.8\\Release\\xgboost\\src\\common\n",
      "  copying xgboost\\src\\common\\quantile.cuh -> build\\temp.win32-3.8\\Release\\xgboost\\src\\common\n",
      "  copying xgboost\\src\\common\\quantile.h -> build\\temp.win32-3.8\\Release\\xgboost\\src\\common\n",
      "  copying xgboost\\src\\common\\random.cc -> build\\temp.win32-3.8\\Release\\xgboost\\src\\common\n",
      "  copying xgboost\\src\\common\\random.h -> build\\temp.win32-3.8\\Release\\xgboost\\src\\common\n",
      "  copying xgboost\\src\\common\\row_set.h -> build\\temp.win32-3.8\\Release\\xgboost\\src\\common\n",
      "  copying xgboost\\src\\common\\survival_util.cc -> build\\temp.win32-3.8\\Release\\xgboost\\src\\common\n",
      "  copying xgboost\\src\\common\\survival_util.h -> build\\temp.win32-3.8\\Release\\xgboost\\src\\common\n",
      "  copying xgboost\\src\\common\\threading_utils.h -> build\\temp.win32-3.8\\Release\\xgboost\\src\\common\n",
      "  copying xgboost\\src\\common\\timer.cc -> build\\temp.win32-3.8\\Release\\xgboost\\src\\common\n",
      "  copying xgboost\\src\\common\\timer.h -> build\\temp.win32-3.8\\Release\\xgboost\\src\\common\n",
      "  copying xgboost\\src\\common\\transform.h -> build\\temp.win32-3.8\\Release\\xgboost\\src\\common\n",
      "  copying xgboost\\src\\common\\version.cc -> build\\temp.win32-3.8\\Release\\xgboost\\src\\common\n",
      "  copying xgboost\\src\\common\\version.h -> build\\temp.win32-3.8\\Release\\xgboost\\src\\common\n",
      "  creating build\\temp.win32-3.8\\Release\\xgboost\\src\\c_api\n",
      "  copying xgboost\\src\\c_api\\c_api.cc -> build\\temp.win32-3.8\\Release\\xgboost\\src\\c_api\n",
      "  copying xgboost\\src\\c_api\\c_api.cu -> build\\temp.win32-3.8\\Release\\xgboost\\src\\c_api\n",
      "  copying xgboost\\src\\c_api\\c_api_error.cc -> build\\temp.win32-3.8\\Release\\xgboost\\src\\c_api\n",
      "  copying xgboost\\src\\c_api\\c_api_error.h -> build\\temp.win32-3.8\\Release\\xgboost\\src\\c_api\n",
      "  creating build\\temp.win32-3.8\\Release\\xgboost\\src\\data\n",
      "  copying xgboost\\src\\data\\adapter.h -> build\\temp.win32-3.8\\Release\\xgboost\\src\\data\n",
      "  copying xgboost\\src\\data\\array_interface.h -> build\\temp.win32-3.8\\Release\\xgboost\\src\\data\n",
      "  copying xgboost\\src\\data\\data.cc -> build\\temp.win32-3.8\\Release\\xgboost\\src\\data\n",
      "  copying xgboost\\src\\data\\data.cu -> build\\temp.win32-3.8\\Release\\xgboost\\src\\data\n",
      "  copying xgboost\\src\\data\\device_adapter.cuh -> build\\temp.win32-3.8\\Release\\xgboost\\src\\data\n",
      "  copying xgboost\\src\\data\\ellpack_page.cc -> build\\temp.win32-3.8\\Release\\xgboost\\src\\data\n",
      "  copying xgboost\\src\\data\\ellpack_page.cu -> build\\temp.win32-3.8\\Release\\xgboost\\src\\data\n",
      "  copying xgboost\\src\\data\\ellpack_page.cuh -> build\\temp.win32-3.8\\Release\\xgboost\\src\\data\n",
      "  copying xgboost\\src\\data\\ellpack_page_raw_format.cu -> build\\temp.win32-3.8\\Release\\xgboost\\src\\data\n",
      "  copying xgboost\\src\\data\\ellpack_page_source.cc -> build\\temp.win32-3.8\\Release\\xgboost\\src\\data\n",
      "  copying xgboost\\src\\data\\ellpack_page_source.cu -> build\\temp.win32-3.8\\Release\\xgboost\\src\\data\n",
      "  copying xgboost\\src\\data\\ellpack_page_source.h -> build\\temp.win32-3.8\\Release\\xgboost\\src\\data\n",
      "  copying xgboost\\src\\data\\iterative_device_dmatrix.cu -> build\\temp.win32-3.8\\Release\\xgboost\\src\\data\n",
      "  copying xgboost\\src\\data\\iterative_device_dmatrix.h -> build\\temp.win32-3.8\\Release\\xgboost\\src\\data\n",
      "  copying xgboost\\src\\data\\proxy_dmatrix.cu -> build\\temp.win32-3.8\\Release\\xgboost\\src\\data\n",
      "  copying xgboost\\src\\data\\proxy_dmatrix.h -> build\\temp.win32-3.8\\Release\\xgboost\\src\\data\n",
      "  copying xgboost\\src\\data\\simple_batch_iterator.h -> build\\temp.win32-3.8\\Release\\xgboost\\src\\data\n",
      "  copying xgboost\\src\\data\\simple_dmatrix.cc -> build\\temp.win32-3.8\\Release\\xgboost\\src\\data\n",
      "  copying xgboost\\src\\data\\simple_dmatrix.cu -> build\\temp.win32-3.8\\Release\\xgboost\\src\\data\n",
      "  copying xgboost\\src\\data\\simple_dmatrix.h -> build\\temp.win32-3.8\\Release\\xgboost\\src\\data\n",
      "  copying xgboost\\src\\data\\sparse_page_dmatrix.cc -> build\\temp.win32-3.8\\Release\\xgboost\\src\\data\n",
      "  copying xgboost\\src\\data\\sparse_page_dmatrix.h -> build\\temp.win32-3.8\\Release\\xgboost\\src\\data\n",
      "  copying xgboost\\src\\data\\sparse_page_raw_format.cc -> build\\temp.win32-3.8\\Release\\xgboost\\src\\data\n",
      "  copying xgboost\\src\\data\\sparse_page_source.cc -> build\\temp.win32-3.8\\Release\\xgboost\\src\\data\n",
      "  copying xgboost\\src\\data\\sparse_page_source.h -> build\\temp.win32-3.8\\Release\\xgboost\\src\\data\n",
      "  copying xgboost\\src\\data\\sparse_page_writer.h -> build\\temp.win32-3.8\\Release\\xgboost\\src\\data\n",
      "  creating build\\temp.win32-3.8\\Release\\xgboost\\src\\gbm\n",
      "  copying xgboost\\src\\gbm\\gblinear.cc -> build\\temp.win32-3.8\\Release\\xgboost\\src\\gbm\n",
      "  copying xgboost\\src\\gbm\\gblinear_model.cc -> build\\temp.win32-3.8\\Release\\xgboost\\src\\gbm\n",
      "  copying xgboost\\src\\gbm\\gblinear_model.h -> build\\temp.win32-3.8\\Release\\xgboost\\src\\gbm\n",
      "  copying xgboost\\src\\gbm\\gbm.cc -> build\\temp.win32-3.8\\Release\\xgboost\\src\\gbm\n",
      "  copying xgboost\\src\\gbm\\gbtree.cc -> build\\temp.win32-3.8\\Release\\xgboost\\src\\gbm\n",
      "  copying xgboost\\src\\gbm\\gbtree.h -> build\\temp.win32-3.8\\Release\\xgboost\\src\\gbm\n",
      "  copying xgboost\\src\\gbm\\gbtree_model.cc -> build\\temp.win32-3.8\\Release\\xgboost\\src\\gbm\n",
      "  copying xgboost\\src\\gbm\\gbtree_model.h -> build\\temp.win32-3.8\\Release\\xgboost\\src\\gbm\n",
      "  copying xgboost\\src\\learner.cc -> build\\temp.win32-3.8\\Release\\xgboost\\src\n",
      "  creating build\\temp.win32-3.8\\Release\\xgboost\\src\\linear\n",
      "  copying xgboost\\src\\linear\\coordinate_common.h -> build\\temp.win32-3.8\\Release\\xgboost\\src\\linear\n",
      "  copying xgboost\\src\\linear\\linear_updater.cc -> build\\temp.win32-3.8\\Release\\xgboost\\src\\linear\n",
      "  copying xgboost\\src\\linear\\param.h -> build\\temp.win32-3.8\\Release\\xgboost\\src\\linear\n",
      "  copying xgboost\\src\\linear\\updater_coordinate.cc -> build\\temp.win32-3.8\\Release\\xgboost\\src\\linear\n",
      "  copying xgboost\\src\\linear\\updater_gpu_coordinate.cu -> build\\temp.win32-3.8\\Release\\xgboost\\src\\linear\n",
      "  copying xgboost\\src\\linear\\updater_shotgun.cc -> build\\temp.win32-3.8\\Release\\xgboost\\src\\linear\n",
      "  copying xgboost\\src\\logging.cc -> build\\temp.win32-3.8\\Release\\xgboost\\src\n",
      "  creating build\\temp.win32-3.8\\Release\\xgboost\\src\\metric\n",
      "  copying xgboost\\src\\metric\\elementwise_metric.cc -> build\\temp.win32-3.8\\Release\\xgboost\\src\\metric\n",
      "  copying xgboost\\src\\metric\\elementwise_metric.cu -> build\\temp.win32-3.8\\Release\\xgboost\\src\\metric\n",
      "  copying xgboost\\src\\metric\\metric.cc -> build\\temp.win32-3.8\\Release\\xgboost\\src\\metric\n",
      "  copying xgboost\\src\\metric\\metric_common.h -> build\\temp.win32-3.8\\Release\\xgboost\\src\\metric\n",
      "  copying xgboost\\src\\metric\\multiclass_metric.cc -> build\\temp.win32-3.8\\Release\\xgboost\\src\\metric\n",
      "  copying xgboost\\src\\metric\\multiclass_metric.cu -> build\\temp.win32-3.8\\Release\\xgboost\\src\\metric\n",
      "  copying xgboost\\src\\metric\\rank_metric.cc -> build\\temp.win32-3.8\\Release\\xgboost\\src\\metric\n",
      "  copying xgboost\\src\\metric\\rank_metric.cu -> build\\temp.win32-3.8\\Release\\xgboost\\src\\metric\n",
      "  copying xgboost\\src\\metric\\survival_metric.cc -> build\\temp.win32-3.8\\Release\\xgboost\\src\\metric\n",
      "  copying xgboost\\src\\metric\\survival_metric.cu -> build\\temp.win32-3.8\\Release\\xgboost\\src\\metric\n",
      "  creating build\\temp.win32-3.8\\Release\\xgboost\\src\\objective\n",
      "  copying xgboost\\src\\objective\\aft_obj.cc -> build\\temp.win32-3.8\\Release\\xgboost\\src\\objective\n",
      "  copying xgboost\\src\\objective\\aft_obj.cu -> build\\temp.win32-3.8\\Release\\xgboost\\src\\objective\n",
      "  copying xgboost\\src\\objective\\hinge.cc -> build\\temp.win32-3.8\\Release\\xgboost\\src\\objective\n",
      "  copying xgboost\\src\\objective\\hinge.cu -> build\\temp.win32-3.8\\Release\\xgboost\\src\\objective\n",
      "  copying xgboost\\src\\objective\\multiclass_obj.cc -> build\\temp.win32-3.8\\Release\\xgboost\\src\\objective\n",
      "  copying xgboost\\src\\objective\\multiclass_obj.cu -> build\\temp.win32-3.8\\Release\\xgboost\\src\\objective\n",
      "  copying xgboost\\src\\objective\\objective.cc -> build\\temp.win32-3.8\\Release\\xgboost\\src\\objective\n",
      "  copying xgboost\\src\\objective\\rank_obj.cc -> build\\temp.win32-3.8\\Release\\xgboost\\src\\objective\n",
      "  copying xgboost\\src\\objective\\rank_obj.cu -> build\\temp.win32-3.8\\Release\\xgboost\\src\\objective\n",
      "  copying xgboost\\src\\objective\\regression_loss.h -> build\\temp.win32-3.8\\Release\\xgboost\\src\\objective\n",
      "  copying xgboost\\src\\objective\\regression_obj.cc -> build\\temp.win32-3.8\\Release\\xgboost\\src\\objective\n",
      "  copying xgboost\\src\\objective\\regression_obj.cu -> build\\temp.win32-3.8\\Release\\xgboost\\src\\objective\n",
      "  creating build\\temp.win32-3.8\\Release\\xgboost\\src\\predictor\n",
      "  copying xgboost\\src\\predictor\\cpu_predictor.cc -> build\\temp.win32-3.8\\Release\\xgboost\\src\\predictor\n",
      "  copying xgboost\\src\\predictor\\gpu_predictor.cu -> build\\temp.win32-3.8\\Release\\xgboost\\src\\predictor\n",
      "  copying xgboost\\src\\predictor\\predictor.cc -> build\\temp.win32-3.8\\Release\\xgboost\\src\\predictor\n",
      "  creating build\\temp.win32-3.8\\Release\\xgboost\\src\\tree\n",
      "  copying xgboost\\src\\tree\\constraints.cc -> build\\temp.win32-3.8\\Release\\xgboost\\src\\tree\n",
      "  copying xgboost\\src\\tree\\constraints.cu -> build\\temp.win32-3.8\\Release\\xgboost\\src\\tree\n",
      "  copying xgboost\\src\\tree\\constraints.cuh -> build\\temp.win32-3.8\\Release\\xgboost\\src\\tree\n",
      "  copying xgboost\\src\\tree\\constraints.h -> build\\temp.win32-3.8\\Release\\xgboost\\src\\tree\n",
      "  creating build\\temp.win32-3.8\\Release\\xgboost\\src\\tree\\gpu_hist\n",
      "  copying xgboost\\src\\tree\\gpu_hist\\driver.cuh -> build\\temp.win32-3.8\\Release\\xgboost\\src\\tree\\gpu_hist\n",
      "  copying xgboost\\src\\tree\\gpu_hist\\evaluate_splits.cu -> build\\temp.win32-3.8\\Release\\xgboost\\src\\tree\\gpu_hist\n",
      "  copying xgboost\\src\\tree\\gpu_hist\\evaluate_splits.cuh -> build\\temp.win32-3.8\\Release\\xgboost\\src\\tree\\gpu_hist\n",
      "  copying xgboost\\src\\tree\\gpu_hist\\feature_groups.cu -> build\\temp.win32-3.8\\Release\\xgboost\\src\\tree\\gpu_hist\n",
      "  copying xgboost\\src\\tree\\gpu_hist\\feature_groups.cuh -> build\\temp.win32-3.8\\Release\\xgboost\\src\\tree\\gpu_hist\n",
      "  copying xgboost\\src\\tree\\gpu_hist\\gradient_based_sampler.cu -> build\\temp.win32-3.8\\Release\\xgboost\\src\\tree\\gpu_hist\n",
      "  copying xgboost\\src\\tree\\gpu_hist\\gradient_based_sampler.cuh -> build\\temp.win32-3.8\\Release\\xgboost\\src\\tree\\gpu_hist\n",
      "  copying xgboost\\src\\tree\\gpu_hist\\histogram.cu -> build\\temp.win32-3.8\\Release\\xgboost\\src\\tree\\gpu_hist\n",
      "  copying xgboost\\src\\tree\\gpu_hist\\histogram.cuh -> build\\temp.win32-3.8\\Release\\xgboost\\src\\tree\\gpu_hist\n",
      "  copying xgboost\\src\\tree\\gpu_hist\\row_partitioner.cu -> build\\temp.win32-3.8\\Release\\xgboost\\src\\tree\\gpu_hist\n",
      "  copying xgboost\\src\\tree\\gpu_hist\\row_partitioner.cuh -> build\\temp.win32-3.8\\Release\\xgboost\\src\\tree\\gpu_hist\n",
      "  copying xgboost\\src\\tree\\param.cc -> build\\temp.win32-3.8\\Release\\xgboost\\src\\tree\n",
      "  copying xgboost\\src\\tree\\param.h -> build\\temp.win32-3.8\\Release\\xgboost\\src\\tree\n",
      "  copying xgboost\\src\\tree\\split_evaluator.h -> build\\temp.win32-3.8\\Release\\xgboost\\src\\tree\n",
      "  copying xgboost\\src\\tree\\tree_model.cc -> build\\temp.win32-3.8\\Release\\xgboost\\src\\tree\n",
      "  copying xgboost\\src\\tree\\tree_updater.cc -> build\\temp.win32-3.8\\Release\\xgboost\\src\\tree\n",
      "  copying xgboost\\src\\tree\\updater_basemaker-inl.h -> build\\temp.win32-3.8\\Release\\xgboost\\src\\tree\n",
      "  copying xgboost\\src\\tree\\updater_colmaker.cc -> build\\temp.win32-3.8\\Release\\xgboost\\src\\tree\n",
      "  copying xgboost\\src\\tree\\updater_gpu_common.cuh -> build\\temp.win32-3.8\\Release\\xgboost\\src\\tree\n",
      "  copying xgboost\\src\\tree\\updater_gpu_hist.cu -> build\\temp.win32-3.8\\Release\\xgboost\\src\\tree\n",
      "  copying xgboost\\src\\tree\\updater_histmaker.cc -> build\\temp.win32-3.8\\Release\\xgboost\\src\\tree\n",
      "  copying xgboost\\src\\tree\\updater_prune.cc -> build\\temp.win32-3.8\\Release\\xgboost\\src\\tree\n",
      "  copying xgboost\\src\\tree\\updater_quantile_hist.cc -> build\\temp.win32-3.8\\Release\\xgboost\\src\\tree\n",
      "  copying xgboost\\src\\tree\\updater_quantile_hist.h -> build\\temp.win32-3.8\\Release\\xgboost\\src\\tree\n",
      "  copying xgboost\\src\\tree\\updater_refresh.cc -> build\\temp.win32-3.8\\Release\\xgboost\\src\\tree\n",
      "  copying xgboost\\src\\tree\\updater_sync.cc -> build\\temp.win32-3.8\\Release\\xgboost\\src\\tree\n",
      "  creating build\\temp.win32-3.8\\Release\\xgboost\\include\n",
      "  creating build\\temp.win32-3.8\\Release\\xgboost\\include\\xgboost\n",
      "  copying xgboost\\include\\xgboost\\base.h -> build\\temp.win32-3.8\\Release\\xgboost\\include\\xgboost\n",
      "  copying xgboost\\include\\xgboost\\c_api.h -> build\\temp.win32-3.8\\Release\\xgboost\\include\\xgboost\n",
      "  copying xgboost\\include\\xgboost\\data.h -> build\\temp.win32-3.8\\Release\\xgboost\\include\\xgboost\n",
      "  copying xgboost\\include\\xgboost\\feature_map.h -> build\\temp.win32-3.8\\Release\\xgboost\\include\\xgboost\n",
      "  copying xgboost\\include\\xgboost\\gbm.h -> build\\temp.win32-3.8\\Release\\xgboost\\include\\xgboost\n",
      "  copying xgboost\\include\\xgboost\\generic_parameters.h -> build\\temp.win32-3.8\\Release\\xgboost\\include\\xgboost\n",
      "  copying xgboost\\include\\xgboost\\host_device_vector.h -> build\\temp.win32-3.8\\Release\\xgboost\\include\\xgboost\n",
      "  copying xgboost\\include\\xgboost\\intrusive_ptr.h -> build\\temp.win32-3.8\\Release\\xgboost\\include\\xgboost\n",
      "  copying xgboost\\include\\xgboost\\json.h -> build\\temp.win32-3.8\\Release\\xgboost\\include\\xgboost\n",
      "  copying xgboost\\include\\xgboost\\json_io.h -> build\\temp.win32-3.8\\Release\\xgboost\\include\\xgboost\n",
      "  copying xgboost\\include\\xgboost\\learner.h -> build\\temp.win32-3.8\\Release\\xgboost\\include\\xgboost\n",
      "  copying xgboost\\include\\xgboost\\linear_updater.h -> build\\temp.win32-3.8\\Release\\xgboost\\include\\xgboost\n",
      "  copying xgboost\\include\\xgboost\\logging.h -> build\\temp.win32-3.8\\Release\\xgboost\\include\\xgboost\n",
      "  copying xgboost\\include\\xgboost\\metric.h -> build\\temp.win32-3.8\\Release\\xgboost\\include\\xgboost\n",
      "  copying xgboost\\include\\xgboost\\model.h -> build\\temp.win32-3.8\\Release\\xgboost\\include\\xgboost\n",
      "  copying xgboost\\include\\xgboost\\objective.h -> build\\temp.win32-3.8\\Release\\xgboost\\include\\xgboost\n",
      "  copying xgboost\\include\\xgboost\\parameter.h -> build\\temp.win32-3.8\\Release\\xgboost\\include\\xgboost\n",
      "  copying xgboost\\include\\xgboost\\predictor.h -> build\\temp.win32-3.8\\Release\\xgboost\\include\\xgboost\n",
      "  copying xgboost\\include\\xgboost\\span.h -> build\\temp.win32-3.8\\Release\\xgboost\\include\\xgboost\n",
      "  copying xgboost\\include\\xgboost\\tree_model.h -> build\\temp.win32-3.8\\Release\\xgboost\\include\\xgboost\n",
      "  copying xgboost\\include\\xgboost\\tree_updater.h -> build\\temp.win32-3.8\\Release\\xgboost\\include\\xgboost\n",
      "  copying xgboost\\include\\xgboost\\version_config.h -> build\\temp.win32-3.8\\Release\\xgboost\\include\\xgboost\n",
      "  creating build\\temp.win32-3.8\\Release\\xgboost\\dmlc-core\n",
      "  copying xgboost\\dmlc-core\\.editorconfig -> build\\temp.win32-3.8\\Release\\xgboost\\dmlc-core\n",
      "  copying xgboost\\dmlc-core\\.git -> build\\temp.win32-3.8\\Release\\xgboost\\dmlc-core\n",
      "  creating build\\temp.win32-3.8\\Release\\xgboost\\dmlc-core\\.github\n",
      "  creating build\\temp.win32-3.8\\Release\\xgboost\\dmlc-core\\.github\\workflows\n",
      "  copying xgboost\\dmlc-core\\.github\\workflows\\githubci.yml -> build\\temp.win32-3.8\\Release\\xgboost\\dmlc-core\\.github\\workflows\n",
      "  copying xgboost\\dmlc-core\\.gitignore -> build\\temp.win32-3.8\\Release\\xgboost\\dmlc-core\n",
      "  copying xgboost\\dmlc-core\\appveyor.yml -> build\\temp.win32-3.8\\Release\\xgboost\\dmlc-core\n",
      "  creating build\\temp.win32-3.8\\Release\\xgboost\\dmlc-core\\cmake\n",
      "  copying xgboost\\dmlc-core\\cmake\\build_config.h.in -> build\\temp.win32-3.8\\Release\\xgboost\\dmlc-core\\cmake\n",
      "  copying xgboost\\dmlc-core\\cmake\\dmlc-config.cmake.in -> build\\temp.win32-3.8\\Release\\xgboost\\dmlc-core\\cmake\n",
      "  copying xgboost\\dmlc-core\\cmake\\gtest_cmake.in -> build\\temp.win32-3.8\\Release\\xgboost\\dmlc-core\\cmake\n",
      "  copying xgboost\\dmlc-core\\cmake\\lint.cmake -> build\\temp.win32-3.8\\Release\\xgboost\\dmlc-core\\cmake\n",
      "  creating build\\temp.win32-3.8\\Release\\xgboost\\dmlc-core\\cmake\\Modules\n",
      "  copying xgboost\\dmlc-core\\cmake\\Modules\\FindASan.cmake -> build\\temp.win32-3.8\\Release\\xgboost\\dmlc-core\\cmake\\Modules\n",
      "  copying xgboost\\dmlc-core\\cmake\\Modules\\FindHDFS.cmake -> build\\temp.win32-3.8\\Release\\xgboost\\dmlc-core\\cmake\\Modules\n",
      "  copying xgboost\\dmlc-core\\cmake\\Modules\\FindLSan.cmake -> build\\temp.win32-3.8\\Release\\xgboost\\dmlc-core\\cmake\\Modules\n",
      "  copying xgboost\\dmlc-core\\cmake\\Modules\\FindTSan.cmake -> build\\temp.win32-3.8\\Release\\xgboost\\dmlc-core\\cmake\\Modules\n",
      "  copying xgboost\\dmlc-core\\cmake\\Modules\\FindUBSan.cmake -> build\\temp.win32-3.8\\Release\\xgboost\\dmlc-core\\cmake\\Modules\n",
      "  copying xgboost\\dmlc-core\\cmake\\Sanitizer.cmake -> build\\temp.win32-3.8\\Release\\xgboost\\dmlc-core\\cmake\n",
      "  copying xgboost\\dmlc-core\\cmake\\Utils.cmake -> build\\temp.win32-3.8\\Release\\xgboost\\dmlc-core\\cmake\n",
      "  copying xgboost\\dmlc-core\\CMakeLists.txt -> build\\temp.win32-3.8\\Release\\xgboost\\dmlc-core\n",
      "  creating build\\temp.win32-3.8\\Release\\xgboost\\dmlc-core\\doc\n",
      "  copying xgboost\\dmlc-core\\doc\\.gitignore -> build\\temp.win32-3.8\\Release\\xgboost\\dmlc-core\\doc\n",
      "  copying xgboost\\dmlc-core\\doc\\build.md -> build\\temp.win32-3.8\\Release\\xgboost\\dmlc-core\\doc\n",
      "  copying xgboost\\dmlc-core\\doc\\conf.py -> build\\temp.win32-3.8\\Release\\xgboost\\dmlc-core\\doc\n",
      "  copying xgboost\\dmlc-core\\doc\\Doxyfile -> build\\temp.win32-3.8\\Release\\xgboost\\dmlc-core\\doc\n",
      "  copying xgboost\\dmlc-core\\doc\\index.md -> build\\temp.win32-3.8\\Release\\xgboost\\dmlc-core\\doc\n",
      "  copying xgboost\\dmlc-core\\doc\\Makefile -> build\\temp.win32-3.8\\Release\\xgboost\\dmlc-core\\doc\n",
      "  copying xgboost\\dmlc-core\\doc\\parameter.md -> build\\temp.win32-3.8\\Release\\xgboost\\dmlc-core\\doc\n",
      "  copying xgboost\\dmlc-core\\doc\\README -> build\\temp.win32-3.8\\Release\\xgboost\\dmlc-core\\doc\n",
      "  copying xgboost\\dmlc-core\\doc\\sphinx_util.py -> build\\temp.win32-3.8\\Release\\xgboost\\dmlc-core\\doc\n",
      "  creating build\\temp.win32-3.8\\Release\\xgboost\\dmlc-core\\example\n",
      "  copying xgboost\\dmlc-core\\example\\dmlc_example.mk -> build\\temp.win32-3.8\\Release\\xgboost\\dmlc-core\\example\n",
      "  copying xgboost\\dmlc-core\\example\\parameter.cc -> build\\temp.win32-3.8\\Release\\xgboost\\dmlc-core\\example\n",
      "  creating build\\temp.win32-3.8\\Release\\xgboost\\dmlc-core\\include\n",
      "  creating build\\temp.win32-3.8\\Release\\xgboost\\dmlc-core\\include\\dmlc\n",
      "  copying xgboost\\dmlc-core\\include\\dmlc\\any.h -> build\\temp.win32-3.8\\Release\\xgboost\\dmlc-core\\include\\dmlc\n",
      "  copying xgboost\\dmlc-core\\include\\dmlc\\array_view.h -> build\\temp.win32-3.8\\Release\\xgboost\\dmlc-core\\include\\dmlc\n",
      "  copying xgboost\\dmlc-core\\include\\dmlc\\base.h -> build\\temp.win32-3.8\\Release\\xgboost\\dmlc-core\\include\\dmlc\n",
      "  copying xgboost\\dmlc-core\\include\\dmlc\\blockingconcurrentqueue.h -> build\\temp.win32-3.8\\Release\\xgboost\\dmlc-core\\include\\dmlc\n",
      "  copying xgboost\\dmlc-core\\include\\dmlc\\build_config_default.h -> build\\temp.win32-3.8\\Release\\xgboost\\dmlc-core\\include\\dmlc\n",
      "  copying xgboost\\dmlc-core\\include\\dmlc\\common.h -> build\\temp.win32-3.8\\Release\\xgboost\\dmlc-core\\include\\dmlc\n",
      "  copying xgboost\\dmlc-core\\include\\dmlc\\concurrency.h -> build\\temp.win32-3.8\\Release\\xgboost\\dmlc-core\\include\\dmlc\n",
      "  copying xgboost\\dmlc-core\\include\\dmlc\\concurrentqueue.h -> build\\temp.win32-3.8\\Release\\xgboost\\dmlc-core\\include\\dmlc\n",
      "  copying xgboost\\dmlc-core\\include\\dmlc\\config.h -> build\\temp.win32-3.8\\Release\\xgboost\\dmlc-core\\include\\dmlc\n",
      "  copying xgboost\\dmlc-core\\include\\dmlc\\data.h -> build\\temp.win32-3.8\\Release\\xgboost\\dmlc-core\\include\\dmlc\n",
      "  copying xgboost\\dmlc-core\\include\\dmlc\\endian.h -> build\\temp.win32-3.8\\Release\\xgboost\\dmlc-core\\include\\dmlc\n",
      "  copying xgboost\\dmlc-core\\include\\dmlc\\filesystem.h -> build\\temp.win32-3.8\\Release\\xgboost\\dmlc-core\\include\\dmlc\n",
      "  copying xgboost\\dmlc-core\\include\\dmlc\\input_split_shuffle.h -> build\\temp.win32-3.8\\Release\\xgboost\\dmlc-core\\include\\dmlc\n",
      "  copying xgboost\\dmlc-core\\include\\dmlc\\io.h -> build\\temp.win32-3.8\\Release\\xgboost\\dmlc-core\\include\\dmlc\n",
      "  copying xgboost\\dmlc-core\\include\\dmlc\\json.h -> build\\temp.win32-3.8\\Release\\xgboost\\dmlc-core\\include\\dmlc\n",
      "  copying xgboost\\dmlc-core\\include\\dmlc\\logging.h -> build\\temp.win32-3.8\\Release\\xgboost\\dmlc-core\\include\\dmlc\n",
      "  copying xgboost\\dmlc-core\\include\\dmlc\\lua.h -> build\\temp.win32-3.8\\Release\\xgboost\\dmlc-core\\include\\dmlc\n",
      "  copying xgboost\\dmlc-core\\include\\dmlc\\memory.h -> build\\temp.win32-3.8\\Release\\xgboost\\dmlc-core\\include\\dmlc\n",
      "  copying xgboost\\dmlc-core\\include\\dmlc\\memory_io.h -> build\\temp.win32-3.8\\Release\\xgboost\\dmlc-core\\include\\dmlc\n",
      "  copying xgboost\\dmlc-core\\include\\dmlc\\omp.h -> build\\temp.win32-3.8\\Release\\xgboost\\dmlc-core\\include\\dmlc\n",
      "  copying xgboost\\dmlc-core\\include\\dmlc\\optional.h -> build\\temp.win32-3.8\\Release\\xgboost\\dmlc-core\\include\\dmlc\n",
      "  copying xgboost\\dmlc-core\\include\\dmlc\\parameter.h -> build\\temp.win32-3.8\\Release\\xgboost\\dmlc-core\\include\\dmlc\n",
      "  copying xgboost\\dmlc-core\\include\\dmlc\\recordio.h -> build\\temp.win32-3.8\\Release\\xgboost\\dmlc-core\\include\\dmlc\n",
      "  copying xgboost\\dmlc-core\\include\\dmlc\\registry.h -> build\\temp.win32-3.8\\Release\\xgboost\\dmlc-core\\include\\dmlc\n",
      "  copying xgboost\\dmlc-core\\include\\dmlc\\serializer.h -> build\\temp.win32-3.8\\Release\\xgboost\\dmlc-core\\include\\dmlc\n",
      "  copying xgboost\\dmlc-core\\include\\dmlc\\strtonum.h -> build\\temp.win32-3.8\\Release\\xgboost\\dmlc-core\\include\\dmlc\n",
      "  copying xgboost\\dmlc-core\\include\\dmlc\\threadediter.h -> build\\temp.win32-3.8\\Release\\xgboost\\dmlc-core\\include\\dmlc\n",
      "  copying xgboost\\dmlc-core\\include\\dmlc\\thread_group.h -> build\\temp.win32-3.8\\Release\\xgboost\\dmlc-core\\include\\dmlc\n",
      "  copying xgboost\\dmlc-core\\include\\dmlc\\thread_local.h -> build\\temp.win32-3.8\\Release\\xgboost\\dmlc-core\\include\\dmlc\n",
      "  copying xgboost\\dmlc-core\\include\\dmlc\\timer.h -> build\\temp.win32-3.8\\Release\\xgboost\\dmlc-core\\include\\dmlc\n",
      "  copying xgboost\\dmlc-core\\include\\dmlc\\type_traits.h -> build\\temp.win32-3.8\\Release\\xgboost\\dmlc-core\\include\\dmlc\n",
      "  copying xgboost\\dmlc-core\\LICENSE -> build\\temp.win32-3.8\\Release\\xgboost\\dmlc-core\n",
      "  creating build\\temp.win32-3.8\\Release\\xgboost\\dmlc-core\\make\n",
      "  copying xgboost\\dmlc-core\\make\\config.mk -> build\\temp.win32-3.8\\Release\\xgboost\\dmlc-core\\make\n",
      "  copying xgboost\\dmlc-core\\make\\dmlc.mk -> build\\temp.win32-3.8\\Release\\xgboost\\dmlc-core\\make\n",
      "  copying xgboost\\dmlc-core\\Makefile -> build\\temp.win32-3.8\\Release\\xgboost\\dmlc-core\n",
      "  copying xgboost\\dmlc-core\\README.md -> build\\temp.win32-3.8\\Release\\xgboost\\dmlc-core\n",
      "  creating build\\temp.win32-3.8\\Release\\xgboost\\dmlc-core\\scripts\n",
      "  copying xgboost\\dmlc-core\\scripts\\lint.py -> build\\temp.win32-3.8\\Release\\xgboost\\dmlc-core\\scripts\n",
      "  copying xgboost\\dmlc-core\\scripts\\packages.mk -> build\\temp.win32-3.8\\Release\\xgboost\\dmlc-core\\scripts\n",
      "  creating build\\temp.win32-3.8\\Release\\xgboost\\dmlc-core\\scripts\\s390x\n",
      "  copying xgboost\\dmlc-core\\scripts\\s390x\\build_via_cmake.sh -> build\\temp.win32-3.8\\Release\\xgboost\\dmlc-core\\scripts\\s390x\n",
      "  copying xgboost\\dmlc-core\\scripts\\s390x\\ci_build.sh -> build\\temp.win32-3.8\\Release\\xgboost\\dmlc-core\\scripts\\s390x\n",
      "  copying xgboost\\dmlc-core\\scripts\\s390x\\Dockerfile -> build\\temp.win32-3.8\\Release\\xgboost\\dmlc-core\\scripts\\s390x\n",
      "  copying xgboost\\dmlc-core\\scripts\\s390x\\entrypoint.sh -> build\\temp.win32-3.8\\Release\\xgboost\\dmlc-core\\scripts\\s390x\n",
      "  copying xgboost\\dmlc-core\\scripts\\test_script.sh -> build\\temp.win32-3.8\\Release\\xgboost\\dmlc-core\\scripts\n",
      "  creating build\\temp.win32-3.8\\Release\\xgboost\\dmlc-core\\src\n",
      "  copying xgboost\\dmlc-core\\src\\config.cc -> build\\temp.win32-3.8\\Release\\xgboost\\dmlc-core\\src\n",
      "  creating build\\temp.win32-3.8\\Release\\xgboost\\dmlc-core\\src\\data\n",
      "  copying xgboost\\dmlc-core\\src\\data\\basic_row_iter.h -> build\\temp.win32-3.8\\Release\\xgboost\\dmlc-core\\src\\data\n",
      "  copying xgboost\\dmlc-core\\src\\data\\csv_parser.h -> build\\temp.win32-3.8\\Release\\xgboost\\dmlc-core\\src\\data\n",
      "  copying xgboost\\dmlc-core\\src\\data\\disk_row_iter.h -> build\\temp.win32-3.8\\Release\\xgboost\\dmlc-core\\src\\data\n",
      "  copying xgboost\\dmlc-core\\src\\data\\libfm_parser.h -> build\\temp.win32-3.8\\Release\\xgboost\\dmlc-core\\src\\data\n",
      "  copying xgboost\\dmlc-core\\src\\data\\libsvm_parser.h -> build\\temp.win32-3.8\\Release\\xgboost\\dmlc-core\\src\\data\n",
      "  copying xgboost\\dmlc-core\\src\\data\\parser.h -> build\\temp.win32-3.8\\Release\\xgboost\\dmlc-core\\src\\data\n",
      "  copying xgboost\\dmlc-core\\src\\data\\row_block.h -> build\\temp.win32-3.8\\Release\\xgboost\\dmlc-core\\src\\data\n",
      "  copying xgboost\\dmlc-core\\src\\data\\text_parser.h -> build\\temp.win32-3.8\\Release\\xgboost\\dmlc-core\\src\\data\n",
      "  copying xgboost\\dmlc-core\\src\\data.cc -> build\\temp.win32-3.8\\Release\\xgboost\\dmlc-core\\src\n",
      "  creating build\\temp.win32-3.8\\Release\\xgboost\\dmlc-core\\src\\io\n",
      "  copying xgboost\\dmlc-core\\src\\io\\azure_filesys.cc -> build\\temp.win32-3.8\\Release\\xgboost\\dmlc-core\\src\\io\n",
      "  copying xgboost\\dmlc-core\\src\\io\\azure_filesys.h -> build\\temp.win32-3.8\\Release\\xgboost\\dmlc-core\\src\\io\n",
      "  copying xgboost\\dmlc-core\\src\\io\\cached_input_split.h -> build\\temp.win32-3.8\\Release\\xgboost\\dmlc-core\\src\\io\n",
      "  copying xgboost\\dmlc-core\\src\\io\\filesys.cc -> build\\temp.win32-3.8\\Release\\xgboost\\dmlc-core\\src\\io\n",
      "  copying xgboost\\dmlc-core\\src\\io\\hdfs_filesys.cc -> build\\temp.win32-3.8\\Release\\xgboost\\dmlc-core\\src\\io\n",
      "  copying xgboost\\dmlc-core\\src\\io\\hdfs_filesys.h -> build\\temp.win32-3.8\\Release\\xgboost\\dmlc-core\\src\\io\n",
      "  copying xgboost\\dmlc-core\\src\\io\\indexed_recordio_split.cc -> build\\temp.win32-3.8\\Release\\xgboost\\dmlc-core\\src\\io\n",
      "  copying xgboost\\dmlc-core\\src\\io\\indexed_recordio_split.h -> build\\temp.win32-3.8\\Release\\xgboost\\dmlc-core\\src\\io\n",
      "  copying xgboost\\dmlc-core\\src\\io\\input_split_base.cc -> build\\temp.win32-3.8\\Release\\xgboost\\dmlc-core\\src\\io\n",
      "  copying xgboost\\dmlc-core\\src\\io\\input_split_base.h -> build\\temp.win32-3.8\\Release\\xgboost\\dmlc-core\\src\\io\n",
      "  copying xgboost\\dmlc-core\\src\\io\\line_split.cc -> build\\temp.win32-3.8\\Release\\xgboost\\dmlc-core\\src\\io\n",
      "  copying xgboost\\dmlc-core\\src\\io\\line_split.h -> build\\temp.win32-3.8\\Release\\xgboost\\dmlc-core\\src\\io\n",
      "  copying xgboost\\dmlc-core\\src\\io\\local_filesys.cc -> build\\temp.win32-3.8\\Release\\xgboost\\dmlc-core\\src\\io\n",
      "  copying xgboost\\dmlc-core\\src\\io\\local_filesys.h -> build\\temp.win32-3.8\\Release\\xgboost\\dmlc-core\\src\\io\n",
      "  copying xgboost\\dmlc-core\\src\\io\\recordio_split.cc -> build\\temp.win32-3.8\\Release\\xgboost\\dmlc-core\\src\\io\n",
      "  copying xgboost\\dmlc-core\\src\\io\\recordio_split.h -> build\\temp.win32-3.8\\Release\\xgboost\\dmlc-core\\src\\io\n",
      "  copying xgboost\\dmlc-core\\src\\io\\s3_filesys.cc -> build\\temp.win32-3.8\\Release\\xgboost\\dmlc-core\\src\\io\n",
      "  copying xgboost\\dmlc-core\\src\\io\\s3_filesys.h -> build\\temp.win32-3.8\\Release\\xgboost\\dmlc-core\\src\\io\n",
      "  copying xgboost\\dmlc-core\\src\\io\\single_file_split.h -> build\\temp.win32-3.8\\Release\\xgboost\\dmlc-core\\src\\io\n",
      "  copying xgboost\\dmlc-core\\src\\io\\single_threaded_input_split.h -> build\\temp.win32-3.8\\Release\\xgboost\\dmlc-core\\src\\io\n",
      "  copying xgboost\\dmlc-core\\src\\io\\threaded_input_split.h -> build\\temp.win32-3.8\\Release\\xgboost\\dmlc-core\\src\\io\n",
      "  copying xgboost\\dmlc-core\\src\\io\\uri_spec.h -> build\\temp.win32-3.8\\Release\\xgboost\\dmlc-core\\src\\io\n",
      "  copying xgboost\\dmlc-core\\src\\io.cc -> build\\temp.win32-3.8\\Release\\xgboost\\dmlc-core\\src\n",
      "  copying xgboost\\dmlc-core\\src\\recordio.cc -> build\\temp.win32-3.8\\Release\\xgboost\\dmlc-core\\src\n",
      "  creating build\\temp.win32-3.8\\Release\\xgboost\\dmlc-core\\test\n",
      "  copying xgboost\\dmlc-core\\test\\.gitignore -> build\\temp.win32-3.8\\Release\\xgboost\\dmlc-core\\test\n",
      "  copying xgboost\\dmlc-core\\test\\csv_parser_test.cc -> build\\temp.win32-3.8\\Release\\xgboost\\dmlc-core\\test\n",
      "  copying xgboost\\dmlc-core\\test\\dataiter_test.cc -> build\\temp.win32-3.8\\Release\\xgboost\\dmlc-core\\test\n",
      "  copying xgboost\\dmlc-core\\test\\dmlc_test.mk -> build\\temp.win32-3.8\\Release\\xgboost\\dmlc-core\\test\n",
      "  copying xgboost\\dmlc-core\\test\\filesys_test.cc -> build\\temp.win32-3.8\\Release\\xgboost\\dmlc-core\\test\n",
      "  copying xgboost\\dmlc-core\\test\\iostream_test.cc -> build\\temp.win32-3.8\\Release\\xgboost\\dmlc-core\\test\n",
      "  copying xgboost\\dmlc-core\\test\\libfm_parser_test.cc -> build\\temp.win32-3.8\\Release\\xgboost\\dmlc-core\\test\n",
      "  copying xgboost\\dmlc-core\\test\\libsvm_parser_test.cc -> build\\temp.win32-3.8\\Release\\xgboost\\dmlc-core\\test\n",
      "  copying xgboost\\dmlc-core\\test\\logging_test.cc -> build\\temp.win32-3.8\\Release\\xgboost\\dmlc-core\\test\n",
      "  copying xgboost\\dmlc-core\\test\\parameter_test.cc -> build\\temp.win32-3.8\\Release\\xgboost\\dmlc-core\\test\n",
      "  copying xgboost\\dmlc-core\\test\\README.md -> build\\temp.win32-3.8\\Release\\xgboost\\dmlc-core\\test\n",
      "  copying xgboost\\dmlc-core\\test\\recordio_test.cc -> build\\temp.win32-3.8\\Release\\xgboost\\dmlc-core\\test\n",
      "  copying xgboost\\dmlc-core\\test\\registry_test.cc -> build\\temp.win32-3.8\\Release\\xgboost\\dmlc-core\\test\n",
      "  copying xgboost\\dmlc-core\\test\\split_read_test.cc -> build\\temp.win32-3.8\\Release\\xgboost\\dmlc-core\\test\n",
      "  copying xgboost\\dmlc-core\\test\\split_repeat_read_test.cc -> build\\temp.win32-3.8\\Release\\xgboost\\dmlc-core\\test\n",
      "  copying xgboost\\dmlc-core\\test\\split_test.cc -> build\\temp.win32-3.8\\Release\\xgboost\\dmlc-core\\test\n",
      "  copying xgboost\\dmlc-core\\test\\stream_read_test.cc -> build\\temp.win32-3.8\\Release\\xgboost\\dmlc-core\\test\n",
      "  copying xgboost\\dmlc-core\\test\\strtonum_test.cc -> build\\temp.win32-3.8\\Release\\xgboost\\dmlc-core\\test\n",
      "  creating build\\temp.win32-3.8\\Release\\xgboost\\dmlc-core\\test\\unittest\n",
      "  copying xgboost\\dmlc-core\\test\\unittest\\.gitignore -> build\\temp.win32-3.8\\Release\\xgboost\\dmlc-core\\test\\unittest\n",
      "  copying xgboost\\dmlc-core\\test\\unittest\\build_config.h -> build\\temp.win32-3.8\\Release\\xgboost\\dmlc-core\\test\\unittest\n",
      "  copying xgboost\\dmlc-core\\test\\unittest\\build_config.h.in -> build\\temp.win32-3.8\\Release\\xgboost\\dmlc-core\\test\\unittest\n",
      "  copying xgboost\\dmlc-core\\test\\unittest\\CMakeLists.txt -> build\\temp.win32-3.8\\Release\\xgboost\\dmlc-core\\test\\unittest\n",
      "  copying xgboost\\dmlc-core\\test\\unittest\\dmlc_unittest.mk -> build\\temp.win32-3.8\\Release\\xgboost\\dmlc-core\\test\\unittest\n",
      "  copying xgboost\\dmlc-core\\test\\unittest\\sample.rec -> build\\temp.win32-3.8\\Release\\xgboost\\dmlc-core\\test\\unittest\n",
      "  copying xgboost\\dmlc-core\\test\\unittest\\unittest_any.cc -> build\\temp.win32-3.8\\Release\\xgboost\\dmlc-core\\test\\unittest\n",
      "  copying xgboost\\dmlc-core\\test\\unittest\\unittest_array_view.cc -> build\\temp.win32-3.8\\Release\\xgboost\\dmlc-core\\test\\unittest\n",
      "  copying xgboost\\dmlc-core\\test\\unittest\\unittest_config.cc -> build\\temp.win32-3.8\\Release\\xgboost\\dmlc-core\\test\\unittest\n",
      "  copying xgboost\\dmlc-core\\test\\unittest\\unittest_env.cc -> build\\temp.win32-3.8\\Release\\xgboost\\dmlc-core\\test\\unittest\n",
      "  copying xgboost\\dmlc-core\\test\\unittest\\unittest_inputsplit.cc -> build\\temp.win32-3.8\\Release\\xgboost\\dmlc-core\\test\\unittest\n",
      "  copying xgboost\\dmlc-core\\test\\unittest\\unittest_json.cc -> build\\temp.win32-3.8\\Release\\xgboost\\dmlc-core\\test\\unittest\n",
      "  copying xgboost\\dmlc-core\\test\\unittest\\unittest_lockfree.cc -> build\\temp.win32-3.8\\Release\\xgboost\\dmlc-core\\test\\unittest\n",
      "  copying xgboost\\dmlc-core\\test\\unittest\\unittest_logging.cc -> build\\temp.win32-3.8\\Release\\xgboost\\dmlc-core\\test\\unittest\n",
      "  copying xgboost\\dmlc-core\\test\\unittest\\unittest_main.cc -> build\\temp.win32-3.8\\Release\\xgboost\\dmlc-core\\test\\unittest\n",
      "  copying xgboost\\dmlc-core\\test\\unittest\\unittest_optional.cc -> build\\temp.win32-3.8\\Release\\xgboost\\dmlc-core\\test\\unittest\n",
      "  copying xgboost\\dmlc-core\\test\\unittest\\unittest_param.cc -> build\\temp.win32-3.8\\Release\\xgboost\\dmlc-core\\test\\unittest\n",
      "  copying xgboost\\dmlc-core\\test\\unittest\\unittest_parser.cc -> build\\temp.win32-3.8\\Release\\xgboost\\dmlc-core\\test\\unittest\n",
      "  copying xgboost\\dmlc-core\\test\\unittest\\unittest_serializer.cc -> build\\temp.win32-3.8\\Release\\xgboost\\dmlc-core\\test\\unittest\n",
      "  copying xgboost\\dmlc-core\\test\\unittest\\unittest_tempdir.cc -> build\\temp.win32-3.8\\Release\\xgboost\\dmlc-core\\test\\unittest\n",
      "  copying xgboost\\dmlc-core\\test\\unittest\\unittest_threaditer.cc -> build\\temp.win32-3.8\\Release\\xgboost\\dmlc-core\\test\\unittest\n",
      "  copying xgboost\\dmlc-core\\test\\unittest\\unittest_threaditer_exc_handling.cc -> build\\temp.win32-3.8\\Release\\xgboost\\dmlc-core\\test\\unittest\n",
      "  copying xgboost\\dmlc-core\\test\\unittest\\unittest_thread_group.cc -> build\\temp.win32-3.8\\Release\\xgboost\\dmlc-core\\test\\unittest\n",
      "  creating build\\temp.win32-3.8\\Release\\xgboost\\dmlc-core\\tracker\n",
      "  copying xgboost\\dmlc-core\\tracker\\dmlc-submit -> build\\temp.win32-3.8\\Release\\xgboost\\dmlc-core\\tracker\n",
      "  creating build\\temp.win32-3.8\\Release\\xgboost\\dmlc-core\\tracker\\dmlc_tracker\n",
      "  copying xgboost\\dmlc-core\\tracker\\dmlc_tracker\\kubernetes.py -> build\\temp.win32-3.8\\Release\\xgboost\\dmlc-core\\tracker\\dmlc_tracker\n",
      "  copying xgboost\\dmlc-core\\tracker\\dmlc_tracker\\launcher.py -> build\\temp.win32-3.8\\Release\\xgboost\\dmlc-core\\tracker\\dmlc_tracker\n",
      "  copying xgboost\\dmlc-core\\tracker\\dmlc_tracker\\local.py -> build\\temp.win32-3.8\\Release\\xgboost\\dmlc-core\\tracker\\dmlc_tracker\n",
      "  copying xgboost\\dmlc-core\\tracker\\dmlc_tracker\\mesos.py -> build\\temp.win32-3.8\\Release\\xgboost\\dmlc-core\\tracker\\dmlc_tracker\n",
      "  copying xgboost\\dmlc-core\\tracker\\dmlc_tracker\\mpi.py -> build\\temp.win32-3.8\\Release\\xgboost\\dmlc-core\\tracker\\dmlc_tracker\n",
      "  copying xgboost\\dmlc-core\\tracker\\dmlc_tracker\\opts.py -> build\\temp.win32-3.8\\Release\\xgboost\\dmlc-core\\tracker\\dmlc_tracker\n",
      "  copying xgboost\\dmlc-core\\tracker\\dmlc_tracker\\sge.py -> build\\temp.win32-3.8\\Release\\xgboost\\dmlc-core\\tracker\\dmlc_tracker\n",
      "  copying xgboost\\dmlc-core\\tracker\\dmlc_tracker\\slurm.py -> build\\temp.win32-3.8\\Release\\xgboost\\dmlc-core\\tracker\\dmlc_tracker\n",
      "  copying xgboost\\dmlc-core\\tracker\\dmlc_tracker\\ssh.py -> build\\temp.win32-3.8\\Release\\xgboost\\dmlc-core\\tracker\\dmlc_tracker\n",
      "  copying xgboost\\dmlc-core\\tracker\\dmlc_tracker\\submit.py -> build\\temp.win32-3.8\\Release\\xgboost\\dmlc-core\\tracker\\dmlc_tracker\n",
      "  copying xgboost\\dmlc-core\\tracker\\dmlc_tracker\\tracker.py -> build\\temp.win32-3.8\\Release\\xgboost\\dmlc-core\\tracker\\dmlc_tracker\n",
      "  copying xgboost\\dmlc-core\\tracker\\dmlc_tracker\\util.py -> build\\temp.win32-3.8\\Release\\xgboost\\dmlc-core\\tracker\\dmlc_tracker\n",
      "  copying xgboost\\dmlc-core\\tracker\\dmlc_tracker\\yarn.py -> build\\temp.win32-3.8\\Release\\xgboost\\dmlc-core\\tracker\\dmlc_tracker\n",
      "  copying xgboost\\dmlc-core\\tracker\\dmlc_tracker\\__init__.py -> build\\temp.win32-3.8\\Release\\xgboost\\dmlc-core\\tracker\\dmlc_tracker\n",
      "  copying xgboost\\dmlc-core\\tracker\\README.md -> build\\temp.win32-3.8\\Release\\xgboost\\dmlc-core\\tracker\n",
      "  creating build\\temp.win32-3.8\\Release\\xgboost\\dmlc-core\\tracker\\yarn\n",
      "  copying xgboost\\dmlc-core\\tracker\\yarn\\.gitignore -> build\\temp.win32-3.8\\Release\\xgboost\\dmlc-core\\tracker\\yarn\n",
      "  copying xgboost\\dmlc-core\\tracker\\yarn\\build.bat -> build\\temp.win32-3.8\\Release\\xgboost\\dmlc-core\\tracker\\yarn\n",
      "  copying xgboost\\dmlc-core\\tracker\\yarn\\build.sh -> build\\temp.win32-3.8\\Release\\xgboost\\dmlc-core\\tracker\\yarn\n",
      "  copying xgboost\\dmlc-core\\tracker\\yarn\\pom.xml -> build\\temp.win32-3.8\\Release\\xgboost\\dmlc-core\\tracker\\yarn\n",
      "  copying xgboost\\dmlc-core\\tracker\\yarn\\README.md -> build\\temp.win32-3.8\\Release\\xgboost\\dmlc-core\\tracker\\yarn\n",
      "  creating build\\temp.win32-3.8\\Release\\xgboost\\dmlc-core\\tracker\\yarn\\src\n",
      "  creating build\\temp.win32-3.8\\Release\\xgboost\\dmlc-core\\tracker\\yarn\\src\\main\n",
      "  creating build\\temp.win32-3.8\\Release\\xgboost\\dmlc-core\\tracker\\yarn\\src\\main\\java\n",
      "  creating build\\temp.win32-3.8\\Release\\xgboost\\dmlc-core\\tracker\\yarn\\src\\main\\java\\org\n",
      "  creating build\\temp.win32-3.8\\Release\\xgboost\\dmlc-core\\tracker\\yarn\\src\\main\\java\\org\\apache\n",
      "  creating build\\temp.win32-3.8\\Release\\xgboost\\dmlc-core\\tracker\\yarn\\src\\main\\java\\org\\apache\\hadoop\n",
      "  creating build\\temp.win32-3.8\\Release\\xgboost\\dmlc-core\\tracker\\yarn\\src\\main\\java\\org\\apache\\hadoop\\yarn\n",
      "  creating build\\temp.win32-3.8\\Release\\xgboost\\dmlc-core\\tracker\\yarn\\src\\main\\java\\org\\apache\\hadoop\\yarn\\dmlc\n",
      "  copying xgboost\\dmlc-core\\tracker\\yarn\\src\\main\\java\\org\\apache\\hadoop\\yarn\\dmlc\\ApplicationMaster.java -> build\\temp.win32-3.8\\Release\\xgboost\\dmlc-core\\tracker\\yarn\\src\\main\\java\\org\\apache\\hadoop\\yarn\\dmlc\n",
      "  copying xgboost\\dmlc-core\\tracker\\yarn\\src\\main\\java\\org\\apache\\hadoop\\yarn\\dmlc\\Client.java -> build\\temp.win32-3.8\\Release\\xgboost\\dmlc-core\\tracker\\yarn\\src\\main\\java\\org\\apache\\hadoop\\yarn\\dmlc\n",
      "  copying xgboost\\dmlc-core\\tracker\\yarn\\src\\main\\java\\org\\apache\\hadoop\\yarn\\dmlc\\TaskRecord.java -> build\\temp.win32-3.8\\Release\\xgboost\\dmlc-core\\tracker\\yarn\\src\\main\\java\\org\\apache\\hadoop\\yarn\\dmlc\n",
      "  creating build\\temp.win32-3.8\\Release\\xgboost\\dmlc-core\\windows\n",
      "  copying xgboost\\dmlc-core\\windows\\.gitignore -> build\\temp.win32-3.8\\Release\\xgboost\\dmlc-core\\windows\n",
      "  creating build\\temp.win32-3.8\\Release\\xgboost\\dmlc-core\\windows\\dmlc\n",
      "  copying xgboost\\dmlc-core\\windows\\dmlc\\dmlc.vcxproj -> build\\temp.win32-3.8\\Release\\xgboost\\dmlc-core\\windows\\dmlc\n",
      "  copying xgboost\\dmlc-core\\windows\\dmlc.sln -> build\\temp.win32-3.8\\Release\\xgboost\\dmlc-core\\windows\n",
      "  copying xgboost\\dmlc-core\\windows\\README.md -> build\\temp.win32-3.8\\Release\\xgboost\\dmlc-core\\windows\n",
      "  creating build\\temp.win32-3.8\\Release\\xgboost\\rabit\n",
      "  copying xgboost\\rabit\\.gitignore -> build\\temp.win32-3.8\\Release\\xgboost\\rabit\n",
      "  copying xgboost\\rabit\\CMakeLists.txt -> build\\temp.win32-3.8\\Release\\xgboost\\rabit\n",
      "  creating build\\temp.win32-3.8\\Release\\xgboost\\rabit\\doc\n",
      "  copying xgboost\\rabit\\doc\\.gitignore -> build\\temp.win32-3.8\\Release\\xgboost\\rabit\\doc\n",
      "  copying xgboost\\rabit\\doc\\conf.py -> build\\temp.win32-3.8\\Release\\xgboost\\rabit\\doc\n",
      "  copying xgboost\\rabit\\doc\\cpp_api.md -> build\\temp.win32-3.8\\Release\\xgboost\\rabit\\doc\n",
      "  copying xgboost\\rabit\\doc\\Doxyfile -> build\\temp.win32-3.8\\Release\\xgboost\\rabit\\doc\n",
      "  copying xgboost\\rabit\\doc\\guide.md -> build\\temp.win32-3.8\\Release\\xgboost\\rabit\\doc\n",
      "  copying xgboost\\rabit\\doc\\index.md -> build\\temp.win32-3.8\\Release\\xgboost\\rabit\\doc\n",
      "  copying xgboost\\rabit\\doc\\Makefile -> build\\temp.win32-3.8\\Release\\xgboost\\rabit\\doc\n",
      "  copying xgboost\\rabit\\doc\\parameters.md -> build\\temp.win32-3.8\\Release\\xgboost\\rabit\\doc\n",
      "  copying xgboost\\rabit\\doc\\python-requirements.txt -> build\\temp.win32-3.8\\Release\\xgboost\\rabit\\doc\n",
      "  copying xgboost\\rabit\\doc\\python_api.md -> build\\temp.win32-3.8\\Release\\xgboost\\rabit\\doc\n",
      "  copying xgboost\\rabit\\doc\\sphinx_util.py -> build\\temp.win32-3.8\\Release\\xgboost\\rabit\\doc\n",
      "  creating build\\temp.win32-3.8\\Release\\xgboost\\rabit\\guide\n",
      "  copying xgboost\\rabit\\guide\\basic.cc -> build\\temp.win32-3.8\\Release\\xgboost\\rabit\\guide\n",
      "  copying xgboost\\rabit\\guide\\basic.py -> build\\temp.win32-3.8\\Release\\xgboost\\rabit\\guide\n",
      "  copying xgboost\\rabit\\guide\\broadcast.cc -> build\\temp.win32-3.8\\Release\\xgboost\\rabit\\guide\n",
      "  copying xgboost\\rabit\\guide\\broadcast.py -> build\\temp.win32-3.8\\Release\\xgboost\\rabit\\guide\n",
      "  copying xgboost\\rabit\\guide\\lazy_allreduce.cc -> build\\temp.win32-3.8\\Release\\xgboost\\rabit\\guide\n",
      "  copying xgboost\\rabit\\guide\\lazy_allreduce.py -> build\\temp.win32-3.8\\Release\\xgboost\\rabit\\guide\n",
      "  copying xgboost\\rabit\\guide\\Makefile -> build\\temp.win32-3.8\\Release\\xgboost\\rabit\\guide\n",
      "  copying xgboost\\rabit\\guide\\README -> build\\temp.win32-3.8\\Release\\xgboost\\rabit\\guide\n",
      "  creating build\\temp.win32-3.8\\Release\\xgboost\\rabit\\include\n",
      "  creating build\\temp.win32-3.8\\Release\\xgboost\\rabit\\include\\rabit\n",
      "  copying xgboost\\rabit\\include\\rabit\\base.h -> build\\temp.win32-3.8\\Release\\xgboost\\rabit\\include\\rabit\n",
      "  copying xgboost\\rabit\\include\\rabit\\c_api.h -> build\\temp.win32-3.8\\Release\\xgboost\\rabit\\include\\rabit\n",
      "  creating build\\temp.win32-3.8\\Release\\xgboost\\rabit\\include\\rabit\\internal\n",
      "  copying xgboost\\rabit\\include\\rabit\\internal\\engine.h -> build\\temp.win32-3.8\\Release\\xgboost\\rabit\\include\\rabit\\internal\n",
      "  copying xgboost\\rabit\\include\\rabit\\internal\\io.h -> build\\temp.win32-3.8\\Release\\xgboost\\rabit\\include\\rabit\\internal\n",
      "  copying xgboost\\rabit\\include\\rabit\\internal\\rabit-inl.h -> build\\temp.win32-3.8\\Release\\xgboost\\rabit\\include\\rabit\\internal\n",
      "  copying xgboost\\rabit\\include\\rabit\\internal\\socket.h -> build\\temp.win32-3.8\\Release\\xgboost\\rabit\\include\\rabit\\internal\n",
      "  copying xgboost\\rabit\\include\\rabit\\internal\\utils.h -> build\\temp.win32-3.8\\Release\\xgboost\\rabit\\include\\rabit\\internal\n",
      "  copying xgboost\\rabit\\include\\rabit\\rabit.h -> build\\temp.win32-3.8\\Release\\xgboost\\rabit\\include\\rabit\n",
      "  copying xgboost\\rabit\\include\\rabit\\serializable.h -> build\\temp.win32-3.8\\Release\\xgboost\\rabit\\include\\rabit\n",
      "  copying xgboost\\rabit\\LICENSE -> build\\temp.win32-3.8\\Release\\xgboost\\rabit\n",
      "  copying xgboost\\rabit\\README.md -> build\\temp.win32-3.8\\Release\\xgboost\\rabit\n",
      "  creating build\\temp.win32-3.8\\Release\\xgboost\\rabit\\src\n",
      "  copying xgboost\\rabit\\src\\allreduce_base.cc -> build\\temp.win32-3.8\\Release\\xgboost\\rabit\\src\n",
      "  copying xgboost\\rabit\\src\\allreduce_base.h -> build\\temp.win32-3.8\\Release\\xgboost\\rabit\\src\n",
      "  copying xgboost\\rabit\\src\\allreduce_mock.h -> build\\temp.win32-3.8\\Release\\xgboost\\rabit\\src\n",
      "  copying xgboost\\rabit\\src\\c_api.cc -> build\\temp.win32-3.8\\Release\\xgboost\\rabit\\src\n",
      "  copying xgboost\\rabit\\src\\engine.cc -> build\\temp.win32-3.8\\Release\\xgboost\\rabit\\src\n",
      "  copying xgboost\\rabit\\src\\engine_mock.cc -> build\\temp.win32-3.8\\Release\\xgboost\\rabit\\src\n",
      "  copying xgboost\\rabit\\src\\engine_mpi.cc -> build\\temp.win32-3.8\\Release\\xgboost\\rabit\\src\n",
      "  creating build\\temp.win32-3.8\\Release\\xgboost\\cmake\n",
      "  copying xgboost\\cmake\\Doc.cmake -> build\\temp.win32-3.8\\Release\\xgboost\\cmake\n",
      "  copying xgboost\\cmake\\FindPrefetchIntrinsics.cmake -> build\\temp.win32-3.8\\Release\\xgboost\\cmake\n",
      "  creating build\\temp.win32-3.8\\Release\\xgboost\\cmake\\modules\n",
      "  copying xgboost\\cmake\\modules\\FindASan.cmake -> build\\temp.win32-3.8\\Release\\xgboost\\cmake\\modules\n",
      "  copying xgboost\\cmake\\modules\\FindLibR.cmake -> build\\temp.win32-3.8\\Release\\xgboost\\cmake\\modules\n",
      "  copying xgboost\\cmake\\modules\\FindLSan.cmake -> build\\temp.win32-3.8\\Release\\xgboost\\cmake\\modules\n",
      "  copying xgboost\\cmake\\modules\\FindNccl.cmake -> build\\temp.win32-3.8\\Release\\xgboost\\cmake\\modules\n",
      "  copying xgboost\\cmake\\modules\\FindNVML.cmake -> build\\temp.win32-3.8\\Release\\xgboost\\cmake\\modules\n",
      "  copying xgboost\\cmake\\modules\\FindNVTX.cmake -> build\\temp.win32-3.8\\Release\\xgboost\\cmake\\modules\n",
      "  copying xgboost\\cmake\\modules\\FindTSan.cmake -> build\\temp.win32-3.8\\Release\\xgboost\\cmake\\modules\n",
      "  copying xgboost\\cmake\\modules\\FindUBSan.cmake -> build\\temp.win32-3.8\\Release\\xgboost\\cmake\\modules\n",
      "  copying xgboost\\cmake\\Python_version.in -> build\\temp.win32-3.8\\Release\\xgboost\\cmake\n",
      "  copying xgboost\\cmake\\RPackageInstall.cmake.in -> build\\temp.win32-3.8\\Release\\xgboost\\cmake\n",
      "  copying xgboost\\cmake\\RPackageInstallTargetSetup.cmake -> build\\temp.win32-3.8\\Release\\xgboost\\cmake\n",
      "  copying xgboost\\cmake\\Sanitizer.cmake -> build\\temp.win32-3.8\\Release\\xgboost\\cmake\n",
      "  copying xgboost\\cmake\\Utils.cmake -> build\\temp.win32-3.8\\Release\\xgboost\\cmake\n",
      "  copying xgboost\\cmake\\Version.cmake -> build\\temp.win32-3.8\\Release\\xgboost\\cmake\n",
      "  copying xgboost\\cmake\\version_config.h.in -> build\\temp.win32-3.8\\Release\\xgboost\\cmake\n",
      "  copying xgboost\\cmake\\xgboost-config.cmake.in -> build\\temp.win32-3.8\\Release\\xgboost\\cmake\n",
      "  copying xgboost\\cmake\\xgboost.pc.in -> build\\temp.win32-3.8\\Release\\xgboost\\cmake\n",
      "  creating build\\temp.win32-3.8\\Release\\xgboost\\plugin\n",
      "  copying xgboost\\plugin\\CMakeLists.txt -> build\\temp.win32-3.8\\Release\\xgboost\\plugin\n",
      "  creating build\\temp.win32-3.8\\Release\\xgboost\\plugin\\dense_parser\n",
      "  copying xgboost\\plugin\\dense_parser\\dense_libsvm.cc -> build\\temp.win32-3.8\\Release\\xgboost\\plugin\\dense_parser\n",
      "  creating build\\temp.win32-3.8\\Release\\xgboost\\plugin\\example\n",
      "  copying xgboost\\plugin\\example\\custom_obj.cc -> build\\temp.win32-3.8\\Release\\xgboost\\plugin\\example\n",
      "  copying xgboost\\plugin\\example\\README.md -> build\\temp.win32-3.8\\Release\\xgboost\\plugin\\example\n",
      "  creating build\\temp.win32-3.8\\Release\\xgboost\\plugin\\lz4\n",
      "  copying xgboost\\plugin\\lz4\\sparse_page_lz4_format.cc -> build\\temp.win32-3.8\\Release\\xgboost\\plugin\\lz4\n",
      "  copying xgboost\\plugin\\README.md -> build\\temp.win32-3.8\\Release\\xgboost\\plugin\n",
      "  creating build\\temp.win32-3.8\\Release\\xgboost\\plugin\\updater_gpu\n",
      "  copying xgboost\\plugin\\updater_gpu\\README.md -> build\\temp.win32-3.8\\Release\\xgboost\\plugin\\updater_gpu\n",
      "  creating build\\temp.win32-3.8\\Release\\xgboost\\plugin\\updater_oneapi\n",
      "  copying xgboost\\plugin\\updater_oneapi\\predictor_oneapi.cc -> build\\temp.win32-3.8\\Release\\xgboost\\plugin\\updater_oneapi\n",
      "  copying xgboost\\plugin\\updater_oneapi\\README.md -> build\\temp.win32-3.8\\Release\\xgboost\\plugin\\updater_oneapi\n",
      "  copying xgboost\\plugin\\updater_oneapi\\regression_loss_oneapi.h -> build\\temp.win32-3.8\\Release\\xgboost\\plugin\\updater_oneapi\n",
      "  copying xgboost\\plugin\\updater_oneapi\\regression_obj_oneapi.cc -> build\\temp.win32-3.8\\Release\\xgboost\\plugin\\updater_oneapi\n",
      "  copying xgboost\\CMakeLists.txt -> build\\temp.win32-3.8\\Release\\xgboost\n",
      "  copying xgboost\\LICENSE -> build\\temp.win32-3.8\\Release\\xgboost\n",
      "  INFO:XGBoost build_ext:Building from source. C:\\Users\\Zeynep\\AppData\\Local\\Temp\\pip-install-zt36fa0l\\lib\\xgboost.dll\n",
      "  INFO:XGBoost build_ext:Run CMake command: ['cmake', 'xgboost', '-GVisual Studio 16 2019', '-DUSE_OPENMP=1', '-DUSE_CUDA=0', '-DUSE_NCCL=0', '-DBUILD_WITH_SHARED_NCCL=0', '-DHIDE_CXX_SYMBOLS=1', '-DUSE_HDFS=0', '-DUSE_AZURE=0', '-DUSE_S3=0', '-DPLUGIN_LZ4=0', '-DPLUGIN_DENSE_PARSER=0', '-DUSE_SYSTEM_LIBXGBOOST=0']\n",
      "  error: [WinError 2] Sistem belirtilen dosyayı bulamıyor\n",
      "  ----------------------------------------\n",
      "  ERROR: Failed building wheel for xgboost\n",
      "    ERROR: Command errored out with exit status 1:\n",
      "     command: 'C:\\Users\\Zeynep\\anaconda33\\python.exe' -u -c 'import sys, setuptools, tokenize; sys.argv[0] = '\"'\"'C:\\\\Users\\\\Zeynep\\\\AppData\\\\Local\\\\Temp\\\\pip-install-zt36fa0l\\\\xgboost\\\\setup.py'\"'\"'; __file__='\"'\"'C:\\\\Users\\\\Zeynep\\\\AppData\\\\Local\\\\Temp\\\\pip-install-zt36fa0l\\\\xgboost\\\\setup.py'\"'\"';f=getattr(tokenize, '\"'\"'open'\"'\"', open)(__file__);code=f.read().replace('\"'\"'\\r\\n'\"'\"', '\"'\"'\\n'\"'\"');f.close();exec(compile(code, __file__, '\"'\"'exec'\"'\"'))' install --record 'C:\\Users\\Zeynep\\AppData\\Local\\Temp\\pip-record-xx16i8tz\\install-record.txt' --single-version-externally-managed --compile --install-headers 'C:\\Users\\Zeynep\\anaconda33\\Include\\xgboost'\n",
      "         cwd: C:\\Users\\Zeynep\\AppData\\Local\\Temp\\pip-install-zt36fa0l\\xgboost\\\n",
      "    Complete output (973 lines):\n",
      "    running install\n",
      "    running build\n",
      "    running build_py\n",
      "    creating build\n",
      "    creating build\\lib.win32-3.8\n",
      "    creating build\\lib.win32-3.8\\xgboost\n",
      "    copying xgboost\\callback.py -> build\\lib.win32-3.8\\xgboost\n",
      "    copying xgboost\\compat.py -> build\\lib.win32-3.8\\xgboost\n",
      "    copying xgboost\\core.py -> build\\lib.win32-3.8\\xgboost\n",
      "    copying xgboost\\dask.py -> build\\lib.win32-3.8\\xgboost\n",
      "    copying xgboost\\data.py -> build\\lib.win32-3.8\\xgboost\n",
      "    copying xgboost\\libpath.py -> build\\lib.win32-3.8\\xgboost\n",
      "    copying xgboost\\plotting.py -> build\\lib.win32-3.8\\xgboost\n",
      "    copying xgboost\\rabit.py -> build\\lib.win32-3.8\\xgboost\n",
      "    copying xgboost\\sklearn.py -> build\\lib.win32-3.8\\xgboost\n",
      "    copying xgboost\\tracker.py -> build\\lib.win32-3.8\\xgboost\n",
      "    copying xgboost\\training.py -> build\\lib.win32-3.8\\xgboost\n",
      "    copying xgboost\\__init__.py -> build\\lib.win32-3.8\\xgboost\n",
      "    running egg_info\n",
      "    writing xgboost.egg-info\\PKG-INFO\n",
      "    writing dependency_links to xgboost.egg-info\\dependency_links.txt\n",
      "    writing requirements to xgboost.egg-info\\requires.txt\n",
      "    writing top-level names to xgboost.egg-info\\top_level.txt\n",
      "    reading manifest file 'xgboost.egg-info\\SOURCES.txt'\n",
      "    reading manifest template 'MANIFEST.in'\n",
      "    warning: no previously-included files matching '*.py[oc]' found anywhere in distribution\n",
      "    writing manifest file 'xgboost.egg-info\\SOURCES.txt'\n",
      "    copying xgboost\\CMakeLists.txt -> build\\lib.win32-3.8\\xgboost\n",
      "    copying xgboost\\LICENSE -> build\\lib.win32-3.8\\xgboost\n",
      "    copying xgboost\\VERSION -> build\\lib.win32-3.8\\xgboost\n",
      "    creating build\\lib.win32-3.8\\xgboost\\cmake\n",
      "    copying xgboost\\cmake\\Doc.cmake -> build\\lib.win32-3.8\\xgboost\\cmake\n",
      "    copying xgboost\\cmake\\FindPrefetchIntrinsics.cmake -> build\\lib.win32-3.8\\xgboost\\cmake\n",
      "    copying xgboost\\cmake\\Python_version.in -> build\\lib.win32-3.8\\xgboost\\cmake\n",
      "    copying xgboost\\cmake\\RPackageInstall.cmake.in -> build\\lib.win32-3.8\\xgboost\\cmake\n",
      "    copying xgboost\\cmake\\RPackageInstallTargetSetup.cmake -> build\\lib.win32-3.8\\xgboost\\cmake\n",
      "    copying xgboost\\cmake\\Sanitizer.cmake -> build\\lib.win32-3.8\\xgboost\\cmake\n",
      "    copying xgboost\\cmake\\Utils.cmake -> build\\lib.win32-3.8\\xgboost\\cmake\n",
      "    copying xgboost\\cmake\\Version.cmake -> build\\lib.win32-3.8\\xgboost\\cmake\n",
      "    copying xgboost\\cmake\\version_config.h.in -> build\\lib.win32-3.8\\xgboost\\cmake\n",
      "    copying xgboost\\cmake\\xgboost-config.cmake.in -> build\\lib.win32-3.8\\xgboost\\cmake\n",
      "    copying xgboost\\cmake\\xgboost.pc.in -> build\\lib.win32-3.8\\xgboost\\cmake\n",
      "    creating build\\lib.win32-3.8\\xgboost\\cmake\\modules\n",
      "    copying xgboost\\cmake\\modules\\FindASan.cmake -> build\\lib.win32-3.8\\xgboost\\cmake\\modules\n",
      "    copying xgboost\\cmake\\modules\\FindLSan.cmake -> build\\lib.win32-3.8\\xgboost\\cmake\\modules\n",
      "    copying xgboost\\cmake\\modules\\FindLibR.cmake -> build\\lib.win32-3.8\\xgboost\\cmake\\modules\n",
      "    copying xgboost\\cmake\\modules\\FindNVML.cmake -> build\\lib.win32-3.8\\xgboost\\cmake\\modules\n",
      "    copying xgboost\\cmake\\modules\\FindNVTX.cmake -> build\\lib.win32-3.8\\xgboost\\cmake\\modules\n",
      "    copying xgboost\\cmake\\modules\\FindNccl.cmake -> build\\lib.win32-3.8\\xgboost\\cmake\\modules\n",
      "    copying xgboost\\cmake\\modules\\FindTSan.cmake -> build\\lib.win32-3.8\\xgboost\\cmake\\modules\n",
      "    copying xgboost\\cmake\\modules\\FindUBSan.cmake -> build\\lib.win32-3.8\\xgboost\\cmake\\modules\n",
      "    creating build\\lib.win32-3.8\\xgboost\\dmlc-core\n",
      "    copying xgboost\\dmlc-core\\.editorconfig -> build\\lib.win32-3.8\\xgboost\\dmlc-core\n",
      "    copying xgboost\\dmlc-core\\.git -> build\\lib.win32-3.8\\xgboost\\dmlc-core\n",
      "    copying xgboost\\dmlc-core\\.gitignore -> build\\lib.win32-3.8\\xgboost\\dmlc-core\n",
      "    copying xgboost\\dmlc-core\\CMakeLists.txt -> build\\lib.win32-3.8\\xgboost\\dmlc-core\n",
      "    copying xgboost\\dmlc-core\\LICENSE -> build\\lib.win32-3.8\\xgboost\\dmlc-core\n",
      "    copying xgboost\\dmlc-core\\Makefile -> build\\lib.win32-3.8\\xgboost\\dmlc-core\n",
      "    copying xgboost\\dmlc-core\\README.md -> build\\lib.win32-3.8\\xgboost\\dmlc-core\n",
      "    copying xgboost\\dmlc-core\\appveyor.yml -> build\\lib.win32-3.8\\xgboost\\dmlc-core\n",
      "    creating build\\lib.win32-3.8\\xgboost\\dmlc-core\\.github\n",
      "    creating build\\lib.win32-3.8\\xgboost\\dmlc-core\\.github\\workflows\n",
      "    copying xgboost\\dmlc-core\\.github\\workflows\\githubci.yml -> build\\lib.win32-3.8\\xgboost\\dmlc-core\\.github\\workflows\n",
      "    creating build\\lib.win32-3.8\\xgboost\\dmlc-core\\cmake\n",
      "    copying xgboost\\dmlc-core\\cmake\\Sanitizer.cmake -> build\\lib.win32-3.8\\xgboost\\dmlc-core\\cmake\n",
      "    copying xgboost\\dmlc-core\\cmake\\Utils.cmake -> build\\lib.win32-3.8\\xgboost\\dmlc-core\\cmake\n",
      "    copying xgboost\\dmlc-core\\cmake\\build_config.h.in -> build\\lib.win32-3.8\\xgboost\\dmlc-core\\cmake\n",
      "    copying xgboost\\dmlc-core\\cmake\\dmlc-config.cmake.in -> build\\lib.win32-3.8\\xgboost\\dmlc-core\\cmake\n",
      "    copying xgboost\\dmlc-core\\cmake\\gtest_cmake.in -> build\\lib.win32-3.8\\xgboost\\dmlc-core\\cmake\n",
      "    copying xgboost\\dmlc-core\\cmake\\lint.cmake -> build\\lib.win32-3.8\\xgboost\\dmlc-core\\cmake\n",
      "    creating build\\lib.win32-3.8\\xgboost\\dmlc-core\\cmake\\Modules\n",
      "    copying xgboost\\dmlc-core\\cmake\\Modules\\FindASan.cmake -> build\\lib.win32-3.8\\xgboost\\dmlc-core\\cmake\\Modules\n",
      "    copying xgboost\\dmlc-core\\cmake\\Modules\\FindHDFS.cmake -> build\\lib.win32-3.8\\xgboost\\dmlc-core\\cmake\\Modules\n",
      "    copying xgboost\\dmlc-core\\cmake\\Modules\\FindLSan.cmake -> build\\lib.win32-3.8\\xgboost\\dmlc-core\\cmake\\Modules\n",
      "    copying xgboost\\dmlc-core\\cmake\\Modules\\FindTSan.cmake -> build\\lib.win32-3.8\\xgboost\\dmlc-core\\cmake\\Modules\n",
      "    copying xgboost\\dmlc-core\\cmake\\Modules\\FindUBSan.cmake -> build\\lib.win32-3.8\\xgboost\\dmlc-core\\cmake\\Modules\n",
      "    creating build\\lib.win32-3.8\\xgboost\\dmlc-core\\doc\n",
      "    copying xgboost\\dmlc-core\\doc\\.gitignore -> build\\lib.win32-3.8\\xgboost\\dmlc-core\\doc\n",
      "    copying xgboost\\dmlc-core\\doc\\Doxyfile -> build\\lib.win32-3.8\\xgboost\\dmlc-core\\doc\n",
      "    copying xgboost\\dmlc-core\\doc\\Makefile -> build\\lib.win32-3.8\\xgboost\\dmlc-core\\doc\n",
      "    copying xgboost\\dmlc-core\\doc\\README -> build\\lib.win32-3.8\\xgboost\\dmlc-core\\doc\n",
      "    copying xgboost\\dmlc-core\\doc\\build.md -> build\\lib.win32-3.8\\xgboost\\dmlc-core\\doc\n",
      "    copying xgboost\\dmlc-core\\doc\\conf.py -> build\\lib.win32-3.8\\xgboost\\dmlc-core\\doc\n",
      "    copying xgboost\\dmlc-core\\doc\\index.md -> build\\lib.win32-3.8\\xgboost\\dmlc-core\\doc\n",
      "    copying xgboost\\dmlc-core\\doc\\parameter.md -> build\\lib.win32-3.8\\xgboost\\dmlc-core\\doc\n",
      "    copying xgboost\\dmlc-core\\doc\\sphinx_util.py -> build\\lib.win32-3.8\\xgboost\\dmlc-core\\doc\n",
      "    creating build\\lib.win32-3.8\\xgboost\\dmlc-core\\example\n",
      "    copying xgboost\\dmlc-core\\example\\dmlc_example.mk -> build\\lib.win32-3.8\\xgboost\\dmlc-core\\example\n",
      "    copying xgboost\\dmlc-core\\example\\parameter.cc -> build\\lib.win32-3.8\\xgboost\\dmlc-core\\example\n",
      "    creating build\\lib.win32-3.8\\xgboost\\dmlc-core\\include\n",
      "    creating build\\lib.win32-3.8\\xgboost\\dmlc-core\\include\\dmlc\n",
      "    copying xgboost\\dmlc-core\\include\\dmlc\\any.h -> build\\lib.win32-3.8\\xgboost\\dmlc-core\\include\\dmlc\n",
      "    copying xgboost\\dmlc-core\\include\\dmlc\\array_view.h -> build\\lib.win32-3.8\\xgboost\\dmlc-core\\include\\dmlc\n",
      "    copying xgboost\\dmlc-core\\include\\dmlc\\base.h -> build\\lib.win32-3.8\\xgboost\\dmlc-core\\include\\dmlc\n",
      "    copying xgboost\\dmlc-core\\include\\dmlc\\blockingconcurrentqueue.h -> build\\lib.win32-3.8\\xgboost\\dmlc-core\\include\\dmlc\n",
      "    copying xgboost\\dmlc-core\\include\\dmlc\\build_config_default.h -> build\\lib.win32-3.8\\xgboost\\dmlc-core\\include\\dmlc\n",
      "    copying xgboost\\dmlc-core\\include\\dmlc\\common.h -> build\\lib.win32-3.8\\xgboost\\dmlc-core\\include\\dmlc\n",
      "    copying xgboost\\dmlc-core\\include\\dmlc\\concurrency.h -> build\\lib.win32-3.8\\xgboost\\dmlc-core\\include\\dmlc\n",
      "    copying xgboost\\dmlc-core\\include\\dmlc\\concurrentqueue.h -> build\\lib.win32-3.8\\xgboost\\dmlc-core\\include\\dmlc\n",
      "    copying xgboost\\dmlc-core\\include\\dmlc\\config.h -> build\\lib.win32-3.8\\xgboost\\dmlc-core\\include\\dmlc\n",
      "    copying xgboost\\dmlc-core\\include\\dmlc\\data.h -> build\\lib.win32-3.8\\xgboost\\dmlc-core\\include\\dmlc\n",
      "    copying xgboost\\dmlc-core\\include\\dmlc\\endian.h -> build\\lib.win32-3.8\\xgboost\\dmlc-core\\include\\dmlc\n",
      "    copying xgboost\\dmlc-core\\include\\dmlc\\filesystem.h -> build\\lib.win32-3.8\\xgboost\\dmlc-core\\include\\dmlc\n",
      "    copying xgboost\\dmlc-core\\include\\dmlc\\input_split_shuffle.h -> build\\lib.win32-3.8\\xgboost\\dmlc-core\\include\\dmlc\n",
      "    copying xgboost\\dmlc-core\\include\\dmlc\\io.h -> build\\lib.win32-3.8\\xgboost\\dmlc-core\\include\\dmlc\n",
      "    copying xgboost\\dmlc-core\\include\\dmlc\\json.h -> build\\lib.win32-3.8\\xgboost\\dmlc-core\\include\\dmlc\n",
      "    copying xgboost\\dmlc-core\\include\\dmlc\\logging.h -> build\\lib.win32-3.8\\xgboost\\dmlc-core\\include\\dmlc\n",
      "    copying xgboost\\dmlc-core\\include\\dmlc\\lua.h -> build\\lib.win32-3.8\\xgboost\\dmlc-core\\include\\dmlc\n",
      "    copying xgboost\\dmlc-core\\include\\dmlc\\memory.h -> build\\lib.win32-3.8\\xgboost\\dmlc-core\\include\\dmlc\n",
      "    copying xgboost\\dmlc-core\\include\\dmlc\\memory_io.h -> build\\lib.win32-3.8\\xgboost\\dmlc-core\\include\\dmlc\n",
      "    copying xgboost\\dmlc-core\\include\\dmlc\\omp.h -> build\\lib.win32-3.8\\xgboost\\dmlc-core\\include\\dmlc\n",
      "    copying xgboost\\dmlc-core\\include\\dmlc\\optional.h -> build\\lib.win32-3.8\\xgboost\\dmlc-core\\include\\dmlc\n",
      "    copying xgboost\\dmlc-core\\include\\dmlc\\parameter.h -> build\\lib.win32-3.8\\xgboost\\dmlc-core\\include\\dmlc\n",
      "    copying xgboost\\dmlc-core\\include\\dmlc\\recordio.h -> build\\lib.win32-3.8\\xgboost\\dmlc-core\\include\\dmlc\n",
      "    copying xgboost\\dmlc-core\\include\\dmlc\\registry.h -> build\\lib.win32-3.8\\xgboost\\dmlc-core\\include\\dmlc\n",
      "    copying xgboost\\dmlc-core\\include\\dmlc\\serializer.h -> build\\lib.win32-3.8\\xgboost\\dmlc-core\\include\\dmlc\n",
      "    copying xgboost\\dmlc-core\\include\\dmlc\\strtonum.h -> build\\lib.win32-3.8\\xgboost\\dmlc-core\\include\\dmlc\n",
      "    copying xgboost\\dmlc-core\\include\\dmlc\\thread_group.h -> build\\lib.win32-3.8\\xgboost\\dmlc-core\\include\\dmlc\n",
      "    copying xgboost\\dmlc-core\\include\\dmlc\\thread_local.h -> build\\lib.win32-3.8\\xgboost\\dmlc-core\\include\\dmlc\n",
      "    copying xgboost\\dmlc-core\\include\\dmlc\\threadediter.h -> build\\lib.win32-3.8\\xgboost\\dmlc-core\\include\\dmlc\n",
      "    copying xgboost\\dmlc-core\\include\\dmlc\\timer.h -> build\\lib.win32-3.8\\xgboost\\dmlc-core\\include\\dmlc\n",
      "    copying xgboost\\dmlc-core\\include\\dmlc\\type_traits.h -> build\\lib.win32-3.8\\xgboost\\dmlc-core\\include\\dmlc\n",
      "    creating build\\lib.win32-3.8\\xgboost\\dmlc-core\\make\n",
      "    copying xgboost\\dmlc-core\\make\\config.mk -> build\\lib.win32-3.8\\xgboost\\dmlc-core\\make\n",
      "    copying xgboost\\dmlc-core\\make\\dmlc.mk -> build\\lib.win32-3.8\\xgboost\\dmlc-core\\make\n",
      "    creating build\\lib.win32-3.8\\xgboost\\dmlc-core\\scripts\n",
      "    copying xgboost\\dmlc-core\\scripts\\lint.py -> build\\lib.win32-3.8\\xgboost\\dmlc-core\\scripts\n",
      "    copying xgboost\\dmlc-core\\scripts\\packages.mk -> build\\lib.win32-3.8\\xgboost\\dmlc-core\\scripts\n",
      "    copying xgboost\\dmlc-core\\scripts\\test_script.sh -> build\\lib.win32-3.8\\xgboost\\dmlc-core\\scripts\n",
      "    creating build\\lib.win32-3.8\\xgboost\\dmlc-core\\scripts\\s390x\n",
      "    copying xgboost\\dmlc-core\\scripts\\s390x\\Dockerfile -> build\\lib.win32-3.8\\xgboost\\dmlc-core\\scripts\\s390x\n",
      "    copying xgboost\\dmlc-core\\scripts\\s390x\\build_via_cmake.sh -> build\\lib.win32-3.8\\xgboost\\dmlc-core\\scripts\\s390x\n",
      "    copying xgboost\\dmlc-core\\scripts\\s390x\\ci_build.sh -> build\\lib.win32-3.8\\xgboost\\dmlc-core\\scripts\\s390x\n",
      "    copying xgboost\\dmlc-core\\scripts\\s390x\\entrypoint.sh -> build\\lib.win32-3.8\\xgboost\\dmlc-core\\scripts\\s390x\n",
      "    creating build\\lib.win32-3.8\\xgboost\\dmlc-core\\src\n",
      "    copying xgboost\\dmlc-core\\src\\config.cc -> build\\lib.win32-3.8\\xgboost\\dmlc-core\\src\n",
      "    copying xgboost\\dmlc-core\\src\\data.cc -> build\\lib.win32-3.8\\xgboost\\dmlc-core\\src\n",
      "    copying xgboost\\dmlc-core\\src\\io.cc -> build\\lib.win32-3.8\\xgboost\\dmlc-core\\src\n",
      "    copying xgboost\\dmlc-core\\src\\recordio.cc -> build\\lib.win32-3.8\\xgboost\\dmlc-core\\src\n",
      "    creating build\\lib.win32-3.8\\xgboost\\dmlc-core\\src\\data\n",
      "    copying xgboost\\dmlc-core\\src\\data\\basic_row_iter.h -> build\\lib.win32-3.8\\xgboost\\dmlc-core\\src\\data\n",
      "    copying xgboost\\dmlc-core\\src\\data\\csv_parser.h -> build\\lib.win32-3.8\\xgboost\\dmlc-core\\src\\data\n",
      "    copying xgboost\\dmlc-core\\src\\data\\disk_row_iter.h -> build\\lib.win32-3.8\\xgboost\\dmlc-core\\src\\data\n",
      "    copying xgboost\\dmlc-core\\src\\data\\libfm_parser.h -> build\\lib.win32-3.8\\xgboost\\dmlc-core\\src\\data\n",
      "    copying xgboost\\dmlc-core\\src\\data\\libsvm_parser.h -> build\\lib.win32-3.8\\xgboost\\dmlc-core\\src\\data\n",
      "    copying xgboost\\dmlc-core\\src\\data\\parser.h -> build\\lib.win32-3.8\\xgboost\\dmlc-core\\src\\data\n",
      "    copying xgboost\\dmlc-core\\src\\data\\row_block.h -> build\\lib.win32-3.8\\xgboost\\dmlc-core\\src\\data\n",
      "    copying xgboost\\dmlc-core\\src\\data\\text_parser.h -> build\\lib.win32-3.8\\xgboost\\dmlc-core\\src\\data\n",
      "    creating build\\lib.win32-3.8\\xgboost\\dmlc-core\\src\\io\n",
      "    copying xgboost\\dmlc-core\\src\\io\\azure_filesys.cc -> build\\lib.win32-3.8\\xgboost\\dmlc-core\\src\\io\n",
      "    copying xgboost\\dmlc-core\\src\\io\\azure_filesys.h -> build\\lib.win32-3.8\\xgboost\\dmlc-core\\src\\io\n",
      "    copying xgboost\\dmlc-core\\src\\io\\cached_input_split.h -> build\\lib.win32-3.8\\xgboost\\dmlc-core\\src\\io\n",
      "    copying xgboost\\dmlc-core\\src\\io\\filesys.cc -> build\\lib.win32-3.8\\xgboost\\dmlc-core\\src\\io\n",
      "    copying xgboost\\dmlc-core\\src\\io\\hdfs_filesys.cc -> build\\lib.win32-3.8\\xgboost\\dmlc-core\\src\\io\n",
      "    copying xgboost\\dmlc-core\\src\\io\\hdfs_filesys.h -> build\\lib.win32-3.8\\xgboost\\dmlc-core\\src\\io\n",
      "    copying xgboost\\dmlc-core\\src\\io\\indexed_recordio_split.cc -> build\\lib.win32-3.8\\xgboost\\dmlc-core\\src\\io\n",
      "    copying xgboost\\dmlc-core\\src\\io\\indexed_recordio_split.h -> build\\lib.win32-3.8\\xgboost\\dmlc-core\\src\\io\n",
      "    copying xgboost\\dmlc-core\\src\\io\\input_split_base.cc -> build\\lib.win32-3.8\\xgboost\\dmlc-core\\src\\io\n",
      "    copying xgboost\\dmlc-core\\src\\io\\input_split_base.h -> build\\lib.win32-3.8\\xgboost\\dmlc-core\\src\\io\n",
      "    copying xgboost\\dmlc-core\\src\\io\\line_split.cc -> build\\lib.win32-3.8\\xgboost\\dmlc-core\\src\\io\n",
      "    copying xgboost\\dmlc-core\\src\\io\\line_split.h -> build\\lib.win32-3.8\\xgboost\\dmlc-core\\src\\io\n",
      "    copying xgboost\\dmlc-core\\src\\io\\local_filesys.cc -> build\\lib.win32-3.8\\xgboost\\dmlc-core\\src\\io\n",
      "    copying xgboost\\dmlc-core\\src\\io\\local_filesys.h -> build\\lib.win32-3.8\\xgboost\\dmlc-core\\src\\io\n",
      "    copying xgboost\\dmlc-core\\src\\io\\recordio_split.cc -> build\\lib.win32-3.8\\xgboost\\dmlc-core\\src\\io\n",
      "    copying xgboost\\dmlc-core\\src\\io\\recordio_split.h -> build\\lib.win32-3.8\\xgboost\\dmlc-core\\src\\io\n",
      "    copying xgboost\\dmlc-core\\src\\io\\s3_filesys.cc -> build\\lib.win32-3.8\\xgboost\\dmlc-core\\src\\io\n",
      "    copying xgboost\\dmlc-core\\src\\io\\s3_filesys.h -> build\\lib.win32-3.8\\xgboost\\dmlc-core\\src\\io\n",
      "    copying xgboost\\dmlc-core\\src\\io\\single_file_split.h -> build\\lib.win32-3.8\\xgboost\\dmlc-core\\src\\io\n",
      "    copying xgboost\\dmlc-core\\src\\io\\single_threaded_input_split.h -> build\\lib.win32-3.8\\xgboost\\dmlc-core\\src\\io\n",
      "    copying xgboost\\dmlc-core\\src\\io\\threaded_input_split.h -> build\\lib.win32-3.8\\xgboost\\dmlc-core\\src\\io\n",
      "    copying xgboost\\dmlc-core\\src\\io\\uri_spec.h -> build\\lib.win32-3.8\\xgboost\\dmlc-core\\src\\io\n",
      "    creating build\\lib.win32-3.8\\xgboost\\dmlc-core\\test\n",
      "    copying xgboost\\dmlc-core\\test\\.gitignore -> build\\lib.win32-3.8\\xgboost\\dmlc-core\\test\n",
      "    copying xgboost\\dmlc-core\\test\\README.md -> build\\lib.win32-3.8\\xgboost\\dmlc-core\\test\n",
      "    copying xgboost\\dmlc-core\\test\\csv_parser_test.cc -> build\\lib.win32-3.8\\xgboost\\dmlc-core\\test\n",
      "    copying xgboost\\dmlc-core\\test\\dataiter_test.cc -> build\\lib.win32-3.8\\xgboost\\dmlc-core\\test\n",
      "    copying xgboost\\dmlc-core\\test\\dmlc_test.mk -> build\\lib.win32-3.8\\xgboost\\dmlc-core\\test\n",
      "    copying xgboost\\dmlc-core\\test\\filesys_test.cc -> build\\lib.win32-3.8\\xgboost\\dmlc-core\\test\n",
      "    copying xgboost\\dmlc-core\\test\\iostream_test.cc -> build\\lib.win32-3.8\\xgboost\\dmlc-core\\test\n",
      "    copying xgboost\\dmlc-core\\test\\libfm_parser_test.cc -> build\\lib.win32-3.8\\xgboost\\dmlc-core\\test\n",
      "    copying xgboost\\dmlc-core\\test\\libsvm_parser_test.cc -> build\\lib.win32-3.8\\xgboost\\dmlc-core\\test\n",
      "    copying xgboost\\dmlc-core\\test\\logging_test.cc -> build\\lib.win32-3.8\\xgboost\\dmlc-core\\test\n",
      "    copying xgboost\\dmlc-core\\test\\parameter_test.cc -> build\\lib.win32-3.8\\xgboost\\dmlc-core\\test\n",
      "    copying xgboost\\dmlc-core\\test\\recordio_test.cc -> build\\lib.win32-3.8\\xgboost\\dmlc-core\\test\n",
      "    copying xgboost\\dmlc-core\\test\\registry_test.cc -> build\\lib.win32-3.8\\xgboost\\dmlc-core\\test\n",
      "    copying xgboost\\dmlc-core\\test\\split_read_test.cc -> build\\lib.win32-3.8\\xgboost\\dmlc-core\\test\n",
      "    copying xgboost\\dmlc-core\\test\\split_repeat_read_test.cc -> build\\lib.win32-3.8\\xgboost\\dmlc-core\\test\n",
      "    copying xgboost\\dmlc-core\\test\\split_test.cc -> build\\lib.win32-3.8\\xgboost\\dmlc-core\\test\n",
      "    copying xgboost\\dmlc-core\\test\\stream_read_test.cc -> build\\lib.win32-3.8\\xgboost\\dmlc-core\\test\n",
      "    copying xgboost\\dmlc-core\\test\\strtonum_test.cc -> build\\lib.win32-3.8\\xgboost\\dmlc-core\\test\n",
      "    creating build\\lib.win32-3.8\\xgboost\\dmlc-core\\test\\unittest\n",
      "    copying xgboost\\dmlc-core\\test\\unittest\\.gitignore -> build\\lib.win32-3.8\\xgboost\\dmlc-core\\test\\unittest\n",
      "    copying xgboost\\dmlc-core\\test\\unittest\\CMakeLists.txt -> build\\lib.win32-3.8\\xgboost\\dmlc-core\\test\\unittest\n",
      "    copying xgboost\\dmlc-core\\test\\unittest\\build_config.h -> build\\lib.win32-3.8\\xgboost\\dmlc-core\\test\\unittest\n",
      "    copying xgboost\\dmlc-core\\test\\unittest\\build_config.h.in -> build\\lib.win32-3.8\\xgboost\\dmlc-core\\test\\unittest\n",
      "    copying xgboost\\dmlc-core\\test\\unittest\\dmlc_unittest.mk -> build\\lib.win32-3.8\\xgboost\\dmlc-core\\test\\unittest\n",
      "    copying xgboost\\dmlc-core\\test\\unittest\\sample.rec -> build\\lib.win32-3.8\\xgboost\\dmlc-core\\test\\unittest\n",
      "    copying xgboost\\dmlc-core\\test\\unittest\\unittest_any.cc -> build\\lib.win32-3.8\\xgboost\\dmlc-core\\test\\unittest\n",
      "    copying xgboost\\dmlc-core\\test\\unittest\\unittest_array_view.cc -> build\\lib.win32-3.8\\xgboost\\dmlc-core\\test\\unittest\n",
      "    copying xgboost\\dmlc-core\\test\\unittest\\unittest_config.cc -> build\\lib.win32-3.8\\xgboost\\dmlc-core\\test\\unittest\n",
      "    copying xgboost\\dmlc-core\\test\\unittest\\unittest_env.cc -> build\\lib.win32-3.8\\xgboost\\dmlc-core\\test\\unittest\n",
      "    copying xgboost\\dmlc-core\\test\\unittest\\unittest_inputsplit.cc -> build\\lib.win32-3.8\\xgboost\\dmlc-core\\test\\unittest\n",
      "    copying xgboost\\dmlc-core\\test\\unittest\\unittest_json.cc -> build\\lib.win32-3.8\\xgboost\\dmlc-core\\test\\unittest\n",
      "    copying xgboost\\dmlc-core\\test\\unittest\\unittest_lockfree.cc -> build\\lib.win32-3.8\\xgboost\\dmlc-core\\test\\unittest\n",
      "    copying xgboost\\dmlc-core\\test\\unittest\\unittest_logging.cc -> build\\lib.win32-3.8\\xgboost\\dmlc-core\\test\\unittest\n",
      "    copying xgboost\\dmlc-core\\test\\unittest\\unittest_main.cc -> build\\lib.win32-3.8\\xgboost\\dmlc-core\\test\\unittest\n",
      "    copying xgboost\\dmlc-core\\test\\unittest\\unittest_optional.cc -> build\\lib.win32-3.8\\xgboost\\dmlc-core\\test\\unittest\n",
      "    copying xgboost\\dmlc-core\\test\\unittest\\unittest_param.cc -> build\\lib.win32-3.8\\xgboost\\dmlc-core\\test\\unittest\n",
      "    copying xgboost\\dmlc-core\\test\\unittest\\unittest_parser.cc -> build\\lib.win32-3.8\\xgboost\\dmlc-core\\test\\unittest\n",
      "    copying xgboost\\dmlc-core\\test\\unittest\\unittest_serializer.cc -> build\\lib.win32-3.8\\xgboost\\dmlc-core\\test\\unittest\n",
      "    copying xgboost\\dmlc-core\\test\\unittest\\unittest_tempdir.cc -> build\\lib.win32-3.8\\xgboost\\dmlc-core\\test\\unittest\n",
      "    copying xgboost\\dmlc-core\\test\\unittest\\unittest_thread_group.cc -> build\\lib.win32-3.8\\xgboost\\dmlc-core\\test\\unittest\n",
      "    copying xgboost\\dmlc-core\\test\\unittest\\unittest_threaditer.cc -> build\\lib.win32-3.8\\xgboost\\dmlc-core\\test\\unittest\n",
      "    copying xgboost\\dmlc-core\\test\\unittest\\unittest_threaditer_exc_handling.cc -> build\\lib.win32-3.8\\xgboost\\dmlc-core\\test\\unittest\n",
      "    creating build\\lib.win32-3.8\\xgboost\\dmlc-core\\tracker\n",
      "    copying xgboost\\dmlc-core\\tracker\\README.md -> build\\lib.win32-3.8\\xgboost\\dmlc-core\\tracker\n",
      "    copying xgboost\\dmlc-core\\tracker\\dmlc-submit -> build\\lib.win32-3.8\\xgboost\\dmlc-core\\tracker\n",
      "    creating build\\lib.win32-3.8\\xgboost\\dmlc-core\\tracker\\dmlc_tracker\n",
      "    copying xgboost\\dmlc-core\\tracker\\dmlc_tracker\\__init__.py -> build\\lib.win32-3.8\\xgboost\\dmlc-core\\tracker\\dmlc_tracker\n",
      "    copying xgboost\\dmlc-core\\tracker\\dmlc_tracker\\kubernetes.py -> build\\lib.win32-3.8\\xgboost\\dmlc-core\\tracker\\dmlc_tracker\n",
      "    copying xgboost\\dmlc-core\\tracker\\dmlc_tracker\\launcher.py -> build\\lib.win32-3.8\\xgboost\\dmlc-core\\tracker\\dmlc_tracker\n",
      "    copying xgboost\\dmlc-core\\tracker\\dmlc_tracker\\local.py -> build\\lib.win32-3.8\\xgboost\\dmlc-core\\tracker\\dmlc_tracker\n",
      "    copying xgboost\\dmlc-core\\tracker\\dmlc_tracker\\mesos.py -> build\\lib.win32-3.8\\xgboost\\dmlc-core\\tracker\\dmlc_tracker\n",
      "    copying xgboost\\dmlc-core\\tracker\\dmlc_tracker\\mpi.py -> build\\lib.win32-3.8\\xgboost\\dmlc-core\\tracker\\dmlc_tracker\n",
      "    copying xgboost\\dmlc-core\\tracker\\dmlc_tracker\\opts.py -> build\\lib.win32-3.8\\xgboost\\dmlc-core\\tracker\\dmlc_tracker\n",
      "    copying xgboost\\dmlc-core\\tracker\\dmlc_tracker\\sge.py -> build\\lib.win32-3.8\\xgboost\\dmlc-core\\tracker\\dmlc_tracker\n",
      "    copying xgboost\\dmlc-core\\tracker\\dmlc_tracker\\slurm.py -> build\\lib.win32-3.8\\xgboost\\dmlc-core\\tracker\\dmlc_tracker\n",
      "    copying xgboost\\dmlc-core\\tracker\\dmlc_tracker\\ssh.py -> build\\lib.win32-3.8\\xgboost\\dmlc-core\\tracker\\dmlc_tracker\n",
      "    copying xgboost\\dmlc-core\\tracker\\dmlc_tracker\\submit.py -> build\\lib.win32-3.8\\xgboost\\dmlc-core\\tracker\\dmlc_tracker\n",
      "    copying xgboost\\dmlc-core\\tracker\\dmlc_tracker\\tracker.py -> build\\lib.win32-3.8\\xgboost\\dmlc-core\\tracker\\dmlc_tracker\n",
      "    copying xgboost\\dmlc-core\\tracker\\dmlc_tracker\\util.py -> build\\lib.win32-3.8\\xgboost\\dmlc-core\\tracker\\dmlc_tracker\n",
      "    copying xgboost\\dmlc-core\\tracker\\dmlc_tracker\\yarn.py -> build\\lib.win32-3.8\\xgboost\\dmlc-core\\tracker\\dmlc_tracker\n",
      "    creating build\\lib.win32-3.8\\xgboost\\dmlc-core\\tracker\\yarn\n",
      "    copying xgboost\\dmlc-core\\tracker\\yarn\\.gitignore -> build\\lib.win32-3.8\\xgboost\\dmlc-core\\tracker\\yarn\n",
      "    copying xgboost\\dmlc-core\\tracker\\yarn\\README.md -> build\\lib.win32-3.8\\xgboost\\dmlc-core\\tracker\\yarn\n",
      "    copying xgboost\\dmlc-core\\tracker\\yarn\\build.bat -> build\\lib.win32-3.8\\xgboost\\dmlc-core\\tracker\\yarn\n",
      "    copying xgboost\\dmlc-core\\tracker\\yarn\\build.sh -> build\\lib.win32-3.8\\xgboost\\dmlc-core\\tracker\\yarn\n",
      "    copying xgboost\\dmlc-core\\tracker\\yarn\\pom.xml -> build\\lib.win32-3.8\\xgboost\\dmlc-core\\tracker\\yarn\n",
      "    creating build\\lib.win32-3.8\\xgboost\\dmlc-core\\tracker\\yarn\\src\n",
      "    creating build\\lib.win32-3.8\\xgboost\\dmlc-core\\tracker\\yarn\\src\\main\n",
      "    creating build\\lib.win32-3.8\\xgboost\\dmlc-core\\tracker\\yarn\\src\\main\\java\n",
      "    creating build\\lib.win32-3.8\\xgboost\\dmlc-core\\tracker\\yarn\\src\\main\\java\\org\n",
      "    creating build\\lib.win32-3.8\\xgboost\\dmlc-core\\tracker\\yarn\\src\\main\\java\\org\\apache\n",
      "    creating build\\lib.win32-3.8\\xgboost\\dmlc-core\\tracker\\yarn\\src\\main\\java\\org\\apache\\hadoop\n",
      "    creating build\\lib.win32-3.8\\xgboost\\dmlc-core\\tracker\\yarn\\src\\main\\java\\org\\apache\\hadoop\\yarn\n",
      "    creating build\\lib.win32-3.8\\xgboost\\dmlc-core\\tracker\\yarn\\src\\main\\java\\org\\apache\\hadoop\\yarn\\dmlc\n",
      "    copying xgboost\\dmlc-core\\tracker\\yarn\\src\\main\\java\\org\\apache\\hadoop\\yarn\\dmlc\\ApplicationMaster.java -> build\\lib.win32-3.8\\xgboost\\dmlc-core\\tracker\\yarn\\src\\main\\java\\org\\apache\\hadoop\\yarn\\dmlc\n",
      "    copying xgboost\\dmlc-core\\tracker\\yarn\\src\\main\\java\\org\\apache\\hadoop\\yarn\\dmlc\\Client.java -> build\\lib.win32-3.8\\xgboost\\dmlc-core\\tracker\\yarn\\src\\main\\java\\org\\apache\\hadoop\\yarn\\dmlc\n",
      "    copying xgboost\\dmlc-core\\tracker\\yarn\\src\\main\\java\\org\\apache\\hadoop\\yarn\\dmlc\\TaskRecord.java -> build\\lib.win32-3.8\\xgboost\\dmlc-core\\tracker\\yarn\\src\\main\\java\\org\\apache\\hadoop\\yarn\\dmlc\n",
      "    creating build\\lib.win32-3.8\\xgboost\\dmlc-core\\windows\n",
      "    copying xgboost\\dmlc-core\\windows\\.gitignore -> build\\lib.win32-3.8\\xgboost\\dmlc-core\\windows\n",
      "    copying xgboost\\dmlc-core\\windows\\README.md -> build\\lib.win32-3.8\\xgboost\\dmlc-core\\windows\n",
      "    copying xgboost\\dmlc-core\\windows\\dmlc.sln -> build\\lib.win32-3.8\\xgboost\\dmlc-core\\windows\n",
      "    creating build\\lib.win32-3.8\\xgboost\\dmlc-core\\windows\\dmlc\n",
      "    copying xgboost\\dmlc-core\\windows\\dmlc\\dmlc.vcxproj -> build\\lib.win32-3.8\\xgboost\\dmlc-core\\windows\\dmlc\n",
      "    creating build\\lib.win32-3.8\\xgboost\\include\n",
      "    creating build\\lib.win32-3.8\\xgboost\\include\\xgboost\n",
      "    copying xgboost\\include\\xgboost\\base.h -> build\\lib.win32-3.8\\xgboost\\include\\xgboost\n",
      "    copying xgboost\\include\\xgboost\\c_api.h -> build\\lib.win32-3.8\\xgboost\\include\\xgboost\n",
      "    copying xgboost\\include\\xgboost\\data.h -> build\\lib.win32-3.8\\xgboost\\include\\xgboost\n",
      "    copying xgboost\\include\\xgboost\\feature_map.h -> build\\lib.win32-3.8\\xgboost\\include\\xgboost\n",
      "    copying xgboost\\include\\xgboost\\gbm.h -> build\\lib.win32-3.8\\xgboost\\include\\xgboost\n",
      "    copying xgboost\\include\\xgboost\\generic_parameters.h -> build\\lib.win32-3.8\\xgboost\\include\\xgboost\n",
      "    copying xgboost\\include\\xgboost\\host_device_vector.h -> build\\lib.win32-3.8\\xgboost\\include\\xgboost\n",
      "    copying xgboost\\include\\xgboost\\intrusive_ptr.h -> build\\lib.win32-3.8\\xgboost\\include\\xgboost\n",
      "    copying xgboost\\include\\xgboost\\json.h -> build\\lib.win32-3.8\\xgboost\\include\\xgboost\n",
      "    copying xgboost\\include\\xgboost\\json_io.h -> build\\lib.win32-3.8\\xgboost\\include\\xgboost\n",
      "    copying xgboost\\include\\xgboost\\learner.h -> build\\lib.win32-3.8\\xgboost\\include\\xgboost\n",
      "    copying xgboost\\include\\xgboost\\linear_updater.h -> build\\lib.win32-3.8\\xgboost\\include\\xgboost\n",
      "    copying xgboost\\include\\xgboost\\logging.h -> build\\lib.win32-3.8\\xgboost\\include\\xgboost\n",
      "    copying xgboost\\include\\xgboost\\metric.h -> build\\lib.win32-3.8\\xgboost\\include\\xgboost\n",
      "    copying xgboost\\include\\xgboost\\model.h -> build\\lib.win32-3.8\\xgboost\\include\\xgboost\n",
      "    copying xgboost\\include\\xgboost\\objective.h -> build\\lib.win32-3.8\\xgboost\\include\\xgboost\n",
      "    copying xgboost\\include\\xgboost\\parameter.h -> build\\lib.win32-3.8\\xgboost\\include\\xgboost\n",
      "    copying xgboost\\include\\xgboost\\predictor.h -> build\\lib.win32-3.8\\xgboost\\include\\xgboost\n",
      "    copying xgboost\\include\\xgboost\\span.h -> build\\lib.win32-3.8\\xgboost\\include\\xgboost\n",
      "    copying xgboost\\include\\xgboost\\tree_model.h -> build\\lib.win32-3.8\\xgboost\\include\\xgboost\n",
      "    copying xgboost\\include\\xgboost\\tree_updater.h -> build\\lib.win32-3.8\\xgboost\\include\\xgboost\n",
      "    copying xgboost\\include\\xgboost\\version_config.h -> build\\lib.win32-3.8\\xgboost\\include\\xgboost\n",
      "    creating build\\lib.win32-3.8\\xgboost\\plugin\n",
      "    copying xgboost\\plugin\\CMakeLists.txt -> build\\lib.win32-3.8\\xgboost\\plugin\n",
      "    copying xgboost\\plugin\\README.md -> build\\lib.win32-3.8\\xgboost\\plugin\n",
      "    creating build\\lib.win32-3.8\\xgboost\\plugin\\dense_parser\n",
      "    copying xgboost\\plugin\\dense_parser\\dense_libsvm.cc -> build\\lib.win32-3.8\\xgboost\\plugin\\dense_parser\n",
      "    creating build\\lib.win32-3.8\\xgboost\\plugin\\example\n",
      "    copying xgboost\\plugin\\example\\README.md -> build\\lib.win32-3.8\\xgboost\\plugin\\example\n",
      "    copying xgboost\\plugin\\example\\custom_obj.cc -> build\\lib.win32-3.8\\xgboost\\plugin\\example\n",
      "    creating build\\lib.win32-3.8\\xgboost\\plugin\\lz4\n",
      "    copying xgboost\\plugin\\lz4\\sparse_page_lz4_format.cc -> build\\lib.win32-3.8\\xgboost\\plugin\\lz4\n",
      "    creating build\\lib.win32-3.8\\xgboost\\plugin\\updater_gpu\n",
      "    copying xgboost\\plugin\\updater_gpu\\README.md -> build\\lib.win32-3.8\\xgboost\\plugin\\updater_gpu\n",
      "    creating build\\lib.win32-3.8\\xgboost\\plugin\\updater_oneapi\n",
      "    copying xgboost\\plugin\\updater_oneapi\\README.md -> build\\lib.win32-3.8\\xgboost\\plugin\\updater_oneapi\n",
      "    copying xgboost\\plugin\\updater_oneapi\\predictor_oneapi.cc -> build\\lib.win32-3.8\\xgboost\\plugin\\updater_oneapi\n",
      "    copying xgboost\\plugin\\updater_oneapi\\regression_loss_oneapi.h -> build\\lib.win32-3.8\\xgboost\\plugin\\updater_oneapi\n",
      "    copying xgboost\\plugin\\updater_oneapi\\regression_obj_oneapi.cc -> build\\lib.win32-3.8\\xgboost\\plugin\\updater_oneapi\n",
      "    creating build\\lib.win32-3.8\\xgboost\\rabit\n",
      "    copying xgboost\\rabit\\.gitignore -> build\\lib.win32-3.8\\xgboost\\rabit\n",
      "    copying xgboost\\rabit\\CMakeLists.txt -> build\\lib.win32-3.8\\xgboost\\rabit\n",
      "    copying xgboost\\rabit\\LICENSE -> build\\lib.win32-3.8\\xgboost\\rabit\n",
      "    copying xgboost\\rabit\\README.md -> build\\lib.win32-3.8\\xgboost\\rabit\n",
      "    creating build\\lib.win32-3.8\\xgboost\\rabit\\doc\n",
      "    copying xgboost\\rabit\\doc\\.gitignore -> build\\lib.win32-3.8\\xgboost\\rabit\\doc\n",
      "    copying xgboost\\rabit\\doc\\Doxyfile -> build\\lib.win32-3.8\\xgboost\\rabit\\doc\n",
      "    copying xgboost\\rabit\\doc\\Makefile -> build\\lib.win32-3.8\\xgboost\\rabit\\doc\n",
      "    copying xgboost\\rabit\\doc\\conf.py -> build\\lib.win32-3.8\\xgboost\\rabit\\doc\n",
      "    copying xgboost\\rabit\\doc\\cpp_api.md -> build\\lib.win32-3.8\\xgboost\\rabit\\doc\n",
      "    copying xgboost\\rabit\\doc\\guide.md -> build\\lib.win32-3.8\\xgboost\\rabit\\doc\n",
      "    copying xgboost\\rabit\\doc\\index.md -> build\\lib.win32-3.8\\xgboost\\rabit\\doc\n",
      "    copying xgboost\\rabit\\doc\\parameters.md -> build\\lib.win32-3.8\\xgboost\\rabit\\doc\n",
      "    copying xgboost\\rabit\\doc\\python-requirements.txt -> build\\lib.win32-3.8\\xgboost\\rabit\\doc\n",
      "    copying xgboost\\rabit\\doc\\python_api.md -> build\\lib.win32-3.8\\xgboost\\rabit\\doc\n",
      "    copying xgboost\\rabit\\doc\\sphinx_util.py -> build\\lib.win32-3.8\\xgboost\\rabit\\doc\n",
      "    creating build\\lib.win32-3.8\\xgboost\\rabit\\guide\n",
      "    copying xgboost\\rabit\\guide\\Makefile -> build\\lib.win32-3.8\\xgboost\\rabit\\guide\n",
      "    copying xgboost\\rabit\\guide\\README -> build\\lib.win32-3.8\\xgboost\\rabit\\guide\n",
      "    copying xgboost\\rabit\\guide\\basic.cc -> build\\lib.win32-3.8\\xgboost\\rabit\\guide\n",
      "    copying xgboost\\rabit\\guide\\basic.py -> build\\lib.win32-3.8\\xgboost\\rabit\\guide\n",
      "    copying xgboost\\rabit\\guide\\broadcast.cc -> build\\lib.win32-3.8\\xgboost\\rabit\\guide\n",
      "    copying xgboost\\rabit\\guide\\broadcast.py -> build\\lib.win32-3.8\\xgboost\\rabit\\guide\n",
      "    copying xgboost\\rabit\\guide\\lazy_allreduce.cc -> build\\lib.win32-3.8\\xgboost\\rabit\\guide\n",
      "    copying xgboost\\rabit\\guide\\lazy_allreduce.py -> build\\lib.win32-3.8\\xgboost\\rabit\\guide\n",
      "    creating build\\lib.win32-3.8\\xgboost\\rabit\\include\n",
      "    creating build\\lib.win32-3.8\\xgboost\\rabit\\include\\rabit\n",
      "    copying xgboost\\rabit\\include\\rabit\\base.h -> build\\lib.win32-3.8\\xgboost\\rabit\\include\\rabit\n",
      "    copying xgboost\\rabit\\include\\rabit\\c_api.h -> build\\lib.win32-3.8\\xgboost\\rabit\\include\\rabit\n",
      "    copying xgboost\\rabit\\include\\rabit\\rabit.h -> build\\lib.win32-3.8\\xgboost\\rabit\\include\\rabit\n",
      "    copying xgboost\\rabit\\include\\rabit\\serializable.h -> build\\lib.win32-3.8\\xgboost\\rabit\\include\\rabit\n",
      "    creating build\\lib.win32-3.8\\xgboost\\rabit\\include\\rabit\\internal\n",
      "    copying xgboost\\rabit\\include\\rabit\\internal\\engine.h -> build\\lib.win32-3.8\\xgboost\\rabit\\include\\rabit\\internal\n",
      "    copying xgboost\\rabit\\include\\rabit\\internal\\io.h -> build\\lib.win32-3.8\\xgboost\\rabit\\include\\rabit\\internal\n",
      "    copying xgboost\\rabit\\include\\rabit\\internal\\rabit-inl.h -> build\\lib.win32-3.8\\xgboost\\rabit\\include\\rabit\\internal\n",
      "    copying xgboost\\rabit\\include\\rabit\\internal\\socket.h -> build\\lib.win32-3.8\\xgboost\\rabit\\include\\rabit\\internal\n",
      "    copying xgboost\\rabit\\include\\rabit\\internal\\utils.h -> build\\lib.win32-3.8\\xgboost\\rabit\\include\\rabit\\internal\n",
      "    creating build\\lib.win32-3.8\\xgboost\\rabit\\src\n",
      "    copying xgboost\\rabit\\src\\allreduce_base.cc -> build\\lib.win32-3.8\\xgboost\\rabit\\src\n",
      "    copying xgboost\\rabit\\src\\allreduce_base.h -> build\\lib.win32-3.8\\xgboost\\rabit\\src\n",
      "    copying xgboost\\rabit\\src\\allreduce_mock.h -> build\\lib.win32-3.8\\xgboost\\rabit\\src\n",
      "    copying xgboost\\rabit\\src\\c_api.cc -> build\\lib.win32-3.8\\xgboost\\rabit\\src\n",
      "    copying xgboost\\rabit\\src\\engine.cc -> build\\lib.win32-3.8\\xgboost\\rabit\\src\n",
      "    copying xgboost\\rabit\\src\\engine_mock.cc -> build\\lib.win32-3.8\\xgboost\\rabit\\src\n",
      "    copying xgboost\\rabit\\src\\engine_mpi.cc -> build\\lib.win32-3.8\\xgboost\\rabit\\src\n",
      "    creating build\\lib.win32-3.8\\xgboost\\src\n",
      "    copying xgboost\\src\\CMakeLists.txt -> build\\lib.win32-3.8\\xgboost\\src\n",
      "    copying xgboost\\src\\cli_main.cc -> build\\lib.win32-3.8\\xgboost\\src\n",
      "    copying xgboost\\src\\learner.cc -> build\\lib.win32-3.8\\xgboost\\src\n",
      "    copying xgboost\\src\\logging.cc -> build\\lib.win32-3.8\\xgboost\\src\n",
      "    creating build\\lib.win32-3.8\\xgboost\\src\\c_api\n",
      "    copying xgboost\\src\\c_api\\c_api.cc -> build\\lib.win32-3.8\\xgboost\\src\\c_api\n",
      "    copying xgboost\\src\\c_api\\c_api.cu -> build\\lib.win32-3.8\\xgboost\\src\\c_api\n",
      "    copying xgboost\\src\\c_api\\c_api_error.cc -> build\\lib.win32-3.8\\xgboost\\src\\c_api\n",
      "    copying xgboost\\src\\c_api\\c_api_error.h -> build\\lib.win32-3.8\\xgboost\\src\\c_api\n",
      "    creating build\\lib.win32-3.8\\xgboost\\src\\common\n",
      "    copying xgboost\\src\\common\\base64.h -> build\\lib.win32-3.8\\xgboost\\src\\common\n",
      "    copying xgboost\\src\\common\\bitfield.h -> build\\lib.win32-3.8\\xgboost\\src\\common\n",
      "    copying xgboost\\src\\common\\categorical.h -> build\\lib.win32-3.8\\xgboost\\src\\common\n",
      "    copying xgboost\\src\\common\\charconv.cc -> build\\lib.win32-3.8\\xgboost\\src\\common\n",
      "    copying xgboost\\src\\common\\charconv.h -> build\\lib.win32-3.8\\xgboost\\src\\common\n",
      "    copying xgboost\\src\\common\\column_matrix.h -> build\\lib.win32-3.8\\xgboost\\src\\common\n",
      "    copying xgboost\\src\\common\\common.cc -> build\\lib.win32-3.8\\xgboost\\src\\common\n",
      "    copying xgboost\\src\\common\\common.cu -> build\\lib.win32-3.8\\xgboost\\src\\common\n",
      "    copying xgboost\\src\\common\\common.h -> build\\lib.win32-3.8\\xgboost\\src\\common\n",
      "    copying xgboost\\src\\common\\compressed_iterator.h -> build\\lib.win32-3.8\\xgboost\\src\\common\n",
      "    copying xgboost\\src\\common\\config.h -> build\\lib.win32-3.8\\xgboost\\src\\common\n",
      "    copying xgboost\\src\\common\\device_helpers.cu -> build\\lib.win32-3.8\\xgboost\\src\\common\n",
      "    copying xgboost\\src\\common\\device_helpers.cuh -> build\\lib.win32-3.8\\xgboost\\src\\common\n",
      "    copying xgboost\\src\\common\\group_data.h -> build\\lib.win32-3.8\\xgboost\\src\\common\n",
      "    copying xgboost\\src\\common\\hist_util.cc -> build\\lib.win32-3.8\\xgboost\\src\\common\n",
      "    copying xgboost\\src\\common\\hist_util.cu -> build\\lib.win32-3.8\\xgboost\\src\\common\n",
      "    copying xgboost\\src\\common\\hist_util.cuh -> build\\lib.win32-3.8\\xgboost\\src\\common\n",
      "    copying xgboost\\src\\common\\hist_util.h -> build\\lib.win32-3.8\\xgboost\\src\\common\n",
      "    copying xgboost\\src\\common\\host_device_vector.cc -> build\\lib.win32-3.8\\xgboost\\src\\common\n",
      "    copying xgboost\\src\\common\\host_device_vector.cu -> build\\lib.win32-3.8\\xgboost\\src\\common\n",
      "    copying xgboost\\src\\common\\io.cc -> build\\lib.win32-3.8\\xgboost\\src\\common\n",
      "    copying xgboost\\src\\common\\io.h -> build\\lib.win32-3.8\\xgboost\\src\\common\n",
      "    copying xgboost\\src\\common\\json.cc -> build\\lib.win32-3.8\\xgboost\\src\\common\n",
      "    copying xgboost\\src\\common\\math.h -> build\\lib.win32-3.8\\xgboost\\src\\common\n",
      "    copying xgboost\\src\\common\\observer.h -> build\\lib.win32-3.8\\xgboost\\src\\common\n",
      "    copying xgboost\\src\\common\\probability_distribution.h -> build\\lib.win32-3.8\\xgboost\\src\\common\n",
      "    copying xgboost\\src\\common\\quantile.cc -> build\\lib.win32-3.8\\xgboost\\src\\common\n",
      "    copying xgboost\\src\\common\\quantile.cu -> build\\lib.win32-3.8\\xgboost\\src\\common\n",
      "    copying xgboost\\src\\common\\quantile.cuh -> build\\lib.win32-3.8\\xgboost\\src\\common\n",
      "    copying xgboost\\src\\common\\quantile.h -> build\\lib.win32-3.8\\xgboost\\src\\common\n",
      "    copying xgboost\\src\\common\\random.cc -> build\\lib.win32-3.8\\xgboost\\src\\common\n",
      "    copying xgboost\\src\\common\\random.h -> build\\lib.win32-3.8\\xgboost\\src\\common\n",
      "    copying xgboost\\src\\common\\row_set.h -> build\\lib.win32-3.8\\xgboost\\src\\common\n",
      "    copying xgboost\\src\\common\\survival_util.cc -> build\\lib.win32-3.8\\xgboost\\src\\common\n",
      "    copying xgboost\\src\\common\\survival_util.h -> build\\lib.win32-3.8\\xgboost\\src\\common\n",
      "    copying xgboost\\src\\common\\threading_utils.h -> build\\lib.win32-3.8\\xgboost\\src\\common\n",
      "    copying xgboost\\src\\common\\timer.cc -> build\\lib.win32-3.8\\xgboost\\src\\common\n",
      "    copying xgboost\\src\\common\\timer.h -> build\\lib.win32-3.8\\xgboost\\src\\common\n",
      "    copying xgboost\\src\\common\\transform.h -> build\\lib.win32-3.8\\xgboost\\src\\common\n",
      "    copying xgboost\\src\\common\\version.cc -> build\\lib.win32-3.8\\xgboost\\src\\common\n",
      "    copying xgboost\\src\\common\\version.h -> build\\lib.win32-3.8\\xgboost\\src\\common\n",
      "    creating build\\lib.win32-3.8\\xgboost\\src\\data\n",
      "    copying xgboost\\src\\data\\adapter.h -> build\\lib.win32-3.8\\xgboost\\src\\data\n",
      "    copying xgboost\\src\\data\\array_interface.h -> build\\lib.win32-3.8\\xgboost\\src\\data\n",
      "    copying xgboost\\src\\data\\data.cc -> build\\lib.win32-3.8\\xgboost\\src\\data\n",
      "    copying xgboost\\src\\data\\data.cu -> build\\lib.win32-3.8\\xgboost\\src\\data\n",
      "    copying xgboost\\src\\data\\device_adapter.cuh -> build\\lib.win32-3.8\\xgboost\\src\\data\n",
      "    copying xgboost\\src\\data\\ellpack_page.cc -> build\\lib.win32-3.8\\xgboost\\src\\data\n",
      "    copying xgboost\\src\\data\\ellpack_page.cu -> build\\lib.win32-3.8\\xgboost\\src\\data\n",
      "    copying xgboost\\src\\data\\ellpack_page.cuh -> build\\lib.win32-3.8\\xgboost\\src\\data\n",
      "    copying xgboost\\src\\data\\ellpack_page_raw_format.cu -> build\\lib.win32-3.8\\xgboost\\src\\data\n",
      "    copying xgboost\\src\\data\\ellpack_page_source.cc -> build\\lib.win32-3.8\\xgboost\\src\\data\n",
      "    copying xgboost\\src\\data\\ellpack_page_source.cu -> build\\lib.win32-3.8\\xgboost\\src\\data\n",
      "    copying xgboost\\src\\data\\ellpack_page_source.h -> build\\lib.win32-3.8\\xgboost\\src\\data\n",
      "    copying xgboost\\src\\data\\iterative_device_dmatrix.cu -> build\\lib.win32-3.8\\xgboost\\src\\data\n",
      "    copying xgboost\\src\\data\\iterative_device_dmatrix.h -> build\\lib.win32-3.8\\xgboost\\src\\data\n",
      "    copying xgboost\\src\\data\\proxy_dmatrix.cu -> build\\lib.win32-3.8\\xgboost\\src\\data\n",
      "    copying xgboost\\src\\data\\proxy_dmatrix.h -> build\\lib.win32-3.8\\xgboost\\src\\data\n",
      "    copying xgboost\\src\\data\\simple_batch_iterator.h -> build\\lib.win32-3.8\\xgboost\\src\\data\n",
      "    copying xgboost\\src\\data\\simple_dmatrix.cc -> build\\lib.win32-3.8\\xgboost\\src\\data\n",
      "    copying xgboost\\src\\data\\simple_dmatrix.cu -> build\\lib.win32-3.8\\xgboost\\src\\data\n",
      "    copying xgboost\\src\\data\\simple_dmatrix.h -> build\\lib.win32-3.8\\xgboost\\src\\data\n",
      "    copying xgboost\\src\\data\\sparse_page_dmatrix.cc -> build\\lib.win32-3.8\\xgboost\\src\\data\n",
      "    copying xgboost\\src\\data\\sparse_page_dmatrix.h -> build\\lib.win32-3.8\\xgboost\\src\\data\n",
      "    copying xgboost\\src\\data\\sparse_page_raw_format.cc -> build\\lib.win32-3.8\\xgboost\\src\\data\n",
      "    copying xgboost\\src\\data\\sparse_page_source.cc -> build\\lib.win32-3.8\\xgboost\\src\\data\n",
      "    copying xgboost\\src\\data\\sparse_page_source.h -> build\\lib.win32-3.8\\xgboost\\src\\data\n",
      "    copying xgboost\\src\\data\\sparse_page_writer.h -> build\\lib.win32-3.8\\xgboost\\src\\data\n",
      "    creating build\\lib.win32-3.8\\xgboost\\src\\gbm\n",
      "    copying xgboost\\src\\gbm\\gblinear.cc -> build\\lib.win32-3.8\\xgboost\\src\\gbm\n",
      "    copying xgboost\\src\\gbm\\gblinear_model.cc -> build\\lib.win32-3.8\\xgboost\\src\\gbm\n",
      "    copying xgboost\\src\\gbm\\gblinear_model.h -> build\\lib.win32-3.8\\xgboost\\src\\gbm\n",
      "    copying xgboost\\src\\gbm\\gbm.cc -> build\\lib.win32-3.8\\xgboost\\src\\gbm\n",
      "    copying xgboost\\src\\gbm\\gbtree.cc -> build\\lib.win32-3.8\\xgboost\\src\\gbm\n",
      "    copying xgboost\\src\\gbm\\gbtree.h -> build\\lib.win32-3.8\\xgboost\\src\\gbm\n",
      "    copying xgboost\\src\\gbm\\gbtree_model.cc -> build\\lib.win32-3.8\\xgboost\\src\\gbm\n",
      "    copying xgboost\\src\\gbm\\gbtree_model.h -> build\\lib.win32-3.8\\xgboost\\src\\gbm\n",
      "    creating build\\lib.win32-3.8\\xgboost\\src\\linear\n",
      "    copying xgboost\\src\\linear\\coordinate_common.h -> build\\lib.win32-3.8\\xgboost\\src\\linear\n",
      "    copying xgboost\\src\\linear\\linear_updater.cc -> build\\lib.win32-3.8\\xgboost\\src\\linear\n",
      "    copying xgboost\\src\\linear\\param.h -> build\\lib.win32-3.8\\xgboost\\src\\linear\n",
      "    copying xgboost\\src\\linear\\updater_coordinate.cc -> build\\lib.win32-3.8\\xgboost\\src\\linear\n",
      "    copying xgboost\\src\\linear\\updater_gpu_coordinate.cu -> build\\lib.win32-3.8\\xgboost\\src\\linear\n",
      "    copying xgboost\\src\\linear\\updater_shotgun.cc -> build\\lib.win32-3.8\\xgboost\\src\\linear\n",
      "    creating build\\lib.win32-3.8\\xgboost\\src\\metric\n",
      "    copying xgboost\\src\\metric\\elementwise_metric.cc -> build\\lib.win32-3.8\\xgboost\\src\\metric\n",
      "    copying xgboost\\src\\metric\\elementwise_metric.cu -> build\\lib.win32-3.8\\xgboost\\src\\metric\n",
      "    copying xgboost\\src\\metric\\metric.cc -> build\\lib.win32-3.8\\xgboost\\src\\metric\n",
      "    copying xgboost\\src\\metric\\metric_common.h -> build\\lib.win32-3.8\\xgboost\\src\\metric\n",
      "    copying xgboost\\src\\metric\\multiclass_metric.cc -> build\\lib.win32-3.8\\xgboost\\src\\metric\n",
      "    copying xgboost\\src\\metric\\multiclass_metric.cu -> build\\lib.win32-3.8\\xgboost\\src\\metric\n",
      "    copying xgboost\\src\\metric\\rank_metric.cc -> build\\lib.win32-3.8\\xgboost\\src\\metric\n",
      "    copying xgboost\\src\\metric\\rank_metric.cu -> build\\lib.win32-3.8\\xgboost\\src\\metric\n",
      "    copying xgboost\\src\\metric\\survival_metric.cc -> build\\lib.win32-3.8\\xgboost\\src\\metric\n",
      "    copying xgboost\\src\\metric\\survival_metric.cu -> build\\lib.win32-3.8\\xgboost\\src\\metric\n",
      "    creating build\\lib.win32-3.8\\xgboost\\src\\objective\n",
      "    copying xgboost\\src\\objective\\aft_obj.cc -> build\\lib.win32-3.8\\xgboost\\src\\objective\n",
      "    copying xgboost\\src\\objective\\aft_obj.cu -> build\\lib.win32-3.8\\xgboost\\src\\objective\n",
      "    copying xgboost\\src\\objective\\hinge.cc -> build\\lib.win32-3.8\\xgboost\\src\\objective\n",
      "    copying xgboost\\src\\objective\\hinge.cu -> build\\lib.win32-3.8\\xgboost\\src\\objective\n",
      "    copying xgboost\\src\\objective\\multiclass_obj.cc -> build\\lib.win32-3.8\\xgboost\\src\\objective\n",
      "    copying xgboost\\src\\objective\\multiclass_obj.cu -> build\\lib.win32-3.8\\xgboost\\src\\objective\n",
      "    copying xgboost\\src\\objective\\objective.cc -> build\\lib.win32-3.8\\xgboost\\src\\objective\n",
      "    copying xgboost\\src\\objective\\rank_obj.cc -> build\\lib.win32-3.8\\xgboost\\src\\objective\n",
      "    copying xgboost\\src\\objective\\rank_obj.cu -> build\\lib.win32-3.8\\xgboost\\src\\objective\n",
      "    copying xgboost\\src\\objective\\regression_loss.h -> build\\lib.win32-3.8\\xgboost\\src\\objective\n",
      "    copying xgboost\\src\\objective\\regression_obj.cc -> build\\lib.win32-3.8\\xgboost\\src\\objective\n",
      "    copying xgboost\\src\\objective\\regression_obj.cu -> build\\lib.win32-3.8\\xgboost\\src\\objective\n",
      "    creating build\\lib.win32-3.8\\xgboost\\src\\predictor\n",
      "    copying xgboost\\src\\predictor\\cpu_predictor.cc -> build\\lib.win32-3.8\\xgboost\\src\\predictor\n",
      "    copying xgboost\\src\\predictor\\gpu_predictor.cu -> build\\lib.win32-3.8\\xgboost\\src\\predictor\n",
      "    copying xgboost\\src\\predictor\\predictor.cc -> build\\lib.win32-3.8\\xgboost\\src\\predictor\n",
      "    creating build\\lib.win32-3.8\\xgboost\\src\\tree\n",
      "    copying xgboost\\src\\tree\\constraints.cc -> build\\lib.win32-3.8\\xgboost\\src\\tree\n",
      "    copying xgboost\\src\\tree\\constraints.cu -> build\\lib.win32-3.8\\xgboost\\src\\tree\n",
      "    copying xgboost\\src\\tree\\constraints.cuh -> build\\lib.win32-3.8\\xgboost\\src\\tree\n",
      "    copying xgboost\\src\\tree\\constraints.h -> build\\lib.win32-3.8\\xgboost\\src\\tree\n",
      "    copying xgboost\\src\\tree\\param.cc -> build\\lib.win32-3.8\\xgboost\\src\\tree\n",
      "    copying xgboost\\src\\tree\\param.h -> build\\lib.win32-3.8\\xgboost\\src\\tree\n",
      "    copying xgboost\\src\\tree\\split_evaluator.h -> build\\lib.win32-3.8\\xgboost\\src\\tree\n",
      "    copying xgboost\\src\\tree\\tree_model.cc -> build\\lib.win32-3.8\\xgboost\\src\\tree\n",
      "    copying xgboost\\src\\tree\\tree_updater.cc -> build\\lib.win32-3.8\\xgboost\\src\\tree\n",
      "    copying xgboost\\src\\tree\\updater_basemaker-inl.h -> build\\lib.win32-3.8\\xgboost\\src\\tree\n",
      "    copying xgboost\\src\\tree\\updater_colmaker.cc -> build\\lib.win32-3.8\\xgboost\\src\\tree\n",
      "    copying xgboost\\src\\tree\\updater_gpu_common.cuh -> build\\lib.win32-3.8\\xgboost\\src\\tree\n",
      "    copying xgboost\\src\\tree\\updater_gpu_hist.cu -> build\\lib.win32-3.8\\xgboost\\src\\tree\n",
      "    copying xgboost\\src\\tree\\updater_histmaker.cc -> build\\lib.win32-3.8\\xgboost\\src\\tree\n",
      "    copying xgboost\\src\\tree\\updater_prune.cc -> build\\lib.win32-3.8\\xgboost\\src\\tree\n",
      "    copying xgboost\\src\\tree\\updater_quantile_hist.cc -> build\\lib.win32-3.8\\xgboost\\src\\tree\n",
      "    copying xgboost\\src\\tree\\updater_quantile_hist.h -> build\\lib.win32-3.8\\xgboost\\src\\tree\n",
      "    copying xgboost\\src\\tree\\updater_refresh.cc -> build\\lib.win32-3.8\\xgboost\\src\\tree\n",
      "    copying xgboost\\src\\tree\\updater_sync.cc -> build\\lib.win32-3.8\\xgboost\\src\\tree\n",
      "    creating build\\lib.win32-3.8\\xgboost\\src\\tree\\gpu_hist\n",
      "    copying xgboost\\src\\tree\\gpu_hist\\driver.cuh -> build\\lib.win32-3.8\\xgboost\\src\\tree\\gpu_hist\n",
      "    copying xgboost\\src\\tree\\gpu_hist\\evaluate_splits.cu -> build\\lib.win32-3.8\\xgboost\\src\\tree\\gpu_hist\n",
      "    copying xgboost\\src\\tree\\gpu_hist\\evaluate_splits.cuh -> build\\lib.win32-3.8\\xgboost\\src\\tree\\gpu_hist\n",
      "    copying xgboost\\src\\tree\\gpu_hist\\feature_groups.cu -> build\\lib.win32-3.8\\xgboost\\src\\tree\\gpu_hist\n",
      "    copying xgboost\\src\\tree\\gpu_hist\\feature_groups.cuh -> build\\lib.win32-3.8\\xgboost\\src\\tree\\gpu_hist\n",
      "    copying xgboost\\src\\tree\\gpu_hist\\gradient_based_sampler.cu -> build\\lib.win32-3.8\\xgboost\\src\\tree\\gpu_hist\n",
      "    copying xgboost\\src\\tree\\gpu_hist\\gradient_based_sampler.cuh -> build\\lib.win32-3.8\\xgboost\\src\\tree\\gpu_hist\n",
      "    copying xgboost\\src\\tree\\gpu_hist\\histogram.cu -> build\\lib.win32-3.8\\xgboost\\src\\tree\\gpu_hist\n",
      "    copying xgboost\\src\\tree\\gpu_hist\\histogram.cuh -> build\\lib.win32-3.8\\xgboost\\src\\tree\\gpu_hist\n",
      "    copying xgboost\\src\\tree\\gpu_hist\\row_partitioner.cu -> build\\lib.win32-3.8\\xgboost\\src\\tree\\gpu_hist\n",
      "    copying xgboost\\src\\tree\\gpu_hist\\row_partitioner.cuh -> build\\lib.win32-3.8\\xgboost\\src\\tree\\gpu_hist\n",
      "    running build_ext\n",
      "    creating build\\temp.win32-3.8\n",
      "    creating build\\temp.win32-3.8\\Release\n",
      "    creating build\\temp.win32-3.8\\Release\\xgboost\n",
      "    creating build\\temp.win32-3.8\\Release\\xgboost\\src\n",
      "    copying xgboost\\src\\cli_main.cc -> build\\temp.win32-3.8\\Release\\xgboost\\src\n",
      "    copying xgboost\\src\\CMakeLists.txt -> build\\temp.win32-3.8\\Release\\xgboost\\src\n",
      "    creating build\\temp.win32-3.8\\Release\\xgboost\\src\\common\n",
      "    copying xgboost\\src\\common\\base64.h -> build\\temp.win32-3.8\\Release\\xgboost\\src\\common\n",
      "    copying xgboost\\src\\common\\bitfield.h -> build\\temp.win32-3.8\\Release\\xgboost\\src\\common\n",
      "    copying xgboost\\src\\common\\categorical.h -> build\\temp.win32-3.8\\Release\\xgboost\\src\\common\n",
      "    copying xgboost\\src\\common\\charconv.cc -> build\\temp.win32-3.8\\Release\\xgboost\\src\\common\n",
      "    copying xgboost\\src\\common\\charconv.h -> build\\temp.win32-3.8\\Release\\xgboost\\src\\common\n",
      "    copying xgboost\\src\\common\\column_matrix.h -> build\\temp.win32-3.8\\Release\\xgboost\\src\\common\n",
      "    copying xgboost\\src\\common\\common.cc -> build\\temp.win32-3.8\\Release\\xgboost\\src\\common\n",
      "    copying xgboost\\src\\common\\common.cu -> build\\temp.win32-3.8\\Release\\xgboost\\src\\common\n",
      "    copying xgboost\\src\\common\\common.h -> build\\temp.win32-3.8\\Release\\xgboost\\src\\common\n",
      "    copying xgboost\\src\\common\\compressed_iterator.h -> build\\temp.win32-3.8\\Release\\xgboost\\src\\common\n",
      "    copying xgboost\\src\\common\\config.h -> build\\temp.win32-3.8\\Release\\xgboost\\src\\common\n",
      "    copying xgboost\\src\\common\\device_helpers.cu -> build\\temp.win32-3.8\\Release\\xgboost\\src\\common\n",
      "    copying xgboost\\src\\common\\device_helpers.cuh -> build\\temp.win32-3.8\\Release\\xgboost\\src\\common\n",
      "    copying xgboost\\src\\common\\group_data.h -> build\\temp.win32-3.8\\Release\\xgboost\\src\\common\n",
      "    copying xgboost\\src\\common\\hist_util.cc -> build\\temp.win32-3.8\\Release\\xgboost\\src\\common\n",
      "    copying xgboost\\src\\common\\hist_util.cu -> build\\temp.win32-3.8\\Release\\xgboost\\src\\common\n",
      "    copying xgboost\\src\\common\\hist_util.cuh -> build\\temp.win32-3.8\\Release\\xgboost\\src\\common\n",
      "    copying xgboost\\src\\common\\hist_util.h -> build\\temp.win32-3.8\\Release\\xgboost\\src\\common\n",
      "    copying xgboost\\src\\common\\host_device_vector.cc -> build\\temp.win32-3.8\\Release\\xgboost\\src\\common\n",
      "    copying xgboost\\src\\common\\host_device_vector.cu -> build\\temp.win32-3.8\\Release\\xgboost\\src\\common\n",
      "    copying xgboost\\src\\common\\io.cc -> build\\temp.win32-3.8\\Release\\xgboost\\src\\common\n",
      "    copying xgboost\\src\\common\\io.h -> build\\temp.win32-3.8\\Release\\xgboost\\src\\common\n",
      "    copying xgboost\\src\\common\\json.cc -> build\\temp.win32-3.8\\Release\\xgboost\\src\\common\n",
      "    copying xgboost\\src\\common\\math.h -> build\\temp.win32-3.8\\Release\\xgboost\\src\\common\n",
      "    copying xgboost\\src\\common\\observer.h -> build\\temp.win32-3.8\\Release\\xgboost\\src\\common\n",
      "    copying xgboost\\src\\common\\probability_distribution.h -> build\\temp.win32-3.8\\Release\\xgboost\\src\\common\n",
      "    copying xgboost\\src\\common\\quantile.cc -> build\\temp.win32-3.8\\Release\\xgboost\\src\\common\n",
      "    copying xgboost\\src\\common\\quantile.cu -> build\\temp.win32-3.8\\Release\\xgboost\\src\\common\n",
      "    copying xgboost\\src\\common\\quantile.cuh -> build\\temp.win32-3.8\\Release\\xgboost\\src\\common\n",
      "    copying xgboost\\src\\common\\quantile.h -> build\\temp.win32-3.8\\Release\\xgboost\\src\\common\n",
      "    copying xgboost\\src\\common\\random.cc -> build\\temp.win32-3.8\\Release\\xgboost\\src\\common\n",
      "    copying xgboost\\src\\common\\random.h -> build\\temp.win32-3.8\\Release\\xgboost\\src\\common\n",
      "    copying xgboost\\src\\common\\row_set.h -> build\\temp.win32-3.8\\Release\\xgboost\\src\\common\n",
      "    copying xgboost\\src\\common\\survival_util.cc -> build\\temp.win32-3.8\\Release\\xgboost\\src\\common\n",
      "    copying xgboost\\src\\common\\survival_util.h -> build\\temp.win32-3.8\\Release\\xgboost\\src\\common\n",
      "    copying xgboost\\src\\common\\threading_utils.h -> build\\temp.win32-3.8\\Release\\xgboost\\src\\common\n",
      "    copying xgboost\\src\\common\\timer.cc -> build\\temp.win32-3.8\\Release\\xgboost\\src\\common\n",
      "    copying xgboost\\src\\common\\timer.h -> build\\temp.win32-3.8\\Release\\xgboost\\src\\common\n",
      "    copying xgboost\\src\\common\\transform.h -> build\\temp.win32-3.8\\Release\\xgboost\\src\\common\n",
      "    copying xgboost\\src\\common\\version.cc -> build\\temp.win32-3.8\\Release\\xgboost\\src\\common\n",
      "    copying xgboost\\src\\common\\version.h -> build\\temp.win32-3.8\\Release\\xgboost\\src\\common\n",
      "    creating build\\temp.win32-3.8\\Release\\xgboost\\src\\c_api\n",
      "    copying xgboost\\src\\c_api\\c_api.cc -> build\\temp.win32-3.8\\Release\\xgboost\\src\\c_api\n",
      "    copying xgboost\\src\\c_api\\c_api.cu -> build\\temp.win32-3.8\\Release\\xgboost\\src\\c_api\n",
      "    copying xgboost\\src\\c_api\\c_api_error.cc -> build\\temp.win32-3.8\\Release\\xgboost\\src\\c_api\n",
      "    copying xgboost\\src\\c_api\\c_api_error.h -> build\\temp.win32-3.8\\Release\\xgboost\\src\\c_api\n",
      "    creating build\\temp.win32-3.8\\Release\\xgboost\\src\\data\n",
      "    copying xgboost\\src\\data\\adapter.h -> build\\temp.win32-3.8\\Release\\xgboost\\src\\data\n",
      "    copying xgboost\\src\\data\\array_interface.h -> build\\temp.win32-3.8\\Release\\xgboost\\src\\data\n",
      "    copying xgboost\\src\\data\\data.cc -> build\\temp.win32-3.8\\Release\\xgboost\\src\\data\n",
      "    copying xgboost\\src\\data\\data.cu -> build\\temp.win32-3.8\\Release\\xgboost\\src\\data\n",
      "    copying xgboost\\src\\data\\device_adapter.cuh -> build\\temp.win32-3.8\\Release\\xgboost\\src\\data\n",
      "    copying xgboost\\src\\data\\ellpack_page.cc -> build\\temp.win32-3.8\\Release\\xgboost\\src\\data\n",
      "    copying xgboost\\src\\data\\ellpack_page.cu -> build\\temp.win32-3.8\\Release\\xgboost\\src\\data\n",
      "    copying xgboost\\src\\data\\ellpack_page.cuh -> build\\temp.win32-3.8\\Release\\xgboost\\src\\data\n",
      "    copying xgboost\\src\\data\\ellpack_page_raw_format.cu -> build\\temp.win32-3.8\\Release\\xgboost\\src\\data\n",
      "    copying xgboost\\src\\data\\ellpack_page_source.cc -> build\\temp.win32-3.8\\Release\\xgboost\\src\\data\n",
      "    copying xgboost\\src\\data\\ellpack_page_source.cu -> build\\temp.win32-3.8\\Release\\xgboost\\src\\data\n",
      "    copying xgboost\\src\\data\\ellpack_page_source.h -> build\\temp.win32-3.8\\Release\\xgboost\\src\\data\n",
      "    copying xgboost\\src\\data\\iterative_device_dmatrix.cu -> build\\temp.win32-3.8\\Release\\xgboost\\src\\data\n",
      "    copying xgboost\\src\\data\\iterative_device_dmatrix.h -> build\\temp.win32-3.8\\Release\\xgboost\\src\\data\n",
      "    copying xgboost\\src\\data\\proxy_dmatrix.cu -> build\\temp.win32-3.8\\Release\\xgboost\\src\\data\n",
      "    copying xgboost\\src\\data\\proxy_dmatrix.h -> build\\temp.win32-3.8\\Release\\xgboost\\src\\data\n",
      "    copying xgboost\\src\\data\\simple_batch_iterator.h -> build\\temp.win32-3.8\\Release\\xgboost\\src\\data\n",
      "    copying xgboost\\src\\data\\simple_dmatrix.cc -> build\\temp.win32-3.8\\Release\\xgboost\\src\\data\n",
      "    copying xgboost\\src\\data\\simple_dmatrix.cu -> build\\temp.win32-3.8\\Release\\xgboost\\src\\data\n",
      "    copying xgboost\\src\\data\\simple_dmatrix.h -> build\\temp.win32-3.8\\Release\\xgboost\\src\\data\n",
      "    copying xgboost\\src\\data\\sparse_page_dmatrix.cc -> build\\temp.win32-3.8\\Release\\xgboost\\src\\data\n",
      "    copying xgboost\\src\\data\\sparse_page_dmatrix.h -> build\\temp.win32-3.8\\Release\\xgboost\\src\\data\n",
      "    copying xgboost\\src\\data\\sparse_page_raw_format.cc -> build\\temp.win32-3.8\\Release\\xgboost\\src\\data\n",
      "    copying xgboost\\src\\data\\sparse_page_source.cc -> build\\temp.win32-3.8\\Release\\xgboost\\src\\data\n",
      "    copying xgboost\\src\\data\\sparse_page_source.h -> build\\temp.win32-3.8\\Release\\xgboost\\src\\data\n",
      "    copying xgboost\\src\\data\\sparse_page_writer.h -> build\\temp.win32-3.8\\Release\\xgboost\\src\\data\n",
      "    creating build\\temp.win32-3.8\\Release\\xgboost\\src\\gbm\n",
      "    copying xgboost\\src\\gbm\\gblinear.cc -> build\\temp.win32-3.8\\Release\\xgboost\\src\\gbm\n",
      "    copying xgboost\\src\\gbm\\gblinear_model.cc -> build\\temp.win32-3.8\\Release\\xgboost\\src\\gbm\n",
      "    copying xgboost\\src\\gbm\\gblinear_model.h -> build\\temp.win32-3.8\\Release\\xgboost\\src\\gbm\n",
      "    copying xgboost\\src\\gbm\\gbm.cc -> build\\temp.win32-3.8\\Release\\xgboost\\src\\gbm\n",
      "    copying xgboost\\src\\gbm\\gbtree.cc -> build\\temp.win32-3.8\\Release\\xgboost\\src\\gbm\n",
      "    copying xgboost\\src\\gbm\\gbtree.h -> build\\temp.win32-3.8\\Release\\xgboost\\src\\gbm\n",
      "    copying xgboost\\src\\gbm\\gbtree_model.cc -> build\\temp.win32-3.8\\Release\\xgboost\\src\\gbm\n",
      "    copying xgboost\\src\\gbm\\gbtree_model.h -> build\\temp.win32-3.8\\Release\\xgboost\\src\\gbm\n",
      "    copying xgboost\\src\\learner.cc -> build\\temp.win32-3.8\\Release\\xgboost\\src\n",
      "    creating build\\temp.win32-3.8\\Release\\xgboost\\src\\linear\n",
      "    copying xgboost\\src\\linear\\coordinate_common.h -> build\\temp.win32-3.8\\Release\\xgboost\\src\\linear\n",
      "    copying xgboost\\src\\linear\\linear_updater.cc -> build\\temp.win32-3.8\\Release\\xgboost\\src\\linear\n",
      "    copying xgboost\\src\\linear\\param.h -> build\\temp.win32-3.8\\Release\\xgboost\\src\\linear\n",
      "    copying xgboost\\src\\linear\\updater_coordinate.cc -> build\\temp.win32-3.8\\Release\\xgboost\\src\\linear\n",
      "    copying xgboost\\src\\linear\\updater_gpu_coordinate.cu -> build\\temp.win32-3.8\\Release\\xgboost\\src\\linear\n",
      "    copying xgboost\\src\\linear\\updater_shotgun.cc -> build\\temp.win32-3.8\\Release\\xgboost\\src\\linear\n",
      "    copying xgboost\\src\\logging.cc -> build\\temp.win32-3.8\\Release\\xgboost\\src\n",
      "    creating build\\temp.win32-3.8\\Release\\xgboost\\src\\metric\n",
      "    copying xgboost\\src\\metric\\elementwise_metric.cc -> build\\temp.win32-3.8\\Release\\xgboost\\src\\metric\n",
      "    copying xgboost\\src\\metric\\elementwise_metric.cu -> build\\temp.win32-3.8\\Release\\xgboost\\src\\metric\n",
      "    copying xgboost\\src\\metric\\metric.cc -> build\\temp.win32-3.8\\Release\\xgboost\\src\\metric\n",
      "    copying xgboost\\src\\metric\\metric_common.h -> build\\temp.win32-3.8\\Release\\xgboost\\src\\metric\n",
      "    copying xgboost\\src\\metric\\multiclass_metric.cc -> build\\temp.win32-3.8\\Release\\xgboost\\src\\metric\n",
      "    copying xgboost\\src\\metric\\multiclass_metric.cu -> build\\temp.win32-3.8\\Release\\xgboost\\src\\metric\n",
      "    copying xgboost\\src\\metric\\rank_metric.cc -> build\\temp.win32-3.8\\Release\\xgboost\\src\\metric\n",
      "    copying xgboost\\src\\metric\\rank_metric.cu -> build\\temp.win32-3.8\\Release\\xgboost\\src\\metric\n",
      "    copying xgboost\\src\\metric\\survival_metric.cc -> build\\temp.win32-3.8\\Release\\xgboost\\src\\metric\n",
      "    copying xgboost\\src\\metric\\survival_metric.cu -> build\\temp.win32-3.8\\Release\\xgboost\\src\\metric\n",
      "    creating build\\temp.win32-3.8\\Release\\xgboost\\src\\objective\n",
      "    copying xgboost\\src\\objective\\aft_obj.cc -> build\\temp.win32-3.8\\Release\\xgboost\\src\\objective\n",
      "    copying xgboost\\src\\objective\\aft_obj.cu -> build\\temp.win32-3.8\\Release\\xgboost\\src\\objective\n",
      "    copying xgboost\\src\\objective\\hinge.cc -> build\\temp.win32-3.8\\Release\\xgboost\\src\\objective\n",
      "    copying xgboost\\src\\objective\\hinge.cu -> build\\temp.win32-3.8\\Release\\xgboost\\src\\objective\n",
      "    copying xgboost\\src\\objective\\multiclass_obj.cc -> build\\temp.win32-3.8\\Release\\xgboost\\src\\objective\n",
      "    copying xgboost\\src\\objective\\multiclass_obj.cu -> build\\temp.win32-3.8\\Release\\xgboost\\src\\objective\n",
      "    copying xgboost\\src\\objective\\objective.cc -> build\\temp.win32-3.8\\Release\\xgboost\\src\\objective\n",
      "    copying xgboost\\src\\objective\\rank_obj.cc -> build\\temp.win32-3.8\\Release\\xgboost\\src\\objective\n",
      "    copying xgboost\\src\\objective\\rank_obj.cu -> build\\temp.win32-3.8\\Release\\xgboost\\src\\objective\n",
      "    copying xgboost\\src\\objective\\regression_loss.h -> build\\temp.win32-3.8\\Release\\xgboost\\src\\objective\n",
      "    copying xgboost\\src\\objective\\regression_obj.cc -> build\\temp.win32-3.8\\Release\\xgboost\\src\\objective\n",
      "    copying xgboost\\src\\objective\\regression_obj.cu -> build\\temp.win32-3.8\\Release\\xgboost\\src\\objective\n",
      "    creating build\\temp.win32-3.8\\Release\\xgboost\\src\\predictor\n",
      "    copying xgboost\\src\\predictor\\cpu_predictor.cc -> build\\temp.win32-3.8\\Release\\xgboost\\src\\predictor\n",
      "    copying xgboost\\src\\predictor\\gpu_predictor.cu -> build\\temp.win32-3.8\\Release\\xgboost\\src\\predictor\n",
      "    copying xgboost\\src\\predictor\\predictor.cc -> build\\temp.win32-3.8\\Release\\xgboost\\src\\predictor\n",
      "    creating build\\temp.win32-3.8\\Release\\xgboost\\src\\tree\n",
      "    copying xgboost\\src\\tree\\constraints.cc -> build\\temp.win32-3.8\\Release\\xgboost\\src\\tree\n",
      "    copying xgboost\\src\\tree\\constraints.cu -> build\\temp.win32-3.8\\Release\\xgboost\\src\\tree\n",
      "    copying xgboost\\src\\tree\\constraints.cuh -> build\\temp.win32-3.8\\Release\\xgboost\\src\\tree\n",
      "    copying xgboost\\src\\tree\\constraints.h -> build\\temp.win32-3.8\\Release\\xgboost\\src\\tree\n",
      "    creating build\\temp.win32-3.8\\Release\\xgboost\\src\\tree\\gpu_hist\n",
      "    copying xgboost\\src\\tree\\gpu_hist\\driver.cuh -> build\\temp.win32-3.8\\Release\\xgboost\\src\\tree\\gpu_hist\n",
      "    copying xgboost\\src\\tree\\gpu_hist\\evaluate_splits.cu -> build\\temp.win32-3.8\\Release\\xgboost\\src\\tree\\gpu_hist\n",
      "    copying xgboost\\src\\tree\\gpu_hist\\evaluate_splits.cuh -> build\\temp.win32-3.8\\Release\\xgboost\\src\\tree\\gpu_hist\n",
      "    copying xgboost\\src\\tree\\gpu_hist\\feature_groups.cu -> build\\temp.win32-3.8\\Release\\xgboost\\src\\tree\\gpu_hist\n",
      "    copying xgboost\\src\\tree\\gpu_hist\\feature_groups.cuh -> build\\temp.win32-3.8\\Release\\xgboost\\src\\tree\\gpu_hist\n",
      "    copying xgboost\\src\\tree\\gpu_hist\\gradient_based_sampler.cu -> build\\temp.win32-3.8\\Release\\xgboost\\src\\tree\\gpu_hist\n",
      "    copying xgboost\\src\\tree\\gpu_hist\\gradient_based_sampler.cuh -> build\\temp.win32-3.8\\Release\\xgboost\\src\\tree\\gpu_hist\n",
      "    copying xgboost\\src\\tree\\gpu_hist\\histogram.cu -> build\\temp.win32-3.8\\Release\\xgboost\\src\\tree\\gpu_hist\n",
      "    copying xgboost\\src\\tree\\gpu_hist\\histogram.cuh -> build\\temp.win32-3.8\\Release\\xgboost\\src\\tree\\gpu_hist\n",
      "    copying xgboost\\src\\tree\\gpu_hist\\row_partitioner.cu -> build\\temp.win32-3.8\\Release\\xgboost\\src\\tree\\gpu_hist\n",
      "    copying xgboost\\src\\tree\\gpu_hist\\row_partitioner.cuh -> build\\temp.win32-3.8\\Release\\xgboost\\src\\tree\\gpu_hist\n",
      "    copying xgboost\\src\\tree\\param.cc -> build\\temp.win32-3.8\\Release\\xgboost\\src\\tree\n",
      "    copying xgboost\\src\\tree\\param.h -> build\\temp.win32-3.8\\Release\\xgboost\\src\\tree\n",
      "    copying xgboost\\src\\tree\\split_evaluator.h -> build\\temp.win32-3.8\\Release\\xgboost\\src\\tree\n",
      "    copying xgboost\\src\\tree\\tree_model.cc -> build\\temp.win32-3.8\\Release\\xgboost\\src\\tree\n",
      "    copying xgboost\\src\\tree\\tree_updater.cc -> build\\temp.win32-3.8\\Release\\xgboost\\src\\tree\n",
      "    copying xgboost\\src\\tree\\updater_basemaker-inl.h -> build\\temp.win32-3.8\\Release\\xgboost\\src\\tree\n",
      "    copying xgboost\\src\\tree\\updater_colmaker.cc -> build\\temp.win32-3.8\\Release\\xgboost\\src\\tree\n",
      "    copying xgboost\\src\\tree\\updater_gpu_common.cuh -> build\\temp.win32-3.8\\Release\\xgboost\\src\\tree\n",
      "    copying xgboost\\src\\tree\\updater_gpu_hist.cu -> build\\temp.win32-3.8\\Release\\xgboost\\src\\tree\n",
      "    copying xgboost\\src\\tree\\updater_histmaker.cc -> build\\temp.win32-3.8\\Release\\xgboost\\src\\tree\n",
      "    copying xgboost\\src\\tree\\updater_prune.cc -> build\\temp.win32-3.8\\Release\\xgboost\\src\\tree\n",
      "    copying xgboost\\src\\tree\\updater_quantile_hist.cc -> build\\temp.win32-3.8\\Release\\xgboost\\src\\tree\n",
      "    copying xgboost\\src\\tree\\updater_quantile_hist.h -> build\\temp.win32-3.8\\Release\\xgboost\\src\\tree\n",
      "    copying xgboost\\src\\tree\\updater_refresh.cc -> build\\temp.win32-3.8\\Release\\xgboost\\src\\tree\n",
      "    copying xgboost\\src\\tree\\updater_sync.cc -> build\\temp.win32-3.8\\Release\\xgboost\\src\\tree\n",
      "    creating build\\temp.win32-3.8\\Release\\xgboost\\include\n",
      "    creating build\\temp.win32-3.8\\Release\\xgboost\\include\\xgboost\n",
      "    copying xgboost\\include\\xgboost\\base.h -> build\\temp.win32-3.8\\Release\\xgboost\\include\\xgboost\n",
      "    copying xgboost\\include\\xgboost\\c_api.h -> build\\temp.win32-3.8\\Release\\xgboost\\include\\xgboost\n",
      "    copying xgboost\\include\\xgboost\\data.h -> build\\temp.win32-3.8\\Release\\xgboost\\include\\xgboost\n",
      "    copying xgboost\\include\\xgboost\\feature_map.h -> build\\temp.win32-3.8\\Release\\xgboost\\include\\xgboost\n",
      "    copying xgboost\\include\\xgboost\\gbm.h -> build\\temp.win32-3.8\\Release\\xgboost\\include\\xgboost\n",
      "    copying xgboost\\include\\xgboost\\generic_parameters.h -> build\\temp.win32-3.8\\Release\\xgboost\\include\\xgboost\n",
      "    copying xgboost\\include\\xgboost\\host_device_vector.h -> build\\temp.win32-3.8\\Release\\xgboost\\include\\xgboost\n",
      "    copying xgboost\\include\\xgboost\\intrusive_ptr.h -> build\\temp.win32-3.8\\Release\\xgboost\\include\\xgboost\n",
      "    copying xgboost\\include\\xgboost\\json.h -> build\\temp.win32-3.8\\Release\\xgboost\\include\\xgboost\n",
      "    copying xgboost\\include\\xgboost\\json_io.h -> build\\temp.win32-3.8\\Release\\xgboost\\include\\xgboost\n",
      "    copying xgboost\\include\\xgboost\\learner.h -> build\\temp.win32-3.8\\Release\\xgboost\\include\\xgboost\n",
      "    copying xgboost\\include\\xgboost\\linear_updater.h -> build\\temp.win32-3.8\\Release\\xgboost\\include\\xgboost\n",
      "    copying xgboost\\include\\xgboost\\logging.h -> build\\temp.win32-3.8\\Release\\xgboost\\include\\xgboost\n",
      "    copying xgboost\\include\\xgboost\\metric.h -> build\\temp.win32-3.8\\Release\\xgboost\\include\\xgboost\n",
      "    copying xgboost\\include\\xgboost\\model.h -> build\\temp.win32-3.8\\Release\\xgboost\\include\\xgboost\n",
      "    copying xgboost\\include\\xgboost\\objective.h -> build\\temp.win32-3.8\\Release\\xgboost\\include\\xgboost\n",
      "    copying xgboost\\include\\xgboost\\parameter.h -> build\\temp.win32-3.8\\Release\\xgboost\\include\\xgboost\n",
      "    copying xgboost\\include\\xgboost\\predictor.h -> build\\temp.win32-3.8\\Release\\xgboost\\include\\xgboost\n",
      "    copying xgboost\\include\\xgboost\\span.h -> build\\temp.win32-3.8\\Release\\xgboost\\include\\xgboost\n",
      "    copying xgboost\\include\\xgboost\\tree_model.h -> build\\temp.win32-3.8\\Release\\xgboost\\include\\xgboost\n",
      "    copying xgboost\\include\\xgboost\\tree_updater.h -> build\\temp.win32-3.8\\Release\\xgboost\\include\\xgboost\n",
      "    copying xgboost\\include\\xgboost\\version_config.h -> build\\temp.win32-3.8\\Release\\xgboost\\include\\xgboost\n",
      "    creating build\\temp.win32-3.8\\Release\\xgboost\\dmlc-core\n",
      "    copying xgboost\\dmlc-core\\.editorconfig -> build\\temp.win32-3.8\\Release\\xgboost\\dmlc-core\n",
      "    copying xgboost\\dmlc-core\\.git -> build\\temp.win32-3.8\\Release\\xgboost\\dmlc-core\n",
      "    creating build\\temp.win32-3.8\\Release\\xgboost\\dmlc-core\\.github\n",
      "    creating build\\temp.win32-3.8\\Release\\xgboost\\dmlc-core\\.github\\workflows\n",
      "    copying xgboost\\dmlc-core\\.github\\workflows\\githubci.yml -> build\\temp.win32-3.8\\Release\\xgboost\\dmlc-core\\.github\\workflows\n",
      "    copying xgboost\\dmlc-core\\.gitignore -> build\\temp.win32-3.8\\Release\\xgboost\\dmlc-core\n",
      "    copying xgboost\\dmlc-core\\appveyor.yml -> build\\temp.win32-3.8\\Release\\xgboost\\dmlc-core\n",
      "    creating build\\temp.win32-3.8\\Release\\xgboost\\dmlc-core\\cmake\n",
      "    copying xgboost\\dmlc-core\\cmake\\build_config.h.in -> build\\temp.win32-3.8\\Release\\xgboost\\dmlc-core\\cmake\n",
      "    copying xgboost\\dmlc-core\\cmake\\dmlc-config.cmake.in -> build\\temp.win32-3.8\\Release\\xgboost\\dmlc-core\\cmake\n",
      "    copying xgboost\\dmlc-core\\cmake\\gtest_cmake.in -> build\\temp.win32-3.8\\Release\\xgboost\\dmlc-core\\cmake\n",
      "    copying xgboost\\dmlc-core\\cmake\\lint.cmake -> build\\temp.win32-3.8\\Release\\xgboost\\dmlc-core\\cmake\n",
      "    creating build\\temp.win32-3.8\\Release\\xgboost\\dmlc-core\\cmake\\Modules\n",
      "    copying xgboost\\dmlc-core\\cmake\\Modules\\FindASan.cmake -> build\\temp.win32-3.8\\Release\\xgboost\\dmlc-core\\cmake\\Modules\n",
      "    copying xgboost\\dmlc-core\\cmake\\Modules\\FindHDFS.cmake -> build\\temp.win32-3.8\\Release\\xgboost\\dmlc-core\\cmake\\Modules\n",
      "    copying xgboost\\dmlc-core\\cmake\\Modules\\FindLSan.cmake -> build\\temp.win32-3.8\\Release\\xgboost\\dmlc-core\\cmake\\Modules\n",
      "    copying xgboost\\dmlc-core\\cmake\\Modules\\FindTSan.cmake -> build\\temp.win32-3.8\\Release\\xgboost\\dmlc-core\\cmake\\Modules\n",
      "    copying xgboost\\dmlc-core\\cmake\\Modules\\FindUBSan.cmake -> build\\temp.win32-3.8\\Release\\xgboost\\dmlc-core\\cmake\\Modules\n",
      "    copying xgboost\\dmlc-core\\cmake\\Sanitizer.cmake -> build\\temp.win32-3.8\\Release\\xgboost\\dmlc-core\\cmake\n",
      "    copying xgboost\\dmlc-core\\cmake\\Utils.cmake -> build\\temp.win32-3.8\\Release\\xgboost\\dmlc-core\\cmake\n",
      "    copying xgboost\\dmlc-core\\CMakeLists.txt -> build\\temp.win32-3.8\\Release\\xgboost\\dmlc-core\n",
      "    creating build\\temp.win32-3.8\\Release\\xgboost\\dmlc-core\\doc\n",
      "    copying xgboost\\dmlc-core\\doc\\.gitignore -> build\\temp.win32-3.8\\Release\\xgboost\\dmlc-core\\doc\n",
      "    copying xgboost\\dmlc-core\\doc\\build.md -> build\\temp.win32-3.8\\Release\\xgboost\\dmlc-core\\doc\n",
      "    copying xgboost\\dmlc-core\\doc\\conf.py -> build\\temp.win32-3.8\\Release\\xgboost\\dmlc-core\\doc\n",
      "    copying xgboost\\dmlc-core\\doc\\Doxyfile -> build\\temp.win32-3.8\\Release\\xgboost\\dmlc-core\\doc\n",
      "    copying xgboost\\dmlc-core\\doc\\index.md -> build\\temp.win32-3.8\\Release\\xgboost\\dmlc-core\\doc\n",
      "    copying xgboost\\dmlc-core\\doc\\Makefile -> build\\temp.win32-3.8\\Release\\xgboost\\dmlc-core\\doc\n",
      "    copying xgboost\\dmlc-core\\doc\\parameter.md -> build\\temp.win32-3.8\\Release\\xgboost\\dmlc-core\\doc\n",
      "    copying xgboost\\dmlc-core\\doc\\README -> build\\temp.win32-3.8\\Release\\xgboost\\dmlc-core\\doc\n",
      "    copying xgboost\\dmlc-core\\doc\\sphinx_util.py -> build\\temp.win32-3.8\\Release\\xgboost\\dmlc-core\\doc\n",
      "    creating build\\temp.win32-3.8\\Release\\xgboost\\dmlc-core\\example\n",
      "    copying xgboost\\dmlc-core\\example\\dmlc_example.mk -> build\\temp.win32-3.8\\Release\\xgboost\\dmlc-core\\example\n",
      "    copying xgboost\\dmlc-core\\example\\parameter.cc -> build\\temp.win32-3.8\\Release\\xgboost\\dmlc-core\\example\n",
      "    creating build\\temp.win32-3.8\\Release\\xgboost\\dmlc-core\\include\n",
      "    creating build\\temp.win32-3.8\\Release\\xgboost\\dmlc-core\\include\\dmlc\n",
      "    copying xgboost\\dmlc-core\\include\\dmlc\\any.h -> build\\temp.win32-3.8\\Release\\xgboost\\dmlc-core\\include\\dmlc\n",
      "    copying xgboost\\dmlc-core\\include\\dmlc\\array_view.h -> build\\temp.win32-3.8\\Release\\xgboost\\dmlc-core\\include\\dmlc\n",
      "    copying xgboost\\dmlc-core\\include\\dmlc\\base.h -> build\\temp.win32-3.8\\Release\\xgboost\\dmlc-core\\include\\dmlc\n",
      "    copying xgboost\\dmlc-core\\include\\dmlc\\blockingconcurrentqueue.h -> build\\temp.win32-3.8\\Release\\xgboost\\dmlc-core\\include\\dmlc\n",
      "    copying xgboost\\dmlc-core\\include\\dmlc\\build_config_default.h -> build\\temp.win32-3.8\\Release\\xgboost\\dmlc-core\\include\\dmlc\n",
      "    copying xgboost\\dmlc-core\\include\\dmlc\\common.h -> build\\temp.win32-3.8\\Release\\xgboost\\dmlc-core\\include\\dmlc\n",
      "    copying xgboost\\dmlc-core\\include\\dmlc\\concurrency.h -> build\\temp.win32-3.8\\Release\\xgboost\\dmlc-core\\include\\dmlc\n",
      "    copying xgboost\\dmlc-core\\include\\dmlc\\concurrentqueue.h -> build\\temp.win32-3.8\\Release\\xgboost\\dmlc-core\\include\\dmlc\n",
      "    copying xgboost\\dmlc-core\\include\\dmlc\\config.h -> build\\temp.win32-3.8\\Release\\xgboost\\dmlc-core\\include\\dmlc\n",
      "    copying xgboost\\dmlc-core\\include\\dmlc\\data.h -> build\\temp.win32-3.8\\Release\\xgboost\\dmlc-core\\include\\dmlc\n",
      "    copying xgboost\\dmlc-core\\include\\dmlc\\endian.h -> build\\temp.win32-3.8\\Release\\xgboost\\dmlc-core\\include\\dmlc\n",
      "    copying xgboost\\dmlc-core\\include\\dmlc\\filesystem.h -> build\\temp.win32-3.8\\Release\\xgboost\\dmlc-core\\include\\dmlc\n",
      "    copying xgboost\\dmlc-core\\include\\dmlc\\input_split_shuffle.h -> build\\temp.win32-3.8\\Release\\xgboost\\dmlc-core\\include\\dmlc\n",
      "    copying xgboost\\dmlc-core\\include\\dmlc\\io.h -> build\\temp.win32-3.8\\Release\\xgboost\\dmlc-core\\include\\dmlc\n",
      "    copying xgboost\\dmlc-core\\include\\dmlc\\json.h -> build\\temp.win32-3.8\\Release\\xgboost\\dmlc-core\\include\\dmlc\n",
      "    copying xgboost\\dmlc-core\\include\\dmlc\\logging.h -> build\\temp.win32-3.8\\Release\\xgboost\\dmlc-core\\include\\dmlc\n",
      "    copying xgboost\\dmlc-core\\include\\dmlc\\lua.h -> build\\temp.win32-3.8\\Release\\xgboost\\dmlc-core\\include\\dmlc\n",
      "    copying xgboost\\dmlc-core\\include\\dmlc\\memory.h -> build\\temp.win32-3.8\\Release\\xgboost\\dmlc-core\\include\\dmlc\n",
      "    copying xgboost\\dmlc-core\\include\\dmlc\\memory_io.h -> build\\temp.win32-3.8\\Release\\xgboost\\dmlc-core\\include\\dmlc\n",
      "    copying xgboost\\dmlc-core\\include\\dmlc\\omp.h -> build\\temp.win32-3.8\\Release\\xgboost\\dmlc-core\\include\\dmlc\n",
      "    copying xgboost\\dmlc-core\\include\\dmlc\\optional.h -> build\\temp.win32-3.8\\Release\\xgboost\\dmlc-core\\include\\dmlc\n",
      "    copying xgboost\\dmlc-core\\include\\dmlc\\parameter.h -> build\\temp.win32-3.8\\Release\\xgboost\\dmlc-core\\include\\dmlc\n",
      "    copying xgboost\\dmlc-core\\include\\dmlc\\recordio.h -> build\\temp.win32-3.8\\Release\\xgboost\\dmlc-core\\include\\dmlc\n",
      "    copying xgboost\\dmlc-core\\include\\dmlc\\registry.h -> build\\temp.win32-3.8\\Release\\xgboost\\dmlc-core\\include\\dmlc\n",
      "    copying xgboost\\dmlc-core\\include\\dmlc\\serializer.h -> build\\temp.win32-3.8\\Release\\xgboost\\dmlc-core\\include\\dmlc\n",
      "    copying xgboost\\dmlc-core\\include\\dmlc\\strtonum.h -> build\\temp.win32-3.8\\Release\\xgboost\\dmlc-core\\include\\dmlc\n",
      "    copying xgboost\\dmlc-core\\include\\dmlc\\threadediter.h -> build\\temp.win32-3.8\\Release\\xgboost\\dmlc-core\\include\\dmlc\n",
      "    copying xgboost\\dmlc-core\\include\\dmlc\\thread_group.h -> build\\temp.win32-3.8\\Release\\xgboost\\dmlc-core\\include\\dmlc\n",
      "    copying xgboost\\dmlc-core\\include\\dmlc\\thread_local.h -> build\\temp.win32-3.8\\Release\\xgboost\\dmlc-core\\include\\dmlc\n",
      "    copying xgboost\\dmlc-core\\include\\dmlc\\timer.h -> build\\temp.win32-3.8\\Release\\xgboost\\dmlc-core\\include\\dmlc\n",
      "    copying xgboost\\dmlc-core\\include\\dmlc\\type_traits.h -> build\\temp.win32-3.8\\Release\\xgboost\\dmlc-core\\include\\dmlc\n",
      "    copying xgboost\\dmlc-core\\LICENSE -> build\\temp.win32-3.8\\Release\\xgboost\\dmlc-core\n",
      "    creating build\\temp.win32-3.8\\Release\\xgboost\\dmlc-core\\make\n",
      "    copying xgboost\\dmlc-core\\make\\config.mk -> build\\temp.win32-3.8\\Release\\xgboost\\dmlc-core\\make\n",
      "    copying xgboost\\dmlc-core\\make\\dmlc.mk -> build\\temp.win32-3.8\\Release\\xgboost\\dmlc-core\\make\n",
      "    copying xgboost\\dmlc-core\\Makefile -> build\\temp.win32-3.8\\Release\\xgboost\\dmlc-core\n",
      "    copying xgboost\\dmlc-core\\README.md -> build\\temp.win32-3.8\\Release\\xgboost\\dmlc-core\n",
      "    creating build\\temp.win32-3.8\\Release\\xgboost\\dmlc-core\\scripts\n",
      "    copying xgboost\\dmlc-core\\scripts\\lint.py -> build\\temp.win32-3.8\\Release\\xgboost\\dmlc-core\\scripts\n",
      "    copying xgboost\\dmlc-core\\scripts\\packages.mk -> build\\temp.win32-3.8\\Release\\xgboost\\dmlc-core\\scripts\n",
      "    creating build\\temp.win32-3.8\\Release\\xgboost\\dmlc-core\\scripts\\s390x\n",
      "    copying xgboost\\dmlc-core\\scripts\\s390x\\build_via_cmake.sh -> build\\temp.win32-3.8\\Release\\xgboost\\dmlc-core\\scripts\\s390x\n",
      "    copying xgboost\\dmlc-core\\scripts\\s390x\\ci_build.sh -> build\\temp.win32-3.8\\Release\\xgboost\\dmlc-core\\scripts\\s390x\n",
      "    copying xgboost\\dmlc-core\\scripts\\s390x\\Dockerfile -> build\\temp.win32-3.8\\Release\\xgboost\\dmlc-core\\scripts\\s390x\n",
      "    copying xgboost\\dmlc-core\\scripts\\s390x\\entrypoint.sh -> build\\temp.win32-3.8\\Release\\xgboost\\dmlc-core\\scripts\\s390x\n",
      "    copying xgboost\\dmlc-core\\scripts\\test_script.sh -> build\\temp.win32-3.8\\Release\\xgboost\\dmlc-core\\scripts\n",
      "    creating build\\temp.win32-3.8\\Release\\xgboost\\dmlc-core\\src\n",
      "    copying xgboost\\dmlc-core\\src\\config.cc -> build\\temp.win32-3.8\\Release\\xgboost\\dmlc-core\\src\n",
      "    creating build\\temp.win32-3.8\\Release\\xgboost\\dmlc-core\\src\\data\n",
      "    copying xgboost\\dmlc-core\\src\\data\\basic_row_iter.h -> build\\temp.win32-3.8\\Release\\xgboost\\dmlc-core\\src\\data\n",
      "    copying xgboost\\dmlc-core\\src\\data\\csv_parser.h -> build\\temp.win32-3.8\\Release\\xgboost\\dmlc-core\\src\\data\n",
      "    copying xgboost\\dmlc-core\\src\\data\\disk_row_iter.h -> build\\temp.win32-3.8\\Release\\xgboost\\dmlc-core\\src\\data\n",
      "    copying xgboost\\dmlc-core\\src\\data\\libfm_parser.h -> build\\temp.win32-3.8\\Release\\xgboost\\dmlc-core\\src\\data\n",
      "    copying xgboost\\dmlc-core\\src\\data\\libsvm_parser.h -> build\\temp.win32-3.8\\Release\\xgboost\\dmlc-core\\src\\data\n",
      "    copying xgboost\\dmlc-core\\src\\data\\parser.h -> build\\temp.win32-3.8\\Release\\xgboost\\dmlc-core\\src\\data\n",
      "    copying xgboost\\dmlc-core\\src\\data\\row_block.h -> build\\temp.win32-3.8\\Release\\xgboost\\dmlc-core\\src\\data\n",
      "    copying xgboost\\dmlc-core\\src\\data\\text_parser.h -> build\\temp.win32-3.8\\Release\\xgboost\\dmlc-core\\src\\data\n",
      "    copying xgboost\\dmlc-core\\src\\data.cc -> build\\temp.win32-3.8\\Release\\xgboost\\dmlc-core\\src\n",
      "    creating build\\temp.win32-3.8\\Release\\xgboost\\dmlc-core\\src\\io\n",
      "    copying xgboost\\dmlc-core\\src\\io\\azure_filesys.cc -> build\\temp.win32-3.8\\Release\\xgboost\\dmlc-core\\src\\io\n",
      "    copying xgboost\\dmlc-core\\src\\io\\azure_filesys.h -> build\\temp.win32-3.8\\Release\\xgboost\\dmlc-core\\src\\io\n",
      "    copying xgboost\\dmlc-core\\src\\io\\cached_input_split.h -> build\\temp.win32-3.8\\Release\\xgboost\\dmlc-core\\src\\io\n",
      "    copying xgboost\\dmlc-core\\src\\io\\filesys.cc -> build\\temp.win32-3.8\\Release\\xgboost\\dmlc-core\\src\\io\n",
      "    copying xgboost\\dmlc-core\\src\\io\\hdfs_filesys.cc -> build\\temp.win32-3.8\\Release\\xgboost\\dmlc-core\\src\\io\n",
      "    copying xgboost\\dmlc-core\\src\\io\\hdfs_filesys.h -> build\\temp.win32-3.8\\Release\\xgboost\\dmlc-core\\src\\io\n",
      "    copying xgboost\\dmlc-core\\src\\io\\indexed_recordio_split.cc -> build\\temp.win32-3.8\\Release\\xgboost\\dmlc-core\\src\\io\n",
      "    copying xgboost\\dmlc-core\\src\\io\\indexed_recordio_split.h -> build\\temp.win32-3.8\\Release\\xgboost\\dmlc-core\\src\\io\n",
      "    copying xgboost\\dmlc-core\\src\\io\\input_split_base.cc -> build\\temp.win32-3.8\\Release\\xgboost\\dmlc-core\\src\\io\n",
      "    copying xgboost\\dmlc-core\\src\\io\\input_split_base.h -> build\\temp.win32-3.8\\Release\\xgboost\\dmlc-core\\src\\io\n",
      "    copying xgboost\\dmlc-core\\src\\io\\line_split.cc -> build\\temp.win32-3.8\\Release\\xgboost\\dmlc-core\\src\\io\n",
      "    copying xgboost\\dmlc-core\\src\\io\\line_split.h -> build\\temp.win32-3.8\\Release\\xgboost\\dmlc-core\\src\\io\n",
      "    copying xgboost\\dmlc-core\\src\\io\\local_filesys.cc -> build\\temp.win32-3.8\\Release\\xgboost\\dmlc-core\\src\\io\n",
      "    copying xgboost\\dmlc-core\\src\\io\\local_filesys.h -> build\\temp.win32-3.8\\Release\\xgboost\\dmlc-core\\src\\io\n",
      "    copying xgboost\\dmlc-core\\src\\io\\recordio_split.cc -> build\\temp.win32-3.8\\Release\\xgboost\\dmlc-core\\src\\io\n",
      "    copying xgboost\\dmlc-core\\src\\io\\recordio_split.h -> build\\temp.win32-3.8\\Release\\xgboost\\dmlc-core\\src\\io\n",
      "    copying xgboost\\dmlc-core\\src\\io\\s3_filesys.cc -> build\\temp.win32-3.8\\Release\\xgboost\\dmlc-core\\src\\io\n",
      "    copying xgboost\\dmlc-core\\src\\io\\s3_filesys.h -> build\\temp.win32-3.8\\Release\\xgboost\\dmlc-core\\src\\io\n",
      "    copying xgboost\\dmlc-core\\src\\io\\single_file_split.h -> build\\temp.win32-3.8\\Release\\xgboost\\dmlc-core\\src\\io\n",
      "    copying xgboost\\dmlc-core\\src\\io\\single_threaded_input_split.h -> build\\temp.win32-3.8\\Release\\xgboost\\dmlc-core\\src\\io\n",
      "    copying xgboost\\dmlc-core\\src\\io\\threaded_input_split.h -> build\\temp.win32-3.8\\Release\\xgboost\\dmlc-core\\src\\io\n",
      "    copying xgboost\\dmlc-core\\src\\io\\uri_spec.h -> build\\temp.win32-3.8\\Release\\xgboost\\dmlc-core\\src\\io\n",
      "    copying xgboost\\dmlc-core\\src\\io.cc -> build\\temp.win32-3.8\\Release\\xgboost\\dmlc-core\\src\n",
      "    copying xgboost\\dmlc-core\\src\\recordio.cc -> build\\temp.win32-3.8\\Release\\xgboost\\dmlc-core\\src\n",
      "    creating build\\temp.win32-3.8\\Release\\xgboost\\dmlc-core\\test\n",
      "    copying xgboost\\dmlc-core\\test\\.gitignore -> build\\temp.win32-3.8\\Release\\xgboost\\dmlc-core\\test\n",
      "    copying xgboost\\dmlc-core\\test\\csv_parser_test.cc -> build\\temp.win32-3.8\\Release\\xgboost\\dmlc-core\\test\n",
      "    copying xgboost\\dmlc-core\\test\\dataiter_test.cc -> build\\temp.win32-3.8\\Release\\xgboost\\dmlc-core\\test\n",
      "    copying xgboost\\dmlc-core\\test\\dmlc_test.mk -> build\\temp.win32-3.8\\Release\\xgboost\\dmlc-core\\test\n",
      "    copying xgboost\\dmlc-core\\test\\filesys_test.cc -> build\\temp.win32-3.8\\Release\\xgboost\\dmlc-core\\test\n",
      "    copying xgboost\\dmlc-core\\test\\iostream_test.cc -> build\\temp.win32-3.8\\Release\\xgboost\\dmlc-core\\test\n",
      "    copying xgboost\\dmlc-core\\test\\libfm_parser_test.cc -> build\\temp.win32-3.8\\Release\\xgboost\\dmlc-core\\test\n",
      "    copying xgboost\\dmlc-core\\test\\libsvm_parser_test.cc -> build\\temp.win32-3.8\\Release\\xgboost\\dmlc-core\\test\n",
      "    copying xgboost\\dmlc-core\\test\\logging_test.cc -> build\\temp.win32-3.8\\Release\\xgboost\\dmlc-core\\test\n",
      "    copying xgboost\\dmlc-core\\test\\parameter_test.cc -> build\\temp.win32-3.8\\Release\\xgboost\\dmlc-core\\test\n",
      "    copying xgboost\\dmlc-core\\test\\README.md -> build\\temp.win32-3.8\\Release\\xgboost\\dmlc-core\\test\n",
      "    copying xgboost\\dmlc-core\\test\\recordio_test.cc -> build\\temp.win32-3.8\\Release\\xgboost\\dmlc-core\\test\n",
      "    copying xgboost\\dmlc-core\\test\\registry_test.cc -> build\\temp.win32-3.8\\Release\\xgboost\\dmlc-core\\test\n",
      "    copying xgboost\\dmlc-core\\test\\split_read_test.cc -> build\\temp.win32-3.8\\Release\\xgboost\\dmlc-core\\test\n",
      "    copying xgboost\\dmlc-core\\test\\split_repeat_read_test.cc -> build\\temp.win32-3.8\\Release\\xgboost\\dmlc-core\\test\n",
      "    copying xgboost\\dmlc-core\\test\\split_test.cc -> build\\temp.win32-3.8\\Release\\xgboost\\dmlc-core\\test\n",
      "    copying xgboost\\dmlc-core\\test\\stream_read_test.cc -> build\\temp.win32-3.8\\Release\\xgboost\\dmlc-core\\test\n",
      "    copying xgboost\\dmlc-core\\test\\strtonum_test.cc -> build\\temp.win32-3.8\\Release\\xgboost\\dmlc-core\\test\n",
      "    creating build\\temp.win32-3.8\\Release\\xgboost\\dmlc-core\\test\\unittest\n",
      "    copying xgboost\\dmlc-core\\test\\unittest\\.gitignore -> build\\temp.win32-3.8\\Release\\xgboost\\dmlc-core\\test\\unittest\n",
      "    copying xgboost\\dmlc-core\\test\\unittest\\build_config.h -> build\\temp.win32-3.8\\Release\\xgboost\\dmlc-core\\test\\unittest\n",
      "    copying xgboost\\dmlc-core\\test\\unittest\\build_config.h.in -> build\\temp.win32-3.8\\Release\\xgboost\\dmlc-core\\test\\unittest\n",
      "    copying xgboost\\dmlc-core\\test\\unittest\\CMakeLists.txt -> build\\temp.win32-3.8\\Release\\xgboost\\dmlc-core\\test\\unittest\n",
      "    copying xgboost\\dmlc-core\\test\\unittest\\dmlc_unittest.mk -> build\\temp.win32-3.8\\Release\\xgboost\\dmlc-core\\test\\unittest\n",
      "    copying xgboost\\dmlc-core\\test\\unittest\\sample.rec -> build\\temp.win32-3.8\\Release\\xgboost\\dmlc-core\\test\\unittest\n",
      "    copying xgboost\\dmlc-core\\test\\unittest\\unittest_any.cc -> build\\temp.win32-3.8\\Release\\xgboost\\dmlc-core\\test\\unittest\n",
      "    copying xgboost\\dmlc-core\\test\\unittest\\unittest_array_view.cc -> build\\temp.win32-3.8\\Release\\xgboost\\dmlc-core\\test\\unittest\n",
      "    copying xgboost\\dmlc-core\\test\\unittest\\unittest_config.cc -> build\\temp.win32-3.8\\Release\\xgboost\\dmlc-core\\test\\unittest\n",
      "    copying xgboost\\dmlc-core\\test\\unittest\\unittest_env.cc -> build\\temp.win32-3.8\\Release\\xgboost\\dmlc-core\\test\\unittest\n",
      "    copying xgboost\\dmlc-core\\test\\unittest\\unittest_inputsplit.cc -> build\\temp.win32-3.8\\Release\\xgboost\\dmlc-core\\test\\unittest\n",
      "    copying xgboost\\dmlc-core\\test\\unittest\\unittest_json.cc -> build\\temp.win32-3.8\\Release\\xgboost\\dmlc-core\\test\\unittest\n",
      "    copying xgboost\\dmlc-core\\test\\unittest\\unittest_lockfree.cc -> build\\temp.win32-3.8\\Release\\xgboost\\dmlc-core\\test\\unittest\n",
      "    copying xgboost\\dmlc-core\\test\\unittest\\unittest_logging.cc -> build\\temp.win32-3.8\\Release\\xgboost\\dmlc-core\\test\\unittest\n",
      "    copying xgboost\\dmlc-core\\test\\unittest\\unittest_main.cc -> build\\temp.win32-3.8\\Release\\xgboost\\dmlc-core\\test\\unittest\n",
      "    copying xgboost\\dmlc-core\\test\\unittest\\unittest_optional.cc -> build\\temp.win32-3.8\\Release\\xgboost\\dmlc-core\\test\\unittest\n",
      "    copying xgboost\\dmlc-core\\test\\unittest\\unittest_param.cc -> build\\temp.win32-3.8\\Release\\xgboost\\dmlc-core\\test\\unittest\n",
      "    copying xgboost\\dmlc-core\\test\\unittest\\unittest_parser.cc -> build\\temp.win32-3.8\\Release\\xgboost\\dmlc-core\\test\\unittest\n",
      "    copying xgboost\\dmlc-core\\test\\unittest\\unittest_serializer.cc -> build\\temp.win32-3.8\\Release\\xgboost\\dmlc-core\\test\\unittest\n",
      "    copying xgboost\\dmlc-core\\test\\unittest\\unittest_tempdir.cc -> build\\temp.win32-3.8\\Release\\xgboost\\dmlc-core\\test\\unittest\n",
      "    copying xgboost\\dmlc-core\\test\\unittest\\unittest_threaditer.cc -> build\\temp.win32-3.8\\Release\\xgboost\\dmlc-core\\test\\unittest\n",
      "    copying xgboost\\dmlc-core\\test\\unittest\\unittest_threaditer_exc_handling.cc -> build\\temp.win32-3.8\\Release\\xgboost\\dmlc-core\\test\\unittest\n",
      "    copying xgboost\\dmlc-core\\test\\unittest\\unittest_thread_group.cc -> build\\temp.win32-3.8\\Release\\xgboost\\dmlc-core\\test\\unittest\n",
      "    creating build\\temp.win32-3.8\\Release\\xgboost\\dmlc-core\\tracker\n",
      "    copying xgboost\\dmlc-core\\tracker\\dmlc-submit -> build\\temp.win32-3.8\\Release\\xgboost\\dmlc-core\\tracker\n",
      "    creating build\\temp.win32-3.8\\Release\\xgboost\\dmlc-core\\tracker\\dmlc_tracker\n",
      "    copying xgboost\\dmlc-core\\tracker\\dmlc_tracker\\kubernetes.py -> build\\temp.win32-3.8\\Release\\xgboost\\dmlc-core\\tracker\\dmlc_tracker\n",
      "    copying xgboost\\dmlc-core\\tracker\\dmlc_tracker\\launcher.py -> build\\temp.win32-3.8\\Release\\xgboost\\dmlc-core\\tracker\\dmlc_tracker\n",
      "    copying xgboost\\dmlc-core\\tracker\\dmlc_tracker\\local.py -> build\\temp.win32-3.8\\Release\\xgboost\\dmlc-core\\tracker\\dmlc_tracker\n",
      "    copying xgboost\\dmlc-core\\tracker\\dmlc_tracker\\mesos.py -> build\\temp.win32-3.8\\Release\\xgboost\\dmlc-core\\tracker\\dmlc_tracker\n",
      "    copying xgboost\\dmlc-core\\tracker\\dmlc_tracker\\mpi.py -> build\\temp.win32-3.8\\Release\\xgboost\\dmlc-core\\tracker\\dmlc_tracker\n",
      "    copying xgboost\\dmlc-core\\tracker\\dmlc_tracker\\opts.py -> build\\temp.win32-3.8\\Release\\xgboost\\dmlc-core\\tracker\\dmlc_tracker\n",
      "    copying xgboost\\dmlc-core\\tracker\\dmlc_tracker\\sge.py -> build\\temp.win32-3.8\\Release\\xgboost\\dmlc-core\\tracker\\dmlc_tracker\n",
      "    copying xgboost\\dmlc-core\\tracker\\dmlc_tracker\\slurm.py -> build\\temp.win32-3.8\\Release\\xgboost\\dmlc-core\\tracker\\dmlc_tracker\n",
      "    copying xgboost\\dmlc-core\\tracker\\dmlc_tracker\\ssh.py -> build\\temp.win32-3.8\\Release\\xgboost\\dmlc-core\\tracker\\dmlc_tracker\n",
      "    copying xgboost\\dmlc-core\\tracker\\dmlc_tracker\\submit.py -> build\\temp.win32-3.8\\Release\\xgboost\\dmlc-core\\tracker\\dmlc_tracker\n",
      "    copying xgboost\\dmlc-core\\tracker\\dmlc_tracker\\tracker.py -> build\\temp.win32-3.8\\Release\\xgboost\\dmlc-core\\tracker\\dmlc_tracker\n",
      "    copying xgboost\\dmlc-core\\tracker\\dmlc_tracker\\util.py -> build\\temp.win32-3.8\\Release\\xgboost\\dmlc-core\\tracker\\dmlc_tracker\n",
      "    copying xgboost\\dmlc-core\\tracker\\dmlc_tracker\\yarn.py -> build\\temp.win32-3.8\\Release\\xgboost\\dmlc-core\\tracker\\dmlc_tracker\n",
      "    copying xgboost\\dmlc-core\\tracker\\dmlc_tracker\\__init__.py -> build\\temp.win32-3.8\\Release\\xgboost\\dmlc-core\\tracker\\dmlc_tracker\n",
      "    copying xgboost\\dmlc-core\\tracker\\README.md -> build\\temp.win32-3.8\\Release\\xgboost\\dmlc-core\\tracker\n",
      "    creating build\\temp.win32-3.8\\Release\\xgboost\\dmlc-core\\tracker\\yarn\n",
      "    copying xgboost\\dmlc-core\\tracker\\yarn\\.gitignore -> build\\temp.win32-3.8\\Release\\xgboost\\dmlc-core\\tracker\\yarn\n",
      "    copying xgboost\\dmlc-core\\tracker\\yarn\\build.bat -> build\\temp.win32-3.8\\Release\\xgboost\\dmlc-core\\tracker\\yarn\n",
      "    copying xgboost\\dmlc-core\\tracker\\yarn\\build.sh -> build\\temp.win32-3.8\\Release\\xgboost\\dmlc-core\\tracker\\yarn\n",
      "    copying xgboost\\dmlc-core\\tracker\\yarn\\pom.xml -> build\\temp.win32-3.8\\Release\\xgboost\\dmlc-core\\tracker\\yarn\n",
      "    copying xgboost\\dmlc-core\\tracker\\yarn\\README.md -> build\\temp.win32-3.8\\Release\\xgboost\\dmlc-core\\tracker\\yarn\n",
      "    creating build\\temp.win32-3.8\\Release\\xgboost\\dmlc-core\\tracker\\yarn\\src\n",
      "    creating build\\temp.win32-3.8\\Release\\xgboost\\dmlc-core\\tracker\\yarn\\src\\main\n",
      "    creating build\\temp.win32-3.8\\Release\\xgboost\\dmlc-core\\tracker\\yarn\\src\\main\\java\n",
      "    creating build\\temp.win32-3.8\\Release\\xgboost\\dmlc-core\\tracker\\yarn\\src\\main\\java\\org\n",
      "    creating build\\temp.win32-3.8\\Release\\xgboost\\dmlc-core\\tracker\\yarn\\src\\main\\java\\org\\apache\n",
      "    creating build\\temp.win32-3.8\\Release\\xgboost\\dmlc-core\\tracker\\yarn\\src\\main\\java\\org\\apache\\hadoop\n",
      "    creating build\\temp.win32-3.8\\Release\\xgboost\\dmlc-core\\tracker\\yarn\\src\\main\\java\\org\\apache\\hadoop\\yarn\n",
      "    creating build\\temp.win32-3.8\\Release\\xgboost\\dmlc-core\\tracker\\yarn\\src\\main\\java\\org\\apache\\hadoop\\yarn\\dmlc\n",
      "    copying xgboost\\dmlc-core\\tracker\\yarn\\src\\main\\java\\org\\apache\\hadoop\\yarn\\dmlc\\ApplicationMaster.java -> build\\temp.win32-3.8\\Release\\xgboost\\dmlc-core\\tracker\\yarn\\src\\main\\java\\org\\apache\\hadoop\\yarn\\dmlc\n",
      "    copying xgboost\\dmlc-core\\tracker\\yarn\\src\\main\\java\\org\\apache\\hadoop\\yarn\\dmlc\\Client.java -> build\\temp.win32-3.8\\Release\\xgboost\\dmlc-core\\tracker\\yarn\\src\\main\\java\\org\\apache\\hadoop\\yarn\\dmlc\n",
      "    copying xgboost\\dmlc-core\\tracker\\yarn\\src\\main\\java\\org\\apache\\hadoop\\yarn\\dmlc\\TaskRecord.java -> build\\temp.win32-3.8\\Release\\xgboost\\dmlc-core\\tracker\\yarn\\src\\main\\java\\org\\apache\\hadoop\\yarn\\dmlc\n",
      "    creating build\\temp.win32-3.8\\Release\\xgboost\\dmlc-core\\windows\n",
      "    copying xgboost\\dmlc-core\\windows\\.gitignore -> build\\temp.win32-3.8\\Release\\xgboost\\dmlc-core\\windows\n",
      "    creating build\\temp.win32-3.8\\Release\\xgboost\\dmlc-core\\windows\\dmlc\n",
      "    copying xgboost\\dmlc-core\\windows\\dmlc\\dmlc.vcxproj -> build\\temp.win32-3.8\\Release\\xgboost\\dmlc-core\\windows\\dmlc\n",
      "    copying xgboost\\dmlc-core\\windows\\dmlc.sln -> build\\temp.win32-3.8\\Release\\xgboost\\dmlc-core\\windows\n",
      "    copying xgboost\\dmlc-core\\windows\\README.md -> build\\temp.win32-3.8\\Release\\xgboost\\dmlc-core\\windows\n",
      "    creating build\\temp.win32-3.8\\Release\\xgboost\\rabit\n",
      "    copying xgboost\\rabit\\.gitignore -> build\\temp.win32-3.8\\Release\\xgboost\\rabit\n",
      "    copying xgboost\\rabit\\CMakeLists.txt -> build\\temp.win32-3.8\\Release\\xgboost\\rabit\n",
      "    creating build\\temp.win32-3.8\\Release\\xgboost\\rabit\\doc\n",
      "    copying xgboost\\rabit\\doc\\.gitignore -> build\\temp.win32-3.8\\Release\\xgboost\\rabit\\doc\n",
      "    copying xgboost\\rabit\\doc\\conf.py -> build\\temp.win32-3.8\\Release\\xgboost\\rabit\\doc\n",
      "    copying xgboost\\rabit\\doc\\cpp_api.md -> build\\temp.win32-3.8\\Release\\xgboost\\rabit\\doc\n",
      "    copying xgboost\\rabit\\doc\\Doxyfile -> build\\temp.win32-3.8\\Release\\xgboost\\rabit\\doc\n",
      "    copying xgboost\\rabit\\doc\\guide.md -> build\\temp.win32-3.8\\Release\\xgboost\\rabit\\doc\n",
      "    copying xgboost\\rabit\\doc\\index.md -> build\\temp.win32-3.8\\Release\\xgboost\\rabit\\doc\n",
      "    copying xgboost\\rabit\\doc\\Makefile -> build\\temp.win32-3.8\\Release\\xgboost\\rabit\\doc\n",
      "    copying xgboost\\rabit\\doc\\parameters.md -> build\\temp.win32-3.8\\Release\\xgboost\\rabit\\doc\n",
      "    copying xgboost\\rabit\\doc\\python-requirements.txt -> build\\temp.win32-3.8\\Release\\xgboost\\rabit\\doc\n",
      "    copying xgboost\\rabit\\doc\\python_api.md -> build\\temp.win32-3.8\\Release\\xgboost\\rabit\\doc\n",
      "    copying xgboost\\rabit\\doc\\sphinx_util.py -> build\\temp.win32-3.8\\Release\\xgboost\\rabit\\doc\n",
      "    creating build\\temp.win32-3.8\\Release\\xgboost\\rabit\\guide\n",
      "    copying xgboost\\rabit\\guide\\basic.cc -> build\\temp.win32-3.8\\Release\\xgboost\\rabit\\guide\n",
      "    copying xgboost\\rabit\\guide\\basic.py -> build\\temp.win32-3.8\\Release\\xgboost\\rabit\\guide\n",
      "    copying xgboost\\rabit\\guide\\broadcast.cc -> build\\temp.win32-3.8\\Release\\xgboost\\rabit\\guide\n",
      "    copying xgboost\\rabit\\guide\\broadcast.py -> build\\temp.win32-3.8\\Release\\xgboost\\rabit\\guide\n",
      "    copying xgboost\\rabit\\guide\\lazy_allreduce.cc -> build\\temp.win32-3.8\\Release\\xgboost\\rabit\\guide\n",
      "    copying xgboost\\rabit\\guide\\lazy_allreduce.py -> build\\temp.win32-3.8\\Release\\xgboost\\rabit\\guide\n",
      "    copying xgboost\\rabit\\guide\\Makefile -> build\\temp.win32-3.8\\Release\\xgboost\\rabit\\guide\n",
      "    copying xgboost\\rabit\\guide\\README -> build\\temp.win32-3.8\\Release\\xgboost\\rabit\\guide\n",
      "    creating build\\temp.win32-3.8\\Release\\xgboost\\rabit\\include\n",
      "    creating build\\temp.win32-3.8\\Release\\xgboost\\rabit\\include\\rabit\n",
      "    copying xgboost\\rabit\\include\\rabit\\base.h -> build\\temp.win32-3.8\\Release\\xgboost\\rabit\\include\\rabit\n",
      "    copying xgboost\\rabit\\include\\rabit\\c_api.h -> build\\temp.win32-3.8\\Release\\xgboost\\rabit\\include\\rabit\n",
      "    creating build\\temp.win32-3.8\\Release\\xgboost\\rabit\\include\\rabit\\internal\n",
      "    copying xgboost\\rabit\\include\\rabit\\internal\\engine.h -> build\\temp.win32-3.8\\Release\\xgboost\\rabit\\include\\rabit\\internal\n",
      "    copying xgboost\\rabit\\include\\rabit\\internal\\io.h -> build\\temp.win32-3.8\\Release\\xgboost\\rabit\\include\\rabit\\internal\n",
      "    copying xgboost\\rabit\\include\\rabit\\internal\\rabit-inl.h -> build\\temp.win32-3.8\\Release\\xgboost\\rabit\\include\\rabit\\internal\n",
      "    copying xgboost\\rabit\\include\\rabit\\internal\\socket.h -> build\\temp.win32-3.8\\Release\\xgboost\\rabit\\include\\rabit\\internal\n",
      "    copying xgboost\\rabit\\include\\rabit\\internal\\utils.h -> build\\temp.win32-3.8\\Release\\xgboost\\rabit\\include\\rabit\\internal\n",
      "    copying xgboost\\rabit\\include\\rabit\\rabit.h -> build\\temp.win32-3.8\\Release\\xgboost\\rabit\\include\\rabit\n",
      "    copying xgboost\\rabit\\include\\rabit\\serializable.h -> build\\temp.win32-3.8\\Release\\xgboost\\rabit\\include\\rabit\n",
      "    copying xgboost\\rabit\\LICENSE -> build\\temp.win32-3.8\\Release\\xgboost\\rabit\n",
      "    copying xgboost\\rabit\\README.md -> build\\temp.win32-3.8\\Release\\xgboost\\rabit\n",
      "    creating build\\temp.win32-3.8\\Release\\xgboost\\rabit\\src\n",
      "    copying xgboost\\rabit\\src\\allreduce_base.cc -> build\\temp.win32-3.8\\Release\\xgboost\\rabit\\src\n",
      "    copying xgboost\\rabit\\src\\allreduce_base.h -> build\\temp.win32-3.8\\Release\\xgboost\\rabit\\src\n",
      "    copying xgboost\\rabit\\src\\allreduce_mock.h -> build\\temp.win32-3.8\\Release\\xgboost\\rabit\\src\n",
      "    copying xgboost\\rabit\\src\\c_api.cc -> build\\temp.win32-3.8\\Release\\xgboost\\rabit\\src\n",
      "    copying xgboost\\rabit\\src\\engine.cc -> build\\temp.win32-3.8\\Release\\xgboost\\rabit\\src\n",
      "    copying xgboost\\rabit\\src\\engine_mock.cc -> build\\temp.win32-3.8\\Release\\xgboost\\rabit\\src\n",
      "    copying xgboost\\rabit\\src\\engine_mpi.cc -> build\\temp.win32-3.8\\Release\\xgboost\\rabit\\src\n",
      "    creating build\\temp.win32-3.8\\Release\\xgboost\\cmake\n",
      "    copying xgboost\\cmake\\Doc.cmake -> build\\temp.win32-3.8\\Release\\xgboost\\cmake\n",
      "    copying xgboost\\cmake\\FindPrefetchIntrinsics.cmake -> build\\temp.win32-3.8\\Release\\xgboost\\cmake\n",
      "    creating build\\temp.win32-3.8\\Release\\xgboost\\cmake\\modules\n",
      "    copying xgboost\\cmake\\modules\\FindASan.cmake -> build\\temp.win32-3.8\\Release\\xgboost\\cmake\\modules\n",
      "    copying xgboost\\cmake\\modules\\FindLibR.cmake -> build\\temp.win32-3.8\\Release\\xgboost\\cmake\\modules\n",
      "    copying xgboost\\cmake\\modules\\FindLSan.cmake -> build\\temp.win32-3.8\\Release\\xgboost\\cmake\\modules\n",
      "    copying xgboost\\cmake\\modules\\FindNccl.cmake -> build\\temp.win32-3.8\\Release\\xgboost\\cmake\\modules\n",
      "    copying xgboost\\cmake\\modules\\FindNVML.cmake -> build\\temp.win32-3.8\\Release\\xgboost\\cmake\\modules\n",
      "    copying xgboost\\cmake\\modules\\FindNVTX.cmake -> build\\temp.win32-3.8\\Release\\xgboost\\cmake\\modules\n",
      "    copying xgboost\\cmake\\modules\\FindTSan.cmake -> build\\temp.win32-3.8\\Release\\xgboost\\cmake\\modules\n",
      "    copying xgboost\\cmake\\modules\\FindUBSan.cmake -> build\\temp.win32-3.8\\Release\\xgboost\\cmake\\modules\n",
      "    copying xgboost\\cmake\\Python_version.in -> build\\temp.win32-3.8\\Release\\xgboost\\cmake\n",
      "    copying xgboost\\cmake\\RPackageInstall.cmake.in -> build\\temp.win32-3.8\\Release\\xgboost\\cmake\n",
      "    copying xgboost\\cmake\\RPackageInstallTargetSetup.cmake -> build\\temp.win32-3.8\\Release\\xgboost\\cmake\n",
      "    copying xgboost\\cmake\\Sanitizer.cmake -> build\\temp.win32-3.8\\Release\\xgboost\\cmake\n",
      "    copying xgboost\\cmake\\Utils.cmake -> build\\temp.win32-3.8\\Release\\xgboost\\cmake\n",
      "    copying xgboost\\cmake\\Version.cmake -> build\\temp.win32-3.8\\Release\\xgboost\\cmake\n",
      "    copying xgboost\\cmake\\version_config.h.in -> build\\temp.win32-3.8\\Release\\xgboost\\cmake\n",
      "    copying xgboost\\cmake\\xgboost-config.cmake.in -> build\\temp.win32-3.8\\Release\\xgboost\\cmake\n",
      "    copying xgboost\\cmake\\xgboost.pc.in -> build\\temp.win32-3.8\\Release\\xgboost\\cmake\n",
      "    creating build\\temp.win32-3.8\\Release\\xgboost\\plugin\n",
      "    copying xgboost\\plugin\\CMakeLists.txt -> build\\temp.win32-3.8\\Release\\xgboost\\plugin\n",
      "    creating build\\temp.win32-3.8\\Release\\xgboost\\plugin\\dense_parser\n",
      "    copying xgboost\\plugin\\dense_parser\\dense_libsvm.cc -> build\\temp.win32-3.8\\Release\\xgboost\\plugin\\dense_parser\n",
      "    creating build\\temp.win32-3.8\\Release\\xgboost\\plugin\\example\n",
      "    copying xgboost\\plugin\\example\\custom_obj.cc -> build\\temp.win32-3.8\\Release\\xgboost\\plugin\\example\n",
      "    copying xgboost\\plugin\\example\\README.md -> build\\temp.win32-3.8\\Release\\xgboost\\plugin\\example\n",
      "    creating build\\temp.win32-3.8\\Release\\xgboost\\plugin\\lz4\n",
      "    copying xgboost\\plugin\\lz4\\sparse_page_lz4_format.cc -> build\\temp.win32-3.8\\Release\\xgboost\\plugin\\lz4\n",
      "    copying xgboost\\plugin\\README.md -> build\\temp.win32-3.8\\Release\\xgboost\\plugin\n",
      "    creating build\\temp.win32-3.8\\Release\\xgboost\\plugin\\updater_gpu\n",
      "    copying xgboost\\plugin\\updater_gpu\\README.md -> build\\temp.win32-3.8\\Release\\xgboost\\plugin\\updater_gpu\n",
      "    creating build\\temp.win32-3.8\\Release\\xgboost\\plugin\\updater_oneapi\n",
      "    copying xgboost\\plugin\\updater_oneapi\\predictor_oneapi.cc -> build\\temp.win32-3.8\\Release\\xgboost\\plugin\\updater_oneapi\n",
      "    copying xgboost\\plugin\\updater_oneapi\\README.md -> build\\temp.win32-3.8\\Release\\xgboost\\plugin\\updater_oneapi\n",
      "    copying xgboost\\plugin\\updater_oneapi\\regression_loss_oneapi.h -> build\\temp.win32-3.8\\Release\\xgboost\\plugin\\updater_oneapi\n",
      "    copying xgboost\\plugin\\updater_oneapi\\regression_obj_oneapi.cc -> build\\temp.win32-3.8\\Release\\xgboost\\plugin\\updater_oneapi\n",
      "    copying xgboost\\CMakeLists.txt -> build\\temp.win32-3.8\\Release\\xgboost\n",
      "    copying xgboost\\LICENSE -> build\\temp.win32-3.8\\Release\\xgboost\n",
      "    INFO:XGBoost build_ext:Building from source. C:\\Users\\Zeynep\\AppData\\Local\\Temp\\pip-install-zt36fa0l\\lib\\xgboost.dll\n",
      "    INFO:XGBoost build_ext:Run CMake command: ['cmake', 'xgboost', '-GVisual Studio 16 2019', '-DUSE_OPENMP=1', '-DUSE_CUDA=0', '-DUSE_NCCL=0', '-DBUILD_WITH_SHARED_NCCL=0', '-DHIDE_CXX_SYMBOLS=1', '-DUSE_HDFS=0', '-DUSE_AZURE=0', '-DUSE_S3=0', '-DPLUGIN_LZ4=0', '-DPLUGIN_DENSE_PARSER=0', '-DUSE_SYSTEM_LIBXGBOOST=0']\n",
      "    error: [WinError 2] Sistem belirtilen dosyayı bulamıyor\n",
      "    ----------------------------------------\n",
      "ERROR: Command errored out with exit status 1: 'C:\\Users\\Zeynep\\anaconda33\\python.exe' -u -c 'import sys, setuptools, tokenize; sys.argv[0] = '\"'\"'C:\\\\Users\\\\Zeynep\\\\AppData\\\\Local\\\\Temp\\\\pip-install-zt36fa0l\\\\xgboost\\\\setup.py'\"'\"'; __file__='\"'\"'C:\\\\Users\\\\Zeynep\\\\AppData\\\\Local\\\\Temp\\\\pip-install-zt36fa0l\\\\xgboost\\\\setup.py'\"'\"';f=getattr(tokenize, '\"'\"'open'\"'\"', open)(__file__);code=f.read().replace('\"'\"'\\r\\n'\"'\"', '\"'\"'\\n'\"'\"');f.close();exec(compile(code, __file__, '\"'\"'exec'\"'\"'))' install --record 'C:\\Users\\Zeynep\\AppData\\Local\\Temp\\pip-record-xx16i8tz\\install-record.txt' --single-version-externally-managed --compile --install-headers 'C:\\Users\\Zeynep\\anaconda33\\Include\\xgboost' Check the logs for full command output.\n"
     ]
    }
   ],
   "source": [
    "!pip install xgboost"
   ]
  },
  {
   "cell_type": "code",
   "execution_count": 230,
   "metadata": {
    "collapsed": true,
    "jupyter": {
     "outputs_hidden": true
    }
   },
   "outputs": [
    {
     "name": "stdout",
     "output_type": "stream",
     "text": [
      "Collecting package metadata (current_repodata.json): ...working... failed"
     ]
    },
    {
     "name": "stderr",
     "output_type": "stream",
     "text": [
      "\n",
      "UnavailableInvalidChannel: The channel is not accessible or is invalid.\n",
      "  channel name: conda-foge\n",
      "  channel url: https://conda.anaconda.org/conda-foge\n",
      "  error code: 404\n",
      "\n",
      "You will need to adjust your conda configuration to proceed.\n",
      "Use `conda config --show channels` to view your configuration's current state,\n",
      "and use `conda config --show-sources` to view config file locations.\n",
      "\n",
      "\n"
     ]
    },
    {
     "name": "stdout",
     "output_type": "stream",
     "text": [
      "\n"
     ]
    }
   ],
   "source": [
    "!conda install -c conda-foge xgboost"
   ]
  },
  {
   "cell_type": "code",
   "execution_count": 223,
   "metadata": {},
   "outputs": [
    {
     "ename": "ModuleNotFoundError",
     "evalue": "No module named 'xgboost'",
     "output_type": "error",
     "traceback": [
      "\u001b[1;31m---------------------------------------------------------------------------\u001b[0m",
      "\u001b[1;31mModuleNotFoundError\u001b[0m                       Traceback (most recent call last)",
      "\u001b[1;32m<ipython-input-223-477fa34615c5>\u001b[0m in \u001b[0;36m<module>\u001b[1;34m\u001b[0m\n\u001b[1;32m----> 1\u001b[1;33m \u001b[1;32mfrom\u001b[0m \u001b[0mxgboost\u001b[0m \u001b[1;32mimport\u001b[0m \u001b[0mXGBClassifier\u001b[0m\u001b[1;33m\u001b[0m\u001b[1;33m\u001b[0m\u001b[0m\n\u001b[0m",
      "\u001b[1;31mModuleNotFoundError\u001b[0m: No module named 'xgboost'"
     ]
    }
   ],
   "source": [
    "from xgboost import XGBClassifier"
   ]
  },
  {
   "cell_type": "code",
   "execution_count": null,
   "metadata": {},
   "outputs": [],
   "source": [
    "xgb_model = XGBClassifier().fit(X_train, y_train)"
   ]
  },
  {
   "cell_type": "code",
   "execution_count": null,
   "metadata": {},
   "outputs": [],
   "source": [
    "?xgb_model"
   ]
  },
  {
   "cell_type": "code",
   "execution_count": null,
   "metadata": {},
   "outputs": [],
   "source": [
    "y_pred = xgb_model.predict(X_test)"
   ]
  },
  {
   "cell_type": "code",
   "execution_count": null,
   "metadata": {},
   "outputs": [],
   "source": [
    "accuracy_score(y_test, y_pred)"
   ]
  },
  {
   "cell_type": "code",
   "execution_count": null,
   "metadata": {},
   "outputs": [],
   "source": [
    "#Model Tuning"
   ]
  },
  {
   "cell_type": "code",
   "execution_count": null,
   "metadata": {},
   "outputs": [],
   "source": [
    "xgb = XGBClassifier()"
   ]
  },
  {
   "cell_type": "code",
   "execution_count": null,
   "metadata": {},
   "outputs": [],
   "source": [
    "xgb_params = {\"n_estimators\": [100,500,1000],\n",
    "              \"subsample\": [0.6,0.8,1], #göz önünde bulunduralacak örneklem oranını ifade eder.\n",
    "              \"max_depth\": [3,5,7],\n",
    "              \"learning_rate\": [0.1,0.001,0.01]}"
   ]
  },
  {
   "cell_type": "code",
   "execution_count": null,
   "metadata": {},
   "outputs": [],
   "source": [
    "xgb_cv_model = GridSearchCV(xgb, xgb_params, cv=10, n_jobs=-1, verbose=2).fit(X_train, y_train)"
   ]
  },
  {
   "cell_type": "code",
   "execution_count": null,
   "metadata": {},
   "outputs": [],
   "source": [
    "xgb_tuned =XGBClassifier(learning_rate=0.001, max_depth= 7, n_estimators=500, subsample=0.6).fit(X_train, y_train)"
   ]
  },
  {
   "cell_type": "code",
   "execution_count": null,
   "metadata": {},
   "outputs": [],
   "source": [
    "y_pred = xgb_tuned.predict(X_test)"
   ]
  },
  {
   "cell_type": "code",
   "execution_count": null,
   "metadata": {},
   "outputs": [],
   "source": [
    "accuracy_score(y_test, y_pred)"
   ]
  },
  {
   "cell_type": "code",
   "execution_count": null,
   "metadata": {},
   "outputs": [],
   "source": [
    "feature_imp = pd.Series(xgb_tuned.feature_importances_,\n",
    "                        index=X_train.columns).sort_values(ascending=False)\n",
    "\n",
    "sns.barplot(x=feature_imp, y_feature_imp.index)\n",
    "plt.xlabel('Değişken Önem Skorları')\n",
    "plt.ylabel('Değişkenler')\n",
    "plt.title(\"Değişken Önem Düzeyleri\")\n",
    "plt.show()"
   ]
  },
  {
   "cell_type": "markdown",
   "metadata": {},
   "source": [
    "## Light GBM"
   ]
  },
  {
   "cell_type": "markdown",
   "metadata": {},
   "source": [
    "### Model & Tahmin"
   ]
  },
  {
   "cell_type": "code",
   "execution_count": 227,
   "metadata": {
    "collapsed": true,
    "jupyter": {
     "outputs_hidden": true
    }
   },
   "outputs": [
    {
     "name": "stdout",
     "output_type": "stream",
     "text": [
      "Collecting lightgbm"
     ]
    },
    {
     "name": "stderr",
     "output_type": "stream",
     "text": [
      "  ERROR: Command errored out with exit status 1:\n",
      "   command: 'C:\\Users\\Zeynep\\anaconda33\\python.exe' -u -c 'import sys, setuptools, tokenize; sys.argv[0] = '\"'\"'C:\\\\Users\\\\Zeynep\\\\AppData\\\\Local\\\\Temp\\\\pip-install-u2tg8jbr\\\\lightgbm\\\\setup.py'\"'\"'; __file__='\"'\"'C:\\\\Users\\\\Zeynep\\\\AppData\\\\Local\\\\Temp\\\\pip-install-u2tg8jbr\\\\lightgbm\\\\setup.py'\"'\"';f=getattr(tokenize, '\"'\"'open'\"'\"', open)(__file__);code=f.read().replace('\"'\"'\\r\\n'\"'\"', '\"'\"'\\n'\"'\"');f.close();exec(compile(code, __file__, '\"'\"'exec'\"'\"'))' bdist_wheel -d 'C:\\Users\\Zeynep\\AppData\\Local\\Temp\\pip-wheel-1y2eu64g'\n",
      "       cwd: C:\\Users\\Zeynep\\AppData\\Local\\Temp\\pip-install-u2tg8jbr\\lightgbm\\\n",
      "  Complete output (53 lines):\n",
      "  running bdist_wheel\n",
      "  running build\n",
      "  running build_py\n",
      "  creating build\n",
      "  creating build\\lib\n",
      "  creating build\\lib\\lightgbm\n",
      "  copying lightgbm\\basic.py -> build\\lib\\lightgbm\n",
      "  copying lightgbm\\callback.py -> build\\lib\\lightgbm\n",
      "  copying lightgbm\\compat.py -> build\\lib\\lightgbm\n",
      "  copying lightgbm\\engine.py -> build\\lib\\lightgbm\n",
      "  copying lightgbm\\libpath.py -> build\\lib\\lightgbm\n",
      "  copying lightgbm\\plotting.py -> build\\lib\\lightgbm\n",
      "  copying lightgbm\\sklearn.py -> build\\lib\\lightgbm\n",
      "  copying lightgbm\\__init__.py -> build\\lib\\lightgbm\n",
      "  running egg_info\n",
      "  writing lightgbm.egg-info\\PKG-INFO\n",
      "  writing dependency_links to lightgbm.egg-info\\dependency_links.txt\n",
      "  writing requirements to lightgbm.egg-info\\requires.txt\n",
      "  writing top-level names to lightgbm.egg-info\\top_level.txt\n",
      "  reading manifest file 'lightgbm.egg-info\\SOURCES.txt'\n",
      "  reading manifest template 'MANIFEST.in'\n",
      "  no previously-included directories found matching 'build'\n",
      "  warning: no files found matching '*.so' under directory 'lightgbm'\n",
      "  warning: no files found matching '*.so' under directory 'compile'\n",
      "  warning: no files found matching '*.dll' under directory 'compile\\Release'\n",
      "  warning: no files found matching '*.dll' under directory 'compile\\windows\\x64\\DLL'\n",
      "  warning: no previously-included files matching '*.py[co]' found anywhere in distribution\n",
      "  warning: no previously-included files found matching 'compile\\compute\\.git'\n",
      "  writing manifest file 'lightgbm.egg-info\\SOURCES.txt'\n",
      "  copying lightgbm\\VERSION.txt -> build\\lib\\lightgbm\n",
      "  installing to build\\bdist.win32\\wheel\n",
      "  running install\n",
      "  Traceback (most recent call last):\n",
      "    File \"<string>\", line 1, in <module>\n",
      "    File \"C:\\Users\\Zeynep\\AppData\\Local\\Temp\\pip-install-u2tg8jbr\\lightgbm\\setup.py\", line 339, in <module>\n",
      "      setup(name='lightgbm',\n",
      "    File \"C:\\Users\\Zeynep\\anaconda33\\lib\\site-packages\\setuptools\\__init__.py\", line 153, in setup\n",
      "      return distutils.core.setup(**attrs)\n",
      "    File \"C:\\Users\\Zeynep\\anaconda33\\lib\\distutils\\core.py\", line 148, in setup\n",
      "      dist.run_commands()\n",
      "    File \"C:\\Users\\Zeynep\\anaconda33\\lib\\distutils\\dist.py\", line 966, in run_commands\n",
      "      self.run_command(cmd)\n",
      "    File \"C:\\Users\\Zeynep\\anaconda33\\lib\\distutils\\dist.py\", line 985, in run_command\n",
      "      cmd_obj.run()\n",
      "    File \"C:\\Users\\Zeynep\\anaconda33\\lib\\site-packages\\wheel\\bdist_wheel.py\", line 326, in run\n",
      "      self.run_command('install')\n",
      "    File \"C:\\Users\\Zeynep\\anaconda33\\lib\\distutils\\cmd.py\", line 313, in run_command\n",
      "      self.distribution.run_command(command)\n",
      "    File \"C:\\Users\\Zeynep\\anaconda33\\lib\\distutils\\dist.py\", line 985, in run_command\n",
      "      cmd_obj.run()\n",
      "    File \"C:\\Users\\Zeynep\\AppData\\Local\\Temp\\pip-install-u2tg8jbr\\lightgbm\\setup.py\", line 248, in run\n",
      "      raise Exception(\"Cannot install LightGBM in 32-bit Python, \"\n",
      "  Exception: Cannot install LightGBM in 32-bit Python, please use 64-bit Python instead.\n",
      "  ----------------------------------------\n",
      "  ERROR: Failed building wheel for lightgbm\n",
      "    ERROR: Command errored out with exit status 1:\n",
      "     command: 'C:\\Users\\Zeynep\\anaconda33\\python.exe' -u -c 'import sys, setuptools, tokenize; sys.argv[0] = '\"'\"'C:\\\\Users\\\\Zeynep\\\\AppData\\\\Local\\\\Temp\\\\pip-install-u2tg8jbr\\\\lightgbm\\\\setup.py'\"'\"'; __file__='\"'\"'C:\\\\Users\\\\Zeynep\\\\AppData\\\\Local\\\\Temp\\\\pip-install-u2tg8jbr\\\\lightgbm\\\\setup.py'\"'\"';f=getattr(tokenize, '\"'\"'open'\"'\"', open)(__file__);code=f.read().replace('\"'\"'\\r\\n'\"'\"', '\"'\"'\\n'\"'\"');f.close();exec(compile(code, __file__, '\"'\"'exec'\"'\"'))' install --record 'C:\\Users\\Zeynep\\AppData\\Local\\Temp\\pip-record-xb3abo4v\\install-record.txt' --single-version-externally-managed --compile --install-headers 'C:\\Users\\Zeynep\\anaconda33\\Include\\lightgbm'\n",
      "         cwd: C:\\Users\\Zeynep\\AppData\\Local\\Temp\\pip-install-u2tg8jbr\\lightgbm\\\n",
      "    Complete output (16 lines):\n",
      "    running install\n",
      "    Traceback (most recent call last):\n",
      "      File \"<string>\", line 1, in <module>\n",
      "      File \"C:\\Users\\Zeynep\\AppData\\Local\\Temp\\pip-install-u2tg8jbr\\lightgbm\\setup.py\", line 339, in <module>\n",
      "        setup(name='lightgbm',\n",
      "      File \"C:\\Users\\Zeynep\\anaconda33\\lib\\site-packages\\setuptools\\__init__.py\", line 153, in setup\n",
      "        return distutils.core.setup(**attrs)\n",
      "      File \"C:\\Users\\Zeynep\\anaconda33\\lib\\distutils\\core.py\", line 148, in setup\n",
      "        dist.run_commands()\n",
      "      File \"C:\\Users\\Zeynep\\anaconda33\\lib\\distutils\\dist.py\", line 966, in run_commands\n",
      "        self.run_command(cmd)\n",
      "      File \"C:\\Users\\Zeynep\\anaconda33\\lib\\distutils\\dist.py\", line 985, in run_command\n",
      "        cmd_obj.run()\n",
      "      File \"C:\\Users\\Zeynep\\AppData\\Local\\Temp\\pip-install-u2tg8jbr\\lightgbm\\setup.py\", line 248, in run\n",
      "        raise Exception(\"Cannot install LightGBM in 32-bit Python, \"\n",
      "    Exception: Cannot install LightGBM in 32-bit Python, please use 64-bit Python instead.\n",
      "    ----------------------------------------\n",
      "ERROR: Command errored out with exit status 1: 'C:\\Users\\Zeynep\\anaconda33\\python.exe' -u -c 'import sys, setuptools, tokenize; sys.argv[0] = '\"'\"'C:\\\\Users\\\\Zeynep\\\\AppData\\\\Local\\\\Temp\\\\pip-install-u2tg8jbr\\\\lightgbm\\\\setup.py'\"'\"'; __file__='\"'\"'C:\\\\Users\\\\Zeynep\\\\AppData\\\\Local\\\\Temp\\\\pip-install-u2tg8jbr\\\\lightgbm\\\\setup.py'\"'\"';f=getattr(tokenize, '\"'\"'open'\"'\"', open)(__file__);code=f.read().replace('\"'\"'\\r\\n'\"'\"', '\"'\"'\\n'\"'\"');f.close();exec(compile(code, __file__, '\"'\"'exec'\"'\"'))' install --record 'C:\\Users\\Zeynep\\AppData\\Local\\Temp\\pip-record-xb3abo4v\\install-record.txt' --single-version-externally-managed --compile --install-headers 'C:\\Users\\Zeynep\\anaconda33\\Include\\lightgbm' Check the logs for full command output.\n"
     ]
    },
    {
     "name": "stdout",
     "output_type": "stream",
     "text": [
      "\n",
      "  Downloading lightgbm-3.1.1.tar.gz (588 kB)\n",
      "Requirement already satisfied: wheel in c:\\users\\zeynep\\anaconda33\\lib\\site-packages (from lightgbm) (0.35.1)\n",
      "Requirement already satisfied: numpy in c:\\users\\zeynep\\anaconda33\\lib\\site-packages (from lightgbm) (1.19.2)\n",
      "Requirement already satisfied: scipy in c:\\users\\zeynep\\anaconda33\\lib\\site-packages (from lightgbm) (1.5.2)\n",
      "Requirement already satisfied: scikit-learn!=0.22.0 in c:\\users\\zeynep\\anaconda33\\lib\\site-packages (from lightgbm) (0.23.1)\n",
      "Requirement already satisfied: threadpoolctl>=2.0.0 in c:\\users\\zeynep\\anaconda33\\lib\\site-packages (from scikit-learn!=0.22.0->lightgbm) (2.1.0)\n",
      "Requirement already satisfied: joblib>=0.11 in c:\\users\\zeynep\\anaconda33\\lib\\site-packages (from scikit-learn!=0.22.0->lightgbm) (0.17.0)\n",
      "Building wheels for collected packages: lightgbm\n",
      "  Building wheel for lightgbm (setup.py): started\n",
      "  Building wheel for lightgbm (setup.py): finished with status 'error'\n",
      "  Running setup.py clean for lightgbm\n",
      "Failed to build lightgbm\n",
      "Installing collected packages: lightgbm\n",
      "    Running setup.py install for lightgbm: started\n",
      "    Running setup.py install for lightgbm: finished with status 'error'\n"
     ]
    }
   ],
   "source": [
    "!pip install lightgbm"
   ]
  },
  {
   "cell_type": "code",
   "execution_count": 229,
   "metadata": {
    "collapsed": true,
    "jupyter": {
     "outputs_hidden": true
    }
   },
   "outputs": [
    {
     "name": "stdout",
     "output_type": "stream",
     "text": [
      "Collecting package metadata (current_repodata.json): ...working... failed"
     ]
    },
    {
     "name": "stderr",
     "output_type": "stream",
     "text": [
      "\n",
      "UnavailableInvalidChannel: The channel is not accessible or is invalid.\n",
      "  channel name: conda-foge\n",
      "  channel url: https://conda.anaconda.org/conda-foge\n",
      "  error code: 404\n",
      "\n",
      "You will need to adjust your conda configuration to proceed.\n",
      "Use `conda config --show channels` to view your configuration's current state,\n",
      "and use `conda config --show-sources` to view config file locations.\n",
      "\n",
      "\n"
     ]
    },
    {
     "name": "stdout",
     "output_type": "stream",
     "text": [
      "\n"
     ]
    }
   ],
   "source": [
    "!conda install -c conda-foge lightgbm"
   ]
  },
  {
   "cell_type": "code",
   "execution_count": null,
   "metadata": {},
   "outputs": [],
   "source": [
    "from lightgbm import LGBMClassifier"
   ]
  },
  {
   "cell_type": "code",
   "execution_count": null,
   "metadata": {},
   "outputs": [],
   "source": [
    "lgbm_model = LGBMClassifier().fit(X_train, y_train)"
   ]
  },
  {
   "cell_type": "code",
   "execution_count": null,
   "metadata": {},
   "outputs": [],
   "source": [
    "?lgbm_model"
   ]
  },
  {
   "cell_type": "code",
   "execution_count": null,
   "metadata": {},
   "outputs": [],
   "source": [
    "#boosting_type farklı modelleme tekniklerinin seçilebileceğini ifade eder."
   ]
  },
  {
   "cell_type": "code",
   "execution_count": null,
   "metadata": {},
   "outputs": [],
   "source": [
    "y_pred = lgbm_model.predict(X_test)"
   ]
  },
  {
   "cell_type": "code",
   "execution_count": null,
   "metadata": {},
   "outputs": [],
   "source": [
    "accuracy_score(y_test, y_pred)"
   ]
  },
  {
   "cell_type": "markdown",
   "metadata": {},
   "source": [
    "### Model Tuning"
   ]
  },
  {
   "cell_type": "code",
   "execution_count": null,
   "metadata": {},
   "outputs": [],
   "source": [
    "lgbm = LGBMClassifier()"
   ]
  },
  {
   "cell_type": "code",
   "execution_count": null,
   "metadata": {},
   "outputs": [],
   "source": [
    "lgbm_params = {\"learning_rate\":[0.001,0.01,0.1],\n",
    "               \"n_estimators\": [200,500,1000],\n",
    "               \"max_depth\": [1,2,3,8]}"
   ]
  },
  {
   "cell_type": "code",
   "execution_count": null,
   "metadata": {},
   "outputs": [],
   "source": [
    "lgbm_cv_model = GridSearchCV(lgbm, lgbm_params, cv=10, n_jobs=-1, verbose=2).fit(X_train, y_train)"
   ]
  },
  {
   "cell_type": "code",
   "execution_count": null,
   "metadata": {},
   "outputs": [],
   "source": [
    "lgbm_cv_model.best_params_"
   ]
  },
  {
   "cell_type": "code",
   "execution_count": null,
   "metadata": {},
   "outputs": [],
   "source": [
    "lgbm_tuned = LGBMClassifier(learning_rate=0.01, max_depth=1, n_estimators=500).fit(X_train, y_train)"
   ]
  },
  {
   "cell_type": "code",
   "execution_count": null,
   "metadata": {},
   "outputs": [],
   "source": [
    "y_pred = lgbm_tuned.predict(X_test)"
   ]
  },
  {
   "cell_type": "code",
   "execution_count": null,
   "metadata": {},
   "outputs": [],
   "source": [
    "accuracy_score(y_test, y_pred)"
   ]
  },
  {
   "cell_type": "code",
   "execution_count": null,
   "metadata": {},
   "outputs": [],
   "source": [
    "feature_imp = pd.Series(xgb_tuned.feature_importances_,\n",
    "                        index=X_train.columns).sort_values(ascending=False)\n",
    "\n",
    "sns.barplot(x=feature_imp, y_feature_imp.index)\n",
    "plt.xlabel('Değişken Önem Skorları')\n",
    "plt.ylabel('Değişkenler')\n",
    "plt.title(\"Değişken Önem Düzeyleri\")\n",
    "plt.show()"
   ]
  },
  {
   "cell_type": "markdown",
   "metadata": {},
   "source": [
    "## CatBoost"
   ]
  },
  {
   "cell_type": "markdown",
   "metadata": {},
   "source": [
    "### Model & Tahmin"
   ]
  },
  {
   "cell_type": "code",
   "execution_count": 233,
   "metadata": {},
   "outputs": [
    {
     "name": "stderr",
     "output_type": "stream",
     "text": [
      "ERROR: Could not find a version that satisfies the requirement catboost (from versions: none)\n",
      "ERROR: No matching distribution found for catboost\n"
     ]
    }
   ],
   "source": [
    "!pip install catboost"
   ]
  },
  {
   "cell_type": "markdown",
   "metadata": {},
   "source": [
    "## Tüm Modellerin Karşılaştırılması"
   ]
  },
  {
   "cell_type": "code",
   "execution_count": 244,
   "metadata": {},
   "outputs": [],
   "source": [
    "modeller =[\n",
    "          knn_tuned,\n",
    "          loj_model,\n",
    "          svm_tuned,\n",
    "          mlpc_tuned,\n",
    "          cart_tuned,\n",
    "          rf_tuned,\n",
    "          gbm_tuned]\n",
    "sonuc = []\n",
    "sonuclar = pd.DataFrame(columns=[\"Modeller\", \"Accuracy\"])\n",
    "\n",
    "for model in modeller:\n",
    "    isimler = model.__class__.__name__\n",
    "    y_pred = model.predict(X_test)\n",
    "    dogruluk = accuracy_score(y_test, y_pred)\n",
    "    sonuc = pd.DataFrame([[isimler,dogruluk*100]],columns=[\"Modeller\",\"Accuracy\"])\n",
    "    sonuclar = sonuclar.append(sonuc)"
   ]
  },
  {
   "cell_type": "code",
   "execution_count": 245,
   "metadata": {},
   "outputs": [
    {
     "data": {
      "image/png": "[encoded data removed]",
      "text/plain": [
       "<Figure size 432x288 with 1 Axes>"
      ]
     },
     "metadata": {
      "needs_background": "light"
     },
     "output_type": "display_data"
    }
   ],
   "source": [
    "sns.barplot(x='Accuracy',y='Modeller', data=sonuclar, color='r')\n",
    "plt.xlabel('Accuracy %')\n",
    "plt.title('Modellerin Doğruluk Oranları');"
   ]
  },
  {
   "cell_type": "code",
   "execution_count": 247,
   "metadata": {},
   "outputs": [
    {
     "data": {
      "text/html": [
       "<div>\n",
       "<style scoped>\n",
       "    .dataframe tbody tr th:only-of-type {\n",
       "        vertical-align: middle;\n",
       "    }\n",
       "\n",
       "    .dataframe tbody tr th {\n",
       "        vertical-align: top;\n",
       "    }\n",
       "\n",
       "    .dataframe thead th {\n",
       "        text-align: right;\n",
       "    }\n",
       "</style>\n",
       "<table border=\"1\" class=\"dataframe\">\n",
       "  <thead>\n",
       "    <tr style=\"text-align: right;\">\n",
       "      <th></th>\n",
       "      <th>Modeller</th>\n",
       "      <th>Accuracy</th>\n",
       "    </tr>\n",
       "  </thead>\n",
       "  <tbody>\n",
       "    <tr>\n",
       "      <th>0</th>\n",
       "      <td>KNeighborsClassifier</td>\n",
       "      <td>73.160173</td>\n",
       "    </tr>\n",
       "    <tr>\n",
       "      <th>0</th>\n",
       "      <td>LogisticRegression</td>\n",
       "      <td>75.324675</td>\n",
       "    </tr>\n",
       "    <tr>\n",
       "      <th>0</th>\n",
       "      <td>SVC</td>\n",
       "      <td>74.458874</td>\n",
       "    </tr>\n",
       "    <tr>\n",
       "      <th>0</th>\n",
       "      <td>MLPClassifier</td>\n",
       "      <td>70.129870</td>\n",
       "    </tr>\n",
       "    <tr>\n",
       "      <th>0</th>\n",
       "      <td>DecisionTreeClassifier</td>\n",
       "      <td>75.324675</td>\n",
       "    </tr>\n",
       "    <tr>\n",
       "      <th>0</th>\n",
       "      <td>RandomForestClassifier</td>\n",
       "      <td>74.025974</td>\n",
       "    </tr>\n",
       "    <tr>\n",
       "      <th>0</th>\n",
       "      <td>GradientBoostingClassifier</td>\n",
       "      <td>73.593074</td>\n",
       "    </tr>\n",
       "  </tbody>\n",
       "</table>\n",
       "</div>"
      ],
      "text/plain": [
       "                     Modeller   Accuracy\n",
       "0        KNeighborsClassifier  73.160173\n",
       "0          LogisticRegression  75.324675\n",
       "0                         SVC  74.458874\n",
       "0               MLPClassifier  70.129870\n",
       "0      DecisionTreeClassifier  75.324675\n",
       "0      RandomForestClassifier  74.025974\n",
       "0  GradientBoostingClassifier  73.593074"
      ]
     },
     "execution_count": 247,
     "metadata": {},
     "output_type": "execute_result"
    }
   ],
   "source": [
    "sonuclar"
   ]
  },
  {
   "cell_type": "markdown",
   "metadata": {},
   "source": [
    "## Daha Başka Ne Yapılabilir?"
   ]
  },
  {
   "cell_type": "raw",
   "metadata": {},
   "source": [
    "1.Değişken türetme / değişken mühendisliği"
   ]
  },
  {
   "cell_type": "raw",
   "metadata": {},
   "source": [
    "2.Değişken seçme"
   ]
  },
  {
   "cell_type": "raw",
   "metadata": {},
   "source": [
    "3.Otomatik ML #araştır"
   ]
  },
  {
   "cell_type": "raw",
   "metadata": {},
   "source": [
    "4.Model deployment #araştır"
   ]
  }
 ],
 "metadata": {
  "kernelspec": {
   "display_name": "Python 3",
   "language": "python",
   "name": "python3"
  },
  "language_info": {
   "codemirror_mode": {
    "name": "ipython",
    "version": 3
   },
   "file_extension": ".py",
   "mimetype": "text/x-python",
   "name": "python",
   "nbconvert_exporter": "python",
   "pygments_lexer": "ipython3",
   "version": "3.8.5"
  }
 },
 "nbformat": 4,
 "nbformat_minor": 4
}
